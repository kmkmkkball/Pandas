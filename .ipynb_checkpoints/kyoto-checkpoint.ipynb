{
 "cells": [
  {
   "cell_type": "code",
   "execution_count": 1,
   "metadata": {
    "collapsed": true
   },
   "outputs": [],
   "source": [
    "import pandas as pd\n",
    "import bokeh"
   ]
  },
  {
   "cell_type": "code",
   "execution_count": 2,
   "metadata": {
    "collapsed": true
   },
   "outputs": [],
   "source": [
    "kyoto = pd.read_csv(\"site_restaurant_join.csv\",header=None)"
   ]
  },
  {
   "cell_type": "code",
   "execution_count": 3,
   "metadata": {},
   "outputs": [
    {
     "name": "stdout",
     "output_type": "stream",
     "text": [
      "         0   1          2    3          4            5           6   \\\n",
      "0     r0001  s1   2.037776  669  97.333914         一蘭拉麵  35.0058787   \n",
      "1     r0001  s2   2.023311  358  90.341827         一蘭拉麵  35.0058787   \n",
      "2     r0001  s3   4.376297  517  93.500844         一蘭拉麵  35.0058787   \n",
      "3     r0001  s4  13.429932   58  63.944158         一蘭拉麵  35.0058787   \n",
      "4     r0001  s5   2.234828   43  78.766910         一蘭拉麵  35.0058787   \n",
      "5     r0001  s6   2.187607  104  79.383957         一蘭拉麵  35.0058787   \n",
      "6     r0001  s7   5.129946   43  72.081132         一蘭拉麵  35.0058787   \n",
      "7     r0001  s8   1.971776  132  58.970203         一蘭拉麵  35.0058787   \n",
      "8     r0001  s9   8.330669  373  89.341354         一蘭拉麵  35.0058787   \n",
      "9     r0002  s1   3.328348  555  87.125239   抹茶.甜點 中村藤吉  34.9853943   \n",
      "10    r0002  s2   1.256989  414  98.201541   抹茶.甜點 中村藤吉  34.9853943   \n",
      "11    r0002  s3   2.551602  498  94.373140   抹茶.甜點 中村藤吉  34.9853943   \n",
      "12    r0002  s4  11.577387   83  81.900563   抹茶.甜點 中村藤吉  34.9853943   \n",
      "13    r0002  s5   4.453591   68  94.319018   抹茶.甜點 中村藤吉  34.9853943   \n",
      "14    r0002  s6   0.256102  160  99.635206   抹茶.甜點 中村藤吉  34.9853943   \n",
      "15    r0002  s7   6.543913   76  92.080452   抹茶.甜點 中村藤吉  34.9853943   \n",
      "16    r0002  s8   2.659480  565  96.343186   抹茶.甜點 中村藤吉  34.9853943   \n",
      "17    r0002  s9   8.055617  375  89.951131   抹茶.甜點 中村藤吉  34.9853943   \n",
      "18    r0003  s1   3.249320  555  87.228634    抹茶甜點 中村藤吉  34.9861414   \n",
      "19    r0003  s2   1.239464  414  98.226615    抹茶甜點 中村藤吉  34.9861414   \n",
      "20    r0003  s3   2.617889  498  94.274698    抹茶甜點 中村藤吉  34.9861414   \n",
      "21    r0003  s4  11.652991   83  81.782368    抹茶甜點 中村藤吉  34.9861414   \n",
      "22    r0003  s5   4.370813   68  94.424610    抹茶甜點 中村藤吉  34.9861414   \n",
      "23    r0003  s6   0.183663  160  99.738389    抹茶甜點 中村藤吉  34.9861414   \n",
      "24    r0003  s7   6.468974   76  92.171145    抹茶甜點 中村藤吉  34.9861414   \n",
      "25    r0003  s8   2.626034  565  96.389175    抹茶甜點 中村藤吉  34.9861414   \n",
      "26    r0003  s9   8.024528  375  89.989913    抹茶甜點 中村藤吉  34.9861414   \n",
      "27    r0004  s1  14.682936  555  72.269676       中村藤吉本店   34.889426   \n",
      "28    r0004  s2  11.261750  414  83.887053       中村藤吉本店   34.889426   \n",
      "29    r0004  s3   8.931952  498  84.897802       中村藤吉本店   34.889426   \n",
      "...     ...  ..        ...  ...        ...          ...         ...   \n",
      "2859  r0318  s7   5.168362    0  43.745167          Aow  35.0435944   \n",
      "2860  r0318  s8   5.407439    0  42.564714          Aow  35.0435944   \n",
      "2861  r0318  s9  10.396596    0  37.030909          Aow  35.0435944   \n",
      "2862  r0319  s1   2.434637    0  46.814689  CacaoMarket  35.0051258   \n",
      "2863  r0319  s2   1.914066    0  47.261416  CacaoMarket  35.0051258   \n",
      "2864  r0319  s3   4.255502    0  43.680234  CacaoMarket  35.0051258   \n",
      "2865  r0319  s4  13.246649    0  29.290933  CacaoMarket  35.0051258   \n",
      "2866  r0319  s5   2.441391    0  46.885772  CacaoMarket  35.0051258   \n",
      "2867  r0319  s6   2.289352    0  46.739030  CacaoMarket  35.0051258   \n",
      "2868  r0319  s7   5.471424    0  43.378396  CacaoMarket  35.0051258   \n",
      "2869  r0319  s8   1.616316    0  47.777547  CacaoMarket  35.0051258   \n",
      "2870  r0319  s9   8.737989    0  39.099916  CacaoMarket  35.0051258   \n",
      "2871  r0320  s1   6.811371    0  41.088470    Nagashima  34.9946724   \n",
      "2872  r0320  s2   4.377836    0  43.736334    Nagashima  34.9946724   \n",
      "2873  r0320  s3   5.083440    0  42.450679    Nagashima  34.9946724   \n",
      "2874  r0320  s4  11.736234    0  31.652231    Nagashima  34.9946724   \n",
      "2875  r0320  s5   6.207544    0  42.081684    Nagashima  34.9946724   \n",
      "2876  r0320  s6   5.486641    0  42.184788    Nagashima  34.9946724   \n",
      "2877  r0320  s7   9.564634    0  38.424728    Nagashima  34.9946724   \n",
      "2878  r0320  s8   3.095180    0  45.744095    Nagashima  34.9946724   \n",
      "2879  r0320  s9  13.103539    0  33.654169    Nagashima  34.9946724   \n",
      "2880  r0321  s1   2.066811    1  47.370665      Satsuki  35.0127658   \n",
      "2881  r0321  s2   2.761624    0  46.048757      Satsuki  35.0127658   \n",
      "2882  r0321  s3   5.110860    0  42.409959      Satsuki  35.0127658   \n",
      "2883  r0321  s4  14.106550    0  27.946612      Satsuki  35.0127658   \n",
      "2884  r0321  s5   1.610779    0  47.945298      Satsuki  35.0127658   \n",
      "2885  r0321  s6   2.989206    0  45.742153      Satsuki  35.0127658   \n",
      "2886  r0321  s7   4.798055    0  44.193318      Satsuki  35.0127658   \n",
      "2887  r0321  s8   2.375052    0  46.734278      Satsuki  35.0127658   \n",
      "2888  r0321  s9   8.522920    0  39.368200      Satsuki  35.0127658   \n",
      "\n",
      "               7       8          9           10  \n",
      "0     135.7681023     二條城  35.014230  135.748218  \n",
      "1     135.7681023   三十三間堂  34.987884  135.771713  \n",
      "2     135.7681023    千本鳥居  34.966813  135.774749  \n",
      "3     135.7681023  平等院鳳凰堂  34.889291  135.807678  \n",
      "4     135.7681023    京都御所  35.025413  135.762125  \n",
      "5     135.7681023     京都塔  34.987477  135.759493  \n",
      "6     135.7681023     金閣寺  35.039355  135.729326  \n",
      "7     135.7681023     清水寺  34.994856  135.785046  \n",
      "8     135.7681023     渡月橋  35.014500  135.677438  \n",
      "9      135.758282     二條城  35.014230  135.748218  \n",
      "10     135.758282   三十三間堂  34.987884  135.771713  \n",
      "11     135.758282    千本鳥居  34.966813  135.774749  \n",
      "12     135.758282  平等院鳳凰堂  34.889291  135.807678  \n",
      "13     135.758282    京都御所  35.025413  135.762125  \n",
      "14     135.758282     京都塔  34.987477  135.759493  \n",
      "15     135.758282     金閣寺  35.039355  135.729326  \n",
      "16     135.758282     清水寺  34.994856  135.785046  \n",
      "17     135.758282     渡月橋  35.014500  135.677438  \n",
      "18    135.7583035     二條城  35.014230  135.748218  \n",
      "19    135.7583035   三十三間堂  34.987884  135.771713  \n",
      "20    135.7583035    千本鳥居  34.966813  135.774749  \n",
      "21    135.7583035  平等院鳳凰堂  34.889291  135.807678  \n",
      "22    135.7583035    京都御所  35.025413  135.762125  \n",
      "23    135.7583035     京都塔  34.987477  135.759493  \n",
      "24    135.7583035     金閣寺  35.039355  135.729326  \n",
      "25    135.7583035     清水寺  34.994856  135.785046  \n",
      "26    135.7583035     渡月橋  35.014500  135.677438  \n",
      "27     135.801723     二條城  35.014230  135.748218  \n",
      "28     135.801723   三十三間堂  34.987884  135.771713  \n",
      "29     135.801723    千本鳥居  34.966813  135.774749  \n",
      "...           ...     ...        ...         ...  \n",
      "2859   135.785736     金閣寺  35.039355  135.729326  \n",
      "2860   135.785736     清水寺  34.994856  135.785046  \n",
      "2861   135.785736     渡月橋  35.014500  135.677438  \n",
      "2862  135.7724874     二條城  35.014230  135.748218  \n",
      "2863  135.7724874   三十三間堂  34.987884  135.771713  \n",
      "2864  135.7724874    千本鳥居  34.966813  135.774749  \n",
      "2865  135.7724874  平等院鳳凰堂  34.889291  135.807678  \n",
      "2866  135.7724874    京都御所  35.025413  135.762125  \n",
      "2867  135.7724874     京都塔  34.987477  135.759493  \n",
      "2868  135.7724874     金閣寺  35.039355  135.729326  \n",
      "2869  135.7724874     清水寺  34.994856  135.785046  \n",
      "2870  135.7724874     渡月橋  35.014500  135.677438  \n",
      "2871   135.818949     二條城  35.014230  135.748218  \n",
      "2872   135.818949   三十三間堂  34.987884  135.771713  \n",
      "2873   135.818949    千本鳥居  34.966813  135.774749  \n",
      "2874   135.818949  平等院鳳凰堂  34.889291  135.807678  \n",
      "2875   135.818949    京都御所  35.025413  135.762125  \n",
      "2876   135.818949     京都塔  34.987477  135.759493  \n",
      "2877   135.818949     金閣寺  35.039355  135.729326  \n",
      "2878   135.818949     清水寺  34.994856  135.785046  \n",
      "2879   135.818949     渡月橋  35.014500  135.677438  \n",
      "2880  135.7707922     二條城  35.014230  135.748218  \n",
      "2881  135.7707922   三十三間堂  34.987884  135.771713  \n",
      "2882  135.7707922    千本鳥居  34.966813  135.774749  \n",
      "2883  135.7707922  平等院鳳凰堂  34.889291  135.807678  \n",
      "2884  135.7707922    京都御所  35.025413  135.762125  \n",
      "2885  135.7707922     京都塔  34.987477  135.759493  \n",
      "2886  135.7707922     金閣寺  35.039355  135.729326  \n",
      "2887  135.7707922     清水寺  34.994856  135.785046  \n",
      "2888  135.7707922     渡月橋  35.014500  135.677438  \n",
      "\n",
      "[2889 rows x 11 columns]\n"
     ]
    }
   ],
   "source": [
    "print(kyoto)"
   ]
  },
  {
   "cell_type": "code",
   "execution_count": 4,
   "metadata": {},
   "outputs": [
    {
     "name": "stdout",
     "output_type": "stream",
     "text": [
      "<class 'pandas.core.frame.DataFrame'>\n",
      "RangeIndex: 2889 entries, 0 to 2888\n",
      "Data columns (total 11 columns):\n",
      "0     2889 non-null object\n",
      "1     2889 non-null object\n",
      "2     2889 non-null float64\n",
      "3     2889 non-null int64\n",
      "4     2889 non-null float64\n",
      "5     2889 non-null object\n",
      "6     2889 non-null object\n",
      "7     2889 non-null object\n",
      "8     2889 non-null object\n",
      "9     2889 non-null float64\n",
      "10    2889 non-null float64\n",
      "dtypes: float64(4), int64(1), object(6)\n",
      "memory usage: 248.4+ KB\n",
      "None\n"
     ]
    }
   ],
   "source": [
    "print(kyoto.info())"
   ]
  },
  {
   "cell_type": "code",
   "execution_count": 5,
   "metadata": {},
   "outputs": [
    {
     "data": {
      "text/plain": [
       "pandas.core.frame.DataFrame"
      ]
     },
     "execution_count": 5,
     "metadata": {},
     "output_type": "execute_result"
    }
   ],
   "source": [
    "type(kyoto)"
   ]
  },
  {
   "cell_type": "code",
   "execution_count": 6,
   "metadata": {},
   "outputs": [
    {
     "data": {
      "text/html": [
       "<div>\n",
       "<style>\n",
       "    .dataframe thead tr:only-child th {\n",
       "        text-align: right;\n",
       "    }\n",
       "\n",
       "    .dataframe thead th {\n",
       "        text-align: left;\n",
       "    }\n",
       "\n",
       "    .dataframe tbody tr th {\n",
       "        vertical-align: top;\n",
       "    }\n",
       "</style>\n",
       "<table border=\"1\" class=\"dataframe\">\n",
       "  <thead>\n",
       "    <tr style=\"text-align: right;\">\n",
       "      <th></th>\n",
       "      <th>0</th>\n",
       "      <th>1</th>\n",
       "      <th>2</th>\n",
       "      <th>3</th>\n",
       "      <th>4</th>\n",
       "      <th>5</th>\n",
       "      <th>6</th>\n",
       "      <th>7</th>\n",
       "      <th>8</th>\n",
       "      <th>9</th>\n",
       "      <th>10</th>\n",
       "    </tr>\n",
       "  </thead>\n",
       "  <tbody>\n",
       "    <tr>\n",
       "      <th>0</th>\n",
       "      <td>r0001</td>\n",
       "      <td>s1</td>\n",
       "      <td>2.037776</td>\n",
       "      <td>669</td>\n",
       "      <td>97.333914</td>\n",
       "      <td>一蘭拉麵</td>\n",
       "      <td>35.0058787</td>\n",
       "      <td>135.7681023</td>\n",
       "      <td>二條城</td>\n",
       "      <td>35.014230</td>\n",
       "      <td>135.748218</td>\n",
       "    </tr>\n",
       "    <tr>\n",
       "      <th>1</th>\n",
       "      <td>r0001</td>\n",
       "      <td>s2</td>\n",
       "      <td>2.023311</td>\n",
       "      <td>358</td>\n",
       "      <td>90.341827</td>\n",
       "      <td>一蘭拉麵</td>\n",
       "      <td>35.0058787</td>\n",
       "      <td>135.7681023</td>\n",
       "      <td>三十三間堂</td>\n",
       "      <td>34.987884</td>\n",
       "      <td>135.771713</td>\n",
       "    </tr>\n",
       "    <tr>\n",
       "      <th>2</th>\n",
       "      <td>r0001</td>\n",
       "      <td>s3</td>\n",
       "      <td>4.376297</td>\n",
       "      <td>517</td>\n",
       "      <td>93.500844</td>\n",
       "      <td>一蘭拉麵</td>\n",
       "      <td>35.0058787</td>\n",
       "      <td>135.7681023</td>\n",
       "      <td>千本鳥居</td>\n",
       "      <td>34.966813</td>\n",
       "      <td>135.774749</td>\n",
       "    </tr>\n",
       "    <tr>\n",
       "      <th>3</th>\n",
       "      <td>r0001</td>\n",
       "      <td>s4</td>\n",
       "      <td>13.429932</td>\n",
       "      <td>58</td>\n",
       "      <td>63.944158</td>\n",
       "      <td>一蘭拉麵</td>\n",
       "      <td>35.0058787</td>\n",
       "      <td>135.7681023</td>\n",
       "      <td>平等院鳳凰堂</td>\n",
       "      <td>34.889291</td>\n",
       "      <td>135.807678</td>\n",
       "    </tr>\n",
       "    <tr>\n",
       "      <th>4</th>\n",
       "      <td>r0001</td>\n",
       "      <td>s5</td>\n",
       "      <td>2.234828</td>\n",
       "      <td>43</td>\n",
       "      <td>78.766910</td>\n",
       "      <td>一蘭拉麵</td>\n",
       "      <td>35.0058787</td>\n",
       "      <td>135.7681023</td>\n",
       "      <td>京都御所</td>\n",
       "      <td>35.025413</td>\n",
       "      <td>135.762125</td>\n",
       "    </tr>\n",
       "  </tbody>\n",
       "</table>\n",
       "</div>"
      ],
      "text/plain": [
       "      0   1          2    3          4     5           6            7   \\\n",
       "0  r0001  s1   2.037776  669  97.333914  一蘭拉麵  35.0058787  135.7681023   \n",
       "1  r0001  s2   2.023311  358  90.341827  一蘭拉麵  35.0058787  135.7681023   \n",
       "2  r0001  s3   4.376297  517  93.500844  一蘭拉麵  35.0058787  135.7681023   \n",
       "3  r0001  s4  13.429932   58  63.944158  一蘭拉麵  35.0058787  135.7681023   \n",
       "4  r0001  s5   2.234828   43  78.766910  一蘭拉麵  35.0058787  135.7681023   \n",
       "\n",
       "       8          9           10  \n",
       "0     二條城  35.014230  135.748218  \n",
       "1   三十三間堂  34.987884  135.771713  \n",
       "2    千本鳥居  34.966813  135.774749  \n",
       "3  平等院鳳凰堂  34.889291  135.807678  \n",
       "4    京都御所  35.025413  135.762125  "
      ]
     },
     "execution_count": 6,
     "metadata": {},
     "output_type": "execute_result"
    }
   ],
   "source": [
    "kyoto.head()"
   ]
  },
  {
   "cell_type": "code",
   "execution_count": null,
   "metadata": {},
   "outputs": [],
   "source": []
  },
  {
   "cell_type": "code",
   "execution_count": null,
   "metadata": {
    "collapsed": true
   },
   "outputs": [],
   "source": []
  },
  {
   "cell_type": "code",
   "execution_count": null,
   "metadata": {
    "collapsed": true
   },
   "outputs": [],
   "source": []
  },
  {
   "cell_type": "code",
   "execution_count": null,
   "metadata": {
    "collapsed": true
   },
   "outputs": [],
   "source": []
  },
  {
   "cell_type": "code",
   "execution_count": null,
   "metadata": {
    "collapsed": true
   },
   "outputs": [],
   "source": []
  },
  {
   "cell_type": "code",
   "execution_count": null,
   "metadata": {
    "collapsed": true
   },
   "outputs": [],
   "source": []
  },
  {
   "cell_type": "code",
   "execution_count": null,
   "metadata": {
    "collapsed": true
   },
   "outputs": [],
   "source": []
  },
  {
   "cell_type": "markdown",
   "metadata": {},
   "source": [
    "---"
   ]
  },
  {
   "cell_type": "code",
   "execution_count": 7,
   "metadata": {
    "collapsed": true
   },
   "outputs": [
    {
     "ename": "RuntimeError",
     "evalue": "bokeh sample data directory does not exist, please execute bokeh.sampledata.download()",
     "output_type": "error",
     "traceback": [
      "\u001b[1;31m---------------------------------------------------------------------------\u001b[0m",
      "\u001b[1;31mRuntimeError\u001b[0m                              Traceback (most recent call last)",
      "\u001b[1;32m<ipython-input-7-3c4c232a4b63>\u001b[0m in \u001b[0;36m<module>\u001b[1;34m()\u001b[0m\n\u001b[0;32m      1\u001b[0m \u001b[1;32mfrom\u001b[0m \u001b[0mcollections\u001b[0m \u001b[1;32mimport\u001b[0m \u001b[0mOrderedDict\u001b[0m\u001b[1;33m\u001b[0m\u001b[0m\n\u001b[0;32m      2\u001b[0m \u001b[1;33m\u001b[0m\u001b[0m\n\u001b[1;32m----> 3\u001b[1;33m \u001b[1;32mfrom\u001b[0m \u001b[0mbokeh\u001b[0m\u001b[1;33m.\u001b[0m\u001b[0msampledata\u001b[0m \u001b[1;32mimport\u001b[0m \u001b[0mus_counties\u001b[0m\u001b[1;33m,\u001b[0m \u001b[0munemployment\u001b[0m\u001b[1;33m\u001b[0m\u001b[0m\n\u001b[0m\u001b[0;32m      4\u001b[0m \u001b[1;32mfrom\u001b[0m \u001b[0mbokeh\u001b[0m\u001b[1;33m.\u001b[0m\u001b[0mplotting\u001b[0m \u001b[1;32mimport\u001b[0m \u001b[0mfigure\u001b[0m\u001b[1;33m,\u001b[0m \u001b[0mshow\u001b[0m\u001b[1;33m,\u001b[0m \u001b[0moutput_file\u001b[0m\u001b[1;33m,\u001b[0m \u001b[0mColumnDataSource\u001b[0m\u001b[1;33m\u001b[0m\u001b[0m\n\u001b[0;32m      5\u001b[0m \u001b[1;32mfrom\u001b[0m \u001b[0mbokeh\u001b[0m\u001b[1;33m.\u001b[0m\u001b[0mmodels\u001b[0m \u001b[1;32mimport\u001b[0m \u001b[0mHoverTool\u001b[0m\u001b[1;33m\u001b[0m\u001b[0m\n",
      "\u001b[1;32m~\\Anaconda3\\lib\\site-packages\\bokeh\\sampledata\\us_counties.py\u001b[0m in \u001b[0;36m<module>\u001b[1;34m()\u001b[0m\n\u001b[0;32m     21\u001b[0m \u001b[1;32mfrom\u001b[0m \u001b[1;33m.\u001b[0m \u001b[1;32mimport\u001b[0m \u001b[0m_open_csv_file\u001b[0m\u001b[1;33m\u001b[0m\u001b[0m\n\u001b[0;32m     22\u001b[0m \u001b[1;33m\u001b[0m\u001b[0m\n\u001b[1;32m---> 23\u001b[1;33m \u001b[0mdata_dir\u001b[0m \u001b[1;33m=\u001b[0m \u001b[0m_data_dir\u001b[0m\u001b[1;33m(\u001b[0m\u001b[1;33m)\u001b[0m\u001b[1;33m\u001b[0m\u001b[0m\n\u001b[0m\u001b[0;32m     24\u001b[0m \u001b[1;33m\u001b[0m\u001b[0m\n\u001b[0;32m     25\u001b[0m \u001b[0mnan\u001b[0m \u001b[1;33m=\u001b[0m \u001b[0mfloat\u001b[0m\u001b[1;33m(\u001b[0m\u001b[1;34m'NaN'\u001b[0m\u001b[1;33m)\u001b[0m\u001b[1;33m\u001b[0m\u001b[0m\n",
      "\u001b[1;32m~\\Anaconda3\\lib\\site-packages\\bokeh\\sampledata\\__init__.py\u001b[0m in \u001b[0;36m_data_dir\u001b[1;34m(file_name, create)\u001b[0m\n\u001b[0;32m     36\u001b[0m     \u001b[1;32mif\u001b[0m \u001b[1;32mnot\u001b[0m \u001b[0mexists\u001b[0m\u001b[1;33m(\u001b[0m\u001b[0mdata_dir\u001b[0m\u001b[1;33m)\u001b[0m\u001b[1;33m:\u001b[0m\u001b[1;33m\u001b[0m\u001b[0m\n\u001b[0;32m     37\u001b[0m         \u001b[1;32mif\u001b[0m \u001b[1;32mnot\u001b[0m \u001b[0mcreate\u001b[0m\u001b[1;33m:\u001b[0m\u001b[1;33m\u001b[0m\u001b[0m\n\u001b[1;32m---> 38\u001b[1;33m             \u001b[1;32mraise\u001b[0m \u001b[0mRuntimeError\u001b[0m\u001b[1;33m(\u001b[0m\u001b[1;34m'bokeh sample data directory does not exist, please execute bokeh.sampledata.download()'\u001b[0m\u001b[1;33m)\u001b[0m\u001b[1;33m\u001b[0m\u001b[0m\n\u001b[0m\u001b[0;32m     39\u001b[0m         \u001b[0mprint\u001b[0m\u001b[1;33m(\u001b[0m\u001b[1;34m\"Creating %s directory\"\u001b[0m \u001b[1;33m%\u001b[0m \u001b[0mdata_dir\u001b[0m\u001b[1;33m)\u001b[0m\u001b[1;33m\u001b[0m\u001b[0m\n\u001b[0;32m     40\u001b[0m         \u001b[1;32mtry\u001b[0m\u001b[1;33m:\u001b[0m\u001b[1;33m\u001b[0m\u001b[0m\n",
      "\u001b[1;31mRuntimeError\u001b[0m: bokeh sample data directory does not exist, please execute bokeh.sampledata.download()"
     ]
    }
   ],
   "source": [
    "from collections import OrderedDict\n",
    "\n",
    "from bokeh.sampledata import us_counties, unemployment\n",
    "from bokeh.plotting import figure, show, output_file, ColumnDataSource\n",
    "from bokeh.models import HoverTool\n",
    "\n",
    "state = \"tx\"\n",
    "\n",
    "county_xs=[\n",
    "    us_counties.data[code]['lons'] for code in us_counties.data\n",
    "    if us_counties.data[code]['state'] == state\n",
    "]\n",
    "county_ys=[\n",
    "    us_counties.data[code]['lats'] for code in us_counties.data\n",
    "    if us_counties.data[code]['state'] == state\n",
    "]\n",
    "\n",
    "colors = [\"#F1EEF6\", \"#D4B9DA\", \"#C994C7\", \"#DF65B0\", \"#DD1C77\", \"#980043\"]\n",
    "\n",
    "county_colors = []\n",
    "county_names = []\n",
    "county_rates = []\n",
    "for county_id in us_counties.data:\n",
    "    if us_counties.data[county_id]['state'] != state:\n",
    "        continue\n",
    "    rate = unemployment.data[county_id]\n",
    "    idx = min(int(rate/2), 5)\n",
    "    county_colors.append(colors[idx])\n",
    "    county_names.append(us_counties.data[county_id]['name'])\n",
    "    county_rates.append(rate)\n",
    "\n",
    "source = ColumnDataSource(\n",
    "    data = dict(\n",
    "        x=county_xs,\n",
    "        y=county_ys,\n",
    "        color=county_colors,\n",
    "        name=county_names,\n",
    "        rate=county_rates,\n",
    "    )\n",
    ")\n",
    "\n",
    "output_file(\"texas.html\", title=\"texas.py example\")\n",
    "\n",
    "TOOLS=\"pan,wheel_zoom,box_zoom,reset,hover,save\"\n",
    "\n",
    "p = figure(title=\"Texas Unemployment 2009\", tools=TOOLS)\n",
    "\n",
    "p.patches('x', 'y',\n",
    "    fill_color='color', fill_alpha=0.7,\n",
    "    line_color=\"white\", line_width=0.5,\n",
    "    source=source)\n",
    "\n",
    "hover = p.select(dict(type=HoverTool))\n",
    "hover.point_policy = \"follow_mouse\"\n",
    "hover.tooltips = OrderedDict([\n",
    "    (\"Name\", \"@name\"),\n",
    "    (\"Unemployment rate)\", \"@rate%\"),\n",
    "    (\"(Long, Lat)\", \"($x, $y)\"),\n",
    "])\n",
    "\n",
    "show(p)"
   ]
  },
  {
   "cell_type": "code",
   "execution_count": 16,
   "metadata": {},
   "outputs": [
    {
     "data": {
      "text/plain": [
       "['St. Thomas',\n",
       " 'VI-St. Thomas',\n",
       " 'vi',\n",
       " 'VI',\n",
       " '<Polygon><outerBoundaryIs><LinearRing><coordinates>-64.84592,18.39372 -64.84417,18.39371 -64.84373,18.39371 -64.84373,18.38957 -64.84374,18.37715 -64.84374,18.37301 -64.84373,18.37007 -64.84372,18.36126 -64.84372,18.35832 -64.84372,18.35803 -64.84372,18.35716 -64.84372,18.35687 -64.84372,18.35542 -64.84371,18.35107 -64.84371,18.34963 -64.84371,18.3496 -64.84371,18.34953 -64.8407,18.34725 -64.82867,18.33827 -64.80611,18.32142 -64.80035,18.31712 -64.79988,18.31676 -64.79699,18.31161 -64.79602,18.30987 -64.79501,18.30805 -64.79384,18.30596 -64.7885,18.29642 -64.76834,18.26033 -64.77342,18.26051 -64.77635,18.2577 -64.78289,18.25269 -64.78741,18.25036 -64.80129,18.24511 -64.79951,18.23649 -64.79944,18.22765 -64.80277,18.21337 -64.81182,18.19871 -64.82485,18.18798 -64.84167,18.18093 -64.85492,18.17962 -64.86498,18.18091 -64.87253,18.18348 -64.87931,18.18725 -64.8864,18.19141 -64.88975,18.19424 -64.89977,18.20652 -64.90336,18.21396 -64.90592,18.22247 -64.90599,18.22284 -64.90615,18.22419 -64.91323,18.22586 -64.92103,18.22884 -64.93371,18.23797 -64.9396,18.24456 -64.94377,18.25145 -64.94647,18.25722 -64.95432,18.25612 -64.96096,18.25606 -64.96976,18.25662 -64.97802,18.25636 -64.98041,18.25691 -64.98924,18.25517 -64.99786,18.25249 -65.00857,18.25156 -65.01982,18.25235 -65.04106,18.26244 -65.05105,18.26986 -65.05176,18.26793 -65.05877,18.25468 -65.06266,18.24966 -65.06804,18.24016 -65.08337,18.22851 -65.10063,18.22559 -65.12076,18.2256 -65.15047,18.23142 -65.15909,18.25473 -65.15334,18.27997 -65.1428,18.3023 -65.13993,18.32367 -65.13993,18.33629 -65.13035,18.36154 -65.12425,18.37005 -65.12286,18.37301 -65.11677,18.38385 -65.11489,18.39144 -65.11376,18.40687 -65.1073,18.42861 -65.09179,18.4471 -65.06066,18.45975 -65.03038,18.45538 -65.00777,18.4407 -65.00246,18.44421 -64.99959,18.44553 -64.99392,18.44749 -64.9875,18.44972 -64.98239,18.45071 -64.97493,18.45128 -64.96918,18.45095 -64.95959,18.44907 -64.95045,18.44629 -64.94817,18.44895 -64.9461,18.4513 -64.94269,18.45416 -64.93848,18.45684 -64.93304,18.45961 -64.92823,18.46169 -64.92764,18.46195 -64.92105,18.46381 -64.92096,18.46381 -64.9145,18.46448 -64.90759,18.46498 -64.89985,18.46447 -64.89834,18.46412 -64.89502,18.46336 -64.89103,18.46216 -64.87459,18.41069 -64.87459,18.40974 -64.87384,18.40683 -64.87391,18.40625 -64.87334,18.4056 -64.87276,18.40493 -64.86498,18.39593 -64.86444,18.39575 -64.86023,18.39432 -64.85995,18.39422 -64.85738,18.39413 -64.84879,18.39382</coordinates></LinearRing></outerBoundaryIs></Polygon>',\n",
       " '',\n",
       " '05000US78030',\n",
       " '78030',\n",
       " 'St. Thomas Island, Virgin Islands',\n",
       " '78',\n",
       " '30',\n",
       " '78030.0',\n",
       " '']"
      ]
     },
     "execution_count": 16,
     "metadata": {},
     "output_type": "execute_result"
    }
   ],
   "source": [
    "us_counties.row"
   ]
  },
  {
   "cell_type": "code",
   "execution_count": null,
   "metadata": {
    "collapsed": true
   },
   "outputs": [],
   "source": []
  }
 ],
 "metadata": {
  "kernelspec": {
   "display_name": "Python 3",
   "language": "python",
   "name": "python3"
  },
  "language_info": {
   "codemirror_mode": {
    "name": "ipython",
    "version": 3
   },
   "file_extension": ".py",
   "mimetype": "text/x-python",
   "name": "python",
   "nbconvert_exporter": "python",
   "pygments_lexer": "ipython3",
   "version": "3.6.2"
  }
 },
 "nbformat": 4,
 "nbformat_minor": 2
}
