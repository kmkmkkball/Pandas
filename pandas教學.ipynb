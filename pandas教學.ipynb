{
 "cells": [
  {
   "cell_type": "code",
   "execution_count": 1,
   "metadata": {
    "collapsed": true
   },
   "outputs": [],
   "source": [
    "import pandas as pd\n",
    "import numpy as np\n",
    "import matplotlib.pyplot as plt"
   ]
  },
  {
   "cell_type": "markdown",
   "metadata": {},
   "source": [
    "### 透過list建立一個Series"
   ]
  },
  {
   "cell_type": "code",
   "execution_count": 2,
   "metadata": {
    "collapsed": true
   },
   "outputs": [],
   "source": [
    "s = pd.Series([1, 3, 5, np.nan, 6, 8])"
   ]
  },
  {
   "cell_type": "code",
   "execution_count": 3,
   "metadata": {},
   "outputs": [
    {
     "data": {
      "text/plain": [
       "0    1.0\n",
       "1    3.0\n",
       "2    5.0\n",
       "3    NaN\n",
       "4    6.0\n",
       "5    8.0\n",
       "dtype: float64"
      ]
     },
     "execution_count": 3,
     "metadata": {},
     "output_type": "execute_result"
    }
   ],
   "source": [
    "s"
   ]
  },
  {
   "cell_type": "markdown",
   "metadata": {},
   "source": [
    "### 透過一個numpy array 建立DataFrame"
   ]
  },
  {
   "cell_type": "code",
   "execution_count": 4,
   "metadata": {
    "collapsed": true
   },
   "outputs": [],
   "source": [
    "##periods數量\n",
    "dates = pd.date_range('20130101', periods = 6)"
   ]
  },
  {
   "cell_type": "code",
   "execution_count": 5,
   "metadata": {},
   "outputs": [
    {
     "data": {
      "text/plain": [
       "DatetimeIndex(['2013-01-01', '2013-01-02', '2013-01-03', '2013-01-04',\n",
       "               '2013-01-05', '2013-01-06'],\n",
       "              dtype='datetime64[ns]', freq='D')"
      ]
     },
     "execution_count": 5,
     "metadata": {},
     "output_type": "execute_result"
    }
   ],
   "source": [
    "dates"
   ]
  },
  {
   "cell_type": "code",
   "execution_count": 6,
   "metadata": {
    "collapsed": true
   },
   "outputs": [],
   "source": [
    "df = pd.DataFrame(np.random.randn(6, 4), index = dates, columns = list('ABCD'))"
   ]
  },
  {
   "cell_type": "code",
   "execution_count": 7,
   "metadata": {},
   "outputs": [
    {
     "data": {
      "text/html": [
       "<div>\n",
       "<style>\n",
       "    .dataframe thead tr:only-child th {\n",
       "        text-align: right;\n",
       "    }\n",
       "\n",
       "    .dataframe thead th {\n",
       "        text-align: left;\n",
       "    }\n",
       "\n",
       "    .dataframe tbody tr th {\n",
       "        vertical-align: top;\n",
       "    }\n",
       "</style>\n",
       "<table border=\"1\" class=\"dataframe\">\n",
       "  <thead>\n",
       "    <tr style=\"text-align: right;\">\n",
       "      <th></th>\n",
       "      <th>A</th>\n",
       "      <th>B</th>\n",
       "      <th>C</th>\n",
       "      <th>D</th>\n",
       "    </tr>\n",
       "  </thead>\n",
       "  <tbody>\n",
       "    <tr>\n",
       "      <th>2013-01-01</th>\n",
       "      <td>1.069193</td>\n",
       "      <td>1.196482</td>\n",
       "      <td>0.140170</td>\n",
       "      <td>1.878203</td>\n",
       "    </tr>\n",
       "    <tr>\n",
       "      <th>2013-01-02</th>\n",
       "      <td>0.053542</td>\n",
       "      <td>-0.918167</td>\n",
       "      <td>0.429759</td>\n",
       "      <td>2.372977</td>\n",
       "    </tr>\n",
       "    <tr>\n",
       "      <th>2013-01-03</th>\n",
       "      <td>1.934618</td>\n",
       "      <td>-0.794661</td>\n",
       "      <td>-1.456365</td>\n",
       "      <td>-1.640717</td>\n",
       "    </tr>\n",
       "    <tr>\n",
       "      <th>2013-01-04</th>\n",
       "      <td>-2.044883</td>\n",
       "      <td>0.160651</td>\n",
       "      <td>-1.383514</td>\n",
       "      <td>-0.323190</td>\n",
       "    </tr>\n",
       "    <tr>\n",
       "      <th>2013-01-05</th>\n",
       "      <td>-0.639690</td>\n",
       "      <td>-0.158751</td>\n",
       "      <td>-0.303886</td>\n",
       "      <td>-1.299438</td>\n",
       "    </tr>\n",
       "    <tr>\n",
       "      <th>2013-01-06</th>\n",
       "      <td>-0.354672</td>\n",
       "      <td>-0.130353</td>\n",
       "      <td>0.812021</td>\n",
       "      <td>1.704428</td>\n",
       "    </tr>\n",
       "  </tbody>\n",
       "</table>\n",
       "</div>"
      ],
      "text/plain": [
       "                   A         B         C         D\n",
       "2013-01-01  1.069193  1.196482  0.140170  1.878203\n",
       "2013-01-02  0.053542 -0.918167  0.429759  2.372977\n",
       "2013-01-03  1.934618 -0.794661 -1.456365 -1.640717\n",
       "2013-01-04 -2.044883  0.160651 -1.383514 -0.323190\n",
       "2013-01-05 -0.639690 -0.158751 -0.303886 -1.299438\n",
       "2013-01-06 -0.354672 -0.130353  0.812021  1.704428"
      ]
     },
     "execution_count": 7,
     "metadata": {},
     "output_type": "execute_result"
    }
   ],
   "source": [
    "df"
   ]
  },
  {
   "cell_type": "markdown",
   "metadata": {},
   "source": [
    "### 通過傳遞一個能夠被轉換成類似序列結構的字典對象來建立一個DataFrame"
   ]
  },
  {
   "cell_type": "code",
   "execution_count": 8,
   "metadata": {
    "collapsed": true
   },
   "outputs": [],
   "source": [
    "df2 = pd.DataFrame({\"A\" : 1.,\\\n",
    "                    \"B\" : pd.Timestamp('20130102'),\\\n",
    "                    \"C\" : pd.Series(1, index = list(range(4)), dtype = \"float32\"),\\\n",
    "                    \"D\" : np.array([3] * 4, dtype = \"int32\"),\\\n",
    "                    \"E\" : pd.Categorical([\"test\", \"train\", \"test\", \"train\"]),\\\n",
    "                    \"F\" : \"foo\"})"
   ]
  },
  {
   "cell_type": "code",
   "execution_count": 9,
   "metadata": {},
   "outputs": [
    {
     "data": {
      "text/html": [
       "<div>\n",
       "<style>\n",
       "    .dataframe thead tr:only-child th {\n",
       "        text-align: right;\n",
       "    }\n",
       "\n",
       "    .dataframe thead th {\n",
       "        text-align: left;\n",
       "    }\n",
       "\n",
       "    .dataframe tbody tr th {\n",
       "        vertical-align: top;\n",
       "    }\n",
       "</style>\n",
       "<table border=\"1\" class=\"dataframe\">\n",
       "  <thead>\n",
       "    <tr style=\"text-align: right;\">\n",
       "      <th></th>\n",
       "      <th>A</th>\n",
       "      <th>B</th>\n",
       "      <th>C</th>\n",
       "      <th>D</th>\n",
       "      <th>E</th>\n",
       "      <th>F</th>\n",
       "    </tr>\n",
       "  </thead>\n",
       "  <tbody>\n",
       "    <tr>\n",
       "      <th>0</th>\n",
       "      <td>1.0</td>\n",
       "      <td>2013-01-02</td>\n",
       "      <td>1.0</td>\n",
       "      <td>3</td>\n",
       "      <td>test</td>\n",
       "      <td>foo</td>\n",
       "    </tr>\n",
       "    <tr>\n",
       "      <th>1</th>\n",
       "      <td>1.0</td>\n",
       "      <td>2013-01-02</td>\n",
       "      <td>1.0</td>\n",
       "      <td>3</td>\n",
       "      <td>train</td>\n",
       "      <td>foo</td>\n",
       "    </tr>\n",
       "    <tr>\n",
       "      <th>2</th>\n",
       "      <td>1.0</td>\n",
       "      <td>2013-01-02</td>\n",
       "      <td>1.0</td>\n",
       "      <td>3</td>\n",
       "      <td>test</td>\n",
       "      <td>foo</td>\n",
       "    </tr>\n",
       "    <tr>\n",
       "      <th>3</th>\n",
       "      <td>1.0</td>\n",
       "      <td>2013-01-02</td>\n",
       "      <td>1.0</td>\n",
       "      <td>3</td>\n",
       "      <td>train</td>\n",
       "      <td>foo</td>\n",
       "    </tr>\n",
       "  </tbody>\n",
       "</table>\n",
       "</div>"
      ],
      "text/plain": [
       "     A          B    C  D      E    F\n",
       "0  1.0 2013-01-02  1.0  3   test  foo\n",
       "1  1.0 2013-01-02  1.0  3  train  foo\n",
       "2  1.0 2013-01-02  1.0  3   test  foo\n",
       "3  1.0 2013-01-02  1.0  3  train  foo"
      ]
     },
     "execution_count": 9,
     "metadata": {},
     "output_type": "execute_result"
    }
   ],
   "source": [
    "df2"
   ]
  },
  {
   "cell_type": "markdown",
   "metadata": {},
   "source": [
    "### 查看不同列的數據類型"
   ]
  },
  {
   "cell_type": "code",
   "execution_count": 10,
   "metadata": {},
   "outputs": [
    {
     "data": {
      "text/plain": [
       "A           float64\n",
       "B    datetime64[ns]\n",
       "C           float32\n",
       "D             int32\n",
       "E          category\n",
       "F            object\n",
       "dtype: object"
      ]
     },
     "execution_count": 10,
     "metadata": {},
     "output_type": "execute_result"
    }
   ],
   "source": [
    "df2.dtypes"
   ]
  },
  {
   "cell_type": "markdown",
   "metadata": {},
   "source": [
    "### 查看DataFrame的頭部和尾部的行"
   ]
  },
  {
   "cell_type": "code",
   "execution_count": 11,
   "metadata": {},
   "outputs": [
    {
     "data": {
      "text/html": [
       "<div>\n",
       "<style>\n",
       "    .dataframe thead tr:only-child th {\n",
       "        text-align: right;\n",
       "    }\n",
       "\n",
       "    .dataframe thead th {\n",
       "        text-align: left;\n",
       "    }\n",
       "\n",
       "    .dataframe tbody tr th {\n",
       "        vertical-align: top;\n",
       "    }\n",
       "</style>\n",
       "<table border=\"1\" class=\"dataframe\">\n",
       "  <thead>\n",
       "    <tr style=\"text-align: right;\">\n",
       "      <th></th>\n",
       "      <th>A</th>\n",
       "      <th>B</th>\n",
       "      <th>C</th>\n",
       "      <th>D</th>\n",
       "    </tr>\n",
       "  </thead>\n",
       "  <tbody>\n",
       "    <tr>\n",
       "      <th>2013-01-01</th>\n",
       "      <td>1.069193</td>\n",
       "      <td>1.196482</td>\n",
       "      <td>0.140170</td>\n",
       "      <td>1.878203</td>\n",
       "    </tr>\n",
       "    <tr>\n",
       "      <th>2013-01-02</th>\n",
       "      <td>0.053542</td>\n",
       "      <td>-0.918167</td>\n",
       "      <td>0.429759</td>\n",
       "      <td>2.372977</td>\n",
       "    </tr>\n",
       "    <tr>\n",
       "      <th>2013-01-03</th>\n",
       "      <td>1.934618</td>\n",
       "      <td>-0.794661</td>\n",
       "      <td>-1.456365</td>\n",
       "      <td>-1.640717</td>\n",
       "    </tr>\n",
       "    <tr>\n",
       "      <th>2013-01-04</th>\n",
       "      <td>-2.044883</td>\n",
       "      <td>0.160651</td>\n",
       "      <td>-1.383514</td>\n",
       "      <td>-0.323190</td>\n",
       "    </tr>\n",
       "    <tr>\n",
       "      <th>2013-01-05</th>\n",
       "      <td>-0.639690</td>\n",
       "      <td>-0.158751</td>\n",
       "      <td>-0.303886</td>\n",
       "      <td>-1.299438</td>\n",
       "    </tr>\n",
       "  </tbody>\n",
       "</table>\n",
       "</div>"
      ],
      "text/plain": [
       "                   A         B         C         D\n",
       "2013-01-01  1.069193  1.196482  0.140170  1.878203\n",
       "2013-01-02  0.053542 -0.918167  0.429759  2.372977\n",
       "2013-01-03  1.934618 -0.794661 -1.456365 -1.640717\n",
       "2013-01-04 -2.044883  0.160651 -1.383514 -0.323190\n",
       "2013-01-05 -0.639690 -0.158751 -0.303886 -1.299438"
      ]
     },
     "execution_count": 11,
     "metadata": {},
     "output_type": "execute_result"
    }
   ],
   "source": [
    "df.head()"
   ]
  },
  {
   "cell_type": "code",
   "execution_count": 12,
   "metadata": {},
   "outputs": [
    {
     "data": {
      "text/html": [
       "<div>\n",
       "<style>\n",
       "    .dataframe thead tr:only-child th {\n",
       "        text-align: right;\n",
       "    }\n",
       "\n",
       "    .dataframe thead th {\n",
       "        text-align: left;\n",
       "    }\n",
       "\n",
       "    .dataframe tbody tr th {\n",
       "        vertical-align: top;\n",
       "    }\n",
       "</style>\n",
       "<table border=\"1\" class=\"dataframe\">\n",
       "  <thead>\n",
       "    <tr style=\"text-align: right;\">\n",
       "      <th></th>\n",
       "      <th>A</th>\n",
       "      <th>B</th>\n",
       "      <th>C</th>\n",
       "      <th>D</th>\n",
       "    </tr>\n",
       "  </thead>\n",
       "  <tbody>\n",
       "    <tr>\n",
       "      <th>2013-01-04</th>\n",
       "      <td>-2.044883</td>\n",
       "      <td>0.160651</td>\n",
       "      <td>-1.383514</td>\n",
       "      <td>-0.323190</td>\n",
       "    </tr>\n",
       "    <tr>\n",
       "      <th>2013-01-05</th>\n",
       "      <td>-0.639690</td>\n",
       "      <td>-0.158751</td>\n",
       "      <td>-0.303886</td>\n",
       "      <td>-1.299438</td>\n",
       "    </tr>\n",
       "    <tr>\n",
       "      <th>2013-01-06</th>\n",
       "      <td>-0.354672</td>\n",
       "      <td>-0.130353</td>\n",
       "      <td>0.812021</td>\n",
       "      <td>1.704428</td>\n",
       "    </tr>\n",
       "  </tbody>\n",
       "</table>\n",
       "</div>"
      ],
      "text/plain": [
       "                   A         B         C         D\n",
       "2013-01-04 -2.044883  0.160651 -1.383514 -0.323190\n",
       "2013-01-05 -0.639690 -0.158751 -0.303886 -1.299438\n",
       "2013-01-06 -0.354672 -0.130353  0.812021  1.704428"
      ]
     },
     "execution_count": 12,
     "metadata": {},
     "output_type": "execute_result"
    }
   ],
   "source": [
    "df.tail(3)"
   ]
  },
  {
   "cell_type": "markdown",
   "metadata": {},
   "source": [
    "### 顯示索引、列和底層的numpy數據"
   ]
  },
  {
   "cell_type": "code",
   "execution_count": 13,
   "metadata": {},
   "outputs": [
    {
     "data": {
      "text/plain": [
       "DatetimeIndex(['2013-01-01', '2013-01-02', '2013-01-03', '2013-01-04',\n",
       "               '2013-01-05', '2013-01-06'],\n",
       "              dtype='datetime64[ns]', freq='D')"
      ]
     },
     "execution_count": 13,
     "metadata": {},
     "output_type": "execute_result"
    }
   ],
   "source": [
    "df.index"
   ]
  },
  {
   "cell_type": "code",
   "execution_count": 14,
   "metadata": {},
   "outputs": [
    {
     "data": {
      "text/plain": [
       "Index(['A', 'B', 'C', 'D'], dtype='object')"
      ]
     },
     "execution_count": 14,
     "metadata": {},
     "output_type": "execute_result"
    }
   ],
   "source": [
    "df.columns"
   ]
  },
  {
   "cell_type": "code",
   "execution_count": 15,
   "metadata": {},
   "outputs": [
    {
     "data": {
      "text/plain": [
       "array([[ 1.06919317,  1.19648222,  0.14016969,  1.87820348],\n",
       "       [ 0.05354234, -0.91816745,  0.42975948,  2.37297674],\n",
       "       [ 1.93461824, -0.79466063, -1.456365  , -1.64071689],\n",
       "       [-2.0448835 ,  0.16065146, -1.38351425, -0.32318972],\n",
       "       [-0.63969011, -0.15875078, -0.30388592, -1.29943797],\n",
       "       [-0.35467186, -0.13035274,  0.81202137,  1.70442811]])"
      ]
     },
     "execution_count": 15,
     "metadata": {},
     "output_type": "execute_result"
    }
   ],
   "source": [
    "df.values"
   ]
  },
  {
   "cell_type": "markdown",
   "metadata": {},
   "source": [
    "### describe() 函數對於數據的快速統計匯總"
   ]
  },
  {
   "cell_type": "code",
   "execution_count": 16,
   "metadata": {},
   "outputs": [
    {
     "data": {
      "text/html": [
       "<div>\n",
       "<style>\n",
       "    .dataframe thead tr:only-child th {\n",
       "        text-align: right;\n",
       "    }\n",
       "\n",
       "    .dataframe thead th {\n",
       "        text-align: left;\n",
       "    }\n",
       "\n",
       "    .dataframe tbody tr th {\n",
       "        vertical-align: top;\n",
       "    }\n",
       "</style>\n",
       "<table border=\"1\" class=\"dataframe\">\n",
       "  <thead>\n",
       "    <tr style=\"text-align: right;\">\n",
       "      <th></th>\n",
       "      <th>A</th>\n",
       "      <th>B</th>\n",
       "      <th>C</th>\n",
       "      <th>D</th>\n",
       "    </tr>\n",
       "  </thead>\n",
       "  <tbody>\n",
       "    <tr>\n",
       "      <th>count</th>\n",
       "      <td>6.000000</td>\n",
       "      <td>6.000000</td>\n",
       "      <td>6.000000</td>\n",
       "      <td>6.000000</td>\n",
       "    </tr>\n",
       "    <tr>\n",
       "      <th>mean</th>\n",
       "      <td>0.003018</td>\n",
       "      <td>-0.107466</td>\n",
       "      <td>-0.293636</td>\n",
       "      <td>0.448711</td>\n",
       "    </tr>\n",
       "    <tr>\n",
       "      <th>std</th>\n",
       "      <td>1.386022</td>\n",
       "      <td>0.762207</td>\n",
       "      <td>0.945922</td>\n",
       "      <td>1.751607</td>\n",
       "    </tr>\n",
       "    <tr>\n",
       "      <th>min</th>\n",
       "      <td>-2.044883</td>\n",
       "      <td>-0.918167</td>\n",
       "      <td>-1.456365</td>\n",
       "      <td>-1.640717</td>\n",
       "    </tr>\n",
       "    <tr>\n",
       "      <th>25%</th>\n",
       "      <td>-0.568436</td>\n",
       "      <td>-0.635683</td>\n",
       "      <td>-1.113607</td>\n",
       "      <td>-1.055376</td>\n",
       "    </tr>\n",
       "    <tr>\n",
       "      <th>50%</th>\n",
       "      <td>-0.150565</td>\n",
       "      <td>-0.144552</td>\n",
       "      <td>-0.081858</td>\n",
       "      <td>0.690619</td>\n",
       "    </tr>\n",
       "    <tr>\n",
       "      <th>75%</th>\n",
       "      <td>0.815280</td>\n",
       "      <td>0.087900</td>\n",
       "      <td>0.357362</td>\n",
       "      <td>1.834760</td>\n",
       "    </tr>\n",
       "    <tr>\n",
       "      <th>max</th>\n",
       "      <td>1.934618</td>\n",
       "      <td>1.196482</td>\n",
       "      <td>0.812021</td>\n",
       "      <td>2.372977</td>\n",
       "    </tr>\n",
       "  </tbody>\n",
       "</table>\n",
       "</div>"
      ],
      "text/plain": [
       "              A         B         C         D\n",
       "count  6.000000  6.000000  6.000000  6.000000\n",
       "mean   0.003018 -0.107466 -0.293636  0.448711\n",
       "std    1.386022  0.762207  0.945922  1.751607\n",
       "min   -2.044883 -0.918167 -1.456365 -1.640717\n",
       "25%   -0.568436 -0.635683 -1.113607 -1.055376\n",
       "50%   -0.150565 -0.144552 -0.081858  0.690619\n",
       "75%    0.815280  0.087900  0.357362  1.834760\n",
       "max    1.934618  1.196482  0.812021  2.372977"
      ]
     },
     "execution_count": 16,
     "metadata": {},
     "output_type": "execute_result"
    }
   ],
   "source": [
    "df.describe()"
   ]
  },
  {
   "cell_type": "markdown",
   "metadata": {},
   "source": [
    "### 對數據的轉置"
   ]
  },
  {
   "cell_type": "code",
   "execution_count": 17,
   "metadata": {},
   "outputs": [
    {
     "data": {
      "text/html": [
       "<div>\n",
       "<style>\n",
       "    .dataframe thead tr:only-child th {\n",
       "        text-align: right;\n",
       "    }\n",
       "\n",
       "    .dataframe thead th {\n",
       "        text-align: left;\n",
       "    }\n",
       "\n",
       "    .dataframe tbody tr th {\n",
       "        vertical-align: top;\n",
       "    }\n",
       "</style>\n",
       "<table border=\"1\" class=\"dataframe\">\n",
       "  <thead>\n",
       "    <tr style=\"text-align: right;\">\n",
       "      <th></th>\n",
       "      <th>2013-01-01 00:00:00</th>\n",
       "      <th>2013-01-02 00:00:00</th>\n",
       "      <th>2013-01-03 00:00:00</th>\n",
       "      <th>2013-01-04 00:00:00</th>\n",
       "      <th>2013-01-05 00:00:00</th>\n",
       "      <th>2013-01-06 00:00:00</th>\n",
       "    </tr>\n",
       "  </thead>\n",
       "  <tbody>\n",
       "    <tr>\n",
       "      <th>A</th>\n",
       "      <td>1.069193</td>\n",
       "      <td>0.053542</td>\n",
       "      <td>1.934618</td>\n",
       "      <td>-2.044883</td>\n",
       "      <td>-0.639690</td>\n",
       "      <td>-0.354672</td>\n",
       "    </tr>\n",
       "    <tr>\n",
       "      <th>B</th>\n",
       "      <td>1.196482</td>\n",
       "      <td>-0.918167</td>\n",
       "      <td>-0.794661</td>\n",
       "      <td>0.160651</td>\n",
       "      <td>-0.158751</td>\n",
       "      <td>-0.130353</td>\n",
       "    </tr>\n",
       "    <tr>\n",
       "      <th>C</th>\n",
       "      <td>0.140170</td>\n",
       "      <td>0.429759</td>\n",
       "      <td>-1.456365</td>\n",
       "      <td>-1.383514</td>\n",
       "      <td>-0.303886</td>\n",
       "      <td>0.812021</td>\n",
       "    </tr>\n",
       "    <tr>\n",
       "      <th>D</th>\n",
       "      <td>1.878203</td>\n",
       "      <td>2.372977</td>\n",
       "      <td>-1.640717</td>\n",
       "      <td>-0.323190</td>\n",
       "      <td>-1.299438</td>\n",
       "      <td>1.704428</td>\n",
       "    </tr>\n",
       "  </tbody>\n",
       "</table>\n",
       "</div>"
      ],
      "text/plain": [
       "   2013-01-01  2013-01-02  2013-01-03  2013-01-04  2013-01-05  2013-01-06\n",
       "A    1.069193    0.053542    1.934618   -2.044883   -0.639690   -0.354672\n",
       "B    1.196482   -0.918167   -0.794661    0.160651   -0.158751   -0.130353\n",
       "C    0.140170    0.429759   -1.456365   -1.383514   -0.303886    0.812021\n",
       "D    1.878203    2.372977   -1.640717   -0.323190   -1.299438    1.704428"
      ]
     },
     "execution_count": 17,
     "metadata": {},
     "output_type": "execute_result"
    }
   ],
   "source": [
    "df.T"
   ]
  },
  {
   "cell_type": "markdown",
   "metadata": {},
   "source": [
    "### 按軸進行排序"
   ]
  },
  {
   "cell_type": "code",
   "execution_count": 18,
   "metadata": {},
   "outputs": [
    {
     "data": {
      "text/html": [
       "<div>\n",
       "<style>\n",
       "    .dataframe thead tr:only-child th {\n",
       "        text-align: right;\n",
       "    }\n",
       "\n",
       "    .dataframe thead th {\n",
       "        text-align: left;\n",
       "    }\n",
       "\n",
       "    .dataframe tbody tr th {\n",
       "        vertical-align: top;\n",
       "    }\n",
       "</style>\n",
       "<table border=\"1\" class=\"dataframe\">\n",
       "  <thead>\n",
       "    <tr style=\"text-align: right;\">\n",
       "      <th></th>\n",
       "      <th>D</th>\n",
       "      <th>C</th>\n",
       "      <th>B</th>\n",
       "      <th>A</th>\n",
       "    </tr>\n",
       "  </thead>\n",
       "  <tbody>\n",
       "    <tr>\n",
       "      <th>2013-01-01</th>\n",
       "      <td>1.878203</td>\n",
       "      <td>0.140170</td>\n",
       "      <td>1.196482</td>\n",
       "      <td>1.069193</td>\n",
       "    </tr>\n",
       "    <tr>\n",
       "      <th>2013-01-02</th>\n",
       "      <td>2.372977</td>\n",
       "      <td>0.429759</td>\n",
       "      <td>-0.918167</td>\n",
       "      <td>0.053542</td>\n",
       "    </tr>\n",
       "    <tr>\n",
       "      <th>2013-01-03</th>\n",
       "      <td>-1.640717</td>\n",
       "      <td>-1.456365</td>\n",
       "      <td>-0.794661</td>\n",
       "      <td>1.934618</td>\n",
       "    </tr>\n",
       "    <tr>\n",
       "      <th>2013-01-04</th>\n",
       "      <td>-0.323190</td>\n",
       "      <td>-1.383514</td>\n",
       "      <td>0.160651</td>\n",
       "      <td>-2.044883</td>\n",
       "    </tr>\n",
       "    <tr>\n",
       "      <th>2013-01-05</th>\n",
       "      <td>-1.299438</td>\n",
       "      <td>-0.303886</td>\n",
       "      <td>-0.158751</td>\n",
       "      <td>-0.639690</td>\n",
       "    </tr>\n",
       "    <tr>\n",
       "      <th>2013-01-06</th>\n",
       "      <td>1.704428</td>\n",
       "      <td>0.812021</td>\n",
       "      <td>-0.130353</td>\n",
       "      <td>-0.354672</td>\n",
       "    </tr>\n",
       "  </tbody>\n",
       "</table>\n",
       "</div>"
      ],
      "text/plain": [
       "                   D         C         B         A\n",
       "2013-01-01  1.878203  0.140170  1.196482  1.069193\n",
       "2013-01-02  2.372977  0.429759 -0.918167  0.053542\n",
       "2013-01-03 -1.640717 -1.456365 -0.794661  1.934618\n",
       "2013-01-04 -0.323190 -1.383514  0.160651 -2.044883\n",
       "2013-01-05 -1.299438 -0.303886 -0.158751 -0.639690\n",
       "2013-01-06  1.704428  0.812021 -0.130353 -0.354672"
      ]
     },
     "execution_count": 18,
     "metadata": {},
     "output_type": "execute_result"
    }
   ],
   "source": [
    "df.sort_index(axis = 1, ascending = False)"
   ]
  },
  {
   "cell_type": "markdown",
   "metadata": {},
   "source": [
    "### 按值進行排序"
   ]
  },
  {
   "cell_type": "code",
   "execution_count": 19,
   "metadata": {},
   "outputs": [
    {
     "data": {
      "text/html": [
       "<div>\n",
       "<style>\n",
       "    .dataframe thead tr:only-child th {\n",
       "        text-align: right;\n",
       "    }\n",
       "\n",
       "    .dataframe thead th {\n",
       "        text-align: left;\n",
       "    }\n",
       "\n",
       "    .dataframe tbody tr th {\n",
       "        vertical-align: top;\n",
       "    }\n",
       "</style>\n",
       "<table border=\"1\" class=\"dataframe\">\n",
       "  <thead>\n",
       "    <tr style=\"text-align: right;\">\n",
       "      <th></th>\n",
       "      <th>A</th>\n",
       "      <th>B</th>\n",
       "      <th>C</th>\n",
       "      <th>D</th>\n",
       "    </tr>\n",
       "  </thead>\n",
       "  <tbody>\n",
       "    <tr>\n",
       "      <th>2013-01-02</th>\n",
       "      <td>0.053542</td>\n",
       "      <td>-0.918167</td>\n",
       "      <td>0.429759</td>\n",
       "      <td>2.372977</td>\n",
       "    </tr>\n",
       "    <tr>\n",
       "      <th>2013-01-03</th>\n",
       "      <td>1.934618</td>\n",
       "      <td>-0.794661</td>\n",
       "      <td>-1.456365</td>\n",
       "      <td>-1.640717</td>\n",
       "    </tr>\n",
       "    <tr>\n",
       "      <th>2013-01-05</th>\n",
       "      <td>-0.639690</td>\n",
       "      <td>-0.158751</td>\n",
       "      <td>-0.303886</td>\n",
       "      <td>-1.299438</td>\n",
       "    </tr>\n",
       "    <tr>\n",
       "      <th>2013-01-06</th>\n",
       "      <td>-0.354672</td>\n",
       "      <td>-0.130353</td>\n",
       "      <td>0.812021</td>\n",
       "      <td>1.704428</td>\n",
       "    </tr>\n",
       "    <tr>\n",
       "      <th>2013-01-04</th>\n",
       "      <td>-2.044883</td>\n",
       "      <td>0.160651</td>\n",
       "      <td>-1.383514</td>\n",
       "      <td>-0.323190</td>\n",
       "    </tr>\n",
       "    <tr>\n",
       "      <th>2013-01-01</th>\n",
       "      <td>1.069193</td>\n",
       "      <td>1.196482</td>\n",
       "      <td>0.140170</td>\n",
       "      <td>1.878203</td>\n",
       "    </tr>\n",
       "  </tbody>\n",
       "</table>\n",
       "</div>"
      ],
      "text/plain": [
       "                   A         B         C         D\n",
       "2013-01-02  0.053542 -0.918167  0.429759  2.372977\n",
       "2013-01-03  1.934618 -0.794661 -1.456365 -1.640717\n",
       "2013-01-05 -0.639690 -0.158751 -0.303886 -1.299438\n",
       "2013-01-06 -0.354672 -0.130353  0.812021  1.704428\n",
       "2013-01-04 -2.044883  0.160651 -1.383514 -0.323190\n",
       "2013-01-01  1.069193  1.196482  0.140170  1.878203"
      ]
     },
     "execution_count": 19,
     "metadata": {},
     "output_type": "execute_result"
    }
   ],
   "source": [
    "df.sort_values(by = \"B\")"
   ]
  },
  {
   "cell_type": "markdown",
   "metadata": {},
   "source": [
    "# 選擇"
   ]
  },
  {
   "cell_type": "markdown",
   "metadata": {},
   "source": [
    "### 獲取\n",
    "### 選擇一個單獨的列，將會返回Series，等同於df.A"
   ]
  },
  {
   "cell_type": "code",
   "execution_count": 20,
   "metadata": {
    "scrolled": true
   },
   "outputs": [
    {
     "data": {
      "text/plain": [
       "2013-01-01    1.069193\n",
       "2013-01-02    0.053542\n",
       "2013-01-03    1.934618\n",
       "2013-01-04   -2.044883\n",
       "2013-01-05   -0.639690\n",
       "2013-01-06   -0.354672\n",
       "Freq: D, Name: A, dtype: float64"
      ]
     },
     "execution_count": 20,
     "metadata": {},
     "output_type": "execute_result"
    }
   ],
   "source": [
    "df[\"A\"]"
   ]
  },
  {
   "cell_type": "code",
   "execution_count": 21,
   "metadata": {},
   "outputs": [
    {
     "data": {
      "text/plain": [
       "2013-01-01    1.069193\n",
       "2013-01-02    0.053542\n",
       "2013-01-03    1.934618\n",
       "2013-01-04   -2.044883\n",
       "2013-01-05   -0.639690\n",
       "2013-01-06   -0.354672\n",
       "Freq: D, Name: A, dtype: float64"
      ]
     },
     "execution_count": 21,
     "metadata": {},
     "output_type": "execute_result"
    }
   ],
   "source": [
    "df.A"
   ]
  },
  {
   "cell_type": "markdown",
   "metadata": {},
   "source": [
    "### 通過[ ] 進行選擇，將會對行進行切片"
   ]
  },
  {
   "cell_type": "code",
   "execution_count": 22,
   "metadata": {},
   "outputs": [
    {
     "data": {
      "text/html": [
       "<div>\n",
       "<style>\n",
       "    .dataframe thead tr:only-child th {\n",
       "        text-align: right;\n",
       "    }\n",
       "\n",
       "    .dataframe thead th {\n",
       "        text-align: left;\n",
       "    }\n",
       "\n",
       "    .dataframe tbody tr th {\n",
       "        vertical-align: top;\n",
       "    }\n",
       "</style>\n",
       "<table border=\"1\" class=\"dataframe\">\n",
       "  <thead>\n",
       "    <tr style=\"text-align: right;\">\n",
       "      <th></th>\n",
       "      <th>A</th>\n",
       "      <th>B</th>\n",
       "      <th>C</th>\n",
       "      <th>D</th>\n",
       "    </tr>\n",
       "  </thead>\n",
       "  <tbody>\n",
       "    <tr>\n",
       "      <th>2013-01-01</th>\n",
       "      <td>1.069193</td>\n",
       "      <td>1.196482</td>\n",
       "      <td>0.140170</td>\n",
       "      <td>1.878203</td>\n",
       "    </tr>\n",
       "    <tr>\n",
       "      <th>2013-01-02</th>\n",
       "      <td>0.053542</td>\n",
       "      <td>-0.918167</td>\n",
       "      <td>0.429759</td>\n",
       "      <td>2.372977</td>\n",
       "    </tr>\n",
       "    <tr>\n",
       "      <th>2013-01-03</th>\n",
       "      <td>1.934618</td>\n",
       "      <td>-0.794661</td>\n",
       "      <td>-1.456365</td>\n",
       "      <td>-1.640717</td>\n",
       "    </tr>\n",
       "  </tbody>\n",
       "</table>\n",
       "</div>"
      ],
      "text/plain": [
       "                   A         B         C         D\n",
       "2013-01-01  1.069193  1.196482  0.140170  1.878203\n",
       "2013-01-02  0.053542 -0.918167  0.429759  2.372977\n",
       "2013-01-03  1.934618 -0.794661 -1.456365 -1.640717"
      ]
     },
     "execution_count": 22,
     "metadata": {},
     "output_type": "execute_result"
    }
   ],
   "source": [
    "df[0:3]"
   ]
  },
  {
   "cell_type": "code",
   "execution_count": 23,
   "metadata": {},
   "outputs": [
    {
     "data": {
      "text/html": [
       "<div>\n",
       "<style>\n",
       "    .dataframe thead tr:only-child th {\n",
       "        text-align: right;\n",
       "    }\n",
       "\n",
       "    .dataframe thead th {\n",
       "        text-align: left;\n",
       "    }\n",
       "\n",
       "    .dataframe tbody tr th {\n",
       "        vertical-align: top;\n",
       "    }\n",
       "</style>\n",
       "<table border=\"1\" class=\"dataframe\">\n",
       "  <thead>\n",
       "    <tr style=\"text-align: right;\">\n",
       "      <th></th>\n",
       "      <th>A</th>\n",
       "      <th>B</th>\n",
       "      <th>C</th>\n",
       "      <th>D</th>\n",
       "    </tr>\n",
       "  </thead>\n",
       "  <tbody>\n",
       "    <tr>\n",
       "      <th>2013-01-02</th>\n",
       "      <td>0.053542</td>\n",
       "      <td>-0.918167</td>\n",
       "      <td>0.429759</td>\n",
       "      <td>2.372977</td>\n",
       "    </tr>\n",
       "    <tr>\n",
       "      <th>2013-01-03</th>\n",
       "      <td>1.934618</td>\n",
       "      <td>-0.794661</td>\n",
       "      <td>-1.456365</td>\n",
       "      <td>-1.640717</td>\n",
       "    </tr>\n",
       "    <tr>\n",
       "      <th>2013-01-04</th>\n",
       "      <td>-2.044883</td>\n",
       "      <td>0.160651</td>\n",
       "      <td>-1.383514</td>\n",
       "      <td>-0.323190</td>\n",
       "    </tr>\n",
       "  </tbody>\n",
       "</table>\n",
       "</div>"
      ],
      "text/plain": [
       "                   A         B         C         D\n",
       "2013-01-02  0.053542 -0.918167  0.429759  2.372977\n",
       "2013-01-03  1.934618 -0.794661 -1.456365 -1.640717\n",
       "2013-01-04 -2.044883  0.160651 -1.383514 -0.323190"
      ]
     },
     "execution_count": 23,
     "metadata": {},
     "output_type": "execute_result"
    }
   ],
   "source": [
    "df[\"20130102\":\"20130104\"]"
   ]
  },
  {
   "cell_type": "markdown",
   "metadata": {},
   "source": [
    "# 通過標籤選擇"
   ]
  },
  {
   "cell_type": "markdown",
   "metadata": {},
   "source": [
    "### 使用標籤來獲取一個交叉的區域"
   ]
  },
  {
   "cell_type": "code",
   "execution_count": 24,
   "metadata": {},
   "outputs": [
    {
     "data": {
      "text/plain": [
       "A    1.069193\n",
       "B    1.196482\n",
       "C    0.140170\n",
       "D    1.878203\n",
       "Name: 2013-01-01 00:00:00, dtype: float64"
      ]
     },
     "execution_count": 24,
     "metadata": {},
     "output_type": "execute_result"
    }
   ],
   "source": [
    "df.loc[dates[0]]"
   ]
  },
  {
   "cell_type": "markdown",
   "metadata": {},
   "source": [
    "### 通過標籤來在多個軸上進行選擇"
   ]
  },
  {
   "cell_type": "code",
   "execution_count": 25,
   "metadata": {},
   "outputs": [
    {
     "data": {
      "text/html": [
       "<div>\n",
       "<style>\n",
       "    .dataframe thead tr:only-child th {\n",
       "        text-align: right;\n",
       "    }\n",
       "\n",
       "    .dataframe thead th {\n",
       "        text-align: left;\n",
       "    }\n",
       "\n",
       "    .dataframe tbody tr th {\n",
       "        vertical-align: top;\n",
       "    }\n",
       "</style>\n",
       "<table border=\"1\" class=\"dataframe\">\n",
       "  <thead>\n",
       "    <tr style=\"text-align: right;\">\n",
       "      <th></th>\n",
       "      <th>A</th>\n",
       "      <th>B</th>\n",
       "    </tr>\n",
       "  </thead>\n",
       "  <tbody>\n",
       "    <tr>\n",
       "      <th>2013-01-01</th>\n",
       "      <td>1.069193</td>\n",
       "      <td>1.196482</td>\n",
       "    </tr>\n",
       "    <tr>\n",
       "      <th>2013-01-02</th>\n",
       "      <td>0.053542</td>\n",
       "      <td>-0.918167</td>\n",
       "    </tr>\n",
       "    <tr>\n",
       "      <th>2013-01-03</th>\n",
       "      <td>1.934618</td>\n",
       "      <td>-0.794661</td>\n",
       "    </tr>\n",
       "    <tr>\n",
       "      <th>2013-01-04</th>\n",
       "      <td>-2.044883</td>\n",
       "      <td>0.160651</td>\n",
       "    </tr>\n",
       "    <tr>\n",
       "      <th>2013-01-05</th>\n",
       "      <td>-0.639690</td>\n",
       "      <td>-0.158751</td>\n",
       "    </tr>\n",
       "    <tr>\n",
       "      <th>2013-01-06</th>\n",
       "      <td>-0.354672</td>\n",
       "      <td>-0.130353</td>\n",
       "    </tr>\n",
       "  </tbody>\n",
       "</table>\n",
       "</div>"
      ],
      "text/plain": [
       "                   A         B\n",
       "2013-01-01  1.069193  1.196482\n",
       "2013-01-02  0.053542 -0.918167\n",
       "2013-01-03  1.934618 -0.794661\n",
       "2013-01-04 -2.044883  0.160651\n",
       "2013-01-05 -0.639690 -0.158751\n",
       "2013-01-06 -0.354672 -0.130353"
      ]
     },
     "execution_count": 25,
     "metadata": {},
     "output_type": "execute_result"
    }
   ],
   "source": [
    "df.loc[:,[\"A\",\"B\"]]"
   ]
  },
  {
   "cell_type": "markdown",
   "metadata": {},
   "source": [
    "### 標籤切片"
   ]
  },
  {
   "cell_type": "code",
   "execution_count": 26,
   "metadata": {},
   "outputs": [
    {
     "data": {
      "text/html": [
       "<div>\n",
       "<style>\n",
       "    .dataframe thead tr:only-child th {\n",
       "        text-align: right;\n",
       "    }\n",
       "\n",
       "    .dataframe thead th {\n",
       "        text-align: left;\n",
       "    }\n",
       "\n",
       "    .dataframe tbody tr th {\n",
       "        vertical-align: top;\n",
       "    }\n",
       "</style>\n",
       "<table border=\"1\" class=\"dataframe\">\n",
       "  <thead>\n",
       "    <tr style=\"text-align: right;\">\n",
       "      <th></th>\n",
       "      <th>A</th>\n",
       "      <th>B</th>\n",
       "    </tr>\n",
       "  </thead>\n",
       "  <tbody>\n",
       "    <tr>\n",
       "      <th>2013-01-02</th>\n",
       "      <td>0.053542</td>\n",
       "      <td>-0.918167</td>\n",
       "    </tr>\n",
       "    <tr>\n",
       "      <th>2013-01-03</th>\n",
       "      <td>1.934618</td>\n",
       "      <td>-0.794661</td>\n",
       "    </tr>\n",
       "    <tr>\n",
       "      <th>2013-01-04</th>\n",
       "      <td>-2.044883</td>\n",
       "      <td>0.160651</td>\n",
       "    </tr>\n",
       "  </tbody>\n",
       "</table>\n",
       "</div>"
      ],
      "text/plain": [
       "                   A         B\n",
       "2013-01-02  0.053542 -0.918167\n",
       "2013-01-03  1.934618 -0.794661\n",
       "2013-01-04 -2.044883  0.160651"
      ]
     },
     "execution_count": 26,
     "metadata": {},
     "output_type": "execute_result"
    }
   ],
   "source": [
    "df.loc[\"20130102\":\"20130104\",[\"A\",\"B\"]]"
   ]
  },
  {
   "cell_type": "markdown",
   "metadata": {},
   "source": [
    "### 對於返回的對象進行維度縮減"
   ]
  },
  {
   "cell_type": "code",
   "execution_count": 27,
   "metadata": {},
   "outputs": [
    {
     "data": {
      "text/plain": [
       "A    0.053542\n",
       "B   -0.918167\n",
       "Name: 2013-01-02 00:00:00, dtype: float64"
      ]
     },
     "execution_count": 27,
     "metadata": {},
     "output_type": "execute_result"
    }
   ],
   "source": [
    "df.loc[\"20130102\", [\"A\", \"B\"]]"
   ]
  },
  {
   "cell_type": "markdown",
   "metadata": {},
   "source": [
    "## 獲取一個標量"
   ]
  },
  {
   "cell_type": "code",
   "execution_count": 28,
   "metadata": {},
   "outputs": [
    {
     "data": {
      "text/plain": [
       "1.0691931720589165"
      ]
     },
     "execution_count": 28,
     "metadata": {},
     "output_type": "execute_result"
    }
   ],
   "source": [
    "df.loc[dates[0], \"A\"]"
   ]
  },
  {
   "cell_type": "markdown",
   "metadata": {},
   "source": [
    "### 快速訪問一個標量 等同上"
   ]
  },
  {
   "cell_type": "code",
   "execution_count": 29,
   "metadata": {},
   "outputs": [
    {
     "data": {
      "text/plain": [
       "1.0691931720589165"
      ]
     },
     "execution_count": 29,
     "metadata": {},
     "output_type": "execute_result"
    }
   ],
   "source": [
    "df.at[dates[0], \"A\"]"
   ]
  },
  {
   "cell_type": "markdown",
   "metadata": {},
   "source": [
    "# 通過位置選擇"
   ]
  },
  {
   "cell_type": "markdown",
   "metadata": {},
   "source": [
    "### 通過傳遞數值進行位置選擇(選擇的是行)"
   ]
  },
  {
   "cell_type": "code",
   "execution_count": 30,
   "metadata": {},
   "outputs": [
    {
     "data": {
      "text/plain": [
       "A   -2.044883\n",
       "B    0.160651\n",
       "C   -1.383514\n",
       "D   -0.323190\n",
       "Name: 2013-01-04 00:00:00, dtype: float64"
      ]
     },
     "execution_count": 30,
     "metadata": {},
     "output_type": "execute_result"
    }
   ],
   "source": [
    "df.iloc[3]"
   ]
  },
  {
   "cell_type": "markdown",
   "metadata": {},
   "source": [
    "### 通過數值進行切片"
   ]
  },
  {
   "cell_type": "code",
   "execution_count": 31,
   "metadata": {},
   "outputs": [
    {
     "data": {
      "text/html": [
       "<div>\n",
       "<style>\n",
       "    .dataframe thead tr:only-child th {\n",
       "        text-align: right;\n",
       "    }\n",
       "\n",
       "    .dataframe thead th {\n",
       "        text-align: left;\n",
       "    }\n",
       "\n",
       "    .dataframe tbody tr th {\n",
       "        vertical-align: top;\n",
       "    }\n",
       "</style>\n",
       "<table border=\"1\" class=\"dataframe\">\n",
       "  <thead>\n",
       "    <tr style=\"text-align: right;\">\n",
       "      <th></th>\n",
       "      <th>A</th>\n",
       "      <th>B</th>\n",
       "    </tr>\n",
       "  </thead>\n",
       "  <tbody>\n",
       "    <tr>\n",
       "      <th>2013-01-04</th>\n",
       "      <td>-2.044883</td>\n",
       "      <td>0.160651</td>\n",
       "    </tr>\n",
       "    <tr>\n",
       "      <th>2013-01-05</th>\n",
       "      <td>-0.639690</td>\n",
       "      <td>-0.158751</td>\n",
       "    </tr>\n",
       "  </tbody>\n",
       "</table>\n",
       "</div>"
      ],
      "text/plain": [
       "                   A         B\n",
       "2013-01-04 -2.044883  0.160651\n",
       "2013-01-05 -0.639690 -0.158751"
      ]
     },
     "execution_count": 31,
     "metadata": {},
     "output_type": "execute_result"
    }
   ],
   "source": [
    "df.iloc[3:5, 0:2]"
   ]
  },
  {
   "cell_type": "markdown",
   "metadata": {},
   "source": [
    "### 通過指定一個位置的列表"
   ]
  },
  {
   "cell_type": "code",
   "execution_count": 32,
   "metadata": {},
   "outputs": [
    {
     "data": {
      "text/html": [
       "<div>\n",
       "<style>\n",
       "    .dataframe thead tr:only-child th {\n",
       "        text-align: right;\n",
       "    }\n",
       "\n",
       "    .dataframe thead th {\n",
       "        text-align: left;\n",
       "    }\n",
       "\n",
       "    .dataframe tbody tr th {\n",
       "        vertical-align: top;\n",
       "    }\n",
       "</style>\n",
       "<table border=\"1\" class=\"dataframe\">\n",
       "  <thead>\n",
       "    <tr style=\"text-align: right;\">\n",
       "      <th></th>\n",
       "      <th>A</th>\n",
       "      <th>C</th>\n",
       "    </tr>\n",
       "  </thead>\n",
       "  <tbody>\n",
       "    <tr>\n",
       "      <th>2013-01-02</th>\n",
       "      <td>0.053542</td>\n",
       "      <td>0.429759</td>\n",
       "    </tr>\n",
       "    <tr>\n",
       "      <th>2013-01-03</th>\n",
       "      <td>1.934618</td>\n",
       "      <td>-1.456365</td>\n",
       "    </tr>\n",
       "    <tr>\n",
       "      <th>2013-01-05</th>\n",
       "      <td>-0.639690</td>\n",
       "      <td>-0.303886</td>\n",
       "    </tr>\n",
       "  </tbody>\n",
       "</table>\n",
       "</div>"
      ],
      "text/plain": [
       "                   A         C\n",
       "2013-01-02  0.053542  0.429759\n",
       "2013-01-03  1.934618 -1.456365\n",
       "2013-01-05 -0.639690 -0.303886"
      ]
     },
     "execution_count": 32,
     "metadata": {},
     "output_type": "execute_result"
    }
   ],
   "source": [
    "df.iloc[[1, 2, 4],[0, 2]]"
   ]
  },
  {
   "cell_type": "markdown",
   "metadata": {},
   "source": [
    "### 對行進行切片"
   ]
  },
  {
   "cell_type": "code",
   "execution_count": 33,
   "metadata": {},
   "outputs": [
    {
     "data": {
      "text/html": [
       "<div>\n",
       "<style>\n",
       "    .dataframe thead tr:only-child th {\n",
       "        text-align: right;\n",
       "    }\n",
       "\n",
       "    .dataframe thead th {\n",
       "        text-align: left;\n",
       "    }\n",
       "\n",
       "    .dataframe tbody tr th {\n",
       "        vertical-align: top;\n",
       "    }\n",
       "</style>\n",
       "<table border=\"1\" class=\"dataframe\">\n",
       "  <thead>\n",
       "    <tr style=\"text-align: right;\">\n",
       "      <th></th>\n",
       "      <th>A</th>\n",
       "      <th>B</th>\n",
       "      <th>C</th>\n",
       "      <th>D</th>\n",
       "    </tr>\n",
       "  </thead>\n",
       "  <tbody>\n",
       "    <tr>\n",
       "      <th>2013-01-02</th>\n",
       "      <td>0.053542</td>\n",
       "      <td>-0.918167</td>\n",
       "      <td>0.429759</td>\n",
       "      <td>2.372977</td>\n",
       "    </tr>\n",
       "    <tr>\n",
       "      <th>2013-01-03</th>\n",
       "      <td>1.934618</td>\n",
       "      <td>-0.794661</td>\n",
       "      <td>-1.456365</td>\n",
       "      <td>-1.640717</td>\n",
       "    </tr>\n",
       "  </tbody>\n",
       "</table>\n",
       "</div>"
      ],
      "text/plain": [
       "                   A         B         C         D\n",
       "2013-01-02  0.053542 -0.918167  0.429759  2.372977\n",
       "2013-01-03  1.934618 -0.794661 -1.456365 -1.640717"
      ]
     },
     "execution_count": 33,
     "metadata": {},
     "output_type": "execute_result"
    }
   ],
   "source": [
    "df.iloc[1:3,:]"
   ]
  },
  {
   "cell_type": "markdown",
   "metadata": {},
   "source": [
    "### 對列進行切片"
   ]
  },
  {
   "cell_type": "code",
   "execution_count": 34,
   "metadata": {},
   "outputs": [
    {
     "data": {
      "text/html": [
       "<div>\n",
       "<style>\n",
       "    .dataframe thead tr:only-child th {\n",
       "        text-align: right;\n",
       "    }\n",
       "\n",
       "    .dataframe thead th {\n",
       "        text-align: left;\n",
       "    }\n",
       "\n",
       "    .dataframe tbody tr th {\n",
       "        vertical-align: top;\n",
       "    }\n",
       "</style>\n",
       "<table border=\"1\" class=\"dataframe\">\n",
       "  <thead>\n",
       "    <tr style=\"text-align: right;\">\n",
       "      <th></th>\n",
       "      <th>B</th>\n",
       "      <th>C</th>\n",
       "    </tr>\n",
       "  </thead>\n",
       "  <tbody>\n",
       "    <tr>\n",
       "      <th>2013-01-01</th>\n",
       "      <td>1.196482</td>\n",
       "      <td>0.140170</td>\n",
       "    </tr>\n",
       "    <tr>\n",
       "      <th>2013-01-02</th>\n",
       "      <td>-0.918167</td>\n",
       "      <td>0.429759</td>\n",
       "    </tr>\n",
       "    <tr>\n",
       "      <th>2013-01-03</th>\n",
       "      <td>-0.794661</td>\n",
       "      <td>-1.456365</td>\n",
       "    </tr>\n",
       "    <tr>\n",
       "      <th>2013-01-04</th>\n",
       "      <td>0.160651</td>\n",
       "      <td>-1.383514</td>\n",
       "    </tr>\n",
       "    <tr>\n",
       "      <th>2013-01-05</th>\n",
       "      <td>-0.158751</td>\n",
       "      <td>-0.303886</td>\n",
       "    </tr>\n",
       "    <tr>\n",
       "      <th>2013-01-06</th>\n",
       "      <td>-0.130353</td>\n",
       "      <td>0.812021</td>\n",
       "    </tr>\n",
       "  </tbody>\n",
       "</table>\n",
       "</div>"
      ],
      "text/plain": [
       "                   B         C\n",
       "2013-01-01  1.196482  0.140170\n",
       "2013-01-02 -0.918167  0.429759\n",
       "2013-01-03 -0.794661 -1.456365\n",
       "2013-01-04  0.160651 -1.383514\n",
       "2013-01-05 -0.158751 -0.303886\n",
       "2013-01-06 -0.130353  0.812021"
      ]
     },
     "execution_count": 34,
     "metadata": {},
     "output_type": "execute_result"
    }
   ],
   "source": [
    "df.iloc[:,1:3]"
   ]
  },
  {
   "cell_type": "markdown",
   "metadata": {},
   "source": [
    "### 獲取特定的值"
   ]
  },
  {
   "cell_type": "code",
   "execution_count": 35,
   "metadata": {},
   "outputs": [
    {
     "data": {
      "text/plain": [
       "-0.91816744539028139"
      ]
     },
     "execution_count": 35,
     "metadata": {},
     "output_type": "execute_result"
    }
   ],
   "source": [
    "df.iloc[1, 1]"
   ]
  },
  {
   "cell_type": "code",
   "execution_count": 36,
   "metadata": {},
   "outputs": [
    {
     "data": {
      "text/plain": [
       "-0.91816744539028139"
      ]
     },
     "execution_count": 36,
     "metadata": {},
     "output_type": "execute_result"
    }
   ],
   "source": [
    "df.iat[1, 1]"
   ]
  },
  {
   "cell_type": "markdown",
   "metadata": {},
   "source": [
    "# Boolean索引"
   ]
  },
  {
   "cell_type": "markdown",
   "metadata": {},
   "source": [
    "### 使用一個單獨列來選擇數據"
   ]
  },
  {
   "cell_type": "code",
   "execution_count": 37,
   "metadata": {},
   "outputs": [
    {
     "data": {
      "text/html": [
       "<div>\n",
       "<style>\n",
       "    .dataframe thead tr:only-child th {\n",
       "        text-align: right;\n",
       "    }\n",
       "\n",
       "    .dataframe thead th {\n",
       "        text-align: left;\n",
       "    }\n",
       "\n",
       "    .dataframe tbody tr th {\n",
       "        vertical-align: top;\n",
       "    }\n",
       "</style>\n",
       "<table border=\"1\" class=\"dataframe\">\n",
       "  <thead>\n",
       "    <tr style=\"text-align: right;\">\n",
       "      <th></th>\n",
       "      <th>A</th>\n",
       "      <th>B</th>\n",
       "      <th>C</th>\n",
       "      <th>D</th>\n",
       "    </tr>\n",
       "  </thead>\n",
       "  <tbody>\n",
       "    <tr>\n",
       "      <th>2013-01-01</th>\n",
       "      <td>1.069193</td>\n",
       "      <td>1.196482</td>\n",
       "      <td>0.140170</td>\n",
       "      <td>1.878203</td>\n",
       "    </tr>\n",
       "    <tr>\n",
       "      <th>2013-01-02</th>\n",
       "      <td>0.053542</td>\n",
       "      <td>-0.918167</td>\n",
       "      <td>0.429759</td>\n",
       "      <td>2.372977</td>\n",
       "    </tr>\n",
       "    <tr>\n",
       "      <th>2013-01-03</th>\n",
       "      <td>1.934618</td>\n",
       "      <td>-0.794661</td>\n",
       "      <td>-1.456365</td>\n",
       "      <td>-1.640717</td>\n",
       "    </tr>\n",
       "  </tbody>\n",
       "</table>\n",
       "</div>"
      ],
      "text/plain": [
       "                   A         B         C         D\n",
       "2013-01-01  1.069193  1.196482  0.140170  1.878203\n",
       "2013-01-02  0.053542 -0.918167  0.429759  2.372977\n",
       "2013-01-03  1.934618 -0.794661 -1.456365 -1.640717"
      ]
     },
     "execution_count": 37,
     "metadata": {},
     "output_type": "execute_result"
    }
   ],
   "source": [
    "df[df.A > 0]"
   ]
  },
  {
   "cell_type": "markdown",
   "metadata": {},
   "source": [
    "### 使用 where操作來選擇數據"
   ]
  },
  {
   "cell_type": "code",
   "execution_count": 38,
   "metadata": {},
   "outputs": [
    {
     "data": {
      "text/html": [
       "<div>\n",
       "<style>\n",
       "    .dataframe thead tr:only-child th {\n",
       "        text-align: right;\n",
       "    }\n",
       "\n",
       "    .dataframe thead th {\n",
       "        text-align: left;\n",
       "    }\n",
       "\n",
       "    .dataframe tbody tr th {\n",
       "        vertical-align: top;\n",
       "    }\n",
       "</style>\n",
       "<table border=\"1\" class=\"dataframe\">\n",
       "  <thead>\n",
       "    <tr style=\"text-align: right;\">\n",
       "      <th></th>\n",
       "      <th>A</th>\n",
       "      <th>B</th>\n",
       "      <th>C</th>\n",
       "      <th>D</th>\n",
       "    </tr>\n",
       "  </thead>\n",
       "  <tbody>\n",
       "    <tr>\n",
       "      <th>2013-01-01</th>\n",
       "      <td>1.069193</td>\n",
       "      <td>1.196482</td>\n",
       "      <td>0.140170</td>\n",
       "      <td>1.878203</td>\n",
       "    </tr>\n",
       "    <tr>\n",
       "      <th>2013-01-02</th>\n",
       "      <td>0.053542</td>\n",
       "      <td>NaN</td>\n",
       "      <td>0.429759</td>\n",
       "      <td>2.372977</td>\n",
       "    </tr>\n",
       "    <tr>\n",
       "      <th>2013-01-03</th>\n",
       "      <td>1.934618</td>\n",
       "      <td>NaN</td>\n",
       "      <td>NaN</td>\n",
       "      <td>NaN</td>\n",
       "    </tr>\n",
       "    <tr>\n",
       "      <th>2013-01-04</th>\n",
       "      <td>NaN</td>\n",
       "      <td>0.160651</td>\n",
       "      <td>NaN</td>\n",
       "      <td>NaN</td>\n",
       "    </tr>\n",
       "    <tr>\n",
       "      <th>2013-01-05</th>\n",
       "      <td>NaN</td>\n",
       "      <td>NaN</td>\n",
       "      <td>NaN</td>\n",
       "      <td>NaN</td>\n",
       "    </tr>\n",
       "    <tr>\n",
       "      <th>2013-01-06</th>\n",
       "      <td>NaN</td>\n",
       "      <td>NaN</td>\n",
       "      <td>0.812021</td>\n",
       "      <td>1.704428</td>\n",
       "    </tr>\n",
       "  </tbody>\n",
       "</table>\n",
       "</div>"
      ],
      "text/plain": [
       "                   A         B         C         D\n",
       "2013-01-01  1.069193  1.196482  0.140170  1.878203\n",
       "2013-01-02  0.053542       NaN  0.429759  2.372977\n",
       "2013-01-03  1.934618       NaN       NaN       NaN\n",
       "2013-01-04       NaN  0.160651       NaN       NaN\n",
       "2013-01-05       NaN       NaN       NaN       NaN\n",
       "2013-01-06       NaN       NaN  0.812021  1.704428"
      ]
     },
     "execution_count": 38,
     "metadata": {},
     "output_type": "execute_result"
    }
   ],
   "source": [
    "df[df > 0]"
   ]
  },
  {
   "cell_type": "markdown",
   "metadata": {},
   "source": [
    "### 使用isin() 方法來過濾"
   ]
  },
  {
   "cell_type": "code",
   "execution_count": 39,
   "metadata": {
    "collapsed": true
   },
   "outputs": [],
   "source": [
    "df2 = df.copy()"
   ]
  },
  {
   "cell_type": "code",
   "execution_count": 40,
   "metadata": {
    "collapsed": true
   },
   "outputs": [],
   "source": [
    "df2[\"E\"] = [\"one\", \"one\", \"two\", \"three\", \"four\", \"three\"]"
   ]
  },
  {
   "cell_type": "code",
   "execution_count": 41,
   "metadata": {},
   "outputs": [
    {
     "data": {
      "text/html": [
       "<div>\n",
       "<style>\n",
       "    .dataframe thead tr:only-child th {\n",
       "        text-align: right;\n",
       "    }\n",
       "\n",
       "    .dataframe thead th {\n",
       "        text-align: left;\n",
       "    }\n",
       "\n",
       "    .dataframe tbody tr th {\n",
       "        vertical-align: top;\n",
       "    }\n",
       "</style>\n",
       "<table border=\"1\" class=\"dataframe\">\n",
       "  <thead>\n",
       "    <tr style=\"text-align: right;\">\n",
       "      <th></th>\n",
       "      <th>A</th>\n",
       "      <th>B</th>\n",
       "      <th>C</th>\n",
       "      <th>D</th>\n",
       "      <th>E</th>\n",
       "    </tr>\n",
       "  </thead>\n",
       "  <tbody>\n",
       "    <tr>\n",
       "      <th>2013-01-01</th>\n",
       "      <td>1.069193</td>\n",
       "      <td>1.196482</td>\n",
       "      <td>0.140170</td>\n",
       "      <td>1.878203</td>\n",
       "      <td>one</td>\n",
       "    </tr>\n",
       "    <tr>\n",
       "      <th>2013-01-02</th>\n",
       "      <td>0.053542</td>\n",
       "      <td>-0.918167</td>\n",
       "      <td>0.429759</td>\n",
       "      <td>2.372977</td>\n",
       "      <td>one</td>\n",
       "    </tr>\n",
       "    <tr>\n",
       "      <th>2013-01-03</th>\n",
       "      <td>1.934618</td>\n",
       "      <td>-0.794661</td>\n",
       "      <td>-1.456365</td>\n",
       "      <td>-1.640717</td>\n",
       "      <td>two</td>\n",
       "    </tr>\n",
       "    <tr>\n",
       "      <th>2013-01-04</th>\n",
       "      <td>-2.044883</td>\n",
       "      <td>0.160651</td>\n",
       "      <td>-1.383514</td>\n",
       "      <td>-0.323190</td>\n",
       "      <td>three</td>\n",
       "    </tr>\n",
       "    <tr>\n",
       "      <th>2013-01-05</th>\n",
       "      <td>-0.639690</td>\n",
       "      <td>-0.158751</td>\n",
       "      <td>-0.303886</td>\n",
       "      <td>-1.299438</td>\n",
       "      <td>four</td>\n",
       "    </tr>\n",
       "    <tr>\n",
       "      <th>2013-01-06</th>\n",
       "      <td>-0.354672</td>\n",
       "      <td>-0.130353</td>\n",
       "      <td>0.812021</td>\n",
       "      <td>1.704428</td>\n",
       "      <td>three</td>\n",
       "    </tr>\n",
       "  </tbody>\n",
       "</table>\n",
       "</div>"
      ],
      "text/plain": [
       "                   A         B         C         D      E\n",
       "2013-01-01  1.069193  1.196482  0.140170  1.878203    one\n",
       "2013-01-02  0.053542 -0.918167  0.429759  2.372977    one\n",
       "2013-01-03  1.934618 -0.794661 -1.456365 -1.640717    two\n",
       "2013-01-04 -2.044883  0.160651 -1.383514 -0.323190  three\n",
       "2013-01-05 -0.639690 -0.158751 -0.303886 -1.299438   four\n",
       "2013-01-06 -0.354672 -0.130353  0.812021  1.704428  three"
      ]
     },
     "execution_count": 41,
     "metadata": {},
     "output_type": "execute_result"
    }
   ],
   "source": [
    "df2"
   ]
  },
  {
   "cell_type": "code",
   "execution_count": 42,
   "metadata": {},
   "outputs": [
    {
     "data": {
      "text/html": [
       "<div>\n",
       "<style>\n",
       "    .dataframe thead tr:only-child th {\n",
       "        text-align: right;\n",
       "    }\n",
       "\n",
       "    .dataframe thead th {\n",
       "        text-align: left;\n",
       "    }\n",
       "\n",
       "    .dataframe tbody tr th {\n",
       "        vertical-align: top;\n",
       "    }\n",
       "</style>\n",
       "<table border=\"1\" class=\"dataframe\">\n",
       "  <thead>\n",
       "    <tr style=\"text-align: right;\">\n",
       "      <th></th>\n",
       "      <th>A</th>\n",
       "      <th>B</th>\n",
       "      <th>C</th>\n",
       "      <th>D</th>\n",
       "      <th>E</th>\n",
       "    </tr>\n",
       "  </thead>\n",
       "  <tbody>\n",
       "    <tr>\n",
       "      <th>2013-01-03</th>\n",
       "      <td>1.934618</td>\n",
       "      <td>-0.794661</td>\n",
       "      <td>-1.456365</td>\n",
       "      <td>-1.640717</td>\n",
       "      <td>two</td>\n",
       "    </tr>\n",
       "    <tr>\n",
       "      <th>2013-01-05</th>\n",
       "      <td>-0.639690</td>\n",
       "      <td>-0.158751</td>\n",
       "      <td>-0.303886</td>\n",
       "      <td>-1.299438</td>\n",
       "      <td>four</td>\n",
       "    </tr>\n",
       "  </tbody>\n",
       "</table>\n",
       "</div>"
      ],
      "text/plain": [
       "                   A         B         C         D     E\n",
       "2013-01-03  1.934618 -0.794661 -1.456365 -1.640717   two\n",
       "2013-01-05 -0.639690 -0.158751 -0.303886 -1.299438  four"
      ]
     },
     "execution_count": 42,
     "metadata": {},
     "output_type": "execute_result"
    }
   ],
   "source": [
    "df2[df2[\"E\"].isin([\"two\", \"four\"])]"
   ]
  },
  {
   "cell_type": "markdown",
   "metadata": {},
   "source": [
    "# 設置"
   ]
  },
  {
   "cell_type": "markdown",
   "metadata": {},
   "source": [
    "### 設置一個新的列"
   ]
  },
  {
   "cell_type": "code",
   "execution_count": 43,
   "metadata": {
    "collapsed": true
   },
   "outputs": [],
   "source": [
    "s1 = pd.Series([1, 2, 3, 4, 5, 6], index = pd.date_range(\"20130102\", periods = 6))"
   ]
  },
  {
   "cell_type": "code",
   "execution_count": 44,
   "metadata": {},
   "outputs": [
    {
     "data": {
      "text/plain": [
       "2013-01-02    1\n",
       "2013-01-03    2\n",
       "2013-01-04    3\n",
       "2013-01-05    4\n",
       "2013-01-06    5\n",
       "2013-01-07    6\n",
       "Freq: D, dtype: int64"
      ]
     },
     "execution_count": 44,
     "metadata": {},
     "output_type": "execute_result"
    }
   ],
   "source": [
    "s1"
   ]
  },
  {
   "cell_type": "code",
   "execution_count": 45,
   "metadata": {
    "collapsed": true
   },
   "outputs": [],
   "source": [
    "df[\"F\"] = s1"
   ]
  },
  {
   "cell_type": "markdown",
   "metadata": {},
   "source": [
    "### 通過標籤設置新的值"
   ]
  },
  {
   "cell_type": "code",
   "execution_count": 46,
   "metadata": {
    "collapsed": true
   },
   "outputs": [],
   "source": [
    "df.at[dates[0], \"A\"] = 0"
   ]
  },
  {
   "cell_type": "markdown",
   "metadata": {},
   "source": [
    "### 通過位置設置新的值"
   ]
  },
  {
   "cell_type": "code",
   "execution_count": 47,
   "metadata": {
    "collapsed": true
   },
   "outputs": [],
   "source": [
    "df.iat[0, 1] = 0"
   ]
  },
  {
   "cell_type": "markdown",
   "metadata": {},
   "source": [
    "### 通過一個numpy數組設置一組新值"
   ]
  },
  {
   "cell_type": "code",
   "execution_count": 48,
   "metadata": {
    "collapsed": true
   },
   "outputs": [],
   "source": [
    "df.loc[:, \"D\"] = np.array([5] * len(df))"
   ]
  },
  {
   "cell_type": "code",
   "execution_count": 49,
   "metadata": {},
   "outputs": [
    {
     "data": {
      "text/html": [
       "<div>\n",
       "<style>\n",
       "    .dataframe thead tr:only-child th {\n",
       "        text-align: right;\n",
       "    }\n",
       "\n",
       "    .dataframe thead th {\n",
       "        text-align: left;\n",
       "    }\n",
       "\n",
       "    .dataframe tbody tr th {\n",
       "        vertical-align: top;\n",
       "    }\n",
       "</style>\n",
       "<table border=\"1\" class=\"dataframe\">\n",
       "  <thead>\n",
       "    <tr style=\"text-align: right;\">\n",
       "      <th></th>\n",
       "      <th>A</th>\n",
       "      <th>B</th>\n",
       "      <th>C</th>\n",
       "      <th>D</th>\n",
       "      <th>F</th>\n",
       "    </tr>\n",
       "  </thead>\n",
       "  <tbody>\n",
       "    <tr>\n",
       "      <th>2013-01-01</th>\n",
       "      <td>0.000000</td>\n",
       "      <td>0.000000</td>\n",
       "      <td>0.140170</td>\n",
       "      <td>5</td>\n",
       "      <td>NaN</td>\n",
       "    </tr>\n",
       "    <tr>\n",
       "      <th>2013-01-02</th>\n",
       "      <td>0.053542</td>\n",
       "      <td>-0.918167</td>\n",
       "      <td>0.429759</td>\n",
       "      <td>5</td>\n",
       "      <td>1.0</td>\n",
       "    </tr>\n",
       "    <tr>\n",
       "      <th>2013-01-03</th>\n",
       "      <td>1.934618</td>\n",
       "      <td>-0.794661</td>\n",
       "      <td>-1.456365</td>\n",
       "      <td>5</td>\n",
       "      <td>2.0</td>\n",
       "    </tr>\n",
       "    <tr>\n",
       "      <th>2013-01-04</th>\n",
       "      <td>-2.044883</td>\n",
       "      <td>0.160651</td>\n",
       "      <td>-1.383514</td>\n",
       "      <td>5</td>\n",
       "      <td>3.0</td>\n",
       "    </tr>\n",
       "    <tr>\n",
       "      <th>2013-01-05</th>\n",
       "      <td>-0.639690</td>\n",
       "      <td>-0.158751</td>\n",
       "      <td>-0.303886</td>\n",
       "      <td>5</td>\n",
       "      <td>4.0</td>\n",
       "    </tr>\n",
       "    <tr>\n",
       "      <th>2013-01-06</th>\n",
       "      <td>-0.354672</td>\n",
       "      <td>-0.130353</td>\n",
       "      <td>0.812021</td>\n",
       "      <td>5</td>\n",
       "      <td>5.0</td>\n",
       "    </tr>\n",
       "  </tbody>\n",
       "</table>\n",
       "</div>"
      ],
      "text/plain": [
       "                   A         B         C  D    F\n",
       "2013-01-01  0.000000  0.000000  0.140170  5  NaN\n",
       "2013-01-02  0.053542 -0.918167  0.429759  5  1.0\n",
       "2013-01-03  1.934618 -0.794661 -1.456365  5  2.0\n",
       "2013-01-04 -2.044883  0.160651 -1.383514  5  3.0\n",
       "2013-01-05 -0.639690 -0.158751 -0.303886  5  4.0\n",
       "2013-01-06 -0.354672 -0.130353  0.812021  5  5.0"
      ]
     },
     "execution_count": 49,
     "metadata": {},
     "output_type": "execute_result"
    }
   ],
   "source": [
    "df"
   ]
  },
  {
   "cell_type": "markdown",
   "metadata": {},
   "source": [
    "### 通過where操作來設置新的值"
   ]
  },
  {
   "cell_type": "code",
   "execution_count": 50,
   "metadata": {
    "collapsed": true
   },
   "outputs": [],
   "source": [
    "df2 =df.copy()"
   ]
  },
  {
   "cell_type": "code",
   "execution_count": 51,
   "metadata": {
    "collapsed": true
   },
   "outputs": [],
   "source": [
    "df2[df2 > 0] = -df2"
   ]
  },
  {
   "cell_type": "code",
   "execution_count": 52,
   "metadata": {},
   "outputs": [
    {
     "data": {
      "text/html": [
       "<div>\n",
       "<style>\n",
       "    .dataframe thead tr:only-child th {\n",
       "        text-align: right;\n",
       "    }\n",
       "\n",
       "    .dataframe thead th {\n",
       "        text-align: left;\n",
       "    }\n",
       "\n",
       "    .dataframe tbody tr th {\n",
       "        vertical-align: top;\n",
       "    }\n",
       "</style>\n",
       "<table border=\"1\" class=\"dataframe\">\n",
       "  <thead>\n",
       "    <tr style=\"text-align: right;\">\n",
       "      <th></th>\n",
       "      <th>A</th>\n",
       "      <th>B</th>\n",
       "      <th>C</th>\n",
       "      <th>D</th>\n",
       "      <th>F</th>\n",
       "    </tr>\n",
       "  </thead>\n",
       "  <tbody>\n",
       "    <tr>\n",
       "      <th>2013-01-01</th>\n",
       "      <td>0.000000</td>\n",
       "      <td>0.000000</td>\n",
       "      <td>-0.140170</td>\n",
       "      <td>-5</td>\n",
       "      <td>NaN</td>\n",
       "    </tr>\n",
       "    <tr>\n",
       "      <th>2013-01-02</th>\n",
       "      <td>-0.053542</td>\n",
       "      <td>-0.918167</td>\n",
       "      <td>-0.429759</td>\n",
       "      <td>-5</td>\n",
       "      <td>-1.0</td>\n",
       "    </tr>\n",
       "    <tr>\n",
       "      <th>2013-01-03</th>\n",
       "      <td>-1.934618</td>\n",
       "      <td>-0.794661</td>\n",
       "      <td>-1.456365</td>\n",
       "      <td>-5</td>\n",
       "      <td>-2.0</td>\n",
       "    </tr>\n",
       "    <tr>\n",
       "      <th>2013-01-04</th>\n",
       "      <td>-2.044883</td>\n",
       "      <td>-0.160651</td>\n",
       "      <td>-1.383514</td>\n",
       "      <td>-5</td>\n",
       "      <td>-3.0</td>\n",
       "    </tr>\n",
       "    <tr>\n",
       "      <th>2013-01-05</th>\n",
       "      <td>-0.639690</td>\n",
       "      <td>-0.158751</td>\n",
       "      <td>-0.303886</td>\n",
       "      <td>-5</td>\n",
       "      <td>-4.0</td>\n",
       "    </tr>\n",
       "    <tr>\n",
       "      <th>2013-01-06</th>\n",
       "      <td>-0.354672</td>\n",
       "      <td>-0.130353</td>\n",
       "      <td>-0.812021</td>\n",
       "      <td>-5</td>\n",
       "      <td>-5.0</td>\n",
       "    </tr>\n",
       "  </tbody>\n",
       "</table>\n",
       "</div>"
      ],
      "text/plain": [
       "                   A         B         C  D    F\n",
       "2013-01-01  0.000000  0.000000 -0.140170 -5  NaN\n",
       "2013-01-02 -0.053542 -0.918167 -0.429759 -5 -1.0\n",
       "2013-01-03 -1.934618 -0.794661 -1.456365 -5 -2.0\n",
       "2013-01-04 -2.044883 -0.160651 -1.383514 -5 -3.0\n",
       "2013-01-05 -0.639690 -0.158751 -0.303886 -5 -4.0\n",
       "2013-01-06 -0.354672 -0.130353 -0.812021 -5 -5.0"
      ]
     },
     "execution_count": 52,
     "metadata": {},
     "output_type": "execute_result"
    }
   ],
   "source": [
    "df2"
   ]
  },
  {
   "cell_type": "markdown",
   "metadata": {},
   "source": [
    "# 缺失值處理"
   ]
  },
  {
   "cell_type": "markdown",
   "metadata": {},
   "source": [
    "### reindex()方法可以對指定軸上的索引進行改變/增加/刪除操作，這將返回原始數據的一個拷貝"
   ]
  },
  {
   "cell_type": "code",
   "execution_count": 53,
   "metadata": {
    "collapsed": true
   },
   "outputs": [],
   "source": [
    "df1 = df.reindex(index = dates[0:4], columns = list(df.columns) + [\"E\"])"
   ]
  },
  {
   "cell_type": "code",
   "execution_count": 54,
   "metadata": {
    "collapsed": true
   },
   "outputs": [],
   "source": [
    "df1.loc[dates[0]:dates[1], \"E\"] = 1"
   ]
  },
  {
   "cell_type": "code",
   "execution_count": 55,
   "metadata": {},
   "outputs": [
    {
     "data": {
      "text/html": [
       "<div>\n",
       "<style>\n",
       "    .dataframe thead tr:only-child th {\n",
       "        text-align: right;\n",
       "    }\n",
       "\n",
       "    .dataframe thead th {\n",
       "        text-align: left;\n",
       "    }\n",
       "\n",
       "    .dataframe tbody tr th {\n",
       "        vertical-align: top;\n",
       "    }\n",
       "</style>\n",
       "<table border=\"1\" class=\"dataframe\">\n",
       "  <thead>\n",
       "    <tr style=\"text-align: right;\">\n",
       "      <th></th>\n",
       "      <th>A</th>\n",
       "      <th>B</th>\n",
       "      <th>C</th>\n",
       "      <th>D</th>\n",
       "      <th>F</th>\n",
       "      <th>E</th>\n",
       "    </tr>\n",
       "  </thead>\n",
       "  <tbody>\n",
       "    <tr>\n",
       "      <th>2013-01-01</th>\n",
       "      <td>0.000000</td>\n",
       "      <td>0.000000</td>\n",
       "      <td>0.140170</td>\n",
       "      <td>5</td>\n",
       "      <td>NaN</td>\n",
       "      <td>1.0</td>\n",
       "    </tr>\n",
       "    <tr>\n",
       "      <th>2013-01-02</th>\n",
       "      <td>0.053542</td>\n",
       "      <td>-0.918167</td>\n",
       "      <td>0.429759</td>\n",
       "      <td>5</td>\n",
       "      <td>1.0</td>\n",
       "      <td>1.0</td>\n",
       "    </tr>\n",
       "    <tr>\n",
       "      <th>2013-01-03</th>\n",
       "      <td>1.934618</td>\n",
       "      <td>-0.794661</td>\n",
       "      <td>-1.456365</td>\n",
       "      <td>5</td>\n",
       "      <td>2.0</td>\n",
       "      <td>NaN</td>\n",
       "    </tr>\n",
       "    <tr>\n",
       "      <th>2013-01-04</th>\n",
       "      <td>-2.044883</td>\n",
       "      <td>0.160651</td>\n",
       "      <td>-1.383514</td>\n",
       "      <td>5</td>\n",
       "      <td>3.0</td>\n",
       "      <td>NaN</td>\n",
       "    </tr>\n",
       "  </tbody>\n",
       "</table>\n",
       "</div>"
      ],
      "text/plain": [
       "                   A         B         C  D    F    E\n",
       "2013-01-01  0.000000  0.000000  0.140170  5  NaN  1.0\n",
       "2013-01-02  0.053542 -0.918167  0.429759  5  1.0  1.0\n",
       "2013-01-03  1.934618 -0.794661 -1.456365  5  2.0  NaN\n",
       "2013-01-04 -2.044883  0.160651 -1.383514  5  3.0  NaN"
      ]
     },
     "execution_count": 55,
     "metadata": {},
     "output_type": "execute_result"
    }
   ],
   "source": [
    "df1"
   ]
  },
  {
   "cell_type": "markdown",
   "metadata": {},
   "source": [
    "### 去掉包函缺失值的行"
   ]
  },
  {
   "cell_type": "code",
   "execution_count": 56,
   "metadata": {},
   "outputs": [
    {
     "data": {
      "text/html": [
       "<div>\n",
       "<style>\n",
       "    .dataframe thead tr:only-child th {\n",
       "        text-align: right;\n",
       "    }\n",
       "\n",
       "    .dataframe thead th {\n",
       "        text-align: left;\n",
       "    }\n",
       "\n",
       "    .dataframe tbody tr th {\n",
       "        vertical-align: top;\n",
       "    }\n",
       "</style>\n",
       "<table border=\"1\" class=\"dataframe\">\n",
       "  <thead>\n",
       "    <tr style=\"text-align: right;\">\n",
       "      <th></th>\n",
       "      <th>A</th>\n",
       "      <th>B</th>\n",
       "      <th>C</th>\n",
       "      <th>D</th>\n",
       "      <th>F</th>\n",
       "      <th>E</th>\n",
       "    </tr>\n",
       "  </thead>\n",
       "  <tbody>\n",
       "    <tr>\n",
       "      <th>2013-01-02</th>\n",
       "      <td>0.053542</td>\n",
       "      <td>-0.918167</td>\n",
       "      <td>0.429759</td>\n",
       "      <td>5</td>\n",
       "      <td>1.0</td>\n",
       "      <td>1.0</td>\n",
       "    </tr>\n",
       "  </tbody>\n",
       "</table>\n",
       "</div>"
      ],
      "text/plain": [
       "                   A         B         C  D    F    E\n",
       "2013-01-02  0.053542 -0.918167  0.429759  5  1.0  1.0"
      ]
     },
     "execution_count": 56,
     "metadata": {},
     "output_type": "execute_result"
    }
   ],
   "source": [
    "df1.dropna(how=\"any\")"
   ]
  },
  {
   "cell_type": "markdown",
   "metadata": {},
   "source": [
    "### 對缺失值進行填充"
   ]
  },
  {
   "cell_type": "code",
   "execution_count": 57,
   "metadata": {},
   "outputs": [
    {
     "data": {
      "text/html": [
       "<div>\n",
       "<style>\n",
       "    .dataframe thead tr:only-child th {\n",
       "        text-align: right;\n",
       "    }\n",
       "\n",
       "    .dataframe thead th {\n",
       "        text-align: left;\n",
       "    }\n",
       "\n",
       "    .dataframe tbody tr th {\n",
       "        vertical-align: top;\n",
       "    }\n",
       "</style>\n",
       "<table border=\"1\" class=\"dataframe\">\n",
       "  <thead>\n",
       "    <tr style=\"text-align: right;\">\n",
       "      <th></th>\n",
       "      <th>A</th>\n",
       "      <th>B</th>\n",
       "      <th>C</th>\n",
       "      <th>D</th>\n",
       "      <th>F</th>\n",
       "      <th>E</th>\n",
       "    </tr>\n",
       "  </thead>\n",
       "  <tbody>\n",
       "    <tr>\n",
       "      <th>2013-01-01</th>\n",
       "      <td>0.000000</td>\n",
       "      <td>0.000000</td>\n",
       "      <td>0.140170</td>\n",
       "      <td>5</td>\n",
       "      <td>5.0</td>\n",
       "      <td>1.0</td>\n",
       "    </tr>\n",
       "    <tr>\n",
       "      <th>2013-01-02</th>\n",
       "      <td>0.053542</td>\n",
       "      <td>-0.918167</td>\n",
       "      <td>0.429759</td>\n",
       "      <td>5</td>\n",
       "      <td>1.0</td>\n",
       "      <td>1.0</td>\n",
       "    </tr>\n",
       "    <tr>\n",
       "      <th>2013-01-03</th>\n",
       "      <td>1.934618</td>\n",
       "      <td>-0.794661</td>\n",
       "      <td>-1.456365</td>\n",
       "      <td>5</td>\n",
       "      <td>2.0</td>\n",
       "      <td>5.0</td>\n",
       "    </tr>\n",
       "    <tr>\n",
       "      <th>2013-01-04</th>\n",
       "      <td>-2.044883</td>\n",
       "      <td>0.160651</td>\n",
       "      <td>-1.383514</td>\n",
       "      <td>5</td>\n",
       "      <td>3.0</td>\n",
       "      <td>5.0</td>\n",
       "    </tr>\n",
       "  </tbody>\n",
       "</table>\n",
       "</div>"
      ],
      "text/plain": [
       "                   A         B         C  D    F    E\n",
       "2013-01-01  0.000000  0.000000  0.140170  5  5.0  1.0\n",
       "2013-01-02  0.053542 -0.918167  0.429759  5  1.0  1.0\n",
       "2013-01-03  1.934618 -0.794661 -1.456365  5  2.0  5.0\n",
       "2013-01-04 -2.044883  0.160651 -1.383514  5  3.0  5.0"
      ]
     },
     "execution_count": 57,
     "metadata": {},
     "output_type": "execute_result"
    }
   ],
   "source": [
    "df1.fillna(value=5)"
   ]
  },
  {
   "cell_type": "markdown",
   "metadata": {},
   "source": [
    "### 對數據進行Boolean填充 "
   ]
  },
  {
   "cell_type": "code",
   "execution_count": 58,
   "metadata": {},
   "outputs": [
    {
     "data": {
      "text/html": [
       "<div>\n",
       "<style>\n",
       "    .dataframe thead tr:only-child th {\n",
       "        text-align: right;\n",
       "    }\n",
       "\n",
       "    .dataframe thead th {\n",
       "        text-align: left;\n",
       "    }\n",
       "\n",
       "    .dataframe tbody tr th {\n",
       "        vertical-align: top;\n",
       "    }\n",
       "</style>\n",
       "<table border=\"1\" class=\"dataframe\">\n",
       "  <thead>\n",
       "    <tr style=\"text-align: right;\">\n",
       "      <th></th>\n",
       "      <th>A</th>\n",
       "      <th>B</th>\n",
       "      <th>C</th>\n",
       "      <th>D</th>\n",
       "      <th>F</th>\n",
       "      <th>E</th>\n",
       "    </tr>\n",
       "  </thead>\n",
       "  <tbody>\n",
       "    <tr>\n",
       "      <th>2013-01-01</th>\n",
       "      <td>False</td>\n",
       "      <td>False</td>\n",
       "      <td>False</td>\n",
       "      <td>False</td>\n",
       "      <td>True</td>\n",
       "      <td>False</td>\n",
       "    </tr>\n",
       "    <tr>\n",
       "      <th>2013-01-02</th>\n",
       "      <td>False</td>\n",
       "      <td>False</td>\n",
       "      <td>False</td>\n",
       "      <td>False</td>\n",
       "      <td>False</td>\n",
       "      <td>False</td>\n",
       "    </tr>\n",
       "    <tr>\n",
       "      <th>2013-01-03</th>\n",
       "      <td>False</td>\n",
       "      <td>False</td>\n",
       "      <td>False</td>\n",
       "      <td>False</td>\n",
       "      <td>False</td>\n",
       "      <td>True</td>\n",
       "    </tr>\n",
       "    <tr>\n",
       "      <th>2013-01-04</th>\n",
       "      <td>False</td>\n",
       "      <td>False</td>\n",
       "      <td>False</td>\n",
       "      <td>False</td>\n",
       "      <td>False</td>\n",
       "      <td>True</td>\n",
       "    </tr>\n",
       "  </tbody>\n",
       "</table>\n",
       "</div>"
      ],
      "text/plain": [
       "                A      B      C      D      F      E\n",
       "2013-01-01  False  False  False  False   True  False\n",
       "2013-01-02  False  False  False  False  False  False\n",
       "2013-01-03  False  False  False  False  False   True\n",
       "2013-01-04  False  False  False  False  False   True"
      ]
     },
     "execution_count": 58,
     "metadata": {},
     "output_type": "execute_result"
    }
   ],
   "source": [
    "pd.isnull(df1)"
   ]
  },
  {
   "cell_type": "markdown",
   "metadata": {},
   "source": [
    "# 統計 "
   ]
  },
  {
   "cell_type": "markdown",
   "metadata": {},
   "source": [
    "### 執行描述性統計 "
   ]
  },
  {
   "cell_type": "code",
   "execution_count": 59,
   "metadata": {},
   "outputs": [
    {
     "data": {
      "text/plain": [
       "A   -0.175181\n",
       "B   -0.306880\n",
       "C   -0.293636\n",
       "D    5.000000\n",
       "F    3.000000\n",
       "dtype: float64"
      ]
     },
     "execution_count": 59,
     "metadata": {},
     "output_type": "execute_result"
    }
   ],
   "source": [
    "df.mean()"
   ]
  },
  {
   "cell_type": "markdown",
   "metadata": {},
   "source": [
    "### 在其他軸上進行相同的操作 "
   ]
  },
  {
   "cell_type": "code",
   "execution_count": 60,
   "metadata": {},
   "outputs": [
    {
     "data": {
      "text/plain": [
       "2013-01-01    1.285042\n",
       "2013-01-02    1.113027\n",
       "2013-01-03    1.336719\n",
       "2013-01-04    0.946451\n",
       "2013-01-05    1.579535\n",
       "2013-01-06    2.065399\n",
       "Freq: D, dtype: float64"
      ]
     },
     "execution_count": 60,
     "metadata": {},
     "output_type": "execute_result"
    }
   ],
   "source": [
    "df.mean(1)"
   ]
  },
  {
   "cell_type": "markdown",
   "metadata": {
    "collapsed": true
   },
   "source": [
    "### 對於擁有不同維度，需要對齊的對象進行操作。Pandas會自動延著指定的維度進行廣播"
   ]
  },
  {
   "cell_type": "code",
   "execution_count": 61,
   "metadata": {
    "collapsed": true
   },
   "outputs": [],
   "source": [
    "s = pd.Series([1, 3, 5, np.nan, 6, 8], index=dates).shift(2)"
   ]
  },
  {
   "cell_type": "code",
   "execution_count": 62,
   "metadata": {},
   "outputs": [
    {
     "data": {
      "text/plain": [
       "2013-01-01    NaN\n",
       "2013-01-02    NaN\n",
       "2013-01-03    1.0\n",
       "2013-01-04    3.0\n",
       "2013-01-05    5.0\n",
       "2013-01-06    NaN\n",
       "Freq: D, dtype: float64"
      ]
     },
     "execution_count": 62,
     "metadata": {},
     "output_type": "execute_result"
    }
   ],
   "source": [
    "s"
   ]
  },
  {
   "cell_type": "code",
   "execution_count": 63,
   "metadata": {},
   "outputs": [
    {
     "data": {
      "text/html": [
       "<div>\n",
       "<style>\n",
       "    .dataframe thead tr:only-child th {\n",
       "        text-align: right;\n",
       "    }\n",
       "\n",
       "    .dataframe thead th {\n",
       "        text-align: left;\n",
       "    }\n",
       "\n",
       "    .dataframe tbody tr th {\n",
       "        vertical-align: top;\n",
       "    }\n",
       "</style>\n",
       "<table border=\"1\" class=\"dataframe\">\n",
       "  <thead>\n",
       "    <tr style=\"text-align: right;\">\n",
       "      <th></th>\n",
       "      <th>A</th>\n",
       "      <th>B</th>\n",
       "      <th>C</th>\n",
       "      <th>D</th>\n",
       "      <th>F</th>\n",
       "    </tr>\n",
       "  </thead>\n",
       "  <tbody>\n",
       "    <tr>\n",
       "      <th>2013-01-01</th>\n",
       "      <td>NaN</td>\n",
       "      <td>NaN</td>\n",
       "      <td>NaN</td>\n",
       "      <td>NaN</td>\n",
       "      <td>NaN</td>\n",
       "    </tr>\n",
       "    <tr>\n",
       "      <th>2013-01-02</th>\n",
       "      <td>NaN</td>\n",
       "      <td>NaN</td>\n",
       "      <td>NaN</td>\n",
       "      <td>NaN</td>\n",
       "      <td>NaN</td>\n",
       "    </tr>\n",
       "    <tr>\n",
       "      <th>2013-01-03</th>\n",
       "      <td>0.934618</td>\n",
       "      <td>-1.794661</td>\n",
       "      <td>-2.456365</td>\n",
       "      <td>4.0</td>\n",
       "      <td>1.0</td>\n",
       "    </tr>\n",
       "    <tr>\n",
       "      <th>2013-01-04</th>\n",
       "      <td>-5.044883</td>\n",
       "      <td>-2.839349</td>\n",
       "      <td>-4.383514</td>\n",
       "      <td>2.0</td>\n",
       "      <td>0.0</td>\n",
       "    </tr>\n",
       "    <tr>\n",
       "      <th>2013-01-05</th>\n",
       "      <td>-5.639690</td>\n",
       "      <td>-5.158751</td>\n",
       "      <td>-5.303886</td>\n",
       "      <td>0.0</td>\n",
       "      <td>-1.0</td>\n",
       "    </tr>\n",
       "    <tr>\n",
       "      <th>2013-01-06</th>\n",
       "      <td>NaN</td>\n",
       "      <td>NaN</td>\n",
       "      <td>NaN</td>\n",
       "      <td>NaN</td>\n",
       "      <td>NaN</td>\n",
       "    </tr>\n",
       "  </tbody>\n",
       "</table>\n",
       "</div>"
      ],
      "text/plain": [
       "                   A         B         C    D    F\n",
       "2013-01-01       NaN       NaN       NaN  NaN  NaN\n",
       "2013-01-02       NaN       NaN       NaN  NaN  NaN\n",
       "2013-01-03  0.934618 -1.794661 -2.456365  4.0  1.0\n",
       "2013-01-04 -5.044883 -2.839349 -4.383514  2.0  0.0\n",
       "2013-01-05 -5.639690 -5.158751 -5.303886  0.0 -1.0\n",
       "2013-01-06       NaN       NaN       NaN  NaN  NaN"
      ]
     },
     "execution_count": 63,
     "metadata": {},
     "output_type": "execute_result"
    }
   ],
   "source": [
    "df.sub(s, axis=\"index\")"
   ]
  },
  {
   "cell_type": "markdown",
   "metadata": {},
   "source": [
    "# Apply "
   ]
  },
  {
   "cell_type": "markdown",
   "metadata": {},
   "source": [
    "###  對數據應用函數"
   ]
  },
  {
   "cell_type": "code",
   "execution_count": 64,
   "metadata": {},
   "outputs": [
    {
     "data": {
      "text/html": [
       "<div>\n",
       "<style>\n",
       "    .dataframe thead tr:only-child th {\n",
       "        text-align: right;\n",
       "    }\n",
       "\n",
       "    .dataframe thead th {\n",
       "        text-align: left;\n",
       "    }\n",
       "\n",
       "    .dataframe tbody tr th {\n",
       "        vertical-align: top;\n",
       "    }\n",
       "</style>\n",
       "<table border=\"1\" class=\"dataframe\">\n",
       "  <thead>\n",
       "    <tr style=\"text-align: right;\">\n",
       "      <th></th>\n",
       "      <th>A</th>\n",
       "      <th>B</th>\n",
       "      <th>C</th>\n",
       "      <th>D</th>\n",
       "      <th>F</th>\n",
       "    </tr>\n",
       "  </thead>\n",
       "  <tbody>\n",
       "    <tr>\n",
       "      <th>2013-01-01</th>\n",
       "      <td>0.000000</td>\n",
       "      <td>0.000000</td>\n",
       "      <td>0.140170</td>\n",
       "      <td>5</td>\n",
       "      <td>NaN</td>\n",
       "    </tr>\n",
       "    <tr>\n",
       "      <th>2013-01-02</th>\n",
       "      <td>0.053542</td>\n",
       "      <td>-0.918167</td>\n",
       "      <td>0.429759</td>\n",
       "      <td>5</td>\n",
       "      <td>1.0</td>\n",
       "    </tr>\n",
       "    <tr>\n",
       "      <th>2013-01-03</th>\n",
       "      <td>1.934618</td>\n",
       "      <td>-0.794661</td>\n",
       "      <td>-1.456365</td>\n",
       "      <td>5</td>\n",
       "      <td>2.0</td>\n",
       "    </tr>\n",
       "    <tr>\n",
       "      <th>2013-01-04</th>\n",
       "      <td>-2.044883</td>\n",
       "      <td>0.160651</td>\n",
       "      <td>-1.383514</td>\n",
       "      <td>5</td>\n",
       "      <td>3.0</td>\n",
       "    </tr>\n",
       "    <tr>\n",
       "      <th>2013-01-05</th>\n",
       "      <td>-0.639690</td>\n",
       "      <td>-0.158751</td>\n",
       "      <td>-0.303886</td>\n",
       "      <td>5</td>\n",
       "      <td>4.0</td>\n",
       "    </tr>\n",
       "    <tr>\n",
       "      <th>2013-01-06</th>\n",
       "      <td>-0.354672</td>\n",
       "      <td>-0.130353</td>\n",
       "      <td>0.812021</td>\n",
       "      <td>5</td>\n",
       "      <td>5.0</td>\n",
       "    </tr>\n",
       "  </tbody>\n",
       "</table>\n",
       "</div>"
      ],
      "text/plain": [
       "                   A         B         C  D    F\n",
       "2013-01-01  0.000000  0.000000  0.140170  5  NaN\n",
       "2013-01-02  0.053542 -0.918167  0.429759  5  1.0\n",
       "2013-01-03  1.934618 -0.794661 -1.456365  5  2.0\n",
       "2013-01-04 -2.044883  0.160651 -1.383514  5  3.0\n",
       "2013-01-05 -0.639690 -0.158751 -0.303886  5  4.0\n",
       "2013-01-06 -0.354672 -0.130353  0.812021  5  5.0"
      ]
     },
     "execution_count": 64,
     "metadata": {},
     "output_type": "execute_result"
    }
   ],
   "source": [
    "df"
   ]
  },
  {
   "cell_type": "code",
   "execution_count": 65,
   "metadata": {},
   "outputs": [
    {
     "data": {
      "text/html": [
       "<div>\n",
       "<style>\n",
       "    .dataframe thead tr:only-child th {\n",
       "        text-align: right;\n",
       "    }\n",
       "\n",
       "    .dataframe thead th {\n",
       "        text-align: left;\n",
       "    }\n",
       "\n",
       "    .dataframe tbody tr th {\n",
       "        vertical-align: top;\n",
       "    }\n",
       "</style>\n",
       "<table border=\"1\" class=\"dataframe\">\n",
       "  <thead>\n",
       "    <tr style=\"text-align: right;\">\n",
       "      <th></th>\n",
       "      <th>A</th>\n",
       "      <th>B</th>\n",
       "      <th>C</th>\n",
       "      <th>D</th>\n",
       "      <th>F</th>\n",
       "    </tr>\n",
       "  </thead>\n",
       "  <tbody>\n",
       "    <tr>\n",
       "      <th>2013-01-01</th>\n",
       "      <td>0.000000</td>\n",
       "      <td>0.000000</td>\n",
       "      <td>0.140170</td>\n",
       "      <td>5</td>\n",
       "      <td>NaN</td>\n",
       "    </tr>\n",
       "    <tr>\n",
       "      <th>2013-01-02</th>\n",
       "      <td>0.053542</td>\n",
       "      <td>-0.918167</td>\n",
       "      <td>0.569929</td>\n",
       "      <td>10</td>\n",
       "      <td>1.0</td>\n",
       "    </tr>\n",
       "    <tr>\n",
       "      <th>2013-01-03</th>\n",
       "      <td>1.988161</td>\n",
       "      <td>-1.712828</td>\n",
       "      <td>-0.886436</td>\n",
       "      <td>15</td>\n",
       "      <td>3.0</td>\n",
       "    </tr>\n",
       "    <tr>\n",
       "      <th>2013-01-04</th>\n",
       "      <td>-0.056723</td>\n",
       "      <td>-1.552177</td>\n",
       "      <td>-2.269950</td>\n",
       "      <td>20</td>\n",
       "      <td>6.0</td>\n",
       "    </tr>\n",
       "    <tr>\n",
       "      <th>2013-01-05</th>\n",
       "      <td>-0.696413</td>\n",
       "      <td>-1.710927</td>\n",
       "      <td>-2.573836</td>\n",
       "      <td>25</td>\n",
       "      <td>10.0</td>\n",
       "    </tr>\n",
       "    <tr>\n",
       "      <th>2013-01-06</th>\n",
       "      <td>-1.051085</td>\n",
       "      <td>-1.841280</td>\n",
       "      <td>-1.761815</td>\n",
       "      <td>30</td>\n",
       "      <td>15.0</td>\n",
       "    </tr>\n",
       "  </tbody>\n",
       "</table>\n",
       "</div>"
      ],
      "text/plain": [
       "                   A         B         C   D     F\n",
       "2013-01-01  0.000000  0.000000  0.140170   5   NaN\n",
       "2013-01-02  0.053542 -0.918167  0.569929  10   1.0\n",
       "2013-01-03  1.988161 -1.712828 -0.886436  15   3.0\n",
       "2013-01-04 -0.056723 -1.552177 -2.269950  20   6.0\n",
       "2013-01-05 -0.696413 -1.710927 -2.573836  25  10.0\n",
       "2013-01-06 -1.051085 -1.841280 -1.761815  30  15.0"
      ]
     },
     "execution_count": 65,
     "metadata": {},
     "output_type": "execute_result"
    }
   ],
   "source": [
    "df.apply(np.cumsum)"
   ]
  },
  {
   "cell_type": "code",
   "execution_count": 66,
   "metadata": {},
   "outputs": [
    {
     "data": {
      "text/plain": [
       "A    3.979502\n",
       "B    1.078819\n",
       "C    2.268386\n",
       "D    0.000000\n",
       "F    4.000000\n",
       "dtype: float64"
      ]
     },
     "execution_count": 66,
     "metadata": {},
     "output_type": "execute_result"
    }
   ],
   "source": [
    "df.apply(lambda x: x.max() - x.min())"
   ]
  },
  {
   "cell_type": "markdown",
   "metadata": {},
   "source": [
    "# 直方圖"
   ]
  },
  {
   "cell_type": "code",
   "execution_count": 67,
   "metadata": {
    "collapsed": true
   },
   "outputs": [],
   "source": [
    "s = pd.Series(np.random.randint(0, 7, size=10))"
   ]
  },
  {
   "cell_type": "code",
   "execution_count": 68,
   "metadata": {},
   "outputs": [
    {
     "data": {
      "text/plain": [
       "0    4\n",
       "1    4\n",
       "2    0\n",
       "3    1\n",
       "4    0\n",
       "5    5\n",
       "6    4\n",
       "7    0\n",
       "8    0\n",
       "9    3\n",
       "dtype: int32"
      ]
     },
     "execution_count": 68,
     "metadata": {},
     "output_type": "execute_result"
    }
   ],
   "source": [
    "s"
   ]
  },
  {
   "cell_type": "code",
   "execution_count": 69,
   "metadata": {},
   "outputs": [
    {
     "data": {
      "text/plain": [
       "0    4\n",
       "4    3\n",
       "5    1\n",
       "3    1\n",
       "1    1\n",
       "dtype: int64"
      ]
     },
     "execution_count": 69,
     "metadata": {},
     "output_type": "execute_result"
    }
   ],
   "source": [
    "s.value_counts()"
   ]
  },
  {
   "cell_type": "markdown",
   "metadata": {},
   "source": [
    "# 字符串方法"
   ]
  },
  {
   "cell_type": "markdown",
   "metadata": {},
   "source": [
    "### Series對象在其Str屬性中配備了一組字符串處理方法，可以很容易的應用到數組中的每個元素"
   ]
  },
  {
   "cell_type": "code",
   "execution_count": 70,
   "metadata": {
    "collapsed": true
   },
   "outputs": [],
   "source": [
    "s = pd.Series([\"A\", \"B\", \"C\", \"Aaba\", \"Baca\", np.nan, \"CABA\", \"dog\", \"cat\"])"
   ]
  },
  {
   "cell_type": "code",
   "execution_count": 71,
   "metadata": {},
   "outputs": [
    {
     "data": {
      "text/plain": [
       "0       a\n",
       "1       b\n",
       "2       c\n",
       "3    aaba\n",
       "4    baca\n",
       "5     NaN\n",
       "6    caba\n",
       "7     dog\n",
       "8     cat\n",
       "dtype: object"
      ]
     },
     "execution_count": 71,
     "metadata": {},
     "output_type": "execute_result"
    }
   ],
   "source": [
    "s.str.lower()"
   ]
  },
  {
   "cell_type": "markdown",
   "metadata": {},
   "source": [
    "# 合併 "
   ]
  },
  {
   "cell_type": "markdown",
   "metadata": {},
   "source": [
    "### Concat"
   ]
  },
  {
   "cell_type": "code",
   "execution_count": 72,
   "metadata": {
    "collapsed": true
   },
   "outputs": [],
   "source": [
    "df = pd.DataFrame(np.random.randn(10, 4))"
   ]
  },
  {
   "cell_type": "code",
   "execution_count": 73,
   "metadata": {},
   "outputs": [
    {
     "data": {
      "text/html": [
       "<div>\n",
       "<style>\n",
       "    .dataframe thead tr:only-child th {\n",
       "        text-align: right;\n",
       "    }\n",
       "\n",
       "    .dataframe thead th {\n",
       "        text-align: left;\n",
       "    }\n",
       "\n",
       "    .dataframe tbody tr th {\n",
       "        vertical-align: top;\n",
       "    }\n",
       "</style>\n",
       "<table border=\"1\" class=\"dataframe\">\n",
       "  <thead>\n",
       "    <tr style=\"text-align: right;\">\n",
       "      <th></th>\n",
       "      <th>0</th>\n",
       "      <th>1</th>\n",
       "      <th>2</th>\n",
       "      <th>3</th>\n",
       "    </tr>\n",
       "  </thead>\n",
       "  <tbody>\n",
       "    <tr>\n",
       "      <th>0</th>\n",
       "      <td>0.802706</td>\n",
       "      <td>0.987875</td>\n",
       "      <td>0.176122</td>\n",
       "      <td>-0.716310</td>\n",
       "    </tr>\n",
       "    <tr>\n",
       "      <th>1</th>\n",
       "      <td>-0.947996</td>\n",
       "      <td>1.273129</td>\n",
       "      <td>0.738211</td>\n",
       "      <td>-1.189325</td>\n",
       "    </tr>\n",
       "    <tr>\n",
       "      <th>2</th>\n",
       "      <td>-0.964485</td>\n",
       "      <td>-1.121007</td>\n",
       "      <td>1.473940</td>\n",
       "      <td>1.468649</td>\n",
       "    </tr>\n",
       "    <tr>\n",
       "      <th>3</th>\n",
       "      <td>0.651124</td>\n",
       "      <td>1.519183</td>\n",
       "      <td>0.147319</td>\n",
       "      <td>0.099874</td>\n",
       "    </tr>\n",
       "    <tr>\n",
       "      <th>4</th>\n",
       "      <td>0.439981</td>\n",
       "      <td>1.380784</td>\n",
       "      <td>-0.240743</td>\n",
       "      <td>1.184214</td>\n",
       "    </tr>\n",
       "    <tr>\n",
       "      <th>5</th>\n",
       "      <td>-1.031321</td>\n",
       "      <td>-0.089765</td>\n",
       "      <td>-0.090042</td>\n",
       "      <td>-0.654510</td>\n",
       "    </tr>\n",
       "    <tr>\n",
       "      <th>6</th>\n",
       "      <td>-0.526719</td>\n",
       "      <td>1.208562</td>\n",
       "      <td>-0.686079</td>\n",
       "      <td>-1.814211</td>\n",
       "    </tr>\n",
       "    <tr>\n",
       "      <th>7</th>\n",
       "      <td>-0.608610</td>\n",
       "      <td>-0.546539</td>\n",
       "      <td>-0.991521</td>\n",
       "      <td>0.849006</td>\n",
       "    </tr>\n",
       "    <tr>\n",
       "      <th>8</th>\n",
       "      <td>0.195669</td>\n",
       "      <td>-0.134839</td>\n",
       "      <td>-0.339310</td>\n",
       "      <td>-1.121970</td>\n",
       "    </tr>\n",
       "    <tr>\n",
       "      <th>9</th>\n",
       "      <td>-0.572501</td>\n",
       "      <td>0.197179</td>\n",
       "      <td>-1.024243</td>\n",
       "      <td>-1.054278</td>\n",
       "    </tr>\n",
       "  </tbody>\n",
       "</table>\n",
       "</div>"
      ],
      "text/plain": [
       "          0         1         2         3\n",
       "0  0.802706  0.987875  0.176122 -0.716310\n",
       "1 -0.947996  1.273129  0.738211 -1.189325\n",
       "2 -0.964485 -1.121007  1.473940  1.468649\n",
       "3  0.651124  1.519183  0.147319  0.099874\n",
       "4  0.439981  1.380784 -0.240743  1.184214\n",
       "5 -1.031321 -0.089765 -0.090042 -0.654510\n",
       "6 -0.526719  1.208562 -0.686079 -1.814211\n",
       "7 -0.608610 -0.546539 -0.991521  0.849006\n",
       "8  0.195669 -0.134839 -0.339310 -1.121970\n",
       "9 -0.572501  0.197179 -1.024243 -1.054278"
      ]
     },
     "execution_count": 73,
     "metadata": {},
     "output_type": "execute_result"
    }
   ],
   "source": [
    "df"
   ]
  },
  {
   "cell_type": "code",
   "execution_count": 74,
   "metadata": {
    "collapsed": true
   },
   "outputs": [],
   "source": [
    "pieces = [df[:3], df[3:7], df[7:]]"
   ]
  },
  {
   "cell_type": "code",
   "execution_count": 75,
   "metadata": {},
   "outputs": [
    {
     "data": {
      "text/plain": [
       "[          0         1         2         3\n",
       " 0  0.802706  0.987875  0.176122 -0.716310\n",
       " 1 -0.947996  1.273129  0.738211 -1.189325\n",
       " 2 -0.964485 -1.121007  1.473940  1.468649,\n",
       "           0         1         2         3\n",
       " 3  0.651124  1.519183  0.147319  0.099874\n",
       " 4  0.439981  1.380784 -0.240743  1.184214\n",
       " 5 -1.031321 -0.089765 -0.090042 -0.654510\n",
       " 6 -0.526719  1.208562 -0.686079 -1.814211,\n",
       "           0         1         2         3\n",
       " 7 -0.608610 -0.546539 -0.991521  0.849006\n",
       " 8  0.195669 -0.134839 -0.339310 -1.121970\n",
       " 9 -0.572501  0.197179 -1.024243 -1.054278]"
      ]
     },
     "execution_count": 75,
     "metadata": {},
     "output_type": "execute_result"
    }
   ],
   "source": [
    "pieces"
   ]
  },
  {
   "cell_type": "code",
   "execution_count": 76,
   "metadata": {},
   "outputs": [
    {
     "data": {
      "text/html": [
       "<div>\n",
       "<style>\n",
       "    .dataframe thead tr:only-child th {\n",
       "        text-align: right;\n",
       "    }\n",
       "\n",
       "    .dataframe thead th {\n",
       "        text-align: left;\n",
       "    }\n",
       "\n",
       "    .dataframe tbody tr th {\n",
       "        vertical-align: top;\n",
       "    }\n",
       "</style>\n",
       "<table border=\"1\" class=\"dataframe\">\n",
       "  <thead>\n",
       "    <tr style=\"text-align: right;\">\n",
       "      <th></th>\n",
       "      <th>0</th>\n",
       "      <th>1</th>\n",
       "      <th>2</th>\n",
       "      <th>3</th>\n",
       "    </tr>\n",
       "  </thead>\n",
       "  <tbody>\n",
       "    <tr>\n",
       "      <th>0</th>\n",
       "      <td>0.802706</td>\n",
       "      <td>0.987875</td>\n",
       "      <td>0.176122</td>\n",
       "      <td>-0.716310</td>\n",
       "    </tr>\n",
       "    <tr>\n",
       "      <th>1</th>\n",
       "      <td>-0.947996</td>\n",
       "      <td>1.273129</td>\n",
       "      <td>0.738211</td>\n",
       "      <td>-1.189325</td>\n",
       "    </tr>\n",
       "    <tr>\n",
       "      <th>2</th>\n",
       "      <td>-0.964485</td>\n",
       "      <td>-1.121007</td>\n",
       "      <td>1.473940</td>\n",
       "      <td>1.468649</td>\n",
       "    </tr>\n",
       "    <tr>\n",
       "      <th>3</th>\n",
       "      <td>0.651124</td>\n",
       "      <td>1.519183</td>\n",
       "      <td>0.147319</td>\n",
       "      <td>0.099874</td>\n",
       "    </tr>\n",
       "    <tr>\n",
       "      <th>4</th>\n",
       "      <td>0.439981</td>\n",
       "      <td>1.380784</td>\n",
       "      <td>-0.240743</td>\n",
       "      <td>1.184214</td>\n",
       "    </tr>\n",
       "    <tr>\n",
       "      <th>5</th>\n",
       "      <td>-1.031321</td>\n",
       "      <td>-0.089765</td>\n",
       "      <td>-0.090042</td>\n",
       "      <td>-0.654510</td>\n",
       "    </tr>\n",
       "    <tr>\n",
       "      <th>6</th>\n",
       "      <td>-0.526719</td>\n",
       "      <td>1.208562</td>\n",
       "      <td>-0.686079</td>\n",
       "      <td>-1.814211</td>\n",
       "    </tr>\n",
       "    <tr>\n",
       "      <th>7</th>\n",
       "      <td>-0.608610</td>\n",
       "      <td>-0.546539</td>\n",
       "      <td>-0.991521</td>\n",
       "      <td>0.849006</td>\n",
       "    </tr>\n",
       "    <tr>\n",
       "      <th>8</th>\n",
       "      <td>0.195669</td>\n",
       "      <td>-0.134839</td>\n",
       "      <td>-0.339310</td>\n",
       "      <td>-1.121970</td>\n",
       "    </tr>\n",
       "    <tr>\n",
       "      <th>9</th>\n",
       "      <td>-0.572501</td>\n",
       "      <td>0.197179</td>\n",
       "      <td>-1.024243</td>\n",
       "      <td>-1.054278</td>\n",
       "    </tr>\n",
       "  </tbody>\n",
       "</table>\n",
       "</div>"
      ],
      "text/plain": [
       "          0         1         2         3\n",
       "0  0.802706  0.987875  0.176122 -0.716310\n",
       "1 -0.947996  1.273129  0.738211 -1.189325\n",
       "2 -0.964485 -1.121007  1.473940  1.468649\n",
       "3  0.651124  1.519183  0.147319  0.099874\n",
       "4  0.439981  1.380784 -0.240743  1.184214\n",
       "5 -1.031321 -0.089765 -0.090042 -0.654510\n",
       "6 -0.526719  1.208562 -0.686079 -1.814211\n",
       "7 -0.608610 -0.546539 -0.991521  0.849006\n",
       "8  0.195669 -0.134839 -0.339310 -1.121970\n",
       "9 -0.572501  0.197179 -1.024243 -1.054278"
      ]
     },
     "execution_count": 76,
     "metadata": {},
     "output_type": "execute_result"
    }
   ],
   "source": [
    "pd.concat(pieces)"
   ]
  },
  {
   "cell_type": "markdown",
   "metadata": {
    "collapsed": true
   },
   "source": [
    "### JOIN"
   ]
  },
  {
   "cell_type": "code",
   "execution_count": 77,
   "metadata": {
    "collapsed": true
   },
   "outputs": [],
   "source": [
    "left = pd.DataFrame({\"key\": [\"foo\", \"foo\"], \"lval\": [1, 2]})"
   ]
  },
  {
   "cell_type": "code",
   "execution_count": 78,
   "metadata": {
    "collapsed": true
   },
   "outputs": [],
   "source": [
    "right = pd.DataFrame({\"key\": [\"foo\", \"foo\"], \"lval\": [4, 5]})"
   ]
  },
  {
   "cell_type": "code",
   "execution_count": 79,
   "metadata": {},
   "outputs": [
    {
     "data": {
      "text/html": [
       "<div>\n",
       "<style>\n",
       "    .dataframe thead tr:only-child th {\n",
       "        text-align: right;\n",
       "    }\n",
       "\n",
       "    .dataframe thead th {\n",
       "        text-align: left;\n",
       "    }\n",
       "\n",
       "    .dataframe tbody tr th {\n",
       "        vertical-align: top;\n",
       "    }\n",
       "</style>\n",
       "<table border=\"1\" class=\"dataframe\">\n",
       "  <thead>\n",
       "    <tr style=\"text-align: right;\">\n",
       "      <th></th>\n",
       "      <th>key</th>\n",
       "      <th>lval</th>\n",
       "    </tr>\n",
       "  </thead>\n",
       "  <tbody>\n",
       "    <tr>\n",
       "      <th>0</th>\n",
       "      <td>foo</td>\n",
       "      <td>1</td>\n",
       "    </tr>\n",
       "    <tr>\n",
       "      <th>1</th>\n",
       "      <td>foo</td>\n",
       "      <td>2</td>\n",
       "    </tr>\n",
       "  </tbody>\n",
       "</table>\n",
       "</div>"
      ],
      "text/plain": [
       "   key  lval\n",
       "0  foo     1\n",
       "1  foo     2"
      ]
     },
     "execution_count": 79,
     "metadata": {},
     "output_type": "execute_result"
    }
   ],
   "source": [
    "left"
   ]
  },
  {
   "cell_type": "code",
   "execution_count": 80,
   "metadata": {},
   "outputs": [
    {
     "data": {
      "text/html": [
       "<div>\n",
       "<style>\n",
       "    .dataframe thead tr:only-child th {\n",
       "        text-align: right;\n",
       "    }\n",
       "\n",
       "    .dataframe thead th {\n",
       "        text-align: left;\n",
       "    }\n",
       "\n",
       "    .dataframe tbody tr th {\n",
       "        vertical-align: top;\n",
       "    }\n",
       "</style>\n",
       "<table border=\"1\" class=\"dataframe\">\n",
       "  <thead>\n",
       "    <tr style=\"text-align: right;\">\n",
       "      <th></th>\n",
       "      <th>key</th>\n",
       "      <th>lval</th>\n",
       "    </tr>\n",
       "  </thead>\n",
       "  <tbody>\n",
       "    <tr>\n",
       "      <th>0</th>\n",
       "      <td>foo</td>\n",
       "      <td>4</td>\n",
       "    </tr>\n",
       "    <tr>\n",
       "      <th>1</th>\n",
       "      <td>foo</td>\n",
       "      <td>5</td>\n",
       "    </tr>\n",
       "  </tbody>\n",
       "</table>\n",
       "</div>"
      ],
      "text/plain": [
       "   key  lval\n",
       "0  foo     4\n",
       "1  foo     5"
      ]
     },
     "execution_count": 80,
     "metadata": {},
     "output_type": "execute_result"
    }
   ],
   "source": [
    "right"
   ]
  },
  {
   "cell_type": "code",
   "execution_count": 81,
   "metadata": {},
   "outputs": [
    {
     "data": {
      "text/html": [
       "<div>\n",
       "<style>\n",
       "    .dataframe thead tr:only-child th {\n",
       "        text-align: right;\n",
       "    }\n",
       "\n",
       "    .dataframe thead th {\n",
       "        text-align: left;\n",
       "    }\n",
       "\n",
       "    .dataframe tbody tr th {\n",
       "        vertical-align: top;\n",
       "    }\n",
       "</style>\n",
       "<table border=\"1\" class=\"dataframe\">\n",
       "  <thead>\n",
       "    <tr style=\"text-align: right;\">\n",
       "      <th></th>\n",
       "      <th>key</th>\n",
       "      <th>lval_x</th>\n",
       "      <th>lval_y</th>\n",
       "    </tr>\n",
       "  </thead>\n",
       "  <tbody>\n",
       "    <tr>\n",
       "      <th>0</th>\n",
       "      <td>foo</td>\n",
       "      <td>1</td>\n",
       "      <td>4</td>\n",
       "    </tr>\n",
       "    <tr>\n",
       "      <th>1</th>\n",
       "      <td>foo</td>\n",
       "      <td>1</td>\n",
       "      <td>5</td>\n",
       "    </tr>\n",
       "    <tr>\n",
       "      <th>2</th>\n",
       "      <td>foo</td>\n",
       "      <td>2</td>\n",
       "      <td>4</td>\n",
       "    </tr>\n",
       "    <tr>\n",
       "      <th>3</th>\n",
       "      <td>foo</td>\n",
       "      <td>2</td>\n",
       "      <td>5</td>\n",
       "    </tr>\n",
       "  </tbody>\n",
       "</table>\n",
       "</div>"
      ],
      "text/plain": [
       "   key  lval_x  lval_y\n",
       "0  foo       1       4\n",
       "1  foo       1       5\n",
       "2  foo       2       4\n",
       "3  foo       2       5"
      ]
     },
     "execution_count": 81,
     "metadata": {},
     "output_type": "execute_result"
    }
   ],
   "source": [
    "pd.merge(left, right, on = \"key\")"
   ]
  },
  {
   "cell_type": "code",
   "execution_count": 82,
   "metadata": {
    "collapsed": true
   },
   "outputs": [],
   "source": [
    "left = pd.DataFrame({\"key\": [\"foo\", \"bar\"], \"lval\": [1, 2]})"
   ]
  },
  {
   "cell_type": "code",
   "execution_count": 83,
   "metadata": {
    "collapsed": true
   },
   "outputs": [],
   "source": [
    "right = pd.DataFrame({\"key\": [\"foo\", \"bar\"], \"lval\": [4, 5]})"
   ]
  },
  {
   "cell_type": "code",
   "execution_count": 84,
   "metadata": {},
   "outputs": [
    {
     "data": {
      "text/html": [
       "<div>\n",
       "<style>\n",
       "    .dataframe thead tr:only-child th {\n",
       "        text-align: right;\n",
       "    }\n",
       "\n",
       "    .dataframe thead th {\n",
       "        text-align: left;\n",
       "    }\n",
       "\n",
       "    .dataframe tbody tr th {\n",
       "        vertical-align: top;\n",
       "    }\n",
       "</style>\n",
       "<table border=\"1\" class=\"dataframe\">\n",
       "  <thead>\n",
       "    <tr style=\"text-align: right;\">\n",
       "      <th></th>\n",
       "      <th>key</th>\n",
       "      <th>lval</th>\n",
       "    </tr>\n",
       "  </thead>\n",
       "  <tbody>\n",
       "    <tr>\n",
       "      <th>0</th>\n",
       "      <td>foo</td>\n",
       "      <td>1</td>\n",
       "    </tr>\n",
       "    <tr>\n",
       "      <th>1</th>\n",
       "      <td>bar</td>\n",
       "      <td>2</td>\n",
       "    </tr>\n",
       "  </tbody>\n",
       "</table>\n",
       "</div>"
      ],
      "text/plain": [
       "   key  lval\n",
       "0  foo     1\n",
       "1  bar     2"
      ]
     },
     "execution_count": 84,
     "metadata": {},
     "output_type": "execute_result"
    }
   ],
   "source": [
    "left"
   ]
  },
  {
   "cell_type": "code",
   "execution_count": 85,
   "metadata": {},
   "outputs": [
    {
     "data": {
      "text/html": [
       "<div>\n",
       "<style>\n",
       "    .dataframe thead tr:only-child th {\n",
       "        text-align: right;\n",
       "    }\n",
       "\n",
       "    .dataframe thead th {\n",
       "        text-align: left;\n",
       "    }\n",
       "\n",
       "    .dataframe tbody tr th {\n",
       "        vertical-align: top;\n",
       "    }\n",
       "</style>\n",
       "<table border=\"1\" class=\"dataframe\">\n",
       "  <thead>\n",
       "    <tr style=\"text-align: right;\">\n",
       "      <th></th>\n",
       "      <th>key</th>\n",
       "      <th>lval</th>\n",
       "    </tr>\n",
       "  </thead>\n",
       "  <tbody>\n",
       "    <tr>\n",
       "      <th>0</th>\n",
       "      <td>foo</td>\n",
       "      <td>4</td>\n",
       "    </tr>\n",
       "    <tr>\n",
       "      <th>1</th>\n",
       "      <td>bar</td>\n",
       "      <td>5</td>\n",
       "    </tr>\n",
       "  </tbody>\n",
       "</table>\n",
       "</div>"
      ],
      "text/plain": [
       "   key  lval\n",
       "0  foo     4\n",
       "1  bar     5"
      ]
     },
     "execution_count": 85,
     "metadata": {},
     "output_type": "execute_result"
    }
   ],
   "source": [
    "right"
   ]
  },
  {
   "cell_type": "code",
   "execution_count": 86,
   "metadata": {},
   "outputs": [
    {
     "data": {
      "text/html": [
       "<div>\n",
       "<style>\n",
       "    .dataframe thead tr:only-child th {\n",
       "        text-align: right;\n",
       "    }\n",
       "\n",
       "    .dataframe thead th {\n",
       "        text-align: left;\n",
       "    }\n",
       "\n",
       "    .dataframe tbody tr th {\n",
       "        vertical-align: top;\n",
       "    }\n",
       "</style>\n",
       "<table border=\"1\" class=\"dataframe\">\n",
       "  <thead>\n",
       "    <tr style=\"text-align: right;\">\n",
       "      <th></th>\n",
       "      <th>key</th>\n",
       "      <th>lval_x</th>\n",
       "      <th>lval_y</th>\n",
       "    </tr>\n",
       "  </thead>\n",
       "  <tbody>\n",
       "    <tr>\n",
       "      <th>0</th>\n",
       "      <td>foo</td>\n",
       "      <td>1</td>\n",
       "      <td>4</td>\n",
       "    </tr>\n",
       "    <tr>\n",
       "      <th>1</th>\n",
       "      <td>bar</td>\n",
       "      <td>2</td>\n",
       "      <td>5</td>\n",
       "    </tr>\n",
       "  </tbody>\n",
       "</table>\n",
       "</div>"
      ],
      "text/plain": [
       "   key  lval_x  lval_y\n",
       "0  foo       1       4\n",
       "1  bar       2       5"
      ]
     },
     "execution_count": 86,
     "metadata": {},
     "output_type": "execute_result"
    }
   ],
   "source": [
    "pd.merge(left, right, on=\"key\")"
   ]
  },
  {
   "cell_type": "markdown",
   "metadata": {},
   "source": [
    "### Append"
   ]
  },
  {
   "cell_type": "code",
   "execution_count": 87,
   "metadata": {
    "collapsed": true
   },
   "outputs": [],
   "source": [
    "df = pd.DataFrame(np.random.randn(8, 4), columns=[\"A\", \"B\", \"C\", \"D\"])"
   ]
  },
  {
   "cell_type": "code",
   "execution_count": 88,
   "metadata": {},
   "outputs": [
    {
     "data": {
      "text/html": [
       "<div>\n",
       "<style>\n",
       "    .dataframe thead tr:only-child th {\n",
       "        text-align: right;\n",
       "    }\n",
       "\n",
       "    .dataframe thead th {\n",
       "        text-align: left;\n",
       "    }\n",
       "\n",
       "    .dataframe tbody tr th {\n",
       "        vertical-align: top;\n",
       "    }\n",
       "</style>\n",
       "<table border=\"1\" class=\"dataframe\">\n",
       "  <thead>\n",
       "    <tr style=\"text-align: right;\">\n",
       "      <th></th>\n",
       "      <th>A</th>\n",
       "      <th>B</th>\n",
       "      <th>C</th>\n",
       "      <th>D</th>\n",
       "    </tr>\n",
       "  </thead>\n",
       "  <tbody>\n",
       "    <tr>\n",
       "      <th>0</th>\n",
       "      <td>-0.775160</td>\n",
       "      <td>1.198811</td>\n",
       "      <td>-0.478860</td>\n",
       "      <td>0.621309</td>\n",
       "    </tr>\n",
       "    <tr>\n",
       "      <th>1</th>\n",
       "      <td>-1.547870</td>\n",
       "      <td>0.175214</td>\n",
       "      <td>0.736191</td>\n",
       "      <td>-1.525371</td>\n",
       "    </tr>\n",
       "    <tr>\n",
       "      <th>2</th>\n",
       "      <td>0.359471</td>\n",
       "      <td>-0.170620</td>\n",
       "      <td>1.578504</td>\n",
       "      <td>-3.139173</td>\n",
       "    </tr>\n",
       "    <tr>\n",
       "      <th>3</th>\n",
       "      <td>0.598442</td>\n",
       "      <td>-1.112061</td>\n",
       "      <td>-0.624791</td>\n",
       "      <td>-1.139228</td>\n",
       "    </tr>\n",
       "    <tr>\n",
       "      <th>4</th>\n",
       "      <td>0.561327</td>\n",
       "      <td>0.668307</td>\n",
       "      <td>0.619873</td>\n",
       "      <td>-1.002274</td>\n",
       "    </tr>\n",
       "    <tr>\n",
       "      <th>5</th>\n",
       "      <td>-0.403171</td>\n",
       "      <td>0.962484</td>\n",
       "      <td>-0.426219</td>\n",
       "      <td>1.107771</td>\n",
       "    </tr>\n",
       "    <tr>\n",
       "      <th>6</th>\n",
       "      <td>0.862506</td>\n",
       "      <td>2.239601</td>\n",
       "      <td>0.901886</td>\n",
       "      <td>-1.232410</td>\n",
       "    </tr>\n",
       "    <tr>\n",
       "      <th>7</th>\n",
       "      <td>0.419341</td>\n",
       "      <td>-0.330283</td>\n",
       "      <td>0.583557</td>\n",
       "      <td>-0.120203</td>\n",
       "    </tr>\n",
       "  </tbody>\n",
       "</table>\n",
       "</div>"
      ],
      "text/plain": [
       "          A         B         C         D\n",
       "0 -0.775160  1.198811 -0.478860  0.621309\n",
       "1 -1.547870  0.175214  0.736191 -1.525371\n",
       "2  0.359471 -0.170620  1.578504 -3.139173\n",
       "3  0.598442 -1.112061 -0.624791 -1.139228\n",
       "4  0.561327  0.668307  0.619873 -1.002274\n",
       "5 -0.403171  0.962484 -0.426219  1.107771\n",
       "6  0.862506  2.239601  0.901886 -1.232410\n",
       "7  0.419341 -0.330283  0.583557 -0.120203"
      ]
     },
     "execution_count": 88,
     "metadata": {},
     "output_type": "execute_result"
    }
   ],
   "source": [
    "df"
   ]
  },
  {
   "cell_type": "code",
   "execution_count": 89,
   "metadata": {
    "collapsed": true
   },
   "outputs": [],
   "source": [
    "s = df.iloc[3]"
   ]
  },
  {
   "cell_type": "code",
   "execution_count": 90,
   "metadata": {},
   "outputs": [
    {
     "data": {
      "text/html": [
       "<div>\n",
       "<style>\n",
       "    .dataframe thead tr:only-child th {\n",
       "        text-align: right;\n",
       "    }\n",
       "\n",
       "    .dataframe thead th {\n",
       "        text-align: left;\n",
       "    }\n",
       "\n",
       "    .dataframe tbody tr th {\n",
       "        vertical-align: top;\n",
       "    }\n",
       "</style>\n",
       "<table border=\"1\" class=\"dataframe\">\n",
       "  <thead>\n",
       "    <tr style=\"text-align: right;\">\n",
       "      <th></th>\n",
       "      <th>A</th>\n",
       "      <th>B</th>\n",
       "      <th>C</th>\n",
       "      <th>D</th>\n",
       "    </tr>\n",
       "  </thead>\n",
       "  <tbody>\n",
       "    <tr>\n",
       "      <th>0</th>\n",
       "      <td>-0.775160</td>\n",
       "      <td>1.198811</td>\n",
       "      <td>-0.478860</td>\n",
       "      <td>0.621309</td>\n",
       "    </tr>\n",
       "    <tr>\n",
       "      <th>1</th>\n",
       "      <td>-1.547870</td>\n",
       "      <td>0.175214</td>\n",
       "      <td>0.736191</td>\n",
       "      <td>-1.525371</td>\n",
       "    </tr>\n",
       "    <tr>\n",
       "      <th>2</th>\n",
       "      <td>0.359471</td>\n",
       "      <td>-0.170620</td>\n",
       "      <td>1.578504</td>\n",
       "      <td>-3.139173</td>\n",
       "    </tr>\n",
       "    <tr>\n",
       "      <th>3</th>\n",
       "      <td>0.598442</td>\n",
       "      <td>-1.112061</td>\n",
       "      <td>-0.624791</td>\n",
       "      <td>-1.139228</td>\n",
       "    </tr>\n",
       "    <tr>\n",
       "      <th>4</th>\n",
       "      <td>0.561327</td>\n",
       "      <td>0.668307</td>\n",
       "      <td>0.619873</td>\n",
       "      <td>-1.002274</td>\n",
       "    </tr>\n",
       "    <tr>\n",
       "      <th>5</th>\n",
       "      <td>-0.403171</td>\n",
       "      <td>0.962484</td>\n",
       "      <td>-0.426219</td>\n",
       "      <td>1.107771</td>\n",
       "    </tr>\n",
       "    <tr>\n",
       "      <th>6</th>\n",
       "      <td>0.862506</td>\n",
       "      <td>2.239601</td>\n",
       "      <td>0.901886</td>\n",
       "      <td>-1.232410</td>\n",
       "    </tr>\n",
       "    <tr>\n",
       "      <th>7</th>\n",
       "      <td>0.419341</td>\n",
       "      <td>-0.330283</td>\n",
       "      <td>0.583557</td>\n",
       "      <td>-0.120203</td>\n",
       "    </tr>\n",
       "    <tr>\n",
       "      <th>8</th>\n",
       "      <td>0.598442</td>\n",
       "      <td>-1.112061</td>\n",
       "      <td>-0.624791</td>\n",
       "      <td>-1.139228</td>\n",
       "    </tr>\n",
       "  </tbody>\n",
       "</table>\n",
       "</div>"
      ],
      "text/plain": [
       "          A         B         C         D\n",
       "0 -0.775160  1.198811 -0.478860  0.621309\n",
       "1 -1.547870  0.175214  0.736191 -1.525371\n",
       "2  0.359471 -0.170620  1.578504 -3.139173\n",
       "3  0.598442 -1.112061 -0.624791 -1.139228\n",
       "4  0.561327  0.668307  0.619873 -1.002274\n",
       "5 -0.403171  0.962484 -0.426219  1.107771\n",
       "6  0.862506  2.239601  0.901886 -1.232410\n",
       "7  0.419341 -0.330283  0.583557 -0.120203\n",
       "8  0.598442 -1.112061 -0.624791 -1.139228"
      ]
     },
     "execution_count": 90,
     "metadata": {},
     "output_type": "execute_result"
    }
   ],
   "source": [
    "df.append(s, ignore_index=True)"
   ]
  },
  {
   "cell_type": "markdown",
   "metadata": {},
   "source": [
    "# 分組"
   ]
  },
  {
   "cell_type": "markdown",
   "metadata": {},
   "source": [
    "### 對於\"group by\"操作，我們通常是指以下一個或多個操作步驟:"
   ]
  },
  {
   "cell_type": "markdown",
   "metadata": {},
   "source": [
    "### (Splitting) 按照一些規則將數據分為不同的組\n",
    "### (Applying)對於每組數據分別執行一個函數\n",
    "### (Combining) 將結果組合到一個數據結構中"
   ]
  },
  {
   "cell_type": "code",
   "execution_count": 91,
   "metadata": {
    "collapsed": true
   },
   "outputs": [],
   "source": [
    "df = pd.DataFrame({\"A\" : [\"foo\", \"bar\", \"foo\", \"bar\", \n",
    "                          \"foo\", \"bar\", \"foo\", \"foo\"],\n",
    "                   \"B\" : [\"one\", \"one\", \"two\", \"three\",\n",
    "                          \"two\", \"two\", \"one\", \"three\"],\n",
    "                   \"C\" : np.random.randn(8),\n",
    "                   \"D\" : np.random.randn(8)})"
   ]
  },
  {
   "cell_type": "code",
   "execution_count": 92,
   "metadata": {},
   "outputs": [
    {
     "data": {
      "text/html": [
       "<div>\n",
       "<style>\n",
       "    .dataframe thead tr:only-child th {\n",
       "        text-align: right;\n",
       "    }\n",
       "\n",
       "    .dataframe thead th {\n",
       "        text-align: left;\n",
       "    }\n",
       "\n",
       "    .dataframe tbody tr th {\n",
       "        vertical-align: top;\n",
       "    }\n",
       "</style>\n",
       "<table border=\"1\" class=\"dataframe\">\n",
       "  <thead>\n",
       "    <tr style=\"text-align: right;\">\n",
       "      <th></th>\n",
       "      <th>A</th>\n",
       "      <th>B</th>\n",
       "      <th>C</th>\n",
       "      <th>D</th>\n",
       "    </tr>\n",
       "  </thead>\n",
       "  <tbody>\n",
       "    <tr>\n",
       "      <th>0</th>\n",
       "      <td>foo</td>\n",
       "      <td>one</td>\n",
       "      <td>-0.566030</td>\n",
       "      <td>0.306361</td>\n",
       "    </tr>\n",
       "    <tr>\n",
       "      <th>1</th>\n",
       "      <td>bar</td>\n",
       "      <td>one</td>\n",
       "      <td>-1.961494</td>\n",
       "      <td>0.773687</td>\n",
       "    </tr>\n",
       "    <tr>\n",
       "      <th>2</th>\n",
       "      <td>foo</td>\n",
       "      <td>two</td>\n",
       "      <td>1.207123</td>\n",
       "      <td>-0.619828</td>\n",
       "    </tr>\n",
       "    <tr>\n",
       "      <th>3</th>\n",
       "      <td>bar</td>\n",
       "      <td>three</td>\n",
       "      <td>-0.396278</td>\n",
       "      <td>1.363213</td>\n",
       "    </tr>\n",
       "    <tr>\n",
       "      <th>4</th>\n",
       "      <td>foo</td>\n",
       "      <td>two</td>\n",
       "      <td>-0.361837</td>\n",
       "      <td>0.370843</td>\n",
       "    </tr>\n",
       "    <tr>\n",
       "      <th>5</th>\n",
       "      <td>bar</td>\n",
       "      <td>two</td>\n",
       "      <td>-0.087402</td>\n",
       "      <td>-0.293942</td>\n",
       "    </tr>\n",
       "    <tr>\n",
       "      <th>6</th>\n",
       "      <td>foo</td>\n",
       "      <td>one</td>\n",
       "      <td>-1.488781</td>\n",
       "      <td>0.918024</td>\n",
       "    </tr>\n",
       "    <tr>\n",
       "      <th>7</th>\n",
       "      <td>foo</td>\n",
       "      <td>three</td>\n",
       "      <td>-1.858564</td>\n",
       "      <td>0.339867</td>\n",
       "    </tr>\n",
       "  </tbody>\n",
       "</table>\n",
       "</div>"
      ],
      "text/plain": [
       "     A      B         C         D\n",
       "0  foo    one -0.566030  0.306361\n",
       "1  bar    one -1.961494  0.773687\n",
       "2  foo    two  1.207123 -0.619828\n",
       "3  bar  three -0.396278  1.363213\n",
       "4  foo    two -0.361837  0.370843\n",
       "5  bar    two -0.087402 -0.293942\n",
       "6  foo    one -1.488781  0.918024\n",
       "7  foo  three -1.858564  0.339867"
      ]
     },
     "execution_count": 92,
     "metadata": {},
     "output_type": "execute_result"
    }
   ],
   "source": [
    "df"
   ]
  },
  {
   "cell_type": "markdown",
   "metadata": {},
   "source": [
    "### 分組並對每個分組執行sum函數"
   ]
  },
  {
   "cell_type": "code",
   "execution_count": 93,
   "metadata": {},
   "outputs": [
    {
     "data": {
      "text/html": [
       "<div>\n",
       "<style>\n",
       "    .dataframe thead tr:only-child th {\n",
       "        text-align: right;\n",
       "    }\n",
       "\n",
       "    .dataframe thead th {\n",
       "        text-align: left;\n",
       "    }\n",
       "\n",
       "    .dataframe tbody tr th {\n",
       "        vertical-align: top;\n",
       "    }\n",
       "</style>\n",
       "<table border=\"1\" class=\"dataframe\">\n",
       "  <thead>\n",
       "    <tr style=\"text-align: right;\">\n",
       "      <th></th>\n",
       "      <th>C</th>\n",
       "      <th>D</th>\n",
       "    </tr>\n",
       "    <tr>\n",
       "      <th>A</th>\n",
       "      <th></th>\n",
       "      <th></th>\n",
       "    </tr>\n",
       "  </thead>\n",
       "  <tbody>\n",
       "    <tr>\n",
       "      <th>bar</th>\n",
       "      <td>-2.445174</td>\n",
       "      <td>1.842957</td>\n",
       "    </tr>\n",
       "    <tr>\n",
       "      <th>foo</th>\n",
       "      <td>-3.068089</td>\n",
       "      <td>1.315267</td>\n",
       "    </tr>\n",
       "  </tbody>\n",
       "</table>\n",
       "</div>"
      ],
      "text/plain": [
       "            C         D\n",
       "A                      \n",
       "bar -2.445174  1.842957\n",
       "foo -3.068089  1.315267"
      ]
     },
     "execution_count": 93,
     "metadata": {},
     "output_type": "execute_result"
    }
   ],
   "source": [
    "df.groupby(\"A\").sum()"
   ]
  },
  {
   "cell_type": "markdown",
   "metadata": {},
   "source": [
    "# 改變形狀 "
   ]
  },
  {
   "cell_type": "markdown",
   "metadata": {},
   "source": [
    "### Stack "
   ]
  },
  {
   "cell_type": "code",
   "execution_count": 94,
   "metadata": {
    "collapsed": true
   },
   "outputs": [],
   "source": [
    "tuples = list(zip(*[['bar', 'bar', 'baz', 'baz',\n",
    "                     'foo', 'foo', 'qux', 'qux'],\n",
    "                    ['one', 'two', 'one', 'two',\n",
    "                     'one', 'two', 'one', 'two']]))"
   ]
  },
  {
   "cell_type": "code",
   "execution_count": 95,
   "metadata": {},
   "outputs": [
    {
     "data": {
      "text/plain": [
       "[('bar', 'one'),\n",
       " ('bar', 'two'),\n",
       " ('baz', 'one'),\n",
       " ('baz', 'two'),\n",
       " ('foo', 'one'),\n",
       " ('foo', 'two'),\n",
       " ('qux', 'one'),\n",
       " ('qux', 'two')]"
      ]
     },
     "execution_count": 95,
     "metadata": {},
     "output_type": "execute_result"
    }
   ],
   "source": [
    "tuples"
   ]
  },
  {
   "cell_type": "code",
   "execution_count": 96,
   "metadata": {
    "collapsed": true
   },
   "outputs": [],
   "source": [
    "index = pd.MultiIndex.from_tuples(tuples, names = [\"first\", \"second\"])"
   ]
  },
  {
   "cell_type": "code",
   "execution_count": 97,
   "metadata": {
    "collapsed": true
   },
   "outputs": [],
   "source": [
    "df = pd.DataFrame(np.random.randn(8, 2), index = index, columns=[\"A\", \"B\"])"
   ]
  },
  {
   "cell_type": "code",
   "execution_count": 98,
   "metadata": {
    "collapsed": true
   },
   "outputs": [],
   "source": [
    "df2 = df[:4]"
   ]
  },
  {
   "cell_type": "code",
   "execution_count": 99,
   "metadata": {},
   "outputs": [
    {
     "data": {
      "text/html": [
       "<div>\n",
       "<style>\n",
       "    .dataframe thead tr:only-child th {\n",
       "        text-align: right;\n",
       "    }\n",
       "\n",
       "    .dataframe thead th {\n",
       "        text-align: left;\n",
       "    }\n",
       "\n",
       "    .dataframe tbody tr th {\n",
       "        vertical-align: top;\n",
       "    }\n",
       "</style>\n",
       "<table border=\"1\" class=\"dataframe\">\n",
       "  <thead>\n",
       "    <tr style=\"text-align: right;\">\n",
       "      <th></th>\n",
       "      <th></th>\n",
       "      <th>A</th>\n",
       "      <th>B</th>\n",
       "    </tr>\n",
       "    <tr>\n",
       "      <th>first</th>\n",
       "      <th>second</th>\n",
       "      <th></th>\n",
       "      <th></th>\n",
       "    </tr>\n",
       "  </thead>\n",
       "  <tbody>\n",
       "    <tr>\n",
       "      <th rowspan=\"2\" valign=\"top\">bar</th>\n",
       "      <th>one</th>\n",
       "      <td>-1.992512</td>\n",
       "      <td>-0.586271</td>\n",
       "    </tr>\n",
       "    <tr>\n",
       "      <th>two</th>\n",
       "      <td>1.956952</td>\n",
       "      <td>1.964626</td>\n",
       "    </tr>\n",
       "    <tr>\n",
       "      <th rowspan=\"2\" valign=\"top\">baz</th>\n",
       "      <th>one</th>\n",
       "      <td>0.385846</td>\n",
       "      <td>-0.483925</td>\n",
       "    </tr>\n",
       "    <tr>\n",
       "      <th>two</th>\n",
       "      <td>0.093144</td>\n",
       "      <td>0.368937</td>\n",
       "    </tr>\n",
       "  </tbody>\n",
       "</table>\n",
       "</div>"
      ],
      "text/plain": [
       "                     A         B\n",
       "first second                    \n",
       "bar   one    -1.992512 -0.586271\n",
       "      two     1.956952  1.964626\n",
       "baz   one     0.385846 -0.483925\n",
       "      two     0.093144  0.368937"
      ]
     },
     "execution_count": 99,
     "metadata": {},
     "output_type": "execute_result"
    }
   ],
   "source": [
    "df2"
   ]
  },
  {
   "cell_type": "code",
   "execution_count": 100,
   "metadata": {
    "collapsed": true
   },
   "outputs": [],
   "source": [
    "stacked = df2.stack()"
   ]
  },
  {
   "cell_type": "code",
   "execution_count": 101,
   "metadata": {},
   "outputs": [
    {
     "data": {
      "text/plain": [
       "first  second   \n",
       "bar    one     A   -1.992512\n",
       "               B   -0.586271\n",
       "       two     A    1.956952\n",
       "               B    1.964626\n",
       "baz    one     A    0.385846\n",
       "               B   -0.483925\n",
       "       two     A    0.093144\n",
       "               B    0.368937\n",
       "dtype: float64"
      ]
     },
     "execution_count": 101,
     "metadata": {},
     "output_type": "execute_result"
    }
   ],
   "source": [
    "stacked"
   ]
  },
  {
   "cell_type": "code",
   "execution_count": 102,
   "metadata": {},
   "outputs": [
    {
     "data": {
      "text/html": [
       "<div>\n",
       "<style>\n",
       "    .dataframe thead tr:only-child th {\n",
       "        text-align: right;\n",
       "    }\n",
       "\n",
       "    .dataframe thead th {\n",
       "        text-align: left;\n",
       "    }\n",
       "\n",
       "    .dataframe tbody tr th {\n",
       "        vertical-align: top;\n",
       "    }\n",
       "</style>\n",
       "<table border=\"1\" class=\"dataframe\">\n",
       "  <thead>\n",
       "    <tr style=\"text-align: right;\">\n",
       "      <th></th>\n",
       "      <th></th>\n",
       "      <th>A</th>\n",
       "      <th>B</th>\n",
       "    </tr>\n",
       "    <tr>\n",
       "      <th>first</th>\n",
       "      <th>second</th>\n",
       "      <th></th>\n",
       "      <th></th>\n",
       "    </tr>\n",
       "  </thead>\n",
       "  <tbody>\n",
       "    <tr>\n",
       "      <th rowspan=\"2\" valign=\"top\">bar</th>\n",
       "      <th>one</th>\n",
       "      <td>-1.992512</td>\n",
       "      <td>-0.586271</td>\n",
       "    </tr>\n",
       "    <tr>\n",
       "      <th>two</th>\n",
       "      <td>1.956952</td>\n",
       "      <td>1.964626</td>\n",
       "    </tr>\n",
       "    <tr>\n",
       "      <th rowspan=\"2\" valign=\"top\">baz</th>\n",
       "      <th>one</th>\n",
       "      <td>0.385846</td>\n",
       "      <td>-0.483925</td>\n",
       "    </tr>\n",
       "    <tr>\n",
       "      <th>two</th>\n",
       "      <td>0.093144</td>\n",
       "      <td>0.368937</td>\n",
       "    </tr>\n",
       "  </tbody>\n",
       "</table>\n",
       "</div>"
      ],
      "text/plain": [
       "                     A         B\n",
       "first second                    \n",
       "bar   one    -1.992512 -0.586271\n",
       "      two     1.956952  1.964626\n",
       "baz   one     0.385846 -0.483925\n",
       "      two     0.093144  0.368937"
      ]
     },
     "execution_count": 102,
     "metadata": {},
     "output_type": "execute_result"
    }
   ],
   "source": [
    "stacked.unstack()"
   ]
  },
  {
   "cell_type": "code",
   "execution_count": 103,
   "metadata": {},
   "outputs": [
    {
     "data": {
      "text/html": [
       "<div>\n",
       "<style>\n",
       "    .dataframe thead tr:only-child th {\n",
       "        text-align: right;\n",
       "    }\n",
       "\n",
       "    .dataframe thead th {\n",
       "        text-align: left;\n",
       "    }\n",
       "\n",
       "    .dataframe tbody tr th {\n",
       "        vertical-align: top;\n",
       "    }\n",
       "</style>\n",
       "<table border=\"1\" class=\"dataframe\">\n",
       "  <thead>\n",
       "    <tr style=\"text-align: right;\">\n",
       "      <th></th>\n",
       "      <th>second</th>\n",
       "      <th>one</th>\n",
       "      <th>two</th>\n",
       "    </tr>\n",
       "    <tr>\n",
       "      <th>first</th>\n",
       "      <th></th>\n",
       "      <th></th>\n",
       "      <th></th>\n",
       "    </tr>\n",
       "  </thead>\n",
       "  <tbody>\n",
       "    <tr>\n",
       "      <th rowspan=\"2\" valign=\"top\">bar</th>\n",
       "      <th>A</th>\n",
       "      <td>-1.992512</td>\n",
       "      <td>1.956952</td>\n",
       "    </tr>\n",
       "    <tr>\n",
       "      <th>B</th>\n",
       "      <td>-0.586271</td>\n",
       "      <td>1.964626</td>\n",
       "    </tr>\n",
       "    <tr>\n",
       "      <th rowspan=\"2\" valign=\"top\">baz</th>\n",
       "      <th>A</th>\n",
       "      <td>0.385846</td>\n",
       "      <td>0.093144</td>\n",
       "    </tr>\n",
       "    <tr>\n",
       "      <th>B</th>\n",
       "      <td>-0.483925</td>\n",
       "      <td>0.368937</td>\n",
       "    </tr>\n",
       "  </tbody>\n",
       "</table>\n",
       "</div>"
      ],
      "text/plain": [
       "second        one       two\n",
       "first                      \n",
       "bar   A -1.992512  1.956952\n",
       "      B -0.586271  1.964626\n",
       "baz   A  0.385846  0.093144\n",
       "      B -0.483925  0.368937"
      ]
     },
     "execution_count": 103,
     "metadata": {},
     "output_type": "execute_result"
    }
   ],
   "source": [
    "stacked.unstack(1)"
   ]
  },
  {
   "cell_type": "code",
   "execution_count": 104,
   "metadata": {},
   "outputs": [
    {
     "data": {
      "text/html": [
       "<div>\n",
       "<style>\n",
       "    .dataframe thead tr:only-child th {\n",
       "        text-align: right;\n",
       "    }\n",
       "\n",
       "    .dataframe thead th {\n",
       "        text-align: left;\n",
       "    }\n",
       "\n",
       "    .dataframe tbody tr th {\n",
       "        vertical-align: top;\n",
       "    }\n",
       "</style>\n",
       "<table border=\"1\" class=\"dataframe\">\n",
       "  <thead>\n",
       "    <tr style=\"text-align: right;\">\n",
       "      <th></th>\n",
       "      <th>first</th>\n",
       "      <th>bar</th>\n",
       "      <th>baz</th>\n",
       "    </tr>\n",
       "    <tr>\n",
       "      <th>second</th>\n",
       "      <th></th>\n",
       "      <th></th>\n",
       "      <th></th>\n",
       "    </tr>\n",
       "  </thead>\n",
       "  <tbody>\n",
       "    <tr>\n",
       "      <th rowspan=\"2\" valign=\"top\">one</th>\n",
       "      <th>A</th>\n",
       "      <td>-1.992512</td>\n",
       "      <td>0.385846</td>\n",
       "    </tr>\n",
       "    <tr>\n",
       "      <th>B</th>\n",
       "      <td>-0.586271</td>\n",
       "      <td>-0.483925</td>\n",
       "    </tr>\n",
       "    <tr>\n",
       "      <th rowspan=\"2\" valign=\"top\">two</th>\n",
       "      <th>A</th>\n",
       "      <td>1.956952</td>\n",
       "      <td>0.093144</td>\n",
       "    </tr>\n",
       "    <tr>\n",
       "      <th>B</th>\n",
       "      <td>1.964626</td>\n",
       "      <td>0.368937</td>\n",
       "    </tr>\n",
       "  </tbody>\n",
       "</table>\n",
       "</div>"
      ],
      "text/plain": [
       "first          bar       baz\n",
       "second                      \n",
       "one    A -1.992512  0.385846\n",
       "       B -0.586271 -0.483925\n",
       "two    A  1.956952  0.093144\n",
       "       B  1.964626  0.368937"
      ]
     },
     "execution_count": 104,
     "metadata": {},
     "output_type": "execute_result"
    }
   ],
   "source": [
    "stacked.unstack(0)"
   ]
  },
  {
   "cell_type": "markdown",
   "metadata": {},
   "source": [
    "# 數據透視表 "
   ]
  },
  {
   "cell_type": "code",
   "execution_count": 105,
   "metadata": {
    "collapsed": true
   },
   "outputs": [],
   "source": [
    "df = pd.DataFrame({\"A\" : [\"one\", \"one\", \"two\", \"three\"] * 3,\n",
    "                   \"B\" : [\"A\", \"B\", \"C\"] * 4,\n",
    "                   \"C\" : [\"foo\", \"foo\", \"foo\", \"bar\", \"bar\", \"bar\"] *2,\n",
    "                   \"D\" : np.random.randn(12),\n",
    "                   \"E\" : np.random.randn(12)})"
   ]
  },
  {
   "cell_type": "code",
   "execution_count": 106,
   "metadata": {},
   "outputs": [
    {
     "data": {
      "text/html": [
       "<div>\n",
       "<style>\n",
       "    .dataframe thead tr:only-child th {\n",
       "        text-align: right;\n",
       "    }\n",
       "\n",
       "    .dataframe thead th {\n",
       "        text-align: left;\n",
       "    }\n",
       "\n",
       "    .dataframe tbody tr th {\n",
       "        vertical-align: top;\n",
       "    }\n",
       "</style>\n",
       "<table border=\"1\" class=\"dataframe\">\n",
       "  <thead>\n",
       "    <tr style=\"text-align: right;\">\n",
       "      <th></th>\n",
       "      <th>A</th>\n",
       "      <th>B</th>\n",
       "      <th>C</th>\n",
       "      <th>D</th>\n",
       "      <th>E</th>\n",
       "    </tr>\n",
       "  </thead>\n",
       "  <tbody>\n",
       "    <tr>\n",
       "      <th>0</th>\n",
       "      <td>one</td>\n",
       "      <td>A</td>\n",
       "      <td>foo</td>\n",
       "      <td>1.397181</td>\n",
       "      <td>1.168903</td>\n",
       "    </tr>\n",
       "    <tr>\n",
       "      <th>1</th>\n",
       "      <td>one</td>\n",
       "      <td>B</td>\n",
       "      <td>foo</td>\n",
       "      <td>2.290378</td>\n",
       "      <td>0.101626</td>\n",
       "    </tr>\n",
       "    <tr>\n",
       "      <th>2</th>\n",
       "      <td>two</td>\n",
       "      <td>C</td>\n",
       "      <td>foo</td>\n",
       "      <td>-0.727774</td>\n",
       "      <td>0.460381</td>\n",
       "    </tr>\n",
       "    <tr>\n",
       "      <th>3</th>\n",
       "      <td>three</td>\n",
       "      <td>A</td>\n",
       "      <td>bar</td>\n",
       "      <td>-0.235375</td>\n",
       "      <td>-1.314015</td>\n",
       "    </tr>\n",
       "    <tr>\n",
       "      <th>4</th>\n",
       "      <td>one</td>\n",
       "      <td>B</td>\n",
       "      <td>bar</td>\n",
       "      <td>0.296662</td>\n",
       "      <td>-1.767746</td>\n",
       "    </tr>\n",
       "    <tr>\n",
       "      <th>5</th>\n",
       "      <td>one</td>\n",
       "      <td>C</td>\n",
       "      <td>bar</td>\n",
       "      <td>-0.054017</td>\n",
       "      <td>-1.767399</td>\n",
       "    </tr>\n",
       "    <tr>\n",
       "      <th>6</th>\n",
       "      <td>two</td>\n",
       "      <td>A</td>\n",
       "      <td>foo</td>\n",
       "      <td>0.750618</td>\n",
       "      <td>1.664524</td>\n",
       "    </tr>\n",
       "    <tr>\n",
       "      <th>7</th>\n",
       "      <td>three</td>\n",
       "      <td>B</td>\n",
       "      <td>foo</td>\n",
       "      <td>-0.657785</td>\n",
       "      <td>-0.390248</td>\n",
       "    </tr>\n",
       "    <tr>\n",
       "      <th>8</th>\n",
       "      <td>one</td>\n",
       "      <td>C</td>\n",
       "      <td>foo</td>\n",
       "      <td>-1.876667</td>\n",
       "      <td>-1.563247</td>\n",
       "    </tr>\n",
       "    <tr>\n",
       "      <th>9</th>\n",
       "      <td>one</td>\n",
       "      <td>A</td>\n",
       "      <td>bar</td>\n",
       "      <td>-0.853347</td>\n",
       "      <td>1.016484</td>\n",
       "    </tr>\n",
       "    <tr>\n",
       "      <th>10</th>\n",
       "      <td>two</td>\n",
       "      <td>B</td>\n",
       "      <td>bar</td>\n",
       "      <td>-0.773304</td>\n",
       "      <td>-0.171176</td>\n",
       "    </tr>\n",
       "    <tr>\n",
       "      <th>11</th>\n",
       "      <td>three</td>\n",
       "      <td>C</td>\n",
       "      <td>bar</td>\n",
       "      <td>-0.742309</td>\n",
       "      <td>-0.122132</td>\n",
       "    </tr>\n",
       "  </tbody>\n",
       "</table>\n",
       "</div>"
      ],
      "text/plain": [
       "        A  B    C         D         E\n",
       "0     one  A  foo  1.397181  1.168903\n",
       "1     one  B  foo  2.290378  0.101626\n",
       "2     two  C  foo -0.727774  0.460381\n",
       "3   three  A  bar -0.235375 -1.314015\n",
       "4     one  B  bar  0.296662 -1.767746\n",
       "5     one  C  bar -0.054017 -1.767399\n",
       "6     two  A  foo  0.750618  1.664524\n",
       "7   three  B  foo -0.657785 -0.390248\n",
       "8     one  C  foo -1.876667 -1.563247\n",
       "9     one  A  bar -0.853347  1.016484\n",
       "10    two  B  bar -0.773304 -0.171176\n",
       "11  three  C  bar -0.742309 -0.122132"
      ]
     },
     "execution_count": 106,
     "metadata": {},
     "output_type": "execute_result"
    }
   ],
   "source": [
    "df"
   ]
  },
  {
   "cell_type": "code",
   "execution_count": 107,
   "metadata": {},
   "outputs": [
    {
     "data": {
      "text/html": [
       "<div>\n",
       "<style>\n",
       "    .dataframe thead tr:only-child th {\n",
       "        text-align: right;\n",
       "    }\n",
       "\n",
       "    .dataframe thead th {\n",
       "        text-align: left;\n",
       "    }\n",
       "\n",
       "    .dataframe tbody tr th {\n",
       "        vertical-align: top;\n",
       "    }\n",
       "</style>\n",
       "<table border=\"1\" class=\"dataframe\">\n",
       "  <thead>\n",
       "    <tr style=\"text-align: right;\">\n",
       "      <th></th>\n",
       "      <th>C</th>\n",
       "      <th>bar</th>\n",
       "      <th>foo</th>\n",
       "    </tr>\n",
       "    <tr>\n",
       "      <th>A</th>\n",
       "      <th>B</th>\n",
       "      <th></th>\n",
       "      <th></th>\n",
       "    </tr>\n",
       "  </thead>\n",
       "  <tbody>\n",
       "    <tr>\n",
       "      <th rowspan=\"3\" valign=\"top\">one</th>\n",
       "      <th>A</th>\n",
       "      <td>-0.853347</td>\n",
       "      <td>1.397181</td>\n",
       "    </tr>\n",
       "    <tr>\n",
       "      <th>B</th>\n",
       "      <td>0.296662</td>\n",
       "      <td>2.290378</td>\n",
       "    </tr>\n",
       "    <tr>\n",
       "      <th>C</th>\n",
       "      <td>-0.054017</td>\n",
       "      <td>-1.876667</td>\n",
       "    </tr>\n",
       "    <tr>\n",
       "      <th rowspan=\"3\" valign=\"top\">three</th>\n",
       "      <th>A</th>\n",
       "      <td>-0.235375</td>\n",
       "      <td>NaN</td>\n",
       "    </tr>\n",
       "    <tr>\n",
       "      <th>B</th>\n",
       "      <td>NaN</td>\n",
       "      <td>-0.657785</td>\n",
       "    </tr>\n",
       "    <tr>\n",
       "      <th>C</th>\n",
       "      <td>-0.742309</td>\n",
       "      <td>NaN</td>\n",
       "    </tr>\n",
       "    <tr>\n",
       "      <th rowspan=\"3\" valign=\"top\">two</th>\n",
       "      <th>A</th>\n",
       "      <td>NaN</td>\n",
       "      <td>0.750618</td>\n",
       "    </tr>\n",
       "    <tr>\n",
       "      <th>B</th>\n",
       "      <td>-0.773304</td>\n",
       "      <td>NaN</td>\n",
       "    </tr>\n",
       "    <tr>\n",
       "      <th>C</th>\n",
       "      <td>NaN</td>\n",
       "      <td>-0.727774</td>\n",
       "    </tr>\n",
       "  </tbody>\n",
       "</table>\n",
       "</div>"
      ],
      "text/plain": [
       "C             bar       foo\n",
       "A     B                    \n",
       "one   A -0.853347  1.397181\n",
       "      B  0.296662  2.290378\n",
       "      C -0.054017 -1.876667\n",
       "three A -0.235375       NaN\n",
       "      B       NaN -0.657785\n",
       "      C -0.742309       NaN\n",
       "two   A       NaN  0.750618\n",
       "      B -0.773304       NaN\n",
       "      C       NaN -0.727774"
      ]
     },
     "execution_count": 107,
     "metadata": {},
     "output_type": "execute_result"
    }
   ],
   "source": [
    "pd.pivot_table(df, values=\"D\", index=[\"A\", \"B\"], columns=[\"C\"])"
   ]
  },
  {
   "cell_type": "markdown",
   "metadata": {
    "collapsed": true
   },
   "source": [
    "# 時間序列"
   ]
  },
  {
   "cell_type": "code",
   "execution_count": 108,
   "metadata": {
    "collapsed": true
   },
   "outputs": [],
   "source": [
    "rng = pd.date_range(\"1/1/2012\", periods=100, freq=\"S\")"
   ]
  },
  {
   "cell_type": "code",
   "execution_count": 109,
   "metadata": {
    "collapsed": true
   },
   "outputs": [],
   "source": [
    "ts = pd.Series(np.random.randint(0, 500, len(rng)), index=rng)"
   ]
  },
  {
   "cell_type": "code",
   "execution_count": 110,
   "metadata": {},
   "outputs": [
    {
     "data": {
      "text/plain": [
       "2012-01-01    25023\n",
       "Freq: 5T, dtype: int32"
      ]
     },
     "execution_count": 110,
     "metadata": {},
     "output_type": "execute_result"
    }
   ],
   "source": [
    "ts.resample(\"5Min\").sum()"
   ]
  },
  {
   "cell_type": "markdown",
   "metadata": {},
   "source": [
    "### 時區表示"
   ]
  },
  {
   "cell_type": "code",
   "execution_count": 111,
   "metadata": {
    "collapsed": true
   },
   "outputs": [],
   "source": [
    "rng = pd.date_range(\"3/6/2012 00:00\", periods=5, freq=\"D\")"
   ]
  },
  {
   "cell_type": "code",
   "execution_count": 112,
   "metadata": {
    "collapsed": true
   },
   "outputs": [],
   "source": [
    "ts = pd.Series(np.random.randn(len(rng)), rng)"
   ]
  },
  {
   "cell_type": "code",
   "execution_count": 113,
   "metadata": {},
   "outputs": [
    {
     "data": {
      "text/plain": [
       "2012-03-06    0.407351\n",
       "2012-03-07    1.794579\n",
       "2012-03-08    0.230014\n",
       "2012-03-09    1.296159\n",
       "2012-03-10    0.485889\n",
       "Freq: D, dtype: float64"
      ]
     },
     "execution_count": 113,
     "metadata": {},
     "output_type": "execute_result"
    }
   ],
   "source": [
    "ts"
   ]
  },
  {
   "cell_type": "code",
   "execution_count": 114,
   "metadata": {
    "collapsed": true
   },
   "outputs": [],
   "source": [
    "ts_utc = ts.tz_localize(\"UTC\")"
   ]
  },
  {
   "cell_type": "code",
   "execution_count": 115,
   "metadata": {},
   "outputs": [
    {
     "data": {
      "text/plain": [
       "2012-03-06 00:00:00+00:00    0.407351\n",
       "2012-03-07 00:00:00+00:00    1.794579\n",
       "2012-03-08 00:00:00+00:00    0.230014\n",
       "2012-03-09 00:00:00+00:00    1.296159\n",
       "2012-03-10 00:00:00+00:00    0.485889\n",
       "Freq: D, dtype: float64"
      ]
     },
     "execution_count": 115,
     "metadata": {},
     "output_type": "execute_result"
    }
   ],
   "source": [
    "ts_utc"
   ]
  },
  {
   "cell_type": "markdown",
   "metadata": {},
   "source": [
    "### 時區轉換 "
   ]
  },
  {
   "cell_type": "code",
   "execution_count": 116,
   "metadata": {},
   "outputs": [
    {
     "data": {
      "text/plain": [
       "2012-03-05 19:00:00-05:00    0.407351\n",
       "2012-03-06 19:00:00-05:00    1.794579\n",
       "2012-03-07 19:00:00-05:00    0.230014\n",
       "2012-03-08 19:00:00-05:00    1.296159\n",
       "2012-03-09 19:00:00-05:00    0.485889\n",
       "Freq: D, dtype: float64"
      ]
     },
     "execution_count": 116,
     "metadata": {},
     "output_type": "execute_result"
    }
   ],
   "source": [
    "ts_utc.tz_convert(\"US/Eastern\")"
   ]
  },
  {
   "cell_type": "markdown",
   "metadata": {},
   "source": [
    "### 時間跨度轉換"
   ]
  },
  {
   "cell_type": "code",
   "execution_count": 117,
   "metadata": {
    "collapsed": true
   },
   "outputs": [],
   "source": [
    "rng = pd.date_range(\"1/1/2012\", periods=5, freq=\"M\")"
   ]
  },
  {
   "cell_type": "code",
   "execution_count": 118,
   "metadata": {
    "collapsed": true
   },
   "outputs": [],
   "source": [
    "ts = pd.Series(np.random.randn(len(rng)), index=rng)"
   ]
  },
  {
   "cell_type": "code",
   "execution_count": 119,
   "metadata": {},
   "outputs": [
    {
     "data": {
      "text/plain": [
       "2012-01-31    1.776020\n",
       "2012-02-29   -1.106750\n",
       "2012-03-31   -1.197754\n",
       "2012-04-30    2.152948\n",
       "2012-05-31    0.868300\n",
       "Freq: M, dtype: float64"
      ]
     },
     "execution_count": 119,
     "metadata": {},
     "output_type": "execute_result"
    }
   ],
   "source": [
    "ts"
   ]
  },
  {
   "cell_type": "code",
   "execution_count": 120,
   "metadata": {
    "collapsed": true
   },
   "outputs": [],
   "source": [
    "ps = ts.to_period()"
   ]
  },
  {
   "cell_type": "code",
   "execution_count": 121,
   "metadata": {},
   "outputs": [
    {
     "data": {
      "text/plain": [
       "2012-01    1.776020\n",
       "2012-02   -1.106750\n",
       "2012-03   -1.197754\n",
       "2012-04    2.152948\n",
       "2012-05    0.868300\n",
       "Freq: M, dtype: float64"
      ]
     },
     "execution_count": 121,
     "metadata": {},
     "output_type": "execute_result"
    }
   ],
   "source": [
    "ps"
   ]
  },
  {
   "cell_type": "code",
   "execution_count": 122,
   "metadata": {},
   "outputs": [
    {
     "data": {
      "text/plain": [
       "2012-01-01    1.776020\n",
       "2012-02-01   -1.106750\n",
       "2012-03-01   -1.197754\n",
       "2012-04-01    2.152948\n",
       "2012-05-01    0.868300\n",
       "Freq: MS, dtype: float64"
      ]
     },
     "execution_count": 122,
     "metadata": {},
     "output_type": "execute_result"
    }
   ],
   "source": [
    "ps.to_timestamp()"
   ]
  },
  {
   "cell_type": "markdown",
   "metadata": {},
   "source": [
    "### 時間和時間戳之間的轉換使得可以使用一些方便的算術函數"
   ]
  },
  {
   "cell_type": "code",
   "execution_count": 123,
   "metadata": {
    "collapsed": true
   },
   "outputs": [],
   "source": [
    "prng = pd.period_range(\"1990Q1\", \"2000Q4\", freq=\"Q-NOV\")"
   ]
  },
  {
   "cell_type": "code",
   "execution_count": 124,
   "metadata": {
    "collapsed": true
   },
   "outputs": [],
   "source": [
    "ts = pd.Series(np.random.randn(len(prng)), prng)"
   ]
  },
  {
   "cell_type": "code",
   "execution_count": 125,
   "metadata": {
    "collapsed": true
   },
   "outputs": [],
   "source": [
    "ts.index = (prng.asfreq(\"M\", \"e\") + 1).asfreq(\"H\", \"s\") + 9"
   ]
  },
  {
   "cell_type": "code",
   "execution_count": 126,
   "metadata": {},
   "outputs": [
    {
     "data": {
      "text/plain": [
       "1990-03-01 09:00    0.557438\n",
       "1990-06-01 09:00    1.182545\n",
       "1990-09-01 09:00    1.226486\n",
       "1990-12-01 09:00    0.683080\n",
       "1991-03-01 09:00    0.059538\n",
       "Freq: H, dtype: float64"
      ]
     },
     "execution_count": 126,
     "metadata": {},
     "output_type": "execute_result"
    }
   ],
   "source": [
    "ts.head()"
   ]
  },
  {
   "cell_type": "markdown",
   "metadata": {},
   "source": [
    "# Categorical"
   ]
  },
  {
   "cell_type": "code",
   "execution_count": 127,
   "metadata": {
    "collapsed": true
   },
   "outputs": [],
   "source": [
    "df = pd.DataFrame({\"id\":[1, 2, 3, 4, 5, 6], \"raw_grade\":[\"a\", \"b\", \"b\", \"a\", \"a\", \"e\"]})"
   ]
  },
  {
   "cell_type": "markdown",
   "metadata": {},
   "source": [
    "### 將原始的grade 轉換為Categorical數據類型"
   ]
  },
  {
   "cell_type": "code",
   "execution_count": 128,
   "metadata": {
    "collapsed": true
   },
   "outputs": [],
   "source": [
    "df[\"grade\"] = df[\"raw_grade\"].astype(\"category\")"
   ]
  },
  {
   "cell_type": "code",
   "execution_count": 129,
   "metadata": {},
   "outputs": [
    {
     "data": {
      "text/plain": [
       "0    a\n",
       "1    b\n",
       "2    b\n",
       "3    a\n",
       "4    a\n",
       "5    e\n",
       "Name: grade, dtype: category\n",
       "Categories (3, object): [a, b, e]"
      ]
     },
     "execution_count": 129,
     "metadata": {},
     "output_type": "execute_result"
    }
   ],
   "source": [
    "df[\"grade\"]"
   ]
  },
  {
   "cell_type": "markdown",
   "metadata": {},
   "source": [
    "### 將Categorical類型數據重命名"
   ]
  },
  {
   "cell_type": "code",
   "execution_count": 130,
   "metadata": {
    "collapsed": true
   },
   "outputs": [],
   "source": [
    "df[\"grade\"].cat.categories = [\"very good\", \"good\", \"very bad\"]"
   ]
  },
  {
   "cell_type": "markdown",
   "metadata": {},
   "source": [
    "### 對類別進行重新排序,增加缺失的類別"
   ]
  },
  {
   "cell_type": "code",
   "execution_count": 131,
   "metadata": {
    "collapsed": true
   },
   "outputs": [],
   "source": [
    "df[\"grade\"] = df[\"grade\"].cat.set_categories([\"very bad\", \"bad\", \"medium\", \"good\", \"very good\"])"
   ]
  },
  {
   "cell_type": "code",
   "execution_count": 132,
   "metadata": {},
   "outputs": [
    {
     "data": {
      "text/plain": [
       "0    very good\n",
       "1         good\n",
       "2         good\n",
       "3    very good\n",
       "4    very good\n",
       "5     very bad\n",
       "Name: grade, dtype: category\n",
       "Categories (5, object): [very bad, bad, medium, good, very good]"
      ]
     },
     "execution_count": 132,
     "metadata": {},
     "output_type": "execute_result"
    }
   ],
   "source": [
    "df[\"grade\"]"
   ]
  },
  {
   "cell_type": "markdown",
   "metadata": {},
   "source": [
    "### 排序是按照Categorical的順序進行的而不是按照字典順序"
   ]
  },
  {
   "cell_type": "code",
   "execution_count": 133,
   "metadata": {},
   "outputs": [
    {
     "data": {
      "text/html": [
       "<div>\n",
       "<style>\n",
       "    .dataframe thead tr:only-child th {\n",
       "        text-align: right;\n",
       "    }\n",
       "\n",
       "    .dataframe thead th {\n",
       "        text-align: left;\n",
       "    }\n",
       "\n",
       "    .dataframe tbody tr th {\n",
       "        vertical-align: top;\n",
       "    }\n",
       "</style>\n",
       "<table border=\"1\" class=\"dataframe\">\n",
       "  <thead>\n",
       "    <tr style=\"text-align: right;\">\n",
       "      <th></th>\n",
       "      <th>id</th>\n",
       "      <th>raw_grade</th>\n",
       "      <th>grade</th>\n",
       "    </tr>\n",
       "  </thead>\n",
       "  <tbody>\n",
       "    <tr>\n",
       "      <th>5</th>\n",
       "      <td>6</td>\n",
       "      <td>e</td>\n",
       "      <td>very bad</td>\n",
       "    </tr>\n",
       "    <tr>\n",
       "      <th>1</th>\n",
       "      <td>2</td>\n",
       "      <td>b</td>\n",
       "      <td>good</td>\n",
       "    </tr>\n",
       "    <tr>\n",
       "      <th>2</th>\n",
       "      <td>3</td>\n",
       "      <td>b</td>\n",
       "      <td>good</td>\n",
       "    </tr>\n",
       "    <tr>\n",
       "      <th>0</th>\n",
       "      <td>1</td>\n",
       "      <td>a</td>\n",
       "      <td>very good</td>\n",
       "    </tr>\n",
       "    <tr>\n",
       "      <th>3</th>\n",
       "      <td>4</td>\n",
       "      <td>a</td>\n",
       "      <td>very good</td>\n",
       "    </tr>\n",
       "    <tr>\n",
       "      <th>4</th>\n",
       "      <td>5</td>\n",
       "      <td>a</td>\n",
       "      <td>very good</td>\n",
       "    </tr>\n",
       "  </tbody>\n",
       "</table>\n",
       "</div>"
      ],
      "text/plain": [
       "   id raw_grade      grade\n",
       "5   6         e   very bad\n",
       "1   2         b       good\n",
       "2   3         b       good\n",
       "0   1         a  very good\n",
       "3   4         a  very good\n",
       "4   5         a  very good"
      ]
     },
     "execution_count": 133,
     "metadata": {},
     "output_type": "execute_result"
    }
   ],
   "source": [
    "df.sort_values(by=\"grade\")"
   ]
  },
  {
   "cell_type": "markdown",
   "metadata": {},
   "source": [
    "### 對Categorical列進行排序時存在空的類別"
   ]
  },
  {
   "cell_type": "code",
   "execution_count": 134,
   "metadata": {},
   "outputs": [
    {
     "data": {
      "text/plain": [
       "grade\n",
       "very bad     1\n",
       "bad          0\n",
       "medium       0\n",
       "good         2\n",
       "very good    3\n",
       "dtype: int64"
      ]
     },
     "execution_count": 134,
     "metadata": {},
     "output_type": "execute_result"
    }
   ],
   "source": [
    "df.groupby(\"grade\").size()"
   ]
  },
  {
   "cell_type": "markdown",
   "metadata": {},
   "source": [
    "# 畫圖"
   ]
  },
  {
   "cell_type": "code",
   "execution_count": 135,
   "metadata": {
    "collapsed": true
   },
   "outputs": [],
   "source": [
    "## 秀圖在下面\n",
    "%matplotlib inline"
   ]
  },
  {
   "cell_type": "code",
   "execution_count": 136,
   "metadata": {
    "collapsed": true
   },
   "outputs": [],
   "source": [
    "ts = pd.Series(np.random.randn(1000), index=pd.date_range(\"1/1/2000\", periods=1000))"
   ]
  },
  {
   "cell_type": "code",
   "execution_count": 137,
   "metadata": {
    "collapsed": true
   },
   "outputs": [],
   "source": [
    "ts = ts.cumsum()"
   ]
  },
  {
   "cell_type": "code",
   "execution_count": 138,
   "metadata": {},
   "outputs": [
    {
     "data": {
      "text/plain": [
       "<matplotlib.axes._subplots.AxesSubplot at 0x9dd5ac8>"
      ]
     },
     "execution_count": 138,
     "metadata": {},
     "output_type": "execute_result"
    },
    {
     "data": {
      "image/png": "[encoded data removed]",
      "text/plain": [
       "<matplotlib.figure.Figure at 0x9dd50f0>"
      ]
     },
     "metadata": {},
     "output_type": "display_data"
    }
   ],
   "source": [
    "ts.plot()"
   ]
  },
  {
   "cell_type": "code",
   "execution_count": 139,
   "metadata": {
    "collapsed": true
   },
   "outputs": [],
   "source": [
    "df = pd.DataFrame(np.random.randn(1000, 4), index=ts.index, columns=[\"A\", \"B\", \"C\", \"D\"])"
   ]
  },
  {
   "cell_type": "code",
   "execution_count": 140,
   "metadata": {
    "collapsed": true
   },
   "outputs": [],
   "source": [
    "df = df.cumsum()"
   ]
  },
  {
   "cell_type": "code",
   "execution_count": 141,
   "metadata": {},
   "outputs": [
    {
     "data": {
      "text/plain": [
       "<matplotlib.figure.Figure at 0xa3a8a58>"
      ]
     },
     "metadata": {},
     "output_type": "display_data"
    },
    {
     "data": {
      "image/png": "[encoded data removed]",
      "text/plain": [
       "<matplotlib.figure.Figure at 0xa394940>"
      ]
     },
     "metadata": {},
     "output_type": "display_data"
    }
   ],
   "source": [
    "plt.figure();df.plot();plt.legend(loc = \"best\");"
   ]
  },
  {
   "cell_type": "markdown",
   "metadata": {},
   "source": [
    "# 導入和保存數據"
   ]
  },
  {
   "cell_type": "markdown",
   "metadata": {},
   "source": [
    "# CSV"
   ]
  },
  {
   "cell_type": "markdown",
   "metadata": {},
   "source": [
    "### 寫入CSV文件"
   ]
  },
  {
   "cell_type": "code",
   "execution_count": 142,
   "metadata": {
    "collapsed": true
   },
   "outputs": [],
   "source": [
    "df.to_csv(\"foo.csv\")"
   ]
  },
  {
   "cell_type": "markdown",
   "metadata": {},
   "source": [
    "### 從CSV文件中讀取"
   ]
  },
  {
   "cell_type": "code",
   "execution_count": 143,
   "metadata": {
    "scrolled": true
   },
   "outputs": [
    {
     "data": {
      "text/html": [
       "<div>\n",
       "<style>\n",
       "    .dataframe thead tr:only-child th {\n",
       "        text-align: right;\n",
       "    }\n",
       "\n",
       "    .dataframe thead th {\n",
       "        text-align: left;\n",
       "    }\n",
       "\n",
       "    .dataframe tbody tr th {\n",
       "        vertical-align: top;\n",
       "    }\n",
       "</style>\n",
       "<table border=\"1\" class=\"dataframe\">\n",
       "  <thead>\n",
       "    <tr style=\"text-align: right;\">\n",
       "      <th></th>\n",
       "      <th>Unnamed: 0</th>\n",
       "      <th>A</th>\n",
       "      <th>B</th>\n",
       "      <th>C</th>\n",
       "      <th>D</th>\n",
       "    </tr>\n",
       "  </thead>\n",
       "  <tbody>\n",
       "    <tr>\n",
       "      <th>0</th>\n",
       "      <td>2000-01-01</td>\n",
       "      <td>-0.822498</td>\n",
       "      <td>-1.034981</td>\n",
       "      <td>-0.285241</td>\n",
       "      <td>-0.035812</td>\n",
       "    </tr>\n",
       "    <tr>\n",
       "      <th>1</th>\n",
       "      <td>2000-01-02</td>\n",
       "      <td>-2.815449</td>\n",
       "      <td>-1.303158</td>\n",
       "      <td>-0.327390</td>\n",
       "      <td>-1.456639</td>\n",
       "    </tr>\n",
       "    <tr>\n",
       "      <th>2</th>\n",
       "      <td>2000-01-03</td>\n",
       "      <td>-3.562935</td>\n",
       "      <td>-1.190094</td>\n",
       "      <td>-0.994156</td>\n",
       "      <td>-1.103072</td>\n",
       "    </tr>\n",
       "    <tr>\n",
       "      <th>3</th>\n",
       "      <td>2000-01-04</td>\n",
       "      <td>-4.189860</td>\n",
       "      <td>-0.772614</td>\n",
       "      <td>-1.177311</td>\n",
       "      <td>-1.730098</td>\n",
       "    </tr>\n",
       "    <tr>\n",
       "      <th>4</th>\n",
       "      <td>2000-01-05</td>\n",
       "      <td>-4.563227</td>\n",
       "      <td>-0.467438</td>\n",
       "      <td>-0.377068</td>\n",
       "      <td>-2.573929</td>\n",
       "    </tr>\n",
       "    <tr>\n",
       "      <th>5</th>\n",
       "      <td>2000-01-06</td>\n",
       "      <td>-4.294649</td>\n",
       "      <td>-0.712000</td>\n",
       "      <td>0.565672</td>\n",
       "      <td>-1.724450</td>\n",
       "    </tr>\n",
       "    <tr>\n",
       "      <th>6</th>\n",
       "      <td>2000-01-07</td>\n",
       "      <td>-4.145274</td>\n",
       "      <td>0.108880</td>\n",
       "      <td>0.532297</td>\n",
       "      <td>-1.890351</td>\n",
       "    </tr>\n",
       "    <tr>\n",
       "      <th>7</th>\n",
       "      <td>2000-01-08</td>\n",
       "      <td>-3.543464</td>\n",
       "      <td>1.214840</td>\n",
       "      <td>0.370833</td>\n",
       "      <td>-2.833043</td>\n",
       "    </tr>\n",
       "    <tr>\n",
       "      <th>8</th>\n",
       "      <td>2000-01-09</td>\n",
       "      <td>-3.919530</td>\n",
       "      <td>1.601509</td>\n",
       "      <td>1.713863</td>\n",
       "      <td>-3.344169</td>\n",
       "    </tr>\n",
       "    <tr>\n",
       "      <th>9</th>\n",
       "      <td>2000-01-10</td>\n",
       "      <td>-4.998280</td>\n",
       "      <td>2.475263</td>\n",
       "      <td>2.004112</td>\n",
       "      <td>-2.703736</td>\n",
       "    </tr>\n",
       "    <tr>\n",
       "      <th>10</th>\n",
       "      <td>2000-01-11</td>\n",
       "      <td>-5.619463</td>\n",
       "      <td>1.847360</td>\n",
       "      <td>-0.799264</td>\n",
       "      <td>-2.331324</td>\n",
       "    </tr>\n",
       "    <tr>\n",
       "      <th>11</th>\n",
       "      <td>2000-01-12</td>\n",
       "      <td>-4.348113</td>\n",
       "      <td>1.247092</td>\n",
       "      <td>-1.520329</td>\n",
       "      <td>-2.402860</td>\n",
       "    </tr>\n",
       "    <tr>\n",
       "      <th>12</th>\n",
       "      <td>2000-01-13</td>\n",
       "      <td>-2.661906</td>\n",
       "      <td>3.501130</td>\n",
       "      <td>-1.992866</td>\n",
       "      <td>-1.437233</td>\n",
       "    </tr>\n",
       "    <tr>\n",
       "      <th>13</th>\n",
       "      <td>2000-01-14</td>\n",
       "      <td>-4.039936</td>\n",
       "      <td>4.013953</td>\n",
       "      <td>-1.988440</td>\n",
       "      <td>-2.078277</td>\n",
       "    </tr>\n",
       "    <tr>\n",
       "      <th>14</th>\n",
       "      <td>2000-01-15</td>\n",
       "      <td>-3.628723</td>\n",
       "      <td>2.753973</td>\n",
       "      <td>-1.384913</td>\n",
       "      <td>-2.831584</td>\n",
       "    </tr>\n",
       "    <tr>\n",
       "      <th>15</th>\n",
       "      <td>2000-01-16</td>\n",
       "      <td>-2.536774</td>\n",
       "      <td>2.254055</td>\n",
       "      <td>-2.456072</td>\n",
       "      <td>-2.671567</td>\n",
       "    </tr>\n",
       "    <tr>\n",
       "      <th>16</th>\n",
       "      <td>2000-01-17</td>\n",
       "      <td>-2.435578</td>\n",
       "      <td>2.051019</td>\n",
       "      <td>-1.600955</td>\n",
       "      <td>-2.906289</td>\n",
       "    </tr>\n",
       "    <tr>\n",
       "      <th>17</th>\n",
       "      <td>2000-01-18</td>\n",
       "      <td>-2.101438</td>\n",
       "      <td>2.576133</td>\n",
       "      <td>-0.666183</td>\n",
       "      <td>-4.610631</td>\n",
       "    </tr>\n",
       "    <tr>\n",
       "      <th>18</th>\n",
       "      <td>2000-01-19</td>\n",
       "      <td>-1.389316</td>\n",
       "      <td>1.785455</td>\n",
       "      <td>1.651549</td>\n",
       "      <td>-4.566756</td>\n",
       "    </tr>\n",
       "    <tr>\n",
       "      <th>19</th>\n",
       "      <td>2000-01-20</td>\n",
       "      <td>-2.310414</td>\n",
       "      <td>2.354480</td>\n",
       "      <td>3.570945</td>\n",
       "      <td>-5.376047</td>\n",
       "    </tr>\n",
       "    <tr>\n",
       "      <th>20</th>\n",
       "      <td>2000-01-21</td>\n",
       "      <td>-3.011647</td>\n",
       "      <td>1.908839</td>\n",
       "      <td>3.459151</td>\n",
       "      <td>-4.900375</td>\n",
       "    </tr>\n",
       "    <tr>\n",
       "      <th>21</th>\n",
       "      <td>2000-01-22</td>\n",
       "      <td>-1.458039</td>\n",
       "      <td>3.662788</td>\n",
       "      <td>3.772249</td>\n",
       "      <td>-6.287566</td>\n",
       "    </tr>\n",
       "    <tr>\n",
       "      <th>22</th>\n",
       "      <td>2000-01-23</td>\n",
       "      <td>-3.400221</td>\n",
       "      <td>6.063549</td>\n",
       "      <td>1.748699</td>\n",
       "      <td>-3.543101</td>\n",
       "    </tr>\n",
       "    <tr>\n",
       "      <th>23</th>\n",
       "      <td>2000-01-24</td>\n",
       "      <td>-2.532424</td>\n",
       "      <td>6.334043</td>\n",
       "      <td>1.972568</td>\n",
       "      <td>-3.405972</td>\n",
       "    </tr>\n",
       "    <tr>\n",
       "      <th>24</th>\n",
       "      <td>2000-01-25</td>\n",
       "      <td>-2.344013</td>\n",
       "      <td>6.866457</td>\n",
       "      <td>2.561329</td>\n",
       "      <td>-4.990319</td>\n",
       "    </tr>\n",
       "    <tr>\n",
       "      <th>25</th>\n",
       "      <td>2000-01-26</td>\n",
       "      <td>-0.874784</td>\n",
       "      <td>5.870354</td>\n",
       "      <td>1.981842</td>\n",
       "      <td>-4.752227</td>\n",
       "    </tr>\n",
       "    <tr>\n",
       "      <th>26</th>\n",
       "      <td>2000-01-27</td>\n",
       "      <td>0.646110</td>\n",
       "      <td>4.969291</td>\n",
       "      <td>3.907203</td>\n",
       "      <td>-4.339870</td>\n",
       "    </tr>\n",
       "    <tr>\n",
       "      <th>27</th>\n",
       "      <td>2000-01-28</td>\n",
       "      <td>-0.551367</td>\n",
       "      <td>4.177699</td>\n",
       "      <td>4.792064</td>\n",
       "      <td>-4.793636</td>\n",
       "    </tr>\n",
       "    <tr>\n",
       "      <th>28</th>\n",
       "      <td>2000-01-29</td>\n",
       "      <td>-0.710192</td>\n",
       "      <td>4.806704</td>\n",
       "      <td>4.706709</td>\n",
       "      <td>-5.853256</td>\n",
       "    </tr>\n",
       "    <tr>\n",
       "      <th>29</th>\n",
       "      <td>2000-01-30</td>\n",
       "      <td>-0.516302</td>\n",
       "      <td>6.635023</td>\n",
       "      <td>4.551845</td>\n",
       "      <td>-5.918772</td>\n",
       "    </tr>\n",
       "    <tr>\n",
       "      <th>...</th>\n",
       "      <td>...</td>\n",
       "      <td>...</td>\n",
       "      <td>...</td>\n",
       "      <td>...</td>\n",
       "      <td>...</td>\n",
       "    </tr>\n",
       "    <tr>\n",
       "      <th>970</th>\n",
       "      <td>2002-08-28</td>\n",
       "      <td>-30.833111</td>\n",
       "      <td>8.045406</td>\n",
       "      <td>-20.117893</td>\n",
       "      <td>-21.600244</td>\n",
       "    </tr>\n",
       "    <tr>\n",
       "      <th>971</th>\n",
       "      <td>2002-08-29</td>\n",
       "      <td>-29.261349</td>\n",
       "      <td>8.724998</td>\n",
       "      <td>-20.040524</td>\n",
       "      <td>-22.232678</td>\n",
       "    </tr>\n",
       "    <tr>\n",
       "      <th>972</th>\n",
       "      <td>2002-08-30</td>\n",
       "      <td>-28.926210</td>\n",
       "      <td>7.663260</td>\n",
       "      <td>-21.748747</td>\n",
       "      <td>-21.139842</td>\n",
       "    </tr>\n",
       "    <tr>\n",
       "      <th>973</th>\n",
       "      <td>2002-08-31</td>\n",
       "      <td>-28.970478</td>\n",
       "      <td>8.503136</td>\n",
       "      <td>-23.891506</td>\n",
       "      <td>-21.576548</td>\n",
       "    </tr>\n",
       "    <tr>\n",
       "      <th>974</th>\n",
       "      <td>2002-09-01</td>\n",
       "      <td>-29.306348</td>\n",
       "      <td>6.169174</td>\n",
       "      <td>-24.327492</td>\n",
       "      <td>-20.768916</td>\n",
       "    </tr>\n",
       "    <tr>\n",
       "      <th>975</th>\n",
       "      <td>2002-09-02</td>\n",
       "      <td>-30.506537</td>\n",
       "      <td>6.668762</td>\n",
       "      <td>-25.520905</td>\n",
       "      <td>-20.813245</td>\n",
       "    </tr>\n",
       "    <tr>\n",
       "      <th>976</th>\n",
       "      <td>2002-09-03</td>\n",
       "      <td>-30.620308</td>\n",
       "      <td>6.114543</td>\n",
       "      <td>-27.315028</td>\n",
       "      <td>-20.231639</td>\n",
       "    </tr>\n",
       "    <tr>\n",
       "      <th>977</th>\n",
       "      <td>2002-09-04</td>\n",
       "      <td>-30.655225</td>\n",
       "      <td>6.784006</td>\n",
       "      <td>-28.255218</td>\n",
       "      <td>-19.045021</td>\n",
       "    </tr>\n",
       "    <tr>\n",
       "      <th>978</th>\n",
       "      <td>2002-09-05</td>\n",
       "      <td>-29.525069</td>\n",
       "      <td>8.947657</td>\n",
       "      <td>-29.052141</td>\n",
       "      <td>-20.107515</td>\n",
       "    </tr>\n",
       "    <tr>\n",
       "      <th>979</th>\n",
       "      <td>2002-09-06</td>\n",
       "      <td>-29.833020</td>\n",
       "      <td>9.414035</td>\n",
       "      <td>-28.336428</td>\n",
       "      <td>-20.107905</td>\n",
       "    </tr>\n",
       "    <tr>\n",
       "      <th>980</th>\n",
       "      <td>2002-09-07</td>\n",
       "      <td>-29.251390</td>\n",
       "      <td>9.731585</td>\n",
       "      <td>-28.025679</td>\n",
       "      <td>-18.279077</td>\n",
       "    </tr>\n",
       "    <tr>\n",
       "      <th>981</th>\n",
       "      <td>2002-09-08</td>\n",
       "      <td>-31.231886</td>\n",
       "      <td>8.760366</td>\n",
       "      <td>-28.309908</td>\n",
       "      <td>-20.284184</td>\n",
       "    </tr>\n",
       "    <tr>\n",
       "      <th>982</th>\n",
       "      <td>2002-09-09</td>\n",
       "      <td>-31.284548</td>\n",
       "      <td>10.186607</td>\n",
       "      <td>-26.270144</td>\n",
       "      <td>-22.207187</td>\n",
       "    </tr>\n",
       "    <tr>\n",
       "      <th>983</th>\n",
       "      <td>2002-09-10</td>\n",
       "      <td>-30.963838</td>\n",
       "      <td>9.830522</td>\n",
       "      <td>-26.142458</td>\n",
       "      <td>-24.265833</td>\n",
       "    </tr>\n",
       "    <tr>\n",
       "      <th>984</th>\n",
       "      <td>2002-09-11</td>\n",
       "      <td>-29.228667</td>\n",
       "      <td>9.893671</td>\n",
       "      <td>-27.391679</td>\n",
       "      <td>-24.703427</td>\n",
       "    </tr>\n",
       "    <tr>\n",
       "      <th>985</th>\n",
       "      <td>2002-09-12</td>\n",
       "      <td>-29.826916</td>\n",
       "      <td>8.336012</td>\n",
       "      <td>-25.687959</td>\n",
       "      <td>-25.082243</td>\n",
       "    </tr>\n",
       "    <tr>\n",
       "      <th>986</th>\n",
       "      <td>2002-09-13</td>\n",
       "      <td>-29.189833</td>\n",
       "      <td>7.660054</td>\n",
       "      <td>-25.397506</td>\n",
       "      <td>-24.333856</td>\n",
       "    </tr>\n",
       "    <tr>\n",
       "      <th>987</th>\n",
       "      <td>2002-09-14</td>\n",
       "      <td>-30.362786</td>\n",
       "      <td>8.000106</td>\n",
       "      <td>-23.761373</td>\n",
       "      <td>-24.332264</td>\n",
       "    </tr>\n",
       "    <tr>\n",
       "      <th>988</th>\n",
       "      <td>2002-09-15</td>\n",
       "      <td>-31.198850</td>\n",
       "      <td>6.871618</td>\n",
       "      <td>-22.729806</td>\n",
       "      <td>-23.046849</td>\n",
       "    </tr>\n",
       "    <tr>\n",
       "      <th>989</th>\n",
       "      <td>2002-09-16</td>\n",
       "      <td>-30.464838</td>\n",
       "      <td>6.928003</td>\n",
       "      <td>-22.379376</td>\n",
       "      <td>-21.775398</td>\n",
       "    </tr>\n",
       "    <tr>\n",
       "      <th>990</th>\n",
       "      <td>2002-09-17</td>\n",
       "      <td>-29.973700</td>\n",
       "      <td>7.447574</td>\n",
       "      <td>-21.881760</td>\n",
       "      <td>-21.970800</td>\n",
       "    </tr>\n",
       "    <tr>\n",
       "      <th>991</th>\n",
       "      <td>2002-09-18</td>\n",
       "      <td>-28.801225</td>\n",
       "      <td>6.430640</td>\n",
       "      <td>-21.340090</td>\n",
       "      <td>-22.117191</td>\n",
       "    </tr>\n",
       "    <tr>\n",
       "      <th>992</th>\n",
       "      <td>2002-09-19</td>\n",
       "      <td>-29.282699</td>\n",
       "      <td>6.470559</td>\n",
       "      <td>-21.348314</td>\n",
       "      <td>-22.692655</td>\n",
       "    </tr>\n",
       "    <tr>\n",
       "      <th>993</th>\n",
       "      <td>2002-09-20</td>\n",
       "      <td>-29.711286</td>\n",
       "      <td>5.136673</td>\n",
       "      <td>-21.582732</td>\n",
       "      <td>-22.168261</td>\n",
       "    </tr>\n",
       "    <tr>\n",
       "      <th>994</th>\n",
       "      <td>2002-09-21</td>\n",
       "      <td>-31.622928</td>\n",
       "      <td>4.625709</td>\n",
       "      <td>-22.859073</td>\n",
       "      <td>-20.887790</td>\n",
       "    </tr>\n",
       "    <tr>\n",
       "      <th>995</th>\n",
       "      <td>2002-09-22</td>\n",
       "      <td>-31.421339</td>\n",
       "      <td>5.665111</td>\n",
       "      <td>-22.216392</td>\n",
       "      <td>-20.289557</td>\n",
       "    </tr>\n",
       "    <tr>\n",
       "      <th>996</th>\n",
       "      <td>2002-09-23</td>\n",
       "      <td>-31.473265</td>\n",
       "      <td>4.863797</td>\n",
       "      <td>-21.959164</td>\n",
       "      <td>-19.000368</td>\n",
       "    </tr>\n",
       "    <tr>\n",
       "      <th>997</th>\n",
       "      <td>2002-09-24</td>\n",
       "      <td>-29.990572</td>\n",
       "      <td>3.634133</td>\n",
       "      <td>-23.215642</td>\n",
       "      <td>-19.462039</td>\n",
       "    </tr>\n",
       "    <tr>\n",
       "      <th>998</th>\n",
       "      <td>2002-09-25</td>\n",
       "      <td>-31.279228</td>\n",
       "      <td>4.517451</td>\n",
       "      <td>-23.212792</td>\n",
       "      <td>-19.237344</td>\n",
       "    </tr>\n",
       "    <tr>\n",
       "      <th>999</th>\n",
       "      <td>2002-09-26</td>\n",
       "      <td>-31.840082</td>\n",
       "      <td>5.006420</td>\n",
       "      <td>-23.922024</td>\n",
       "      <td>-17.230599</td>\n",
       "    </tr>\n",
       "  </tbody>\n",
       "</table>\n",
       "<p>1000 rows × 5 columns</p>\n",
       "</div>"
      ],
      "text/plain": [
       "     Unnamed: 0          A          B          C          D\n",
       "0    2000-01-01  -0.822498  -1.034981  -0.285241  -0.035812\n",
       "1    2000-01-02  -2.815449  -1.303158  -0.327390  -1.456639\n",
       "2    2000-01-03  -3.562935  -1.190094  -0.994156  -1.103072\n",
       "3    2000-01-04  -4.189860  -0.772614  -1.177311  -1.730098\n",
       "4    2000-01-05  -4.563227  -0.467438  -0.377068  -2.573929\n",
       "5    2000-01-06  -4.294649  -0.712000   0.565672  -1.724450\n",
       "6    2000-01-07  -4.145274   0.108880   0.532297  -1.890351\n",
       "7    2000-01-08  -3.543464   1.214840   0.370833  -2.833043\n",
       "8    2000-01-09  -3.919530   1.601509   1.713863  -3.344169\n",
       "9    2000-01-10  -4.998280   2.475263   2.004112  -2.703736\n",
       "10   2000-01-11  -5.619463   1.847360  -0.799264  -2.331324\n",
       "11   2000-01-12  -4.348113   1.247092  -1.520329  -2.402860\n",
       "12   2000-01-13  -2.661906   3.501130  -1.992866  -1.437233\n",
       "13   2000-01-14  -4.039936   4.013953  -1.988440  -2.078277\n",
       "14   2000-01-15  -3.628723   2.753973  -1.384913  -2.831584\n",
       "15   2000-01-16  -2.536774   2.254055  -2.456072  -2.671567\n",
       "16   2000-01-17  -2.435578   2.051019  -1.600955  -2.906289\n",
       "17   2000-01-18  -2.101438   2.576133  -0.666183  -4.610631\n",
       "18   2000-01-19  -1.389316   1.785455   1.651549  -4.566756\n",
       "19   2000-01-20  -2.310414   2.354480   3.570945  -5.376047\n",
       "20   2000-01-21  -3.011647   1.908839   3.459151  -4.900375\n",
       "21   2000-01-22  -1.458039   3.662788   3.772249  -6.287566\n",
       "22   2000-01-23  -3.400221   6.063549   1.748699  -3.543101\n",
       "23   2000-01-24  -2.532424   6.334043   1.972568  -3.405972\n",
       "24   2000-01-25  -2.344013   6.866457   2.561329  -4.990319\n",
       "25   2000-01-26  -0.874784   5.870354   1.981842  -4.752227\n",
       "26   2000-01-27   0.646110   4.969291   3.907203  -4.339870\n",
       "27   2000-01-28  -0.551367   4.177699   4.792064  -4.793636\n",
       "28   2000-01-29  -0.710192   4.806704   4.706709  -5.853256\n",
       "29   2000-01-30  -0.516302   6.635023   4.551845  -5.918772\n",
       "..          ...        ...        ...        ...        ...\n",
       "970  2002-08-28 -30.833111   8.045406 -20.117893 -21.600244\n",
       "971  2002-08-29 -29.261349   8.724998 -20.040524 -22.232678\n",
       "972  2002-08-30 -28.926210   7.663260 -21.748747 -21.139842\n",
       "973  2002-08-31 -28.970478   8.503136 -23.891506 -21.576548\n",
       "974  2002-09-01 -29.306348   6.169174 -24.327492 -20.768916\n",
       "975  2002-09-02 -30.506537   6.668762 -25.520905 -20.813245\n",
       "976  2002-09-03 -30.620308   6.114543 -27.315028 -20.231639\n",
       "977  2002-09-04 -30.655225   6.784006 -28.255218 -19.045021\n",
       "978  2002-09-05 -29.525069   8.947657 -29.052141 -20.107515\n",
       "979  2002-09-06 -29.833020   9.414035 -28.336428 -20.107905\n",
       "980  2002-09-07 -29.251390   9.731585 -28.025679 -18.279077\n",
       "981  2002-09-08 -31.231886   8.760366 -28.309908 -20.284184\n",
       "982  2002-09-09 -31.284548  10.186607 -26.270144 -22.207187\n",
       "983  2002-09-10 -30.963838   9.830522 -26.142458 -24.265833\n",
       "984  2002-09-11 -29.228667   9.893671 -27.391679 -24.703427\n",
       "985  2002-09-12 -29.826916   8.336012 -25.687959 -25.082243\n",
       "986  2002-09-13 -29.189833   7.660054 -25.397506 -24.333856\n",
       "987  2002-09-14 -30.362786   8.000106 -23.761373 -24.332264\n",
       "988  2002-09-15 -31.198850   6.871618 -22.729806 -23.046849\n",
       "989  2002-09-16 -30.464838   6.928003 -22.379376 -21.775398\n",
       "990  2002-09-17 -29.973700   7.447574 -21.881760 -21.970800\n",
       "991  2002-09-18 -28.801225   6.430640 -21.340090 -22.117191\n",
       "992  2002-09-19 -29.282699   6.470559 -21.348314 -22.692655\n",
       "993  2002-09-20 -29.711286   5.136673 -21.582732 -22.168261\n",
       "994  2002-09-21 -31.622928   4.625709 -22.859073 -20.887790\n",
       "995  2002-09-22 -31.421339   5.665111 -22.216392 -20.289557\n",
       "996  2002-09-23 -31.473265   4.863797 -21.959164 -19.000368\n",
       "997  2002-09-24 -29.990572   3.634133 -23.215642 -19.462039\n",
       "998  2002-09-25 -31.279228   4.517451 -23.212792 -19.237344\n",
       "999  2002-09-26 -31.840082   5.006420 -23.922024 -17.230599\n",
       "\n",
       "[1000 rows x 5 columns]"
      ]
     },
     "execution_count": 143,
     "metadata": {},
     "output_type": "execute_result"
    }
   ],
   "source": [
    "pd.read_csv(\"foo.csv\")"
   ]
  },
  {
   "cell_type": "markdown",
   "metadata": {},
   "source": [
    "# HDF5 "
   ]
  },
  {
   "cell_type": "markdown",
   "metadata": {},
   "source": [
    "### 寫入HDF5儲存"
   ]
  },
  {
   "cell_type": "code",
   "execution_count": 144,
   "metadata": {
    "collapsed": true
   },
   "outputs": [],
   "source": [
    "df.to_hdf(\"foo.h5\", \"df\")"
   ]
  },
  {
   "cell_type": "markdown",
   "metadata": {},
   "source": [
    "### 從HDF5儲存中讀取"
   ]
  },
  {
   "cell_type": "code",
   "execution_count": 145,
   "metadata": {
    "scrolled": true
   },
   "outputs": [
    {
     "data": {
      "text/html": [
       "<div>\n",
       "<style>\n",
       "    .dataframe thead tr:only-child th {\n",
       "        text-align: right;\n",
       "    }\n",
       "\n",
       "    .dataframe thead th {\n",
       "        text-align: left;\n",
       "    }\n",
       "\n",
       "    .dataframe tbody tr th {\n",
       "        vertical-align: top;\n",
       "    }\n",
       "</style>\n",
       "<table border=\"1\" class=\"dataframe\">\n",
       "  <thead>\n",
       "    <tr style=\"text-align: right;\">\n",
       "      <th></th>\n",
       "      <th>A</th>\n",
       "      <th>B</th>\n",
       "      <th>C</th>\n",
       "      <th>D</th>\n",
       "    </tr>\n",
       "  </thead>\n",
       "  <tbody>\n",
       "    <tr>\n",
       "      <th>2000-01-01</th>\n",
       "      <td>-0.822498</td>\n",
       "      <td>-1.034981</td>\n",
       "      <td>-0.285241</td>\n",
       "      <td>-0.035812</td>\n",
       "    </tr>\n",
       "    <tr>\n",
       "      <th>2000-01-02</th>\n",
       "      <td>-2.815449</td>\n",
       "      <td>-1.303158</td>\n",
       "      <td>-0.327390</td>\n",
       "      <td>-1.456639</td>\n",
       "    </tr>\n",
       "    <tr>\n",
       "      <th>2000-01-03</th>\n",
       "      <td>-3.562935</td>\n",
       "      <td>-1.190094</td>\n",
       "      <td>-0.994156</td>\n",
       "      <td>-1.103072</td>\n",
       "    </tr>\n",
       "    <tr>\n",
       "      <th>2000-01-04</th>\n",
       "      <td>-4.189860</td>\n",
       "      <td>-0.772614</td>\n",
       "      <td>-1.177311</td>\n",
       "      <td>-1.730098</td>\n",
       "    </tr>\n",
       "    <tr>\n",
       "      <th>2000-01-05</th>\n",
       "      <td>-4.563227</td>\n",
       "      <td>-0.467438</td>\n",
       "      <td>-0.377068</td>\n",
       "      <td>-2.573929</td>\n",
       "    </tr>\n",
       "    <tr>\n",
       "      <th>2000-01-06</th>\n",
       "      <td>-4.294649</td>\n",
       "      <td>-0.712000</td>\n",
       "      <td>0.565672</td>\n",
       "      <td>-1.724450</td>\n",
       "    </tr>\n",
       "    <tr>\n",
       "      <th>2000-01-07</th>\n",
       "      <td>-4.145274</td>\n",
       "      <td>0.108880</td>\n",
       "      <td>0.532297</td>\n",
       "      <td>-1.890351</td>\n",
       "    </tr>\n",
       "    <tr>\n",
       "      <th>2000-01-08</th>\n",
       "      <td>-3.543464</td>\n",
       "      <td>1.214840</td>\n",
       "      <td>0.370833</td>\n",
       "      <td>-2.833043</td>\n",
       "    </tr>\n",
       "    <tr>\n",
       "      <th>2000-01-09</th>\n",
       "      <td>-3.919530</td>\n",
       "      <td>1.601509</td>\n",
       "      <td>1.713863</td>\n",
       "      <td>-3.344169</td>\n",
       "    </tr>\n",
       "    <tr>\n",
       "      <th>2000-01-10</th>\n",
       "      <td>-4.998280</td>\n",
       "      <td>2.475263</td>\n",
       "      <td>2.004112</td>\n",
       "      <td>-2.703736</td>\n",
       "    </tr>\n",
       "    <tr>\n",
       "      <th>2000-01-11</th>\n",
       "      <td>-5.619463</td>\n",
       "      <td>1.847360</td>\n",
       "      <td>-0.799264</td>\n",
       "      <td>-2.331324</td>\n",
       "    </tr>\n",
       "    <tr>\n",
       "      <th>2000-01-12</th>\n",
       "      <td>-4.348113</td>\n",
       "      <td>1.247092</td>\n",
       "      <td>-1.520329</td>\n",
       "      <td>-2.402860</td>\n",
       "    </tr>\n",
       "    <tr>\n",
       "      <th>2000-01-13</th>\n",
       "      <td>-2.661906</td>\n",
       "      <td>3.501130</td>\n",
       "      <td>-1.992866</td>\n",
       "      <td>-1.437233</td>\n",
       "    </tr>\n",
       "    <tr>\n",
       "      <th>2000-01-14</th>\n",
       "      <td>-4.039936</td>\n",
       "      <td>4.013953</td>\n",
       "      <td>-1.988440</td>\n",
       "      <td>-2.078277</td>\n",
       "    </tr>\n",
       "    <tr>\n",
       "      <th>2000-01-15</th>\n",
       "      <td>-3.628723</td>\n",
       "      <td>2.753973</td>\n",
       "      <td>-1.384913</td>\n",
       "      <td>-2.831584</td>\n",
       "    </tr>\n",
       "    <tr>\n",
       "      <th>2000-01-16</th>\n",
       "      <td>-2.536774</td>\n",
       "      <td>2.254055</td>\n",
       "      <td>-2.456072</td>\n",
       "      <td>-2.671567</td>\n",
       "    </tr>\n",
       "    <tr>\n",
       "      <th>2000-01-17</th>\n",
       "      <td>-2.435578</td>\n",
       "      <td>2.051019</td>\n",
       "      <td>-1.600955</td>\n",
       "      <td>-2.906289</td>\n",
       "    </tr>\n",
       "    <tr>\n",
       "      <th>2000-01-18</th>\n",
       "      <td>-2.101438</td>\n",
       "      <td>2.576133</td>\n",
       "      <td>-0.666183</td>\n",
       "      <td>-4.610631</td>\n",
       "    </tr>\n",
       "    <tr>\n",
       "      <th>2000-01-19</th>\n",
       "      <td>-1.389316</td>\n",
       "      <td>1.785455</td>\n",
       "      <td>1.651549</td>\n",
       "      <td>-4.566756</td>\n",
       "    </tr>\n",
       "    <tr>\n",
       "      <th>2000-01-20</th>\n",
       "      <td>-2.310414</td>\n",
       "      <td>2.354480</td>\n",
       "      <td>3.570945</td>\n",
       "      <td>-5.376047</td>\n",
       "    </tr>\n",
       "    <tr>\n",
       "      <th>2000-01-21</th>\n",
       "      <td>-3.011647</td>\n",
       "      <td>1.908839</td>\n",
       "      <td>3.459151</td>\n",
       "      <td>-4.900375</td>\n",
       "    </tr>\n",
       "    <tr>\n",
       "      <th>2000-01-22</th>\n",
       "      <td>-1.458039</td>\n",
       "      <td>3.662788</td>\n",
       "      <td>3.772249</td>\n",
       "      <td>-6.287566</td>\n",
       "    </tr>\n",
       "    <tr>\n",
       "      <th>2000-01-23</th>\n",
       "      <td>-3.400221</td>\n",
       "      <td>6.063549</td>\n",
       "      <td>1.748699</td>\n",
       "      <td>-3.543101</td>\n",
       "    </tr>\n",
       "    <tr>\n",
       "      <th>2000-01-24</th>\n",
       "      <td>-2.532424</td>\n",
       "      <td>6.334043</td>\n",
       "      <td>1.972568</td>\n",
       "      <td>-3.405972</td>\n",
       "    </tr>\n",
       "    <tr>\n",
       "      <th>2000-01-25</th>\n",
       "      <td>-2.344013</td>\n",
       "      <td>6.866457</td>\n",
       "      <td>2.561329</td>\n",
       "      <td>-4.990319</td>\n",
       "    </tr>\n",
       "    <tr>\n",
       "      <th>2000-01-26</th>\n",
       "      <td>-0.874784</td>\n",
       "      <td>5.870354</td>\n",
       "      <td>1.981842</td>\n",
       "      <td>-4.752227</td>\n",
       "    </tr>\n",
       "    <tr>\n",
       "      <th>2000-01-27</th>\n",
       "      <td>0.646110</td>\n",
       "      <td>4.969291</td>\n",
       "      <td>3.907203</td>\n",
       "      <td>-4.339870</td>\n",
       "    </tr>\n",
       "    <tr>\n",
       "      <th>2000-01-28</th>\n",
       "      <td>-0.551367</td>\n",
       "      <td>4.177699</td>\n",
       "      <td>4.792064</td>\n",
       "      <td>-4.793636</td>\n",
       "    </tr>\n",
       "    <tr>\n",
       "      <th>2000-01-29</th>\n",
       "      <td>-0.710192</td>\n",
       "      <td>4.806704</td>\n",
       "      <td>4.706709</td>\n",
       "      <td>-5.853256</td>\n",
       "    </tr>\n",
       "    <tr>\n",
       "      <th>2000-01-30</th>\n",
       "      <td>-0.516302</td>\n",
       "      <td>6.635023</td>\n",
       "      <td>4.551845</td>\n",
       "      <td>-5.918772</td>\n",
       "    </tr>\n",
       "    <tr>\n",
       "      <th>...</th>\n",
       "      <td>...</td>\n",
       "      <td>...</td>\n",
       "      <td>...</td>\n",
       "      <td>...</td>\n",
       "    </tr>\n",
       "    <tr>\n",
       "      <th>2002-08-28</th>\n",
       "      <td>-30.833111</td>\n",
       "      <td>8.045406</td>\n",
       "      <td>-20.117893</td>\n",
       "      <td>-21.600244</td>\n",
       "    </tr>\n",
       "    <tr>\n",
       "      <th>2002-08-29</th>\n",
       "      <td>-29.261349</td>\n",
       "      <td>8.724998</td>\n",
       "      <td>-20.040524</td>\n",
       "      <td>-22.232678</td>\n",
       "    </tr>\n",
       "    <tr>\n",
       "      <th>2002-08-30</th>\n",
       "      <td>-28.926210</td>\n",
       "      <td>7.663260</td>\n",
       "      <td>-21.748747</td>\n",
       "      <td>-21.139842</td>\n",
       "    </tr>\n",
       "    <tr>\n",
       "      <th>2002-08-31</th>\n",
       "      <td>-28.970478</td>\n",
       "      <td>8.503136</td>\n",
       "      <td>-23.891506</td>\n",
       "      <td>-21.576548</td>\n",
       "    </tr>\n",
       "    <tr>\n",
       "      <th>2002-09-01</th>\n",
       "      <td>-29.306348</td>\n",
       "      <td>6.169174</td>\n",
       "      <td>-24.327492</td>\n",
       "      <td>-20.768916</td>\n",
       "    </tr>\n",
       "    <tr>\n",
       "      <th>2002-09-02</th>\n",
       "      <td>-30.506537</td>\n",
       "      <td>6.668762</td>\n",
       "      <td>-25.520905</td>\n",
       "      <td>-20.813245</td>\n",
       "    </tr>\n",
       "    <tr>\n",
       "      <th>2002-09-03</th>\n",
       "      <td>-30.620308</td>\n",
       "      <td>6.114543</td>\n",
       "      <td>-27.315028</td>\n",
       "      <td>-20.231639</td>\n",
       "    </tr>\n",
       "    <tr>\n",
       "      <th>2002-09-04</th>\n",
       "      <td>-30.655225</td>\n",
       "      <td>6.784006</td>\n",
       "      <td>-28.255218</td>\n",
       "      <td>-19.045021</td>\n",
       "    </tr>\n",
       "    <tr>\n",
       "      <th>2002-09-05</th>\n",
       "      <td>-29.525069</td>\n",
       "      <td>8.947657</td>\n",
       "      <td>-29.052141</td>\n",
       "      <td>-20.107515</td>\n",
       "    </tr>\n",
       "    <tr>\n",
       "      <th>2002-09-06</th>\n",
       "      <td>-29.833020</td>\n",
       "      <td>9.414035</td>\n",
       "      <td>-28.336428</td>\n",
       "      <td>-20.107905</td>\n",
       "    </tr>\n",
       "    <tr>\n",
       "      <th>2002-09-07</th>\n",
       "      <td>-29.251390</td>\n",
       "      <td>9.731585</td>\n",
       "      <td>-28.025679</td>\n",
       "      <td>-18.279077</td>\n",
       "    </tr>\n",
       "    <tr>\n",
       "      <th>2002-09-08</th>\n",
       "      <td>-31.231886</td>\n",
       "      <td>8.760366</td>\n",
       "      <td>-28.309908</td>\n",
       "      <td>-20.284184</td>\n",
       "    </tr>\n",
       "    <tr>\n",
       "      <th>2002-09-09</th>\n",
       "      <td>-31.284548</td>\n",
       "      <td>10.186607</td>\n",
       "      <td>-26.270144</td>\n",
       "      <td>-22.207187</td>\n",
       "    </tr>\n",
       "    <tr>\n",
       "      <th>2002-09-10</th>\n",
       "      <td>-30.963838</td>\n",
       "      <td>9.830522</td>\n",
       "      <td>-26.142458</td>\n",
       "      <td>-24.265833</td>\n",
       "    </tr>\n",
       "    <tr>\n",
       "      <th>2002-09-11</th>\n",
       "      <td>-29.228667</td>\n",
       "      <td>9.893671</td>\n",
       "      <td>-27.391679</td>\n",
       "      <td>-24.703427</td>\n",
       "    </tr>\n",
       "    <tr>\n",
       "      <th>2002-09-12</th>\n",
       "      <td>-29.826916</td>\n",
       "      <td>8.336012</td>\n",
       "      <td>-25.687959</td>\n",
       "      <td>-25.082243</td>\n",
       "    </tr>\n",
       "    <tr>\n",
       "      <th>2002-09-13</th>\n",
       "      <td>-29.189833</td>\n",
       "      <td>7.660054</td>\n",
       "      <td>-25.397506</td>\n",
       "      <td>-24.333856</td>\n",
       "    </tr>\n",
       "    <tr>\n",
       "      <th>2002-09-14</th>\n",
       "      <td>-30.362786</td>\n",
       "      <td>8.000106</td>\n",
       "      <td>-23.761373</td>\n",
       "      <td>-24.332264</td>\n",
       "    </tr>\n",
       "    <tr>\n",
       "      <th>2002-09-15</th>\n",
       "      <td>-31.198850</td>\n",
       "      <td>6.871618</td>\n",
       "      <td>-22.729806</td>\n",
       "      <td>-23.046849</td>\n",
       "    </tr>\n",
       "    <tr>\n",
       "      <th>2002-09-16</th>\n",
       "      <td>-30.464838</td>\n",
       "      <td>6.928003</td>\n",
       "      <td>-22.379376</td>\n",
       "      <td>-21.775398</td>\n",
       "    </tr>\n",
       "    <tr>\n",
       "      <th>2002-09-17</th>\n",
       "      <td>-29.973700</td>\n",
       "      <td>7.447574</td>\n",
       "      <td>-21.881760</td>\n",
       "      <td>-21.970800</td>\n",
       "    </tr>\n",
       "    <tr>\n",
       "      <th>2002-09-18</th>\n",
       "      <td>-28.801225</td>\n",
       "      <td>6.430640</td>\n",
       "      <td>-21.340090</td>\n",
       "      <td>-22.117191</td>\n",
       "    </tr>\n",
       "    <tr>\n",
       "      <th>2002-09-19</th>\n",
       "      <td>-29.282699</td>\n",
       "      <td>6.470559</td>\n",
       "      <td>-21.348314</td>\n",
       "      <td>-22.692655</td>\n",
       "    </tr>\n",
       "    <tr>\n",
       "      <th>2002-09-20</th>\n",
       "      <td>-29.711286</td>\n",
       "      <td>5.136673</td>\n",
       "      <td>-21.582732</td>\n",
       "      <td>-22.168261</td>\n",
       "    </tr>\n",
       "    <tr>\n",
       "      <th>2002-09-21</th>\n",
       "      <td>-31.622928</td>\n",
       "      <td>4.625709</td>\n",
       "      <td>-22.859073</td>\n",
       "      <td>-20.887790</td>\n",
       "    </tr>\n",
       "    <tr>\n",
       "      <th>2002-09-22</th>\n",
       "      <td>-31.421339</td>\n",
       "      <td>5.665111</td>\n",
       "      <td>-22.216392</td>\n",
       "      <td>-20.289557</td>\n",
       "    </tr>\n",
       "    <tr>\n",
       "      <th>2002-09-23</th>\n",
       "      <td>-31.473265</td>\n",
       "      <td>4.863797</td>\n",
       "      <td>-21.959164</td>\n",
       "      <td>-19.000368</td>\n",
       "    </tr>\n",
       "    <tr>\n",
       "      <th>2002-09-24</th>\n",
       "      <td>-29.990572</td>\n",
       "      <td>3.634133</td>\n",
       "      <td>-23.215642</td>\n",
       "      <td>-19.462039</td>\n",
       "    </tr>\n",
       "    <tr>\n",
       "      <th>2002-09-25</th>\n",
       "      <td>-31.279228</td>\n",
       "      <td>4.517451</td>\n",
       "      <td>-23.212792</td>\n",
       "      <td>-19.237344</td>\n",
       "    </tr>\n",
       "    <tr>\n",
       "      <th>2002-09-26</th>\n",
       "      <td>-31.840082</td>\n",
       "      <td>5.006420</td>\n",
       "      <td>-23.922024</td>\n",
       "      <td>-17.230599</td>\n",
       "    </tr>\n",
       "  </tbody>\n",
       "</table>\n",
       "<p>1000 rows × 4 columns</p>\n",
       "</div>"
      ],
      "text/plain": [
       "                    A          B          C          D\n",
       "2000-01-01  -0.822498  -1.034981  -0.285241  -0.035812\n",
       "2000-01-02  -2.815449  -1.303158  -0.327390  -1.456639\n",
       "2000-01-03  -3.562935  -1.190094  -0.994156  -1.103072\n",
       "2000-01-04  -4.189860  -0.772614  -1.177311  -1.730098\n",
       "2000-01-05  -4.563227  -0.467438  -0.377068  -2.573929\n",
       "2000-01-06  -4.294649  -0.712000   0.565672  -1.724450\n",
       "2000-01-07  -4.145274   0.108880   0.532297  -1.890351\n",
       "2000-01-08  -3.543464   1.214840   0.370833  -2.833043\n",
       "2000-01-09  -3.919530   1.601509   1.713863  -3.344169\n",
       "2000-01-10  -4.998280   2.475263   2.004112  -2.703736\n",
       "2000-01-11  -5.619463   1.847360  -0.799264  -2.331324\n",
       "2000-01-12  -4.348113   1.247092  -1.520329  -2.402860\n",
       "2000-01-13  -2.661906   3.501130  -1.992866  -1.437233\n",
       "2000-01-14  -4.039936   4.013953  -1.988440  -2.078277\n",
       "2000-01-15  -3.628723   2.753973  -1.384913  -2.831584\n",
       "2000-01-16  -2.536774   2.254055  -2.456072  -2.671567\n",
       "2000-01-17  -2.435578   2.051019  -1.600955  -2.906289\n",
       "2000-01-18  -2.101438   2.576133  -0.666183  -4.610631\n",
       "2000-01-19  -1.389316   1.785455   1.651549  -4.566756\n",
       "2000-01-20  -2.310414   2.354480   3.570945  -5.376047\n",
       "2000-01-21  -3.011647   1.908839   3.459151  -4.900375\n",
       "2000-01-22  -1.458039   3.662788   3.772249  -6.287566\n",
       "2000-01-23  -3.400221   6.063549   1.748699  -3.543101\n",
       "2000-01-24  -2.532424   6.334043   1.972568  -3.405972\n",
       "2000-01-25  -2.344013   6.866457   2.561329  -4.990319\n",
       "2000-01-26  -0.874784   5.870354   1.981842  -4.752227\n",
       "2000-01-27   0.646110   4.969291   3.907203  -4.339870\n",
       "2000-01-28  -0.551367   4.177699   4.792064  -4.793636\n",
       "2000-01-29  -0.710192   4.806704   4.706709  -5.853256\n",
       "2000-01-30  -0.516302   6.635023   4.551845  -5.918772\n",
       "...               ...        ...        ...        ...\n",
       "2002-08-28 -30.833111   8.045406 -20.117893 -21.600244\n",
       "2002-08-29 -29.261349   8.724998 -20.040524 -22.232678\n",
       "2002-08-30 -28.926210   7.663260 -21.748747 -21.139842\n",
       "2002-08-31 -28.970478   8.503136 -23.891506 -21.576548\n",
       "2002-09-01 -29.306348   6.169174 -24.327492 -20.768916\n",
       "2002-09-02 -30.506537   6.668762 -25.520905 -20.813245\n",
       "2002-09-03 -30.620308   6.114543 -27.315028 -20.231639\n",
       "2002-09-04 -30.655225   6.784006 -28.255218 -19.045021\n",
       "2002-09-05 -29.525069   8.947657 -29.052141 -20.107515\n",
       "2002-09-06 -29.833020   9.414035 -28.336428 -20.107905\n",
       "2002-09-07 -29.251390   9.731585 -28.025679 -18.279077\n",
       "2002-09-08 -31.231886   8.760366 -28.309908 -20.284184\n",
       "2002-09-09 -31.284548  10.186607 -26.270144 -22.207187\n",
       "2002-09-10 -30.963838   9.830522 -26.142458 -24.265833\n",
       "2002-09-11 -29.228667   9.893671 -27.391679 -24.703427\n",
       "2002-09-12 -29.826916   8.336012 -25.687959 -25.082243\n",
       "2002-09-13 -29.189833   7.660054 -25.397506 -24.333856\n",
       "2002-09-14 -30.362786   8.000106 -23.761373 -24.332264\n",
       "2002-09-15 -31.198850   6.871618 -22.729806 -23.046849\n",
       "2002-09-16 -30.464838   6.928003 -22.379376 -21.775398\n",
       "2002-09-17 -29.973700   7.447574 -21.881760 -21.970800\n",
       "2002-09-18 -28.801225   6.430640 -21.340090 -22.117191\n",
       "2002-09-19 -29.282699   6.470559 -21.348314 -22.692655\n",
       "2002-09-20 -29.711286   5.136673 -21.582732 -22.168261\n",
       "2002-09-21 -31.622928   4.625709 -22.859073 -20.887790\n",
       "2002-09-22 -31.421339   5.665111 -22.216392 -20.289557\n",
       "2002-09-23 -31.473265   4.863797 -21.959164 -19.000368\n",
       "2002-09-24 -29.990572   3.634133 -23.215642 -19.462039\n",
       "2002-09-25 -31.279228   4.517451 -23.212792 -19.237344\n",
       "2002-09-26 -31.840082   5.006420 -23.922024 -17.230599\n",
       "\n",
       "[1000 rows x 4 columns]"
      ]
     },
     "execution_count": 145,
     "metadata": {},
     "output_type": "execute_result"
    }
   ],
   "source": [
    "pd.read_hdf(\"foo.h5\", \"df\")\n"
   ]
  },
  {
   "cell_type": "markdown",
   "metadata": {},
   "source": [
    "# Excel"
   ]
  },
  {
   "cell_type": "markdown",
   "metadata": {},
   "source": [
    "### 寫入excel文件"
   ]
  },
  {
   "cell_type": "code",
   "execution_count": 146,
   "metadata": {
    "collapsed": true
   },
   "outputs": [],
   "source": [
    "df.to_excel(\"foo.xlsx\", sheet_name=\"Sheet1\")"
   ]
  },
  {
   "cell_type": "markdown",
   "metadata": {},
   "source": [
    "### 從excel文件中讀取"
   ]
  },
  {
   "cell_type": "code",
   "execution_count": 147,
   "metadata": {
    "scrolled": true
   },
   "outputs": [
    {
     "data": {
      "text/html": [
       "<div>\n",
       "<style>\n",
       "    .dataframe thead tr:only-child th {\n",
       "        text-align: right;\n",
       "    }\n",
       "\n",
       "    .dataframe thead th {\n",
       "        text-align: left;\n",
       "    }\n",
       "\n",
       "    .dataframe tbody tr th {\n",
       "        vertical-align: top;\n",
       "    }\n",
       "</style>\n",
       "<table border=\"1\" class=\"dataframe\">\n",
       "  <thead>\n",
       "    <tr style=\"text-align: right;\">\n",
       "      <th></th>\n",
       "      <th>A</th>\n",
       "      <th>B</th>\n",
       "      <th>C</th>\n",
       "      <th>D</th>\n",
       "    </tr>\n",
       "  </thead>\n",
       "  <tbody>\n",
       "    <tr>\n",
       "      <th>2000-01-01</th>\n",
       "      <td>-0.822498</td>\n",
       "      <td>-1.034981</td>\n",
       "      <td>-0.285241</td>\n",
       "      <td>-0.035812</td>\n",
       "    </tr>\n",
       "    <tr>\n",
       "      <th>2000-01-02</th>\n",
       "      <td>-2.815449</td>\n",
       "      <td>-1.303158</td>\n",
       "      <td>-0.327390</td>\n",
       "      <td>-1.456639</td>\n",
       "    </tr>\n",
       "    <tr>\n",
       "      <th>2000-01-03</th>\n",
       "      <td>-3.562935</td>\n",
       "      <td>-1.190094</td>\n",
       "      <td>-0.994156</td>\n",
       "      <td>-1.103072</td>\n",
       "    </tr>\n",
       "    <tr>\n",
       "      <th>2000-01-04</th>\n",
       "      <td>-4.189860</td>\n",
       "      <td>-0.772614</td>\n",
       "      <td>-1.177311</td>\n",
       "      <td>-1.730098</td>\n",
       "    </tr>\n",
       "    <tr>\n",
       "      <th>2000-01-05</th>\n",
       "      <td>-4.563227</td>\n",
       "      <td>-0.467438</td>\n",
       "      <td>-0.377068</td>\n",
       "      <td>-2.573929</td>\n",
       "    </tr>\n",
       "    <tr>\n",
       "      <th>2000-01-06</th>\n",
       "      <td>-4.294649</td>\n",
       "      <td>-0.712000</td>\n",
       "      <td>0.565672</td>\n",
       "      <td>-1.724450</td>\n",
       "    </tr>\n",
       "    <tr>\n",
       "      <th>2000-01-07</th>\n",
       "      <td>-4.145274</td>\n",
       "      <td>0.108880</td>\n",
       "      <td>0.532297</td>\n",
       "      <td>-1.890351</td>\n",
       "    </tr>\n",
       "    <tr>\n",
       "      <th>2000-01-08</th>\n",
       "      <td>-3.543464</td>\n",
       "      <td>1.214840</td>\n",
       "      <td>0.370833</td>\n",
       "      <td>-2.833043</td>\n",
       "    </tr>\n",
       "    <tr>\n",
       "      <th>2000-01-09</th>\n",
       "      <td>-3.919530</td>\n",
       "      <td>1.601509</td>\n",
       "      <td>1.713863</td>\n",
       "      <td>-3.344169</td>\n",
       "    </tr>\n",
       "    <tr>\n",
       "      <th>2000-01-10</th>\n",
       "      <td>-4.998280</td>\n",
       "      <td>2.475263</td>\n",
       "      <td>2.004112</td>\n",
       "      <td>-2.703736</td>\n",
       "    </tr>\n",
       "    <tr>\n",
       "      <th>2000-01-11</th>\n",
       "      <td>-5.619463</td>\n",
       "      <td>1.847360</td>\n",
       "      <td>-0.799264</td>\n",
       "      <td>-2.331324</td>\n",
       "    </tr>\n",
       "    <tr>\n",
       "      <th>2000-01-12</th>\n",
       "      <td>-4.348113</td>\n",
       "      <td>1.247092</td>\n",
       "      <td>-1.520329</td>\n",
       "      <td>-2.402860</td>\n",
       "    </tr>\n",
       "    <tr>\n",
       "      <th>2000-01-13</th>\n",
       "      <td>-2.661906</td>\n",
       "      <td>3.501130</td>\n",
       "      <td>-1.992866</td>\n",
       "      <td>-1.437233</td>\n",
       "    </tr>\n",
       "    <tr>\n",
       "      <th>2000-01-14</th>\n",
       "      <td>-4.039936</td>\n",
       "      <td>4.013953</td>\n",
       "      <td>-1.988440</td>\n",
       "      <td>-2.078277</td>\n",
       "    </tr>\n",
       "    <tr>\n",
       "      <th>2000-01-15</th>\n",
       "      <td>-3.628723</td>\n",
       "      <td>2.753973</td>\n",
       "      <td>-1.384913</td>\n",
       "      <td>-2.831584</td>\n",
       "    </tr>\n",
       "    <tr>\n",
       "      <th>2000-01-16</th>\n",
       "      <td>-2.536774</td>\n",
       "      <td>2.254055</td>\n",
       "      <td>-2.456072</td>\n",
       "      <td>-2.671567</td>\n",
       "    </tr>\n",
       "    <tr>\n",
       "      <th>2000-01-17</th>\n",
       "      <td>-2.435578</td>\n",
       "      <td>2.051019</td>\n",
       "      <td>-1.600955</td>\n",
       "      <td>-2.906289</td>\n",
       "    </tr>\n",
       "    <tr>\n",
       "      <th>2000-01-18</th>\n",
       "      <td>-2.101438</td>\n",
       "      <td>2.576133</td>\n",
       "      <td>-0.666183</td>\n",
       "      <td>-4.610631</td>\n",
       "    </tr>\n",
       "    <tr>\n",
       "      <th>2000-01-19</th>\n",
       "      <td>-1.389316</td>\n",
       "      <td>1.785455</td>\n",
       "      <td>1.651549</td>\n",
       "      <td>-4.566756</td>\n",
       "    </tr>\n",
       "    <tr>\n",
       "      <th>2000-01-20</th>\n",
       "      <td>-2.310414</td>\n",
       "      <td>2.354480</td>\n",
       "      <td>3.570945</td>\n",
       "      <td>-5.376047</td>\n",
       "    </tr>\n",
       "    <tr>\n",
       "      <th>2000-01-21</th>\n",
       "      <td>-3.011647</td>\n",
       "      <td>1.908839</td>\n",
       "      <td>3.459151</td>\n",
       "      <td>-4.900375</td>\n",
       "    </tr>\n",
       "    <tr>\n",
       "      <th>2000-01-22</th>\n",
       "      <td>-1.458039</td>\n",
       "      <td>3.662788</td>\n",
       "      <td>3.772249</td>\n",
       "      <td>-6.287566</td>\n",
       "    </tr>\n",
       "    <tr>\n",
       "      <th>2000-01-23</th>\n",
       "      <td>-3.400221</td>\n",
       "      <td>6.063549</td>\n",
       "      <td>1.748699</td>\n",
       "      <td>-3.543101</td>\n",
       "    </tr>\n",
       "    <tr>\n",
       "      <th>2000-01-24</th>\n",
       "      <td>-2.532424</td>\n",
       "      <td>6.334043</td>\n",
       "      <td>1.972568</td>\n",
       "      <td>-3.405972</td>\n",
       "    </tr>\n",
       "    <tr>\n",
       "      <th>2000-01-25</th>\n",
       "      <td>-2.344013</td>\n",
       "      <td>6.866457</td>\n",
       "      <td>2.561329</td>\n",
       "      <td>-4.990319</td>\n",
       "    </tr>\n",
       "    <tr>\n",
       "      <th>2000-01-26</th>\n",
       "      <td>-0.874784</td>\n",
       "      <td>5.870354</td>\n",
       "      <td>1.981842</td>\n",
       "      <td>-4.752227</td>\n",
       "    </tr>\n",
       "    <tr>\n",
       "      <th>2000-01-27</th>\n",
       "      <td>0.646110</td>\n",
       "      <td>4.969291</td>\n",
       "      <td>3.907203</td>\n",
       "      <td>-4.339870</td>\n",
       "    </tr>\n",
       "    <tr>\n",
       "      <th>2000-01-28</th>\n",
       "      <td>-0.551367</td>\n",
       "      <td>4.177699</td>\n",
       "      <td>4.792064</td>\n",
       "      <td>-4.793636</td>\n",
       "    </tr>\n",
       "    <tr>\n",
       "      <th>2000-01-29</th>\n",
       "      <td>-0.710192</td>\n",
       "      <td>4.806704</td>\n",
       "      <td>4.706709</td>\n",
       "      <td>-5.853256</td>\n",
       "    </tr>\n",
       "    <tr>\n",
       "      <th>2000-01-30</th>\n",
       "      <td>-0.516302</td>\n",
       "      <td>6.635023</td>\n",
       "      <td>4.551845</td>\n",
       "      <td>-5.918772</td>\n",
       "    </tr>\n",
       "    <tr>\n",
       "      <th>...</th>\n",
       "      <td>...</td>\n",
       "      <td>...</td>\n",
       "      <td>...</td>\n",
       "      <td>...</td>\n",
       "    </tr>\n",
       "    <tr>\n",
       "      <th>2002-08-28</th>\n",
       "      <td>-30.833111</td>\n",
       "      <td>8.045406</td>\n",
       "      <td>-20.117893</td>\n",
       "      <td>-21.600244</td>\n",
       "    </tr>\n",
       "    <tr>\n",
       "      <th>2002-08-29</th>\n",
       "      <td>-29.261349</td>\n",
       "      <td>8.724998</td>\n",
       "      <td>-20.040524</td>\n",
       "      <td>-22.232678</td>\n",
       "    </tr>\n",
       "    <tr>\n",
       "      <th>2002-08-30</th>\n",
       "      <td>-28.926210</td>\n",
       "      <td>7.663260</td>\n",
       "      <td>-21.748747</td>\n",
       "      <td>-21.139842</td>\n",
       "    </tr>\n",
       "    <tr>\n",
       "      <th>2002-08-31</th>\n",
       "      <td>-28.970478</td>\n",
       "      <td>8.503136</td>\n",
       "      <td>-23.891506</td>\n",
       "      <td>-21.576548</td>\n",
       "    </tr>\n",
       "    <tr>\n",
       "      <th>2002-09-01</th>\n",
       "      <td>-29.306348</td>\n",
       "      <td>6.169174</td>\n",
       "      <td>-24.327492</td>\n",
       "      <td>-20.768916</td>\n",
       "    </tr>\n",
       "    <tr>\n",
       "      <th>2002-09-02</th>\n",
       "      <td>-30.506537</td>\n",
       "      <td>6.668762</td>\n",
       "      <td>-25.520905</td>\n",
       "      <td>-20.813245</td>\n",
       "    </tr>\n",
       "    <tr>\n",
       "      <th>2002-09-03</th>\n",
       "      <td>-30.620308</td>\n",
       "      <td>6.114543</td>\n",
       "      <td>-27.315028</td>\n",
       "      <td>-20.231639</td>\n",
       "    </tr>\n",
       "    <tr>\n",
       "      <th>2002-09-04</th>\n",
       "      <td>-30.655225</td>\n",
       "      <td>6.784006</td>\n",
       "      <td>-28.255218</td>\n",
       "      <td>-19.045021</td>\n",
       "    </tr>\n",
       "    <tr>\n",
       "      <th>2002-09-05</th>\n",
       "      <td>-29.525069</td>\n",
       "      <td>8.947657</td>\n",
       "      <td>-29.052141</td>\n",
       "      <td>-20.107515</td>\n",
       "    </tr>\n",
       "    <tr>\n",
       "      <th>2002-09-06</th>\n",
       "      <td>-29.833020</td>\n",
       "      <td>9.414035</td>\n",
       "      <td>-28.336428</td>\n",
       "      <td>-20.107905</td>\n",
       "    </tr>\n",
       "    <tr>\n",
       "      <th>2002-09-07</th>\n",
       "      <td>-29.251390</td>\n",
       "      <td>9.731585</td>\n",
       "      <td>-28.025679</td>\n",
       "      <td>-18.279077</td>\n",
       "    </tr>\n",
       "    <tr>\n",
       "      <th>2002-09-08</th>\n",
       "      <td>-31.231886</td>\n",
       "      <td>8.760366</td>\n",
       "      <td>-28.309908</td>\n",
       "      <td>-20.284184</td>\n",
       "    </tr>\n",
       "    <tr>\n",
       "      <th>2002-09-09</th>\n",
       "      <td>-31.284548</td>\n",
       "      <td>10.186607</td>\n",
       "      <td>-26.270144</td>\n",
       "      <td>-22.207187</td>\n",
       "    </tr>\n",
       "    <tr>\n",
       "      <th>2002-09-10</th>\n",
       "      <td>-30.963838</td>\n",
       "      <td>9.830522</td>\n",
       "      <td>-26.142458</td>\n",
       "      <td>-24.265833</td>\n",
       "    </tr>\n",
       "    <tr>\n",
       "      <th>2002-09-11</th>\n",
       "      <td>-29.228667</td>\n",
       "      <td>9.893671</td>\n",
       "      <td>-27.391679</td>\n",
       "      <td>-24.703427</td>\n",
       "    </tr>\n",
       "    <tr>\n",
       "      <th>2002-09-12</th>\n",
       "      <td>-29.826916</td>\n",
       "      <td>8.336012</td>\n",
       "      <td>-25.687959</td>\n",
       "      <td>-25.082243</td>\n",
       "    </tr>\n",
       "    <tr>\n",
       "      <th>2002-09-13</th>\n",
       "      <td>-29.189833</td>\n",
       "      <td>7.660054</td>\n",
       "      <td>-25.397506</td>\n",
       "      <td>-24.333856</td>\n",
       "    </tr>\n",
       "    <tr>\n",
       "      <th>2002-09-14</th>\n",
       "      <td>-30.362786</td>\n",
       "      <td>8.000106</td>\n",
       "      <td>-23.761373</td>\n",
       "      <td>-24.332264</td>\n",
       "    </tr>\n",
       "    <tr>\n",
       "      <th>2002-09-15</th>\n",
       "      <td>-31.198850</td>\n",
       "      <td>6.871618</td>\n",
       "      <td>-22.729806</td>\n",
       "      <td>-23.046849</td>\n",
       "    </tr>\n",
       "    <tr>\n",
       "      <th>2002-09-16</th>\n",
       "      <td>-30.464838</td>\n",
       "      <td>6.928003</td>\n",
       "      <td>-22.379376</td>\n",
       "      <td>-21.775398</td>\n",
       "    </tr>\n",
       "    <tr>\n",
       "      <th>2002-09-17</th>\n",
       "      <td>-29.973700</td>\n",
       "      <td>7.447574</td>\n",
       "      <td>-21.881760</td>\n",
       "      <td>-21.970800</td>\n",
       "    </tr>\n",
       "    <tr>\n",
       "      <th>2002-09-18</th>\n",
       "      <td>-28.801225</td>\n",
       "      <td>6.430640</td>\n",
       "      <td>-21.340090</td>\n",
       "      <td>-22.117191</td>\n",
       "    </tr>\n",
       "    <tr>\n",
       "      <th>2002-09-19</th>\n",
       "      <td>-29.282699</td>\n",
       "      <td>6.470559</td>\n",
       "      <td>-21.348314</td>\n",
       "      <td>-22.692655</td>\n",
       "    </tr>\n",
       "    <tr>\n",
       "      <th>2002-09-20</th>\n",
       "      <td>-29.711286</td>\n",
       "      <td>5.136673</td>\n",
       "      <td>-21.582732</td>\n",
       "      <td>-22.168261</td>\n",
       "    </tr>\n",
       "    <tr>\n",
       "      <th>2002-09-21</th>\n",
       "      <td>-31.622928</td>\n",
       "      <td>4.625709</td>\n",
       "      <td>-22.859073</td>\n",
       "      <td>-20.887790</td>\n",
       "    </tr>\n",
       "    <tr>\n",
       "      <th>2002-09-22</th>\n",
       "      <td>-31.421339</td>\n",
       "      <td>5.665111</td>\n",
       "      <td>-22.216392</td>\n",
       "      <td>-20.289557</td>\n",
       "    </tr>\n",
       "    <tr>\n",
       "      <th>2002-09-23</th>\n",
       "      <td>-31.473265</td>\n",
       "      <td>4.863797</td>\n",
       "      <td>-21.959164</td>\n",
       "      <td>-19.000368</td>\n",
       "    </tr>\n",
       "    <tr>\n",
       "      <th>2002-09-24</th>\n",
       "      <td>-29.990572</td>\n",
       "      <td>3.634133</td>\n",
       "      <td>-23.215642</td>\n",
       "      <td>-19.462039</td>\n",
       "    </tr>\n",
       "    <tr>\n",
       "      <th>2002-09-25</th>\n",
       "      <td>-31.279228</td>\n",
       "      <td>4.517451</td>\n",
       "      <td>-23.212792</td>\n",
       "      <td>-19.237344</td>\n",
       "    </tr>\n",
       "    <tr>\n",
       "      <th>2002-09-26</th>\n",
       "      <td>-31.840082</td>\n",
       "      <td>5.006420</td>\n",
       "      <td>-23.922024</td>\n",
       "      <td>-17.230599</td>\n",
       "    </tr>\n",
       "  </tbody>\n",
       "</table>\n",
       "<p>1000 rows × 4 columns</p>\n",
       "</div>"
      ],
      "text/plain": [
       "                    A          B          C          D\n",
       "2000-01-01  -0.822498  -1.034981  -0.285241  -0.035812\n",
       "2000-01-02  -2.815449  -1.303158  -0.327390  -1.456639\n",
       "2000-01-03  -3.562935  -1.190094  -0.994156  -1.103072\n",
       "2000-01-04  -4.189860  -0.772614  -1.177311  -1.730098\n",
       "2000-01-05  -4.563227  -0.467438  -0.377068  -2.573929\n",
       "2000-01-06  -4.294649  -0.712000   0.565672  -1.724450\n",
       "2000-01-07  -4.145274   0.108880   0.532297  -1.890351\n",
       "2000-01-08  -3.543464   1.214840   0.370833  -2.833043\n",
       "2000-01-09  -3.919530   1.601509   1.713863  -3.344169\n",
       "2000-01-10  -4.998280   2.475263   2.004112  -2.703736\n",
       "2000-01-11  -5.619463   1.847360  -0.799264  -2.331324\n",
       "2000-01-12  -4.348113   1.247092  -1.520329  -2.402860\n",
       "2000-01-13  -2.661906   3.501130  -1.992866  -1.437233\n",
       "2000-01-14  -4.039936   4.013953  -1.988440  -2.078277\n",
       "2000-01-15  -3.628723   2.753973  -1.384913  -2.831584\n",
       "2000-01-16  -2.536774   2.254055  -2.456072  -2.671567\n",
       "2000-01-17  -2.435578   2.051019  -1.600955  -2.906289\n",
       "2000-01-18  -2.101438   2.576133  -0.666183  -4.610631\n",
       "2000-01-19  -1.389316   1.785455   1.651549  -4.566756\n",
       "2000-01-20  -2.310414   2.354480   3.570945  -5.376047\n",
       "2000-01-21  -3.011647   1.908839   3.459151  -4.900375\n",
       "2000-01-22  -1.458039   3.662788   3.772249  -6.287566\n",
       "2000-01-23  -3.400221   6.063549   1.748699  -3.543101\n",
       "2000-01-24  -2.532424   6.334043   1.972568  -3.405972\n",
       "2000-01-25  -2.344013   6.866457   2.561329  -4.990319\n",
       "2000-01-26  -0.874784   5.870354   1.981842  -4.752227\n",
       "2000-01-27   0.646110   4.969291   3.907203  -4.339870\n",
       "2000-01-28  -0.551367   4.177699   4.792064  -4.793636\n",
       "2000-01-29  -0.710192   4.806704   4.706709  -5.853256\n",
       "2000-01-30  -0.516302   6.635023   4.551845  -5.918772\n",
       "...               ...        ...        ...        ...\n",
       "2002-08-28 -30.833111   8.045406 -20.117893 -21.600244\n",
       "2002-08-29 -29.261349   8.724998 -20.040524 -22.232678\n",
       "2002-08-30 -28.926210   7.663260 -21.748747 -21.139842\n",
       "2002-08-31 -28.970478   8.503136 -23.891506 -21.576548\n",
       "2002-09-01 -29.306348   6.169174 -24.327492 -20.768916\n",
       "2002-09-02 -30.506537   6.668762 -25.520905 -20.813245\n",
       "2002-09-03 -30.620308   6.114543 -27.315028 -20.231639\n",
       "2002-09-04 -30.655225   6.784006 -28.255218 -19.045021\n",
       "2002-09-05 -29.525069   8.947657 -29.052141 -20.107515\n",
       "2002-09-06 -29.833020   9.414035 -28.336428 -20.107905\n",
       "2002-09-07 -29.251390   9.731585 -28.025679 -18.279077\n",
       "2002-09-08 -31.231886   8.760366 -28.309908 -20.284184\n",
       "2002-09-09 -31.284548  10.186607 -26.270144 -22.207187\n",
       "2002-09-10 -30.963838   9.830522 -26.142458 -24.265833\n",
       "2002-09-11 -29.228667   9.893671 -27.391679 -24.703427\n",
       "2002-09-12 -29.826916   8.336012 -25.687959 -25.082243\n",
       "2002-09-13 -29.189833   7.660054 -25.397506 -24.333856\n",
       "2002-09-14 -30.362786   8.000106 -23.761373 -24.332264\n",
       "2002-09-15 -31.198850   6.871618 -22.729806 -23.046849\n",
       "2002-09-16 -30.464838   6.928003 -22.379376 -21.775398\n",
       "2002-09-17 -29.973700   7.447574 -21.881760 -21.970800\n",
       "2002-09-18 -28.801225   6.430640 -21.340090 -22.117191\n",
       "2002-09-19 -29.282699   6.470559 -21.348314 -22.692655\n",
       "2002-09-20 -29.711286   5.136673 -21.582732 -22.168261\n",
       "2002-09-21 -31.622928   4.625709 -22.859073 -20.887790\n",
       "2002-09-22 -31.421339   5.665111 -22.216392 -20.289557\n",
       "2002-09-23 -31.473265   4.863797 -21.959164 -19.000368\n",
       "2002-09-24 -29.990572   3.634133 -23.215642 -19.462039\n",
       "2002-09-25 -31.279228   4.517451 -23.212792 -19.237344\n",
       "2002-09-26 -31.840082   5.006420 -23.922024 -17.230599\n",
       "\n",
       "[1000 rows x 4 columns]"
      ]
     },
     "execution_count": 147,
     "metadata": {},
     "output_type": "execute_result"
    }
   ],
   "source": [
    "pd.read_excel('foo.xlsx', 'Sheet1', index_col=None,na_values=['NA'])"
   ]
  },
  {
   "cell_type": "code",
   "execution_count": null,
   "metadata": {
    "collapsed": true
   },
   "outputs": [],
   "source": []
  },
  {
   "cell_type": "code",
   "execution_count": null,
   "metadata": {
    "collapsed": true
   },
   "outputs": [],
   "source": []
  },
  {
   "cell_type": "code",
   "execution_count": null,
   "metadata": {
    "collapsed": true
   },
   "outputs": [],
   "source": []
  },
  {
   "cell_type": "code",
   "execution_count": null,
   "metadata": {
    "collapsed": true
   },
   "outputs": [],
   "source": []
  },
  {
   "cell_type": "code",
   "execution_count": null,
   "metadata": {
    "collapsed": true
   },
   "outputs": [],
   "source": []
  }
 ],
 "metadata": {
  "kernelspec": {
   "display_name": "Python 3",
   "language": "python",
   "name": "python3"
  },
  "language_info": {
   "codemirror_mode": {
    "name": "ipython",
    "version": 3
   },
   "file_extension": ".py",
   "mimetype": "text/x-python",
   "name": "python",
   "nbconvert_exporter": "python",
   "pygments_lexer": "ipython3",
   "version": "3.6.2"
  }
 },
 "nbformat": 4,
 "nbformat_minor": 2
}
