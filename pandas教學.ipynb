{
 "cells": [
  {
   "cell_type": "code",
   "execution_count": 1,
   "metadata": {
    "collapsed": true
   },
   "outputs": [],
   "source": [
    "import pandas as pd\n",
    "import numpy as np\n",
    "import matplotlib.pyplot as plt"
   ]
  },
  {
   "cell_type": "markdown",
   "metadata": {},
   "source": [
    "### 透過list建立一個Series"
   ]
  },
  {
   "cell_type": "code",
   "execution_count": 2,
   "metadata": {
    "collapsed": true
   },
   "outputs": [],
   "source": [
    "s = pd.Series([1, 3, 5, np.nan, 6, 8])"
   ]
  },
  {
   "cell_type": "code",
   "execution_count": 3,
   "metadata": {},
   "outputs": [
    {
     "data": {
      "text/plain": [
       "0    1.0\n",
       "1    3.0\n",
       "2    5.0\n",
       "3    NaN\n",
       "4    6.0\n",
       "5    8.0\n",
       "dtype: float64"
      ]
     },
     "execution_count": 3,
     "metadata": {},
     "output_type": "execute_result"
    }
   ],
   "source": [
    "s"
   ]
  },
  {
   "cell_type": "markdown",
   "metadata": {},
   "source": [
    "### 透過一個numpy array 建立DataFrame"
   ]
  },
  {
   "cell_type": "code",
   "execution_count": 4,
   "metadata": {
    "collapsed": true
   },
   "outputs": [],
   "source": [
    "##periods數量\n",
    "dates = pd.date_range('20130101', periods = 6)"
   ]
  },
  {
   "cell_type": "code",
   "execution_count": 5,
   "metadata": {},
   "outputs": [
    {
     "data": {
      "text/plain": [
       "DatetimeIndex(['2013-01-01', '2013-01-02', '2013-01-03', '2013-01-04',\n",
       "               '2013-01-05', '2013-01-06'],\n",
       "              dtype='datetime64[ns]', freq='D')"
      ]
     },
     "execution_count": 5,
     "metadata": {},
     "output_type": "execute_result"
    }
   ],
   "source": [
    "dates"
   ]
  },
  {
   "cell_type": "code",
   "execution_count": 6,
   "metadata": {
    "collapsed": true
   },
   "outputs": [],
   "source": [
    "df = pd.DataFrame(np.random.randn(6, 4), index = dates, columns = list('ABCD'))"
   ]
  },
  {
   "cell_type": "code",
   "execution_count": 7,
   "metadata": {},
   "outputs": [
    {
     "data": {
      "text/html": [
       "<div>\n",
       "<style>\n",
       "    .dataframe thead tr:only-child th {\n",
       "        text-align: right;\n",
       "    }\n",
       "\n",
       "    .dataframe thead th {\n",
       "        text-align: left;\n",
       "    }\n",
       "\n",
       "    .dataframe tbody tr th {\n",
       "        vertical-align: top;\n",
       "    }\n",
       "</style>\n",
       "<table border=\"1\" class=\"dataframe\">\n",
       "  <thead>\n",
       "    <tr style=\"text-align: right;\">\n",
       "      <th></th>\n",
       "      <th>A</th>\n",
       "      <th>B</th>\n",
       "      <th>C</th>\n",
       "      <th>D</th>\n",
       "    </tr>\n",
       "  </thead>\n",
       "  <tbody>\n",
       "    <tr>\n",
       "      <th>2013-01-01</th>\n",
       "      <td>-0.777776</td>\n",
       "      <td>0.733520</td>\n",
       "      <td>0.301505</td>\n",
       "      <td>1.149861</td>\n",
       "    </tr>\n",
       "    <tr>\n",
       "      <th>2013-01-02</th>\n",
       "      <td>-0.471017</td>\n",
       "      <td>0.209447</td>\n",
       "      <td>0.286066</td>\n",
       "      <td>-0.140525</td>\n",
       "    </tr>\n",
       "    <tr>\n",
       "      <th>2013-01-03</th>\n",
       "      <td>-1.238197</td>\n",
       "      <td>2.257030</td>\n",
       "      <td>-0.803479</td>\n",
       "      <td>0.269362</td>\n",
       "    </tr>\n",
       "    <tr>\n",
       "      <th>2013-01-04</th>\n",
       "      <td>0.017584</td>\n",
       "      <td>-0.110726</td>\n",
       "      <td>0.052797</td>\n",
       "      <td>0.796943</td>\n",
       "    </tr>\n",
       "    <tr>\n",
       "      <th>2013-01-05</th>\n",
       "      <td>-1.186271</td>\n",
       "      <td>0.182065</td>\n",
       "      <td>0.555394</td>\n",
       "      <td>0.242455</td>\n",
       "    </tr>\n",
       "    <tr>\n",
       "      <th>2013-01-06</th>\n",
       "      <td>0.059354</td>\n",
       "      <td>-0.599238</td>\n",
       "      <td>0.195400</td>\n",
       "      <td>-0.234581</td>\n",
       "    </tr>\n",
       "  </tbody>\n",
       "</table>\n",
       "</div>"
      ],
      "text/plain": [
       "                   A         B         C         D\n",
       "2013-01-01 -0.777776  0.733520  0.301505  1.149861\n",
       "2013-01-02 -0.471017  0.209447  0.286066 -0.140525\n",
       "2013-01-03 -1.238197  2.257030 -0.803479  0.269362\n",
       "2013-01-04  0.017584 -0.110726  0.052797  0.796943\n",
       "2013-01-05 -1.186271  0.182065  0.555394  0.242455\n",
       "2013-01-06  0.059354 -0.599238  0.195400 -0.234581"
      ]
     },
     "execution_count": 7,
     "metadata": {},
     "output_type": "execute_result"
    }
   ],
   "source": [
    "df"
   ]
  },
  {
   "cell_type": "markdown",
   "metadata": {},
   "source": [
    "### 通過傳遞一個能夠被轉換成類似序列結構的字典對象來建立一個DataFrame"
   ]
  },
  {
   "cell_type": "code",
   "execution_count": 8,
   "metadata": {
    "collapsed": true
   },
   "outputs": [],
   "source": [
    "df2 = pd.DataFrame({\"A\" : 1.,\\\n",
    "                    \"B\" : pd.Timestamp('20130102'),\\\n",
    "                    \"C\" : pd.Series(1, index = list(range(4)), dtype = \"float32\"),\\\n",
    "                    \"D\" : np.array([3] * 4, dtype = \"int32\"),\\\n",
    "                    \"E\" : pd.Categorical([\"test\", \"train\", \"test\", \"train\"]),\\\n",
    "                    \"F\" : \"foo\"})"
   ]
  },
  {
   "cell_type": "code",
   "execution_count": 9,
   "metadata": {},
   "outputs": [
    {
     "data": {
      "text/html": [
       "<div>\n",
       "<style>\n",
       "    .dataframe thead tr:only-child th {\n",
       "        text-align: right;\n",
       "    }\n",
       "\n",
       "    .dataframe thead th {\n",
       "        text-align: left;\n",
       "    }\n",
       "\n",
       "    .dataframe tbody tr th {\n",
       "        vertical-align: top;\n",
       "    }\n",
       "</style>\n",
       "<table border=\"1\" class=\"dataframe\">\n",
       "  <thead>\n",
       "    <tr style=\"text-align: right;\">\n",
       "      <th></th>\n",
       "      <th>A</th>\n",
       "      <th>B</th>\n",
       "      <th>C</th>\n",
       "      <th>D</th>\n",
       "      <th>E</th>\n",
       "      <th>F</th>\n",
       "    </tr>\n",
       "  </thead>\n",
       "  <tbody>\n",
       "    <tr>\n",
       "      <th>0</th>\n",
       "      <td>1.0</td>\n",
       "      <td>2013-01-02</td>\n",
       "      <td>1.0</td>\n",
       "      <td>3</td>\n",
       "      <td>test</td>\n",
       "      <td>foo</td>\n",
       "    </tr>\n",
       "    <tr>\n",
       "      <th>1</th>\n",
       "      <td>1.0</td>\n",
       "      <td>2013-01-02</td>\n",
       "      <td>1.0</td>\n",
       "      <td>3</td>\n",
       "      <td>train</td>\n",
       "      <td>foo</td>\n",
       "    </tr>\n",
       "    <tr>\n",
       "      <th>2</th>\n",
       "      <td>1.0</td>\n",
       "      <td>2013-01-02</td>\n",
       "      <td>1.0</td>\n",
       "      <td>3</td>\n",
       "      <td>test</td>\n",
       "      <td>foo</td>\n",
       "    </tr>\n",
       "    <tr>\n",
       "      <th>3</th>\n",
       "      <td>1.0</td>\n",
       "      <td>2013-01-02</td>\n",
       "      <td>1.0</td>\n",
       "      <td>3</td>\n",
       "      <td>train</td>\n",
       "      <td>foo</td>\n",
       "    </tr>\n",
       "  </tbody>\n",
       "</table>\n",
       "</div>"
      ],
      "text/plain": [
       "     A          B    C  D      E    F\n",
       "0  1.0 2013-01-02  1.0  3   test  foo\n",
       "1  1.0 2013-01-02  1.0  3  train  foo\n",
       "2  1.0 2013-01-02  1.0  3   test  foo\n",
       "3  1.0 2013-01-02  1.0  3  train  foo"
      ]
     },
     "execution_count": 9,
     "metadata": {},
     "output_type": "execute_result"
    }
   ],
   "source": [
    "df2"
   ]
  },
  {
   "cell_type": "markdown",
   "metadata": {},
   "source": [
    "### 查看不同列的數據類型"
   ]
  },
  {
   "cell_type": "code",
   "execution_count": 10,
   "metadata": {},
   "outputs": [
    {
     "data": {
      "text/plain": [
       "A           float64\n",
       "B    datetime64[ns]\n",
       "C           float32\n",
       "D             int32\n",
       "E          category\n",
       "F            object\n",
       "dtype: object"
      ]
     },
     "execution_count": 10,
     "metadata": {},
     "output_type": "execute_result"
    }
   ],
   "source": [
    "df2.dtypes"
   ]
  },
  {
   "cell_type": "markdown",
   "metadata": {},
   "source": [
    "### 查看DataFrame的頭部和尾部的行"
   ]
  },
  {
   "cell_type": "code",
   "execution_count": 11,
   "metadata": {},
   "outputs": [
    {
     "data": {
      "text/html": [
       "<div>\n",
       "<style>\n",
       "    .dataframe thead tr:only-child th {\n",
       "        text-align: right;\n",
       "    }\n",
       "\n",
       "    .dataframe thead th {\n",
       "        text-align: left;\n",
       "    }\n",
       "\n",
       "    .dataframe tbody tr th {\n",
       "        vertical-align: top;\n",
       "    }\n",
       "</style>\n",
       "<table border=\"1\" class=\"dataframe\">\n",
       "  <thead>\n",
       "    <tr style=\"text-align: right;\">\n",
       "      <th></th>\n",
       "      <th>A</th>\n",
       "      <th>B</th>\n",
       "      <th>C</th>\n",
       "      <th>D</th>\n",
       "    </tr>\n",
       "  </thead>\n",
       "  <tbody>\n",
       "    <tr>\n",
       "      <th>2013-01-01</th>\n",
       "      <td>-0.777776</td>\n",
       "      <td>0.733520</td>\n",
       "      <td>0.301505</td>\n",
       "      <td>1.149861</td>\n",
       "    </tr>\n",
       "    <tr>\n",
       "      <th>2013-01-02</th>\n",
       "      <td>-0.471017</td>\n",
       "      <td>0.209447</td>\n",
       "      <td>0.286066</td>\n",
       "      <td>-0.140525</td>\n",
       "    </tr>\n",
       "    <tr>\n",
       "      <th>2013-01-03</th>\n",
       "      <td>-1.238197</td>\n",
       "      <td>2.257030</td>\n",
       "      <td>-0.803479</td>\n",
       "      <td>0.269362</td>\n",
       "    </tr>\n",
       "    <tr>\n",
       "      <th>2013-01-04</th>\n",
       "      <td>0.017584</td>\n",
       "      <td>-0.110726</td>\n",
       "      <td>0.052797</td>\n",
       "      <td>0.796943</td>\n",
       "    </tr>\n",
       "    <tr>\n",
       "      <th>2013-01-05</th>\n",
       "      <td>-1.186271</td>\n",
       "      <td>0.182065</td>\n",
       "      <td>0.555394</td>\n",
       "      <td>0.242455</td>\n",
       "    </tr>\n",
       "  </tbody>\n",
       "</table>\n",
       "</div>"
      ],
      "text/plain": [
       "                   A         B         C         D\n",
       "2013-01-01 -0.777776  0.733520  0.301505  1.149861\n",
       "2013-01-02 -0.471017  0.209447  0.286066 -0.140525\n",
       "2013-01-03 -1.238197  2.257030 -0.803479  0.269362\n",
       "2013-01-04  0.017584 -0.110726  0.052797  0.796943\n",
       "2013-01-05 -1.186271  0.182065  0.555394  0.242455"
      ]
     },
     "execution_count": 11,
     "metadata": {},
     "output_type": "execute_result"
    }
   ],
   "source": [
    "df.head()"
   ]
  },
  {
   "cell_type": "code",
   "execution_count": 12,
   "metadata": {},
   "outputs": [
    {
     "data": {
      "text/html": [
       "<div>\n",
       "<style>\n",
       "    .dataframe thead tr:only-child th {\n",
       "        text-align: right;\n",
       "    }\n",
       "\n",
       "    .dataframe thead th {\n",
       "        text-align: left;\n",
       "    }\n",
       "\n",
       "    .dataframe tbody tr th {\n",
       "        vertical-align: top;\n",
       "    }\n",
       "</style>\n",
       "<table border=\"1\" class=\"dataframe\">\n",
       "  <thead>\n",
       "    <tr style=\"text-align: right;\">\n",
       "      <th></th>\n",
       "      <th>A</th>\n",
       "      <th>B</th>\n",
       "      <th>C</th>\n",
       "      <th>D</th>\n",
       "    </tr>\n",
       "  </thead>\n",
       "  <tbody>\n",
       "    <tr>\n",
       "      <th>2013-01-04</th>\n",
       "      <td>0.017584</td>\n",
       "      <td>-0.110726</td>\n",
       "      <td>0.052797</td>\n",
       "      <td>0.796943</td>\n",
       "    </tr>\n",
       "    <tr>\n",
       "      <th>2013-01-05</th>\n",
       "      <td>-1.186271</td>\n",
       "      <td>0.182065</td>\n",
       "      <td>0.555394</td>\n",
       "      <td>0.242455</td>\n",
       "    </tr>\n",
       "    <tr>\n",
       "      <th>2013-01-06</th>\n",
       "      <td>0.059354</td>\n",
       "      <td>-0.599238</td>\n",
       "      <td>0.195400</td>\n",
       "      <td>-0.234581</td>\n",
       "    </tr>\n",
       "  </tbody>\n",
       "</table>\n",
       "</div>"
      ],
      "text/plain": [
       "                   A         B         C         D\n",
       "2013-01-04  0.017584 -0.110726  0.052797  0.796943\n",
       "2013-01-05 -1.186271  0.182065  0.555394  0.242455\n",
       "2013-01-06  0.059354 -0.599238  0.195400 -0.234581"
      ]
     },
     "execution_count": 12,
     "metadata": {},
     "output_type": "execute_result"
    }
   ],
   "source": [
    "df.tail(3)"
   ]
  },
  {
   "cell_type": "markdown",
   "metadata": {},
   "source": [
    "### 顯示索引、列和底層的numpy數據"
   ]
  },
  {
   "cell_type": "code",
   "execution_count": 13,
   "metadata": {},
   "outputs": [
    {
     "data": {
      "text/plain": [
       "DatetimeIndex(['2013-01-01', '2013-01-02', '2013-01-03', '2013-01-04',\n",
       "               '2013-01-05', '2013-01-06'],\n",
       "              dtype='datetime64[ns]', freq='D')"
      ]
     },
     "execution_count": 13,
     "metadata": {},
     "output_type": "execute_result"
    }
   ],
   "source": [
    "df.index"
   ]
  },
  {
   "cell_type": "code",
   "execution_count": 14,
   "metadata": {},
   "outputs": [
    {
     "data": {
      "text/plain": [
       "Index(['A', 'B', 'C', 'D'], dtype='object')"
      ]
     },
     "execution_count": 14,
     "metadata": {},
     "output_type": "execute_result"
    }
   ],
   "source": [
    "df.columns"
   ]
  },
  {
   "cell_type": "code",
   "execution_count": 15,
   "metadata": {},
   "outputs": [
    {
     "data": {
      "text/plain": [
       "array([[-0.77777566,  0.7335204 ,  0.30150549,  1.14986125],\n",
       "       [-0.47101679,  0.20944662,  0.28606644, -0.14052544],\n",
       "       [-1.2381966 ,  2.2570303 , -0.80347896,  0.26936217],\n",
       "       [ 0.01758414, -0.11072626,  0.05279741,  0.79694302],\n",
       "       [-1.18627106,  0.18206463,  0.55539383,  0.24245522],\n",
       "       [ 0.05935388, -0.59923793,  0.19540039, -0.23458058]])"
      ]
     },
     "execution_count": 15,
     "metadata": {},
     "output_type": "execute_result"
    }
   ],
   "source": [
    "df.values"
   ]
  },
  {
   "cell_type": "markdown",
   "metadata": {},
   "source": [
    "### describe() 函數對於數據的快速統計匯總"
   ]
  },
  {
   "cell_type": "code",
   "execution_count": 16,
   "metadata": {},
   "outputs": [
    {
     "data": {
      "text/html": [
       "<div>\n",
       "<style>\n",
       "    .dataframe thead tr:only-child th {\n",
       "        text-align: right;\n",
       "    }\n",
       "\n",
       "    .dataframe thead th {\n",
       "        text-align: left;\n",
       "    }\n",
       "\n",
       "    .dataframe tbody tr th {\n",
       "        vertical-align: top;\n",
       "    }\n",
       "</style>\n",
       "<table border=\"1\" class=\"dataframe\">\n",
       "  <thead>\n",
       "    <tr style=\"text-align: right;\">\n",
       "      <th></th>\n",
       "      <th>A</th>\n",
       "      <th>B</th>\n",
       "      <th>C</th>\n",
       "      <th>D</th>\n",
       "    </tr>\n",
       "  </thead>\n",
       "  <tbody>\n",
       "    <tr>\n",
       "      <th>count</th>\n",
       "      <td>6.000000</td>\n",
       "      <td>6.000000</td>\n",
       "      <td>6.000000</td>\n",
       "      <td>6.000000</td>\n",
       "    </tr>\n",
       "    <tr>\n",
       "      <th>mean</th>\n",
       "      <td>-0.599387</td>\n",
       "      <td>0.445350</td>\n",
       "      <td>0.097947</td>\n",
       "      <td>0.347253</td>\n",
       "    </tr>\n",
       "    <tr>\n",
       "      <th>std</th>\n",
       "      <td>0.568402</td>\n",
       "      <td>0.988998</td>\n",
       "      <td>0.471208</td>\n",
       "      <td>0.536639</td>\n",
       "    </tr>\n",
       "    <tr>\n",
       "      <th>min</th>\n",
       "      <td>-1.238197</td>\n",
       "      <td>-0.599238</td>\n",
       "      <td>-0.803479</td>\n",
       "      <td>-0.234581</td>\n",
       "    </tr>\n",
       "    <tr>\n",
       "      <th>25%</th>\n",
       "      <td>-1.084147</td>\n",
       "      <td>-0.037529</td>\n",
       "      <td>0.088448</td>\n",
       "      <td>-0.044780</td>\n",
       "    </tr>\n",
       "    <tr>\n",
       "      <th>50%</th>\n",
       "      <td>-0.624396</td>\n",
       "      <td>0.195756</td>\n",
       "      <td>0.240733</td>\n",
       "      <td>0.255909</td>\n",
       "    </tr>\n",
       "    <tr>\n",
       "      <th>75%</th>\n",
       "      <td>-0.104566</td>\n",
       "      <td>0.602502</td>\n",
       "      <td>0.297646</td>\n",
       "      <td>0.665048</td>\n",
       "    </tr>\n",
       "    <tr>\n",
       "      <th>max</th>\n",
       "      <td>0.059354</td>\n",
       "      <td>2.257030</td>\n",
       "      <td>0.555394</td>\n",
       "      <td>1.149861</td>\n",
       "    </tr>\n",
       "  </tbody>\n",
       "</table>\n",
       "</div>"
      ],
      "text/plain": [
       "              A         B         C         D\n",
       "count  6.000000  6.000000  6.000000  6.000000\n",
       "mean  -0.599387  0.445350  0.097947  0.347253\n",
       "std    0.568402  0.988998  0.471208  0.536639\n",
       "min   -1.238197 -0.599238 -0.803479 -0.234581\n",
       "25%   -1.084147 -0.037529  0.088448 -0.044780\n",
       "50%   -0.624396  0.195756  0.240733  0.255909\n",
       "75%   -0.104566  0.602502  0.297646  0.665048\n",
       "max    0.059354  2.257030  0.555394  1.149861"
      ]
     },
     "execution_count": 16,
     "metadata": {},
     "output_type": "execute_result"
    }
   ],
   "source": [
    "df.describe()"
   ]
  },
  {
   "cell_type": "markdown",
   "metadata": {},
   "source": [
    "### 對數據的轉置"
   ]
  },
  {
   "cell_type": "code",
   "execution_count": 17,
   "metadata": {},
   "outputs": [
    {
     "data": {
      "text/html": [
       "<div>\n",
       "<style>\n",
       "    .dataframe thead tr:only-child th {\n",
       "        text-align: right;\n",
       "    }\n",
       "\n",
       "    .dataframe thead th {\n",
       "        text-align: left;\n",
       "    }\n",
       "\n",
       "    .dataframe tbody tr th {\n",
       "        vertical-align: top;\n",
       "    }\n",
       "</style>\n",
       "<table border=\"1\" class=\"dataframe\">\n",
       "  <thead>\n",
       "    <tr style=\"text-align: right;\">\n",
       "      <th></th>\n",
       "      <th>2013-01-01 00:00:00</th>\n",
       "      <th>2013-01-02 00:00:00</th>\n",
       "      <th>2013-01-03 00:00:00</th>\n",
       "      <th>2013-01-04 00:00:00</th>\n",
       "      <th>2013-01-05 00:00:00</th>\n",
       "      <th>2013-01-06 00:00:00</th>\n",
       "    </tr>\n",
       "  </thead>\n",
       "  <tbody>\n",
       "    <tr>\n",
       "      <th>A</th>\n",
       "      <td>-0.777776</td>\n",
       "      <td>-0.471017</td>\n",
       "      <td>-1.238197</td>\n",
       "      <td>0.017584</td>\n",
       "      <td>-1.186271</td>\n",
       "      <td>0.059354</td>\n",
       "    </tr>\n",
       "    <tr>\n",
       "      <th>B</th>\n",
       "      <td>0.733520</td>\n",
       "      <td>0.209447</td>\n",
       "      <td>2.257030</td>\n",
       "      <td>-0.110726</td>\n",
       "      <td>0.182065</td>\n",
       "      <td>-0.599238</td>\n",
       "    </tr>\n",
       "    <tr>\n",
       "      <th>C</th>\n",
       "      <td>0.301505</td>\n",
       "      <td>0.286066</td>\n",
       "      <td>-0.803479</td>\n",
       "      <td>0.052797</td>\n",
       "      <td>0.555394</td>\n",
       "      <td>0.195400</td>\n",
       "    </tr>\n",
       "    <tr>\n",
       "      <th>D</th>\n",
       "      <td>1.149861</td>\n",
       "      <td>-0.140525</td>\n",
       "      <td>0.269362</td>\n",
       "      <td>0.796943</td>\n",
       "      <td>0.242455</td>\n",
       "      <td>-0.234581</td>\n",
       "    </tr>\n",
       "  </tbody>\n",
       "</table>\n",
       "</div>"
      ],
      "text/plain": [
       "   2013-01-01  2013-01-02  2013-01-03  2013-01-04  2013-01-05  2013-01-06\n",
       "A   -0.777776   -0.471017   -1.238197    0.017584   -1.186271    0.059354\n",
       "B    0.733520    0.209447    2.257030   -0.110726    0.182065   -0.599238\n",
       "C    0.301505    0.286066   -0.803479    0.052797    0.555394    0.195400\n",
       "D    1.149861   -0.140525    0.269362    0.796943    0.242455   -0.234581"
      ]
     },
     "execution_count": 17,
     "metadata": {},
     "output_type": "execute_result"
    }
   ],
   "source": [
    "df.T"
   ]
  },
  {
   "cell_type": "markdown",
   "metadata": {},
   "source": [
    "### 按軸進行排序"
   ]
  },
  {
   "cell_type": "code",
   "execution_count": 18,
   "metadata": {},
   "outputs": [
    {
     "data": {
      "text/html": [
       "<div>\n",
       "<style>\n",
       "    .dataframe thead tr:only-child th {\n",
       "        text-align: right;\n",
       "    }\n",
       "\n",
       "    .dataframe thead th {\n",
       "        text-align: left;\n",
       "    }\n",
       "\n",
       "    .dataframe tbody tr th {\n",
       "        vertical-align: top;\n",
       "    }\n",
       "</style>\n",
       "<table border=\"1\" class=\"dataframe\">\n",
       "  <thead>\n",
       "    <tr style=\"text-align: right;\">\n",
       "      <th></th>\n",
       "      <th>D</th>\n",
       "      <th>C</th>\n",
       "      <th>B</th>\n",
       "      <th>A</th>\n",
       "    </tr>\n",
       "  </thead>\n",
       "  <tbody>\n",
       "    <tr>\n",
       "      <th>2013-01-01</th>\n",
       "      <td>1.149861</td>\n",
       "      <td>0.301505</td>\n",
       "      <td>0.733520</td>\n",
       "      <td>-0.777776</td>\n",
       "    </tr>\n",
       "    <tr>\n",
       "      <th>2013-01-02</th>\n",
       "      <td>-0.140525</td>\n",
       "      <td>0.286066</td>\n",
       "      <td>0.209447</td>\n",
       "      <td>-0.471017</td>\n",
       "    </tr>\n",
       "    <tr>\n",
       "      <th>2013-01-03</th>\n",
       "      <td>0.269362</td>\n",
       "      <td>-0.803479</td>\n",
       "      <td>2.257030</td>\n",
       "      <td>-1.238197</td>\n",
       "    </tr>\n",
       "    <tr>\n",
       "      <th>2013-01-04</th>\n",
       "      <td>0.796943</td>\n",
       "      <td>0.052797</td>\n",
       "      <td>-0.110726</td>\n",
       "      <td>0.017584</td>\n",
       "    </tr>\n",
       "    <tr>\n",
       "      <th>2013-01-05</th>\n",
       "      <td>0.242455</td>\n",
       "      <td>0.555394</td>\n",
       "      <td>0.182065</td>\n",
       "      <td>-1.186271</td>\n",
       "    </tr>\n",
       "    <tr>\n",
       "      <th>2013-01-06</th>\n",
       "      <td>-0.234581</td>\n",
       "      <td>0.195400</td>\n",
       "      <td>-0.599238</td>\n",
       "      <td>0.059354</td>\n",
       "    </tr>\n",
       "  </tbody>\n",
       "</table>\n",
       "</div>"
      ],
      "text/plain": [
       "                   D         C         B         A\n",
       "2013-01-01  1.149861  0.301505  0.733520 -0.777776\n",
       "2013-01-02 -0.140525  0.286066  0.209447 -0.471017\n",
       "2013-01-03  0.269362 -0.803479  2.257030 -1.238197\n",
       "2013-01-04  0.796943  0.052797 -0.110726  0.017584\n",
       "2013-01-05  0.242455  0.555394  0.182065 -1.186271\n",
       "2013-01-06 -0.234581  0.195400 -0.599238  0.059354"
      ]
     },
     "execution_count": 18,
     "metadata": {},
     "output_type": "execute_result"
    }
   ],
   "source": [
    "df.sort_index(axis = 1, ascending = False)"
   ]
  },
  {
   "cell_type": "markdown",
   "metadata": {},
   "source": [
    "### 按值進行排序"
   ]
  },
  {
   "cell_type": "code",
   "execution_count": 19,
   "metadata": {},
   "outputs": [
    {
     "data": {
      "text/html": [
       "<div>\n",
       "<style>\n",
       "    .dataframe thead tr:only-child th {\n",
       "        text-align: right;\n",
       "    }\n",
       "\n",
       "    .dataframe thead th {\n",
       "        text-align: left;\n",
       "    }\n",
       "\n",
       "    .dataframe tbody tr th {\n",
       "        vertical-align: top;\n",
       "    }\n",
       "</style>\n",
       "<table border=\"1\" class=\"dataframe\">\n",
       "  <thead>\n",
       "    <tr style=\"text-align: right;\">\n",
       "      <th></th>\n",
       "      <th>A</th>\n",
       "      <th>B</th>\n",
       "      <th>C</th>\n",
       "      <th>D</th>\n",
       "    </tr>\n",
       "  </thead>\n",
       "  <tbody>\n",
       "    <tr>\n",
       "      <th>2013-01-06</th>\n",
       "      <td>0.059354</td>\n",
       "      <td>-0.599238</td>\n",
       "      <td>0.195400</td>\n",
       "      <td>-0.234581</td>\n",
       "    </tr>\n",
       "    <tr>\n",
       "      <th>2013-01-04</th>\n",
       "      <td>0.017584</td>\n",
       "      <td>-0.110726</td>\n",
       "      <td>0.052797</td>\n",
       "      <td>0.796943</td>\n",
       "    </tr>\n",
       "    <tr>\n",
       "      <th>2013-01-05</th>\n",
       "      <td>-1.186271</td>\n",
       "      <td>0.182065</td>\n",
       "      <td>0.555394</td>\n",
       "      <td>0.242455</td>\n",
       "    </tr>\n",
       "    <tr>\n",
       "      <th>2013-01-02</th>\n",
       "      <td>-0.471017</td>\n",
       "      <td>0.209447</td>\n",
       "      <td>0.286066</td>\n",
       "      <td>-0.140525</td>\n",
       "    </tr>\n",
       "    <tr>\n",
       "      <th>2013-01-01</th>\n",
       "      <td>-0.777776</td>\n",
       "      <td>0.733520</td>\n",
       "      <td>0.301505</td>\n",
       "      <td>1.149861</td>\n",
       "    </tr>\n",
       "    <tr>\n",
       "      <th>2013-01-03</th>\n",
       "      <td>-1.238197</td>\n",
       "      <td>2.257030</td>\n",
       "      <td>-0.803479</td>\n",
       "      <td>0.269362</td>\n",
       "    </tr>\n",
       "  </tbody>\n",
       "</table>\n",
       "</div>"
      ],
      "text/plain": [
       "                   A         B         C         D\n",
       "2013-01-06  0.059354 -0.599238  0.195400 -0.234581\n",
       "2013-01-04  0.017584 -0.110726  0.052797  0.796943\n",
       "2013-01-05 -1.186271  0.182065  0.555394  0.242455\n",
       "2013-01-02 -0.471017  0.209447  0.286066 -0.140525\n",
       "2013-01-01 -0.777776  0.733520  0.301505  1.149861\n",
       "2013-01-03 -1.238197  2.257030 -0.803479  0.269362"
      ]
     },
     "execution_count": 19,
     "metadata": {},
     "output_type": "execute_result"
    }
   ],
   "source": [
    "df.sort_values(by = \"B\")"
   ]
  },
  {
   "cell_type": "markdown",
   "metadata": {},
   "source": [
    "# 選擇"
   ]
  },
  {
   "cell_type": "markdown",
   "metadata": {},
   "source": [
    "### 獲取\n",
    "### 選擇一個單獨的列，將會返回Series，等同於df.A"
   ]
  },
  {
   "cell_type": "code",
   "execution_count": 20,
   "metadata": {
    "scrolled": true
   },
   "outputs": [
    {
     "data": {
      "text/plain": [
       "2013-01-01   -0.777776\n",
       "2013-01-02   -0.471017\n",
       "2013-01-03   -1.238197\n",
       "2013-01-04    0.017584\n",
       "2013-01-05   -1.186271\n",
       "2013-01-06    0.059354\n",
       "Freq: D, Name: A, dtype: float64"
      ]
     },
     "execution_count": 20,
     "metadata": {},
     "output_type": "execute_result"
    }
   ],
   "source": [
    "df[\"A\"]"
   ]
  },
  {
   "cell_type": "code",
   "execution_count": 21,
   "metadata": {},
   "outputs": [
    {
     "data": {
      "text/plain": [
       "2013-01-01   -0.777776\n",
       "2013-01-02   -0.471017\n",
       "2013-01-03   -1.238197\n",
       "2013-01-04    0.017584\n",
       "2013-01-05   -1.186271\n",
       "2013-01-06    0.059354\n",
       "Freq: D, Name: A, dtype: float64"
      ]
     },
     "execution_count": 21,
     "metadata": {},
     "output_type": "execute_result"
    }
   ],
   "source": [
    "df.A"
   ]
  },
  {
   "cell_type": "markdown",
   "metadata": {},
   "source": [
    "### 通過[ ] 進行選擇，將會對行進行切片"
   ]
  },
  {
   "cell_type": "code",
   "execution_count": 22,
   "metadata": {},
   "outputs": [
    {
     "data": {
      "text/html": [
       "<div>\n",
       "<style>\n",
       "    .dataframe thead tr:only-child th {\n",
       "        text-align: right;\n",
       "    }\n",
       "\n",
       "    .dataframe thead th {\n",
       "        text-align: left;\n",
       "    }\n",
       "\n",
       "    .dataframe tbody tr th {\n",
       "        vertical-align: top;\n",
       "    }\n",
       "</style>\n",
       "<table border=\"1\" class=\"dataframe\">\n",
       "  <thead>\n",
       "    <tr style=\"text-align: right;\">\n",
       "      <th></th>\n",
       "      <th>A</th>\n",
       "      <th>B</th>\n",
       "      <th>C</th>\n",
       "      <th>D</th>\n",
       "    </tr>\n",
       "  </thead>\n",
       "  <tbody>\n",
       "    <tr>\n",
       "      <th>2013-01-01</th>\n",
       "      <td>-0.777776</td>\n",
       "      <td>0.733520</td>\n",
       "      <td>0.301505</td>\n",
       "      <td>1.149861</td>\n",
       "    </tr>\n",
       "    <tr>\n",
       "      <th>2013-01-02</th>\n",
       "      <td>-0.471017</td>\n",
       "      <td>0.209447</td>\n",
       "      <td>0.286066</td>\n",
       "      <td>-0.140525</td>\n",
       "    </tr>\n",
       "    <tr>\n",
       "      <th>2013-01-03</th>\n",
       "      <td>-1.238197</td>\n",
       "      <td>2.257030</td>\n",
       "      <td>-0.803479</td>\n",
       "      <td>0.269362</td>\n",
       "    </tr>\n",
       "  </tbody>\n",
       "</table>\n",
       "</div>"
      ],
      "text/plain": [
       "                   A         B         C         D\n",
       "2013-01-01 -0.777776  0.733520  0.301505  1.149861\n",
       "2013-01-02 -0.471017  0.209447  0.286066 -0.140525\n",
       "2013-01-03 -1.238197  2.257030 -0.803479  0.269362"
      ]
     },
     "execution_count": 22,
     "metadata": {},
     "output_type": "execute_result"
    }
   ],
   "source": [
    "df[0:3]"
   ]
  },
  {
   "cell_type": "code",
   "execution_count": 23,
   "metadata": {},
   "outputs": [
    {
     "data": {
      "text/html": [
       "<div>\n",
       "<style>\n",
       "    .dataframe thead tr:only-child th {\n",
       "        text-align: right;\n",
       "    }\n",
       "\n",
       "    .dataframe thead th {\n",
       "        text-align: left;\n",
       "    }\n",
       "\n",
       "    .dataframe tbody tr th {\n",
       "        vertical-align: top;\n",
       "    }\n",
       "</style>\n",
       "<table border=\"1\" class=\"dataframe\">\n",
       "  <thead>\n",
       "    <tr style=\"text-align: right;\">\n",
       "      <th></th>\n",
       "      <th>A</th>\n",
       "      <th>B</th>\n",
       "      <th>C</th>\n",
       "      <th>D</th>\n",
       "    </tr>\n",
       "  </thead>\n",
       "  <tbody>\n",
       "    <tr>\n",
       "      <th>2013-01-02</th>\n",
       "      <td>-0.471017</td>\n",
       "      <td>0.209447</td>\n",
       "      <td>0.286066</td>\n",
       "      <td>-0.140525</td>\n",
       "    </tr>\n",
       "    <tr>\n",
       "      <th>2013-01-03</th>\n",
       "      <td>-1.238197</td>\n",
       "      <td>2.257030</td>\n",
       "      <td>-0.803479</td>\n",
       "      <td>0.269362</td>\n",
       "    </tr>\n",
       "    <tr>\n",
       "      <th>2013-01-04</th>\n",
       "      <td>0.017584</td>\n",
       "      <td>-0.110726</td>\n",
       "      <td>0.052797</td>\n",
       "      <td>0.796943</td>\n",
       "    </tr>\n",
       "  </tbody>\n",
       "</table>\n",
       "</div>"
      ],
      "text/plain": [
       "                   A         B         C         D\n",
       "2013-01-02 -0.471017  0.209447  0.286066 -0.140525\n",
       "2013-01-03 -1.238197  2.257030 -0.803479  0.269362\n",
       "2013-01-04  0.017584 -0.110726  0.052797  0.796943"
      ]
     },
     "execution_count": 23,
     "metadata": {},
     "output_type": "execute_result"
    }
   ],
   "source": [
    "df[\"20130102\":\"20130104\"]"
   ]
  },
  {
   "cell_type": "markdown",
   "metadata": {},
   "source": [
    "# 通過標籤選擇"
   ]
  },
  {
   "cell_type": "markdown",
   "metadata": {},
   "source": [
    "### 使用標籤來獲取一個交叉的區域"
   ]
  },
  {
   "cell_type": "code",
   "execution_count": 24,
   "metadata": {},
   "outputs": [
    {
     "data": {
      "text/plain": [
       "A   -0.777776\n",
       "B    0.733520\n",
       "C    0.301505\n",
       "D    1.149861\n",
       "Name: 2013-01-01 00:00:00, dtype: float64"
      ]
     },
     "execution_count": 24,
     "metadata": {},
     "output_type": "execute_result"
    }
   ],
   "source": [
    "df.loc[dates[0]]"
   ]
  },
  {
   "cell_type": "markdown",
   "metadata": {},
   "source": [
    "### 通過標籤來在多個軸上進行選擇"
   ]
  },
  {
   "cell_type": "code",
   "execution_count": 25,
   "metadata": {},
   "outputs": [
    {
     "data": {
      "text/html": [
       "<div>\n",
       "<style>\n",
       "    .dataframe thead tr:only-child th {\n",
       "        text-align: right;\n",
       "    }\n",
       "\n",
       "    .dataframe thead th {\n",
       "        text-align: left;\n",
       "    }\n",
       "\n",
       "    .dataframe tbody tr th {\n",
       "        vertical-align: top;\n",
       "    }\n",
       "</style>\n",
       "<table border=\"1\" class=\"dataframe\">\n",
       "  <thead>\n",
       "    <tr style=\"text-align: right;\">\n",
       "      <th></th>\n",
       "      <th>A</th>\n",
       "      <th>B</th>\n",
       "    </tr>\n",
       "  </thead>\n",
       "  <tbody>\n",
       "    <tr>\n",
       "      <th>2013-01-01</th>\n",
       "      <td>-0.777776</td>\n",
       "      <td>0.733520</td>\n",
       "    </tr>\n",
       "    <tr>\n",
       "      <th>2013-01-02</th>\n",
       "      <td>-0.471017</td>\n",
       "      <td>0.209447</td>\n",
       "    </tr>\n",
       "    <tr>\n",
       "      <th>2013-01-03</th>\n",
       "      <td>-1.238197</td>\n",
       "      <td>2.257030</td>\n",
       "    </tr>\n",
       "    <tr>\n",
       "      <th>2013-01-04</th>\n",
       "      <td>0.017584</td>\n",
       "      <td>-0.110726</td>\n",
       "    </tr>\n",
       "    <tr>\n",
       "      <th>2013-01-05</th>\n",
       "      <td>-1.186271</td>\n",
       "      <td>0.182065</td>\n",
       "    </tr>\n",
       "    <tr>\n",
       "      <th>2013-01-06</th>\n",
       "      <td>0.059354</td>\n",
       "      <td>-0.599238</td>\n",
       "    </tr>\n",
       "  </tbody>\n",
       "</table>\n",
       "</div>"
      ],
      "text/plain": [
       "                   A         B\n",
       "2013-01-01 -0.777776  0.733520\n",
       "2013-01-02 -0.471017  0.209447\n",
       "2013-01-03 -1.238197  2.257030\n",
       "2013-01-04  0.017584 -0.110726\n",
       "2013-01-05 -1.186271  0.182065\n",
       "2013-01-06  0.059354 -0.599238"
      ]
     },
     "execution_count": 25,
     "metadata": {},
     "output_type": "execute_result"
    }
   ],
   "source": [
    "df.loc[:,[\"A\",\"B\"]]"
   ]
  },
  {
   "cell_type": "markdown",
   "metadata": {},
   "source": [
    "### 標籤切片"
   ]
  },
  {
   "cell_type": "code",
   "execution_count": 26,
   "metadata": {},
   "outputs": [
    {
     "data": {
      "text/html": [
       "<div>\n",
       "<style>\n",
       "    .dataframe thead tr:only-child th {\n",
       "        text-align: right;\n",
       "    }\n",
       "\n",
       "    .dataframe thead th {\n",
       "        text-align: left;\n",
       "    }\n",
       "\n",
       "    .dataframe tbody tr th {\n",
       "        vertical-align: top;\n",
       "    }\n",
       "</style>\n",
       "<table border=\"1\" class=\"dataframe\">\n",
       "  <thead>\n",
       "    <tr style=\"text-align: right;\">\n",
       "      <th></th>\n",
       "      <th>A</th>\n",
       "      <th>B</th>\n",
       "    </tr>\n",
       "  </thead>\n",
       "  <tbody>\n",
       "    <tr>\n",
       "      <th>2013-01-02</th>\n",
       "      <td>-0.471017</td>\n",
       "      <td>0.209447</td>\n",
       "    </tr>\n",
       "    <tr>\n",
       "      <th>2013-01-03</th>\n",
       "      <td>-1.238197</td>\n",
       "      <td>2.257030</td>\n",
       "    </tr>\n",
       "    <tr>\n",
       "      <th>2013-01-04</th>\n",
       "      <td>0.017584</td>\n",
       "      <td>-0.110726</td>\n",
       "    </tr>\n",
       "  </tbody>\n",
       "</table>\n",
       "</div>"
      ],
      "text/plain": [
       "                   A         B\n",
       "2013-01-02 -0.471017  0.209447\n",
       "2013-01-03 -1.238197  2.257030\n",
       "2013-01-04  0.017584 -0.110726"
      ]
     },
     "execution_count": 26,
     "metadata": {},
     "output_type": "execute_result"
    }
   ],
   "source": [
    "df.loc[\"20130102\":\"20130104\",[\"A\",\"B\"]]"
   ]
  },
  {
   "cell_type": "markdown",
   "metadata": {},
   "source": [
    "### 對於返回的對象進行維度縮減"
   ]
  },
  {
   "cell_type": "code",
   "execution_count": 27,
   "metadata": {},
   "outputs": [
    {
     "data": {
      "text/plain": [
       "A   -0.471017\n",
       "B    0.209447\n",
       "Name: 2013-01-02 00:00:00, dtype: float64"
      ]
     },
     "execution_count": 27,
     "metadata": {},
     "output_type": "execute_result"
    }
   ],
   "source": [
    "df.loc[\"20130102\", [\"A\", \"B\"]]"
   ]
  },
  {
   "cell_type": "markdown",
   "metadata": {},
   "source": [
    "## 獲取一個標量"
   ]
  },
  {
   "cell_type": "code",
   "execution_count": 28,
   "metadata": {},
   "outputs": [
    {
     "data": {
      "text/plain": [
       "-0.77777566157761646"
      ]
     },
     "execution_count": 28,
     "metadata": {},
     "output_type": "execute_result"
    }
   ],
   "source": [
    "df.loc[dates[0], \"A\"]"
   ]
  },
  {
   "cell_type": "markdown",
   "metadata": {},
   "source": [
    "### 快速訪問一個標量 等同上"
   ]
  },
  {
   "cell_type": "code",
   "execution_count": 29,
   "metadata": {},
   "outputs": [
    {
     "data": {
      "text/plain": [
       "-0.77777566157761646"
      ]
     },
     "execution_count": 29,
     "metadata": {},
     "output_type": "execute_result"
    }
   ],
   "source": [
    "df.at[dates[0], \"A\"]"
   ]
  },
  {
   "cell_type": "markdown",
   "metadata": {},
   "source": [
    "# 通過位置選擇"
   ]
  },
  {
   "cell_type": "markdown",
   "metadata": {},
   "source": [
    "### 通過傳遞數值進行位置選擇(選擇的是行)"
   ]
  },
  {
   "cell_type": "code",
   "execution_count": 30,
   "metadata": {},
   "outputs": [
    {
     "data": {
      "text/plain": [
       "A    0.017584\n",
       "B   -0.110726\n",
       "C    0.052797\n",
       "D    0.796943\n",
       "Name: 2013-01-04 00:00:00, dtype: float64"
      ]
     },
     "execution_count": 30,
     "metadata": {},
     "output_type": "execute_result"
    }
   ],
   "source": [
    "df.iloc[3]"
   ]
  },
  {
   "cell_type": "markdown",
   "metadata": {},
   "source": [
    "### 通過數值進行切片"
   ]
  },
  {
   "cell_type": "code",
   "execution_count": 31,
   "metadata": {},
   "outputs": [
    {
     "data": {
      "text/html": [
       "<div>\n",
       "<style>\n",
       "    .dataframe thead tr:only-child th {\n",
       "        text-align: right;\n",
       "    }\n",
       "\n",
       "    .dataframe thead th {\n",
       "        text-align: left;\n",
       "    }\n",
       "\n",
       "    .dataframe tbody tr th {\n",
       "        vertical-align: top;\n",
       "    }\n",
       "</style>\n",
       "<table border=\"1\" class=\"dataframe\">\n",
       "  <thead>\n",
       "    <tr style=\"text-align: right;\">\n",
       "      <th></th>\n",
       "      <th>A</th>\n",
       "      <th>B</th>\n",
       "    </tr>\n",
       "  </thead>\n",
       "  <tbody>\n",
       "    <tr>\n",
       "      <th>2013-01-04</th>\n",
       "      <td>0.017584</td>\n",
       "      <td>-0.110726</td>\n",
       "    </tr>\n",
       "    <tr>\n",
       "      <th>2013-01-05</th>\n",
       "      <td>-1.186271</td>\n",
       "      <td>0.182065</td>\n",
       "    </tr>\n",
       "  </tbody>\n",
       "</table>\n",
       "</div>"
      ],
      "text/plain": [
       "                   A         B\n",
       "2013-01-04  0.017584 -0.110726\n",
       "2013-01-05 -1.186271  0.182065"
      ]
     },
     "execution_count": 31,
     "metadata": {},
     "output_type": "execute_result"
    }
   ],
   "source": [
    "df.iloc[3:5, 0:2]"
   ]
  },
  {
   "cell_type": "markdown",
   "metadata": {},
   "source": [
    "### 通過指定一個位置的列表"
   ]
  },
  {
   "cell_type": "code",
   "execution_count": 32,
   "metadata": {},
   "outputs": [
    {
     "data": {
      "text/html": [
       "<div>\n",
       "<style>\n",
       "    .dataframe thead tr:only-child th {\n",
       "        text-align: right;\n",
       "    }\n",
       "\n",
       "    .dataframe thead th {\n",
       "        text-align: left;\n",
       "    }\n",
       "\n",
       "    .dataframe tbody tr th {\n",
       "        vertical-align: top;\n",
       "    }\n",
       "</style>\n",
       "<table border=\"1\" class=\"dataframe\">\n",
       "  <thead>\n",
       "    <tr style=\"text-align: right;\">\n",
       "      <th></th>\n",
       "      <th>A</th>\n",
       "      <th>C</th>\n",
       "    </tr>\n",
       "  </thead>\n",
       "  <tbody>\n",
       "    <tr>\n",
       "      <th>2013-01-02</th>\n",
       "      <td>-0.471017</td>\n",
       "      <td>0.286066</td>\n",
       "    </tr>\n",
       "    <tr>\n",
       "      <th>2013-01-03</th>\n",
       "      <td>-1.238197</td>\n",
       "      <td>-0.803479</td>\n",
       "    </tr>\n",
       "    <tr>\n",
       "      <th>2013-01-05</th>\n",
       "      <td>-1.186271</td>\n",
       "      <td>0.555394</td>\n",
       "    </tr>\n",
       "  </tbody>\n",
       "</table>\n",
       "</div>"
      ],
      "text/plain": [
       "                   A         C\n",
       "2013-01-02 -0.471017  0.286066\n",
       "2013-01-03 -1.238197 -0.803479\n",
       "2013-01-05 -1.186271  0.555394"
      ]
     },
     "execution_count": 32,
     "metadata": {},
     "output_type": "execute_result"
    }
   ],
   "source": [
    "df.iloc[[1, 2, 4],[0, 2]]"
   ]
  },
  {
   "cell_type": "markdown",
   "metadata": {},
   "source": [
    "### 對行進行切片"
   ]
  },
  {
   "cell_type": "code",
   "execution_count": 33,
   "metadata": {},
   "outputs": [
    {
     "data": {
      "text/html": [
       "<div>\n",
       "<style>\n",
       "    .dataframe thead tr:only-child th {\n",
       "        text-align: right;\n",
       "    }\n",
       "\n",
       "    .dataframe thead th {\n",
       "        text-align: left;\n",
       "    }\n",
       "\n",
       "    .dataframe tbody tr th {\n",
       "        vertical-align: top;\n",
       "    }\n",
       "</style>\n",
       "<table border=\"1\" class=\"dataframe\">\n",
       "  <thead>\n",
       "    <tr style=\"text-align: right;\">\n",
       "      <th></th>\n",
       "      <th>A</th>\n",
       "      <th>B</th>\n",
       "      <th>C</th>\n",
       "      <th>D</th>\n",
       "    </tr>\n",
       "  </thead>\n",
       "  <tbody>\n",
       "    <tr>\n",
       "      <th>2013-01-02</th>\n",
       "      <td>-0.471017</td>\n",
       "      <td>0.209447</td>\n",
       "      <td>0.286066</td>\n",
       "      <td>-0.140525</td>\n",
       "    </tr>\n",
       "    <tr>\n",
       "      <th>2013-01-03</th>\n",
       "      <td>-1.238197</td>\n",
       "      <td>2.257030</td>\n",
       "      <td>-0.803479</td>\n",
       "      <td>0.269362</td>\n",
       "    </tr>\n",
       "  </tbody>\n",
       "</table>\n",
       "</div>"
      ],
      "text/plain": [
       "                   A         B         C         D\n",
       "2013-01-02 -0.471017  0.209447  0.286066 -0.140525\n",
       "2013-01-03 -1.238197  2.257030 -0.803479  0.269362"
      ]
     },
     "execution_count": 33,
     "metadata": {},
     "output_type": "execute_result"
    }
   ],
   "source": [
    "df.iloc[1:3,:]"
   ]
  },
  {
   "cell_type": "markdown",
   "metadata": {},
   "source": [
    "### 對列進行切片"
   ]
  },
  {
   "cell_type": "code",
   "execution_count": 34,
   "metadata": {},
   "outputs": [
    {
     "data": {
      "text/html": [
       "<div>\n",
       "<style>\n",
       "    .dataframe thead tr:only-child th {\n",
       "        text-align: right;\n",
       "    }\n",
       "\n",
       "    .dataframe thead th {\n",
       "        text-align: left;\n",
       "    }\n",
       "\n",
       "    .dataframe tbody tr th {\n",
       "        vertical-align: top;\n",
       "    }\n",
       "</style>\n",
       "<table border=\"1\" class=\"dataframe\">\n",
       "  <thead>\n",
       "    <tr style=\"text-align: right;\">\n",
       "      <th></th>\n",
       "      <th>B</th>\n",
       "      <th>C</th>\n",
       "    </tr>\n",
       "  </thead>\n",
       "  <tbody>\n",
       "    <tr>\n",
       "      <th>2013-01-01</th>\n",
       "      <td>0.733520</td>\n",
       "      <td>0.301505</td>\n",
       "    </tr>\n",
       "    <tr>\n",
       "      <th>2013-01-02</th>\n",
       "      <td>0.209447</td>\n",
       "      <td>0.286066</td>\n",
       "    </tr>\n",
       "    <tr>\n",
       "      <th>2013-01-03</th>\n",
       "      <td>2.257030</td>\n",
       "      <td>-0.803479</td>\n",
       "    </tr>\n",
       "    <tr>\n",
       "      <th>2013-01-04</th>\n",
       "      <td>-0.110726</td>\n",
       "      <td>0.052797</td>\n",
       "    </tr>\n",
       "    <tr>\n",
       "      <th>2013-01-05</th>\n",
       "      <td>0.182065</td>\n",
       "      <td>0.555394</td>\n",
       "    </tr>\n",
       "    <tr>\n",
       "      <th>2013-01-06</th>\n",
       "      <td>-0.599238</td>\n",
       "      <td>0.195400</td>\n",
       "    </tr>\n",
       "  </tbody>\n",
       "</table>\n",
       "</div>"
      ],
      "text/plain": [
       "                   B         C\n",
       "2013-01-01  0.733520  0.301505\n",
       "2013-01-02  0.209447  0.286066\n",
       "2013-01-03  2.257030 -0.803479\n",
       "2013-01-04 -0.110726  0.052797\n",
       "2013-01-05  0.182065  0.555394\n",
       "2013-01-06 -0.599238  0.195400"
      ]
     },
     "execution_count": 34,
     "metadata": {},
     "output_type": "execute_result"
    }
   ],
   "source": [
    "df.iloc[:,1:3]"
   ]
  },
  {
   "cell_type": "markdown",
   "metadata": {},
   "source": [
    "### 獲取特定的值"
   ]
  },
  {
   "cell_type": "code",
   "execution_count": 35,
   "metadata": {},
   "outputs": [
    {
     "data": {
      "text/plain": [
       "0.20944662171499429"
      ]
     },
     "execution_count": 35,
     "metadata": {},
     "output_type": "execute_result"
    }
   ],
   "source": [
    "df.iloc[1, 1]"
   ]
  },
  {
   "cell_type": "code",
   "execution_count": 36,
   "metadata": {},
   "outputs": [
    {
     "data": {
      "text/plain": [
       "0.20944662171499429"
      ]
     },
     "execution_count": 36,
     "metadata": {},
     "output_type": "execute_result"
    }
   ],
   "source": [
    "df.iat[1, 1]"
   ]
  },
  {
   "cell_type": "markdown",
   "metadata": {},
   "source": [
    "# Boolean索引"
   ]
  },
  {
   "cell_type": "markdown",
   "metadata": {},
   "source": [
    "### 使用一個單獨列來選擇數據"
   ]
  },
  {
   "cell_type": "code",
   "execution_count": 37,
   "metadata": {},
   "outputs": [
    {
     "data": {
      "text/html": [
       "<div>\n",
       "<style>\n",
       "    .dataframe thead tr:only-child th {\n",
       "        text-align: right;\n",
       "    }\n",
       "\n",
       "    .dataframe thead th {\n",
       "        text-align: left;\n",
       "    }\n",
       "\n",
       "    .dataframe tbody tr th {\n",
       "        vertical-align: top;\n",
       "    }\n",
       "</style>\n",
       "<table border=\"1\" class=\"dataframe\">\n",
       "  <thead>\n",
       "    <tr style=\"text-align: right;\">\n",
       "      <th></th>\n",
       "      <th>A</th>\n",
       "      <th>B</th>\n",
       "      <th>C</th>\n",
       "      <th>D</th>\n",
       "    </tr>\n",
       "  </thead>\n",
       "  <tbody>\n",
       "    <tr>\n",
       "      <th>2013-01-04</th>\n",
       "      <td>0.017584</td>\n",
       "      <td>-0.110726</td>\n",
       "      <td>0.052797</td>\n",
       "      <td>0.796943</td>\n",
       "    </tr>\n",
       "    <tr>\n",
       "      <th>2013-01-06</th>\n",
       "      <td>0.059354</td>\n",
       "      <td>-0.599238</td>\n",
       "      <td>0.195400</td>\n",
       "      <td>-0.234581</td>\n",
       "    </tr>\n",
       "  </tbody>\n",
       "</table>\n",
       "</div>"
      ],
      "text/plain": [
       "                   A         B         C         D\n",
       "2013-01-04  0.017584 -0.110726  0.052797  0.796943\n",
       "2013-01-06  0.059354 -0.599238  0.195400 -0.234581"
      ]
     },
     "execution_count": 37,
     "metadata": {},
     "output_type": "execute_result"
    }
   ],
   "source": [
    "df[df.A > 0]"
   ]
  },
  {
   "cell_type": "markdown",
   "metadata": {},
   "source": [
    "### 使用 where操作來選擇數據"
   ]
  },
  {
   "cell_type": "code",
   "execution_count": 38,
   "metadata": {},
   "outputs": [
    {
     "data": {
      "text/html": [
       "<div>\n",
       "<style>\n",
       "    .dataframe thead tr:only-child th {\n",
       "        text-align: right;\n",
       "    }\n",
       "\n",
       "    .dataframe thead th {\n",
       "        text-align: left;\n",
       "    }\n",
       "\n",
       "    .dataframe tbody tr th {\n",
       "        vertical-align: top;\n",
       "    }\n",
       "</style>\n",
       "<table border=\"1\" class=\"dataframe\">\n",
       "  <thead>\n",
       "    <tr style=\"text-align: right;\">\n",
       "      <th></th>\n",
       "      <th>A</th>\n",
       "      <th>B</th>\n",
       "      <th>C</th>\n",
       "      <th>D</th>\n",
       "    </tr>\n",
       "  </thead>\n",
       "  <tbody>\n",
       "    <tr>\n",
       "      <th>2013-01-01</th>\n",
       "      <td>NaN</td>\n",
       "      <td>0.733520</td>\n",
       "      <td>0.301505</td>\n",
       "      <td>1.149861</td>\n",
       "    </tr>\n",
       "    <tr>\n",
       "      <th>2013-01-02</th>\n",
       "      <td>NaN</td>\n",
       "      <td>0.209447</td>\n",
       "      <td>0.286066</td>\n",
       "      <td>NaN</td>\n",
       "    </tr>\n",
       "    <tr>\n",
       "      <th>2013-01-03</th>\n",
       "      <td>NaN</td>\n",
       "      <td>2.257030</td>\n",
       "      <td>NaN</td>\n",
       "      <td>0.269362</td>\n",
       "    </tr>\n",
       "    <tr>\n",
       "      <th>2013-01-04</th>\n",
       "      <td>0.017584</td>\n",
       "      <td>NaN</td>\n",
       "      <td>0.052797</td>\n",
       "      <td>0.796943</td>\n",
       "    </tr>\n",
       "    <tr>\n",
       "      <th>2013-01-05</th>\n",
       "      <td>NaN</td>\n",
       "      <td>0.182065</td>\n",
       "      <td>0.555394</td>\n",
       "      <td>0.242455</td>\n",
       "    </tr>\n",
       "    <tr>\n",
       "      <th>2013-01-06</th>\n",
       "      <td>0.059354</td>\n",
       "      <td>NaN</td>\n",
       "      <td>0.195400</td>\n",
       "      <td>NaN</td>\n",
       "    </tr>\n",
       "  </tbody>\n",
       "</table>\n",
       "</div>"
      ],
      "text/plain": [
       "                   A         B         C         D\n",
       "2013-01-01       NaN  0.733520  0.301505  1.149861\n",
       "2013-01-02       NaN  0.209447  0.286066       NaN\n",
       "2013-01-03       NaN  2.257030       NaN  0.269362\n",
       "2013-01-04  0.017584       NaN  0.052797  0.796943\n",
       "2013-01-05       NaN  0.182065  0.555394  0.242455\n",
       "2013-01-06  0.059354       NaN  0.195400       NaN"
      ]
     },
     "execution_count": 38,
     "metadata": {},
     "output_type": "execute_result"
    }
   ],
   "source": [
    "df[df > 0]"
   ]
  },
  {
   "cell_type": "markdown",
   "metadata": {},
   "source": [
    "### 使用isin() 方法來過濾"
   ]
  },
  {
   "cell_type": "code",
   "execution_count": 39,
   "metadata": {
    "collapsed": true
   },
   "outputs": [],
   "source": [
    "df2 = df.copy()"
   ]
  },
  {
   "cell_type": "code",
   "execution_count": 40,
   "metadata": {
    "collapsed": true
   },
   "outputs": [],
   "source": [
    "df2[\"E\"] = [\"one\", \"one\", \"two\", \"three\", \"four\", \"three\"]"
   ]
  },
  {
   "cell_type": "code",
   "execution_count": 41,
   "metadata": {},
   "outputs": [
    {
     "data": {
      "text/html": [
       "<div>\n",
       "<style>\n",
       "    .dataframe thead tr:only-child th {\n",
       "        text-align: right;\n",
       "    }\n",
       "\n",
       "    .dataframe thead th {\n",
       "        text-align: left;\n",
       "    }\n",
       "\n",
       "    .dataframe tbody tr th {\n",
       "        vertical-align: top;\n",
       "    }\n",
       "</style>\n",
       "<table border=\"1\" class=\"dataframe\">\n",
       "  <thead>\n",
       "    <tr style=\"text-align: right;\">\n",
       "      <th></th>\n",
       "      <th>A</th>\n",
       "      <th>B</th>\n",
       "      <th>C</th>\n",
       "      <th>D</th>\n",
       "      <th>E</th>\n",
       "    </tr>\n",
       "  </thead>\n",
       "  <tbody>\n",
       "    <tr>\n",
       "      <th>2013-01-01</th>\n",
       "      <td>-0.777776</td>\n",
       "      <td>0.733520</td>\n",
       "      <td>0.301505</td>\n",
       "      <td>1.149861</td>\n",
       "      <td>one</td>\n",
       "    </tr>\n",
       "    <tr>\n",
       "      <th>2013-01-02</th>\n",
       "      <td>-0.471017</td>\n",
       "      <td>0.209447</td>\n",
       "      <td>0.286066</td>\n",
       "      <td>-0.140525</td>\n",
       "      <td>one</td>\n",
       "    </tr>\n",
       "    <tr>\n",
       "      <th>2013-01-03</th>\n",
       "      <td>-1.238197</td>\n",
       "      <td>2.257030</td>\n",
       "      <td>-0.803479</td>\n",
       "      <td>0.269362</td>\n",
       "      <td>two</td>\n",
       "    </tr>\n",
       "    <tr>\n",
       "      <th>2013-01-04</th>\n",
       "      <td>0.017584</td>\n",
       "      <td>-0.110726</td>\n",
       "      <td>0.052797</td>\n",
       "      <td>0.796943</td>\n",
       "      <td>three</td>\n",
       "    </tr>\n",
       "    <tr>\n",
       "      <th>2013-01-05</th>\n",
       "      <td>-1.186271</td>\n",
       "      <td>0.182065</td>\n",
       "      <td>0.555394</td>\n",
       "      <td>0.242455</td>\n",
       "      <td>four</td>\n",
       "    </tr>\n",
       "    <tr>\n",
       "      <th>2013-01-06</th>\n",
       "      <td>0.059354</td>\n",
       "      <td>-0.599238</td>\n",
       "      <td>0.195400</td>\n",
       "      <td>-0.234581</td>\n",
       "      <td>three</td>\n",
       "    </tr>\n",
       "  </tbody>\n",
       "</table>\n",
       "</div>"
      ],
      "text/plain": [
       "                   A         B         C         D      E\n",
       "2013-01-01 -0.777776  0.733520  0.301505  1.149861    one\n",
       "2013-01-02 -0.471017  0.209447  0.286066 -0.140525    one\n",
       "2013-01-03 -1.238197  2.257030 -0.803479  0.269362    two\n",
       "2013-01-04  0.017584 -0.110726  0.052797  0.796943  three\n",
       "2013-01-05 -1.186271  0.182065  0.555394  0.242455   four\n",
       "2013-01-06  0.059354 -0.599238  0.195400 -0.234581  three"
      ]
     },
     "execution_count": 41,
     "metadata": {},
     "output_type": "execute_result"
    }
   ],
   "source": [
    "df2"
   ]
  },
  {
   "cell_type": "code",
   "execution_count": 42,
   "metadata": {},
   "outputs": [
    {
     "data": {
      "text/html": [
       "<div>\n",
       "<style>\n",
       "    .dataframe thead tr:only-child th {\n",
       "        text-align: right;\n",
       "    }\n",
       "\n",
       "    .dataframe thead th {\n",
       "        text-align: left;\n",
       "    }\n",
       "\n",
       "    .dataframe tbody tr th {\n",
       "        vertical-align: top;\n",
       "    }\n",
       "</style>\n",
       "<table border=\"1\" class=\"dataframe\">\n",
       "  <thead>\n",
       "    <tr style=\"text-align: right;\">\n",
       "      <th></th>\n",
       "      <th>A</th>\n",
       "      <th>B</th>\n",
       "      <th>C</th>\n",
       "      <th>D</th>\n",
       "      <th>E</th>\n",
       "    </tr>\n",
       "  </thead>\n",
       "  <tbody>\n",
       "    <tr>\n",
       "      <th>2013-01-03</th>\n",
       "      <td>-1.238197</td>\n",
       "      <td>2.257030</td>\n",
       "      <td>-0.803479</td>\n",
       "      <td>0.269362</td>\n",
       "      <td>two</td>\n",
       "    </tr>\n",
       "    <tr>\n",
       "      <th>2013-01-05</th>\n",
       "      <td>-1.186271</td>\n",
       "      <td>0.182065</td>\n",
       "      <td>0.555394</td>\n",
       "      <td>0.242455</td>\n",
       "      <td>four</td>\n",
       "    </tr>\n",
       "  </tbody>\n",
       "</table>\n",
       "</div>"
      ],
      "text/plain": [
       "                   A         B         C         D     E\n",
       "2013-01-03 -1.238197  2.257030 -0.803479  0.269362   two\n",
       "2013-01-05 -1.186271  0.182065  0.555394  0.242455  four"
      ]
     },
     "execution_count": 42,
     "metadata": {},
     "output_type": "execute_result"
    }
   ],
   "source": [
    "df2[df2[\"E\"].isin([\"two\", \"four\"])]"
   ]
  },
  {
   "cell_type": "markdown",
   "metadata": {},
   "source": [
    "# 設置"
   ]
  },
  {
   "cell_type": "markdown",
   "metadata": {},
   "source": [
    "### 設置一個新的列"
   ]
  },
  {
   "cell_type": "code",
   "execution_count": 43,
   "metadata": {
    "collapsed": true
   },
   "outputs": [],
   "source": [
    "s1 = pd.Series([1, 2, 3, 4, 5, 6], index = pd.date_range(\"20130102\", periods = 6))"
   ]
  },
  {
   "cell_type": "code",
   "execution_count": 44,
   "metadata": {},
   "outputs": [
    {
     "data": {
      "text/plain": [
       "2013-01-02    1\n",
       "2013-01-03    2\n",
       "2013-01-04    3\n",
       "2013-01-05    4\n",
       "2013-01-06    5\n",
       "2013-01-07    6\n",
       "Freq: D, dtype: int64"
      ]
     },
     "execution_count": 44,
     "metadata": {},
     "output_type": "execute_result"
    }
   ],
   "source": [
    "s1"
   ]
  },
  {
   "cell_type": "code",
   "execution_count": 45,
   "metadata": {
    "collapsed": true
   },
   "outputs": [],
   "source": [
    "df[\"F\"] = s1"
   ]
  },
  {
   "cell_type": "markdown",
   "metadata": {},
   "source": [
    "### 通過標籤設置新的值"
   ]
  },
  {
   "cell_type": "code",
   "execution_count": 46,
   "metadata": {
    "collapsed": true
   },
   "outputs": [],
   "source": [
    "df.at[dates[0], \"A\"] = 0"
   ]
  },
  {
   "cell_type": "markdown",
   "metadata": {},
   "source": [
    "### 通過位置設置新的值"
   ]
  },
  {
   "cell_type": "code",
   "execution_count": 47,
   "metadata": {
    "collapsed": true
   },
   "outputs": [],
   "source": [
    "df.iat[0, 1] = 0"
   ]
  },
  {
   "cell_type": "markdown",
   "metadata": {},
   "source": [
    "### 通過一個numpy數組設置一組新值"
   ]
  },
  {
   "cell_type": "code",
   "execution_count": 48,
   "metadata": {
    "collapsed": true
   },
   "outputs": [],
   "source": [
    "df.loc[:, \"D\"] = np.array([5] * len(df))"
   ]
  },
  {
   "cell_type": "code",
   "execution_count": 49,
   "metadata": {},
   "outputs": [
    {
     "data": {
      "text/html": [
       "<div>\n",
       "<style>\n",
       "    .dataframe thead tr:only-child th {\n",
       "        text-align: right;\n",
       "    }\n",
       "\n",
       "    .dataframe thead th {\n",
       "        text-align: left;\n",
       "    }\n",
       "\n",
       "    .dataframe tbody tr th {\n",
       "        vertical-align: top;\n",
       "    }\n",
       "</style>\n",
       "<table border=\"1\" class=\"dataframe\">\n",
       "  <thead>\n",
       "    <tr style=\"text-align: right;\">\n",
       "      <th></th>\n",
       "      <th>A</th>\n",
       "      <th>B</th>\n",
       "      <th>C</th>\n",
       "      <th>D</th>\n",
       "      <th>F</th>\n",
       "    </tr>\n",
       "  </thead>\n",
       "  <tbody>\n",
       "    <tr>\n",
       "      <th>2013-01-01</th>\n",
       "      <td>0.000000</td>\n",
       "      <td>0.000000</td>\n",
       "      <td>0.301505</td>\n",
       "      <td>5</td>\n",
       "      <td>NaN</td>\n",
       "    </tr>\n",
       "    <tr>\n",
       "      <th>2013-01-02</th>\n",
       "      <td>-0.471017</td>\n",
       "      <td>0.209447</td>\n",
       "      <td>0.286066</td>\n",
       "      <td>5</td>\n",
       "      <td>1.0</td>\n",
       "    </tr>\n",
       "    <tr>\n",
       "      <th>2013-01-03</th>\n",
       "      <td>-1.238197</td>\n",
       "      <td>2.257030</td>\n",
       "      <td>-0.803479</td>\n",
       "      <td>5</td>\n",
       "      <td>2.0</td>\n",
       "    </tr>\n",
       "    <tr>\n",
       "      <th>2013-01-04</th>\n",
       "      <td>0.017584</td>\n",
       "      <td>-0.110726</td>\n",
       "      <td>0.052797</td>\n",
       "      <td>5</td>\n",
       "      <td>3.0</td>\n",
       "    </tr>\n",
       "    <tr>\n",
       "      <th>2013-01-05</th>\n",
       "      <td>-1.186271</td>\n",
       "      <td>0.182065</td>\n",
       "      <td>0.555394</td>\n",
       "      <td>5</td>\n",
       "      <td>4.0</td>\n",
       "    </tr>\n",
       "    <tr>\n",
       "      <th>2013-01-06</th>\n",
       "      <td>0.059354</td>\n",
       "      <td>-0.599238</td>\n",
       "      <td>0.195400</td>\n",
       "      <td>5</td>\n",
       "      <td>5.0</td>\n",
       "    </tr>\n",
       "  </tbody>\n",
       "</table>\n",
       "</div>"
      ],
      "text/plain": [
       "                   A         B         C  D    F\n",
       "2013-01-01  0.000000  0.000000  0.301505  5  NaN\n",
       "2013-01-02 -0.471017  0.209447  0.286066  5  1.0\n",
       "2013-01-03 -1.238197  2.257030 -0.803479  5  2.0\n",
       "2013-01-04  0.017584 -0.110726  0.052797  5  3.0\n",
       "2013-01-05 -1.186271  0.182065  0.555394  5  4.0\n",
       "2013-01-06  0.059354 -0.599238  0.195400  5  5.0"
      ]
     },
     "execution_count": 49,
     "metadata": {},
     "output_type": "execute_result"
    }
   ],
   "source": [
    "df"
   ]
  },
  {
   "cell_type": "markdown",
   "metadata": {},
   "source": [
    "### 通過where操作來設置新的值"
   ]
  },
  {
   "cell_type": "code",
   "execution_count": 50,
   "metadata": {
    "collapsed": true
   },
   "outputs": [],
   "source": [
    "df2 =df.copy()"
   ]
  },
  {
   "cell_type": "code",
   "execution_count": 51,
   "metadata": {
    "collapsed": true
   },
   "outputs": [],
   "source": [
    "df2[df2 > 0] = -df2"
   ]
  },
  {
   "cell_type": "code",
   "execution_count": 52,
   "metadata": {},
   "outputs": [
    {
     "data": {
      "text/html": [
       "<div>\n",
       "<style>\n",
       "    .dataframe thead tr:only-child th {\n",
       "        text-align: right;\n",
       "    }\n",
       "\n",
       "    .dataframe thead th {\n",
       "        text-align: left;\n",
       "    }\n",
       "\n",
       "    .dataframe tbody tr th {\n",
       "        vertical-align: top;\n",
       "    }\n",
       "</style>\n",
       "<table border=\"1\" class=\"dataframe\">\n",
       "  <thead>\n",
       "    <tr style=\"text-align: right;\">\n",
       "      <th></th>\n",
       "      <th>A</th>\n",
       "      <th>B</th>\n",
       "      <th>C</th>\n",
       "      <th>D</th>\n",
       "      <th>F</th>\n",
       "    </tr>\n",
       "  </thead>\n",
       "  <tbody>\n",
       "    <tr>\n",
       "      <th>2013-01-01</th>\n",
       "      <td>0.000000</td>\n",
       "      <td>0.000000</td>\n",
       "      <td>-0.301505</td>\n",
       "      <td>-5</td>\n",
       "      <td>NaN</td>\n",
       "    </tr>\n",
       "    <tr>\n",
       "      <th>2013-01-02</th>\n",
       "      <td>-0.471017</td>\n",
       "      <td>-0.209447</td>\n",
       "      <td>-0.286066</td>\n",
       "      <td>-5</td>\n",
       "      <td>-1.0</td>\n",
       "    </tr>\n",
       "    <tr>\n",
       "      <th>2013-01-03</th>\n",
       "      <td>-1.238197</td>\n",
       "      <td>-2.257030</td>\n",
       "      <td>-0.803479</td>\n",
       "      <td>-5</td>\n",
       "      <td>-2.0</td>\n",
       "    </tr>\n",
       "    <tr>\n",
       "      <th>2013-01-04</th>\n",
       "      <td>-0.017584</td>\n",
       "      <td>-0.110726</td>\n",
       "      <td>-0.052797</td>\n",
       "      <td>-5</td>\n",
       "      <td>-3.0</td>\n",
       "    </tr>\n",
       "    <tr>\n",
       "      <th>2013-01-05</th>\n",
       "      <td>-1.186271</td>\n",
       "      <td>-0.182065</td>\n",
       "      <td>-0.555394</td>\n",
       "      <td>-5</td>\n",
       "      <td>-4.0</td>\n",
       "    </tr>\n",
       "    <tr>\n",
       "      <th>2013-01-06</th>\n",
       "      <td>-0.059354</td>\n",
       "      <td>-0.599238</td>\n",
       "      <td>-0.195400</td>\n",
       "      <td>-5</td>\n",
       "      <td>-5.0</td>\n",
       "    </tr>\n",
       "  </tbody>\n",
       "</table>\n",
       "</div>"
      ],
      "text/plain": [
       "                   A         B         C  D    F\n",
       "2013-01-01  0.000000  0.000000 -0.301505 -5  NaN\n",
       "2013-01-02 -0.471017 -0.209447 -0.286066 -5 -1.0\n",
       "2013-01-03 -1.238197 -2.257030 -0.803479 -5 -2.0\n",
       "2013-01-04 -0.017584 -0.110726 -0.052797 -5 -3.0\n",
       "2013-01-05 -1.186271 -0.182065 -0.555394 -5 -4.0\n",
       "2013-01-06 -0.059354 -0.599238 -0.195400 -5 -5.0"
      ]
     },
     "execution_count": 52,
     "metadata": {},
     "output_type": "execute_result"
    }
   ],
   "source": [
    "df2"
   ]
  },
  {
   "cell_type": "markdown",
   "metadata": {},
   "source": [
    "# 缺失值處理"
   ]
  },
  {
   "cell_type": "markdown",
   "metadata": {},
   "source": [
    "### reindex()方法可以對指定軸上的索引進行改變/增加/刪除操作，這將返回原始數據的一個拷貝"
   ]
  },
  {
   "cell_type": "code",
   "execution_count": 53,
   "metadata": {
    "collapsed": true
   },
   "outputs": [],
   "source": [
    "df1 = df.reindex(index = dates[0:4], columns = list(df.columns) + [\"E\"])"
   ]
  },
  {
   "cell_type": "code",
   "execution_count": 54,
   "metadata": {
    "collapsed": true
   },
   "outputs": [],
   "source": [
    "df1.loc[dates[0]:dates[1], \"E\"] = 1"
   ]
  },
  {
   "cell_type": "code",
   "execution_count": 55,
   "metadata": {},
   "outputs": [
    {
     "data": {
      "text/html": [
       "<div>\n",
       "<style>\n",
       "    .dataframe thead tr:only-child th {\n",
       "        text-align: right;\n",
       "    }\n",
       "\n",
       "    .dataframe thead th {\n",
       "        text-align: left;\n",
       "    }\n",
       "\n",
       "    .dataframe tbody tr th {\n",
       "        vertical-align: top;\n",
       "    }\n",
       "</style>\n",
       "<table border=\"1\" class=\"dataframe\">\n",
       "  <thead>\n",
       "    <tr style=\"text-align: right;\">\n",
       "      <th></th>\n",
       "      <th>A</th>\n",
       "      <th>B</th>\n",
       "      <th>C</th>\n",
       "      <th>D</th>\n",
       "      <th>F</th>\n",
       "      <th>E</th>\n",
       "    </tr>\n",
       "  </thead>\n",
       "  <tbody>\n",
       "    <tr>\n",
       "      <th>2013-01-01</th>\n",
       "      <td>0.000000</td>\n",
       "      <td>0.000000</td>\n",
       "      <td>0.301505</td>\n",
       "      <td>5</td>\n",
       "      <td>NaN</td>\n",
       "      <td>1.0</td>\n",
       "    </tr>\n",
       "    <tr>\n",
       "      <th>2013-01-02</th>\n",
       "      <td>-0.471017</td>\n",
       "      <td>0.209447</td>\n",
       "      <td>0.286066</td>\n",
       "      <td>5</td>\n",
       "      <td>1.0</td>\n",
       "      <td>1.0</td>\n",
       "    </tr>\n",
       "    <tr>\n",
       "      <th>2013-01-03</th>\n",
       "      <td>-1.238197</td>\n",
       "      <td>2.257030</td>\n",
       "      <td>-0.803479</td>\n",
       "      <td>5</td>\n",
       "      <td>2.0</td>\n",
       "      <td>NaN</td>\n",
       "    </tr>\n",
       "    <tr>\n",
       "      <th>2013-01-04</th>\n",
       "      <td>0.017584</td>\n",
       "      <td>-0.110726</td>\n",
       "      <td>0.052797</td>\n",
       "      <td>5</td>\n",
       "      <td>3.0</td>\n",
       "      <td>NaN</td>\n",
       "    </tr>\n",
       "  </tbody>\n",
       "</table>\n",
       "</div>"
      ],
      "text/plain": [
       "                   A         B         C  D    F    E\n",
       "2013-01-01  0.000000  0.000000  0.301505  5  NaN  1.0\n",
       "2013-01-02 -0.471017  0.209447  0.286066  5  1.0  1.0\n",
       "2013-01-03 -1.238197  2.257030 -0.803479  5  2.0  NaN\n",
       "2013-01-04  0.017584 -0.110726  0.052797  5  3.0  NaN"
      ]
     },
     "execution_count": 55,
     "metadata": {},
     "output_type": "execute_result"
    }
   ],
   "source": [
    "df1"
   ]
  },
  {
   "cell_type": "markdown",
   "metadata": {},
   "source": [
    "### 去掉包函缺失值的行"
   ]
  },
  {
   "cell_type": "code",
   "execution_count": 56,
   "metadata": {},
   "outputs": [
    {
     "data": {
      "text/html": [
       "<div>\n",
       "<style>\n",
       "    .dataframe thead tr:only-child th {\n",
       "        text-align: right;\n",
       "    }\n",
       "\n",
       "    .dataframe thead th {\n",
       "        text-align: left;\n",
       "    }\n",
       "\n",
       "    .dataframe tbody tr th {\n",
       "        vertical-align: top;\n",
       "    }\n",
       "</style>\n",
       "<table border=\"1\" class=\"dataframe\">\n",
       "  <thead>\n",
       "    <tr style=\"text-align: right;\">\n",
       "      <th></th>\n",
       "      <th>A</th>\n",
       "      <th>B</th>\n",
       "      <th>C</th>\n",
       "      <th>D</th>\n",
       "      <th>F</th>\n",
       "      <th>E</th>\n",
       "    </tr>\n",
       "  </thead>\n",
       "  <tbody>\n",
       "    <tr>\n",
       "      <th>2013-01-02</th>\n",
       "      <td>-0.471017</td>\n",
       "      <td>0.209447</td>\n",
       "      <td>0.286066</td>\n",
       "      <td>5</td>\n",
       "      <td>1.0</td>\n",
       "      <td>1.0</td>\n",
       "    </tr>\n",
       "  </tbody>\n",
       "</table>\n",
       "</div>"
      ],
      "text/plain": [
       "                   A         B         C  D    F    E\n",
       "2013-01-02 -0.471017  0.209447  0.286066  5  1.0  1.0"
      ]
     },
     "execution_count": 56,
     "metadata": {},
     "output_type": "execute_result"
    }
   ],
   "source": [
    "df1.dropna(how=\"any\")"
   ]
  },
  {
   "cell_type": "markdown",
   "metadata": {},
   "source": [
    "### 對缺失值進行填充"
   ]
  },
  {
   "cell_type": "code",
   "execution_count": 57,
   "metadata": {},
   "outputs": [
    {
     "data": {
      "text/html": [
       "<div>\n",
       "<style>\n",
       "    .dataframe thead tr:only-child th {\n",
       "        text-align: right;\n",
       "    }\n",
       "\n",
       "    .dataframe thead th {\n",
       "        text-align: left;\n",
       "    }\n",
       "\n",
       "    .dataframe tbody tr th {\n",
       "        vertical-align: top;\n",
       "    }\n",
       "</style>\n",
       "<table border=\"1\" class=\"dataframe\">\n",
       "  <thead>\n",
       "    <tr style=\"text-align: right;\">\n",
       "      <th></th>\n",
       "      <th>A</th>\n",
       "      <th>B</th>\n",
       "      <th>C</th>\n",
       "      <th>D</th>\n",
       "      <th>F</th>\n",
       "      <th>E</th>\n",
       "    </tr>\n",
       "  </thead>\n",
       "  <tbody>\n",
       "    <tr>\n",
       "      <th>2013-01-01</th>\n",
       "      <td>0.000000</td>\n",
       "      <td>0.000000</td>\n",
       "      <td>0.301505</td>\n",
       "      <td>5</td>\n",
       "      <td>5.0</td>\n",
       "      <td>1.0</td>\n",
       "    </tr>\n",
       "    <tr>\n",
       "      <th>2013-01-02</th>\n",
       "      <td>-0.471017</td>\n",
       "      <td>0.209447</td>\n",
       "      <td>0.286066</td>\n",
       "      <td>5</td>\n",
       "      <td>1.0</td>\n",
       "      <td>1.0</td>\n",
       "    </tr>\n",
       "    <tr>\n",
       "      <th>2013-01-03</th>\n",
       "      <td>-1.238197</td>\n",
       "      <td>2.257030</td>\n",
       "      <td>-0.803479</td>\n",
       "      <td>5</td>\n",
       "      <td>2.0</td>\n",
       "      <td>5.0</td>\n",
       "    </tr>\n",
       "    <tr>\n",
       "      <th>2013-01-04</th>\n",
       "      <td>0.017584</td>\n",
       "      <td>-0.110726</td>\n",
       "      <td>0.052797</td>\n",
       "      <td>5</td>\n",
       "      <td>3.0</td>\n",
       "      <td>5.0</td>\n",
       "    </tr>\n",
       "  </tbody>\n",
       "</table>\n",
       "</div>"
      ],
      "text/plain": [
       "                   A         B         C  D    F    E\n",
       "2013-01-01  0.000000  0.000000  0.301505  5  5.0  1.0\n",
       "2013-01-02 -0.471017  0.209447  0.286066  5  1.0  1.0\n",
       "2013-01-03 -1.238197  2.257030 -0.803479  5  2.0  5.0\n",
       "2013-01-04  0.017584 -0.110726  0.052797  5  3.0  5.0"
      ]
     },
     "execution_count": 57,
     "metadata": {},
     "output_type": "execute_result"
    }
   ],
   "source": [
    "df1.fillna(value=5)"
   ]
  },
  {
   "cell_type": "markdown",
   "metadata": {},
   "source": [
    "### 對數據進行Boolean填充 "
   ]
  },
  {
   "cell_type": "code",
   "execution_count": 58,
   "metadata": {},
   "outputs": [
    {
     "data": {
      "text/html": [
       "<div>\n",
       "<style>\n",
       "    .dataframe thead tr:only-child th {\n",
       "        text-align: right;\n",
       "    }\n",
       "\n",
       "    .dataframe thead th {\n",
       "        text-align: left;\n",
       "    }\n",
       "\n",
       "    .dataframe tbody tr th {\n",
       "        vertical-align: top;\n",
       "    }\n",
       "</style>\n",
       "<table border=\"1\" class=\"dataframe\">\n",
       "  <thead>\n",
       "    <tr style=\"text-align: right;\">\n",
       "      <th></th>\n",
       "      <th>A</th>\n",
       "      <th>B</th>\n",
       "      <th>C</th>\n",
       "      <th>D</th>\n",
       "      <th>F</th>\n",
       "      <th>E</th>\n",
       "    </tr>\n",
       "  </thead>\n",
       "  <tbody>\n",
       "    <tr>\n",
       "      <th>2013-01-01</th>\n",
       "      <td>False</td>\n",
       "      <td>False</td>\n",
       "      <td>False</td>\n",
       "      <td>False</td>\n",
       "      <td>True</td>\n",
       "      <td>False</td>\n",
       "    </tr>\n",
       "    <tr>\n",
       "      <th>2013-01-02</th>\n",
       "      <td>False</td>\n",
       "      <td>False</td>\n",
       "      <td>False</td>\n",
       "      <td>False</td>\n",
       "      <td>False</td>\n",
       "      <td>False</td>\n",
       "    </tr>\n",
       "    <tr>\n",
       "      <th>2013-01-03</th>\n",
       "      <td>False</td>\n",
       "      <td>False</td>\n",
       "      <td>False</td>\n",
       "      <td>False</td>\n",
       "      <td>False</td>\n",
       "      <td>True</td>\n",
       "    </tr>\n",
       "    <tr>\n",
       "      <th>2013-01-04</th>\n",
       "      <td>False</td>\n",
       "      <td>False</td>\n",
       "      <td>False</td>\n",
       "      <td>False</td>\n",
       "      <td>False</td>\n",
       "      <td>True</td>\n",
       "    </tr>\n",
       "  </tbody>\n",
       "</table>\n",
       "</div>"
      ],
      "text/plain": [
       "                A      B      C      D      F      E\n",
       "2013-01-01  False  False  False  False   True  False\n",
       "2013-01-02  False  False  False  False  False  False\n",
       "2013-01-03  False  False  False  False  False   True\n",
       "2013-01-04  False  False  False  False  False   True"
      ]
     },
     "execution_count": 58,
     "metadata": {},
     "output_type": "execute_result"
    }
   ],
   "source": [
    "pd.isnull(df1)"
   ]
  },
  {
   "cell_type": "markdown",
   "metadata": {},
   "source": [
    "# 統計 "
   ]
  },
  {
   "cell_type": "markdown",
   "metadata": {},
   "source": [
    "### 執行描述性統計 "
   ]
  },
  {
   "cell_type": "code",
   "execution_count": 59,
   "metadata": {},
   "outputs": [
    {
     "data": {
      "text/plain": [
       "A   -0.469758\n",
       "B    0.323096\n",
       "C    0.097947\n",
       "D    5.000000\n",
       "F    3.000000\n",
       "dtype: float64"
      ]
     },
     "execution_count": 59,
     "metadata": {},
     "output_type": "execute_result"
    }
   ],
   "source": [
    "df.mean()"
   ]
  },
  {
   "cell_type": "markdown",
   "metadata": {},
   "source": [
    "### 在其他軸上進行相同的操作 "
   ]
  },
  {
   "cell_type": "code",
   "execution_count": 60,
   "metadata": {},
   "outputs": [
    {
     "data": {
      "text/plain": [
       "2013-01-01    1.325376\n",
       "2013-01-02    1.204899\n",
       "2013-01-03    1.443071\n",
       "2013-01-04    1.591931\n",
       "2013-01-05    1.710237\n",
       "2013-01-06    1.931103\n",
       "Freq: D, dtype: float64"
      ]
     },
     "execution_count": 60,
     "metadata": {},
     "output_type": "execute_result"
    }
   ],
   "source": [
    "df.mean(1)"
   ]
  },
  {
   "cell_type": "markdown",
   "metadata": {
    "collapsed": true
   },
   "source": [
    "### 對於擁有不同維度，需要對齊的對象進行操作。Pandas會自動延著指定的維度進行廣播"
   ]
  },
  {
   "cell_type": "code",
   "execution_count": 61,
   "metadata": {
    "collapsed": true
   },
   "outputs": [],
   "source": [
    "s = pd.Series([1, 3, 5, np.nan, 6, 8], index=dates).shift(2)"
   ]
  },
  {
   "cell_type": "code",
   "execution_count": 62,
   "metadata": {},
   "outputs": [
    {
     "data": {
      "text/plain": [
       "2013-01-01    NaN\n",
       "2013-01-02    NaN\n",
       "2013-01-03    1.0\n",
       "2013-01-04    3.0\n",
       "2013-01-05    5.0\n",
       "2013-01-06    NaN\n",
       "Freq: D, dtype: float64"
      ]
     },
     "execution_count": 62,
     "metadata": {},
     "output_type": "execute_result"
    }
   ],
   "source": [
    "s"
   ]
  },
  {
   "cell_type": "code",
   "execution_count": 63,
   "metadata": {},
   "outputs": [
    {
     "data": {
      "text/html": [
       "<div>\n",
       "<style>\n",
       "    .dataframe thead tr:only-child th {\n",
       "        text-align: right;\n",
       "    }\n",
       "\n",
       "    .dataframe thead th {\n",
       "        text-align: left;\n",
       "    }\n",
       "\n",
       "    .dataframe tbody tr th {\n",
       "        vertical-align: top;\n",
       "    }\n",
       "</style>\n",
       "<table border=\"1\" class=\"dataframe\">\n",
       "  <thead>\n",
       "    <tr style=\"text-align: right;\">\n",
       "      <th></th>\n",
       "      <th>A</th>\n",
       "      <th>B</th>\n",
       "      <th>C</th>\n",
       "      <th>D</th>\n",
       "      <th>F</th>\n",
       "    </tr>\n",
       "  </thead>\n",
       "  <tbody>\n",
       "    <tr>\n",
       "      <th>2013-01-01</th>\n",
       "      <td>NaN</td>\n",
       "      <td>NaN</td>\n",
       "      <td>NaN</td>\n",
       "      <td>NaN</td>\n",
       "      <td>NaN</td>\n",
       "    </tr>\n",
       "    <tr>\n",
       "      <th>2013-01-02</th>\n",
       "      <td>NaN</td>\n",
       "      <td>NaN</td>\n",
       "      <td>NaN</td>\n",
       "      <td>NaN</td>\n",
       "      <td>NaN</td>\n",
       "    </tr>\n",
       "    <tr>\n",
       "      <th>2013-01-03</th>\n",
       "      <td>-2.238197</td>\n",
       "      <td>1.257030</td>\n",
       "      <td>-1.803479</td>\n",
       "      <td>4.0</td>\n",
       "      <td>1.0</td>\n",
       "    </tr>\n",
       "    <tr>\n",
       "      <th>2013-01-04</th>\n",
       "      <td>-2.982416</td>\n",
       "      <td>-3.110726</td>\n",
       "      <td>-2.947203</td>\n",
       "      <td>2.0</td>\n",
       "      <td>0.0</td>\n",
       "    </tr>\n",
       "    <tr>\n",
       "      <th>2013-01-05</th>\n",
       "      <td>-6.186271</td>\n",
       "      <td>-4.817935</td>\n",
       "      <td>-4.444606</td>\n",
       "      <td>0.0</td>\n",
       "      <td>-1.0</td>\n",
       "    </tr>\n",
       "    <tr>\n",
       "      <th>2013-01-06</th>\n",
       "      <td>NaN</td>\n",
       "      <td>NaN</td>\n",
       "      <td>NaN</td>\n",
       "      <td>NaN</td>\n",
       "      <td>NaN</td>\n",
       "    </tr>\n",
       "  </tbody>\n",
       "</table>\n",
       "</div>"
      ],
      "text/plain": [
       "                   A         B         C    D    F\n",
       "2013-01-01       NaN       NaN       NaN  NaN  NaN\n",
       "2013-01-02       NaN       NaN       NaN  NaN  NaN\n",
       "2013-01-03 -2.238197  1.257030 -1.803479  4.0  1.0\n",
       "2013-01-04 -2.982416 -3.110726 -2.947203  2.0  0.0\n",
       "2013-01-05 -6.186271 -4.817935 -4.444606  0.0 -1.0\n",
       "2013-01-06       NaN       NaN       NaN  NaN  NaN"
      ]
     },
     "execution_count": 63,
     "metadata": {},
     "output_type": "execute_result"
    }
   ],
   "source": [
    "df.sub(s, axis=\"index\")"
   ]
  },
  {
   "cell_type": "markdown",
   "metadata": {},
   "source": [
    "# Apply "
   ]
  },
  {
   "cell_type": "markdown",
   "metadata": {},
   "source": [
    "###  對數據應用函數"
   ]
  },
  {
   "cell_type": "code",
   "execution_count": 64,
   "metadata": {},
   "outputs": [
    {
     "data": {
      "text/html": [
       "<div>\n",
       "<style>\n",
       "    .dataframe thead tr:only-child th {\n",
       "        text-align: right;\n",
       "    }\n",
       "\n",
       "    .dataframe thead th {\n",
       "        text-align: left;\n",
       "    }\n",
       "\n",
       "    .dataframe tbody tr th {\n",
       "        vertical-align: top;\n",
       "    }\n",
       "</style>\n",
       "<table border=\"1\" class=\"dataframe\">\n",
       "  <thead>\n",
       "    <tr style=\"text-align: right;\">\n",
       "      <th></th>\n",
       "      <th>A</th>\n",
       "      <th>B</th>\n",
       "      <th>C</th>\n",
       "      <th>D</th>\n",
       "      <th>F</th>\n",
       "    </tr>\n",
       "  </thead>\n",
       "  <tbody>\n",
       "    <tr>\n",
       "      <th>2013-01-01</th>\n",
       "      <td>0.000000</td>\n",
       "      <td>0.000000</td>\n",
       "      <td>0.301505</td>\n",
       "      <td>5</td>\n",
       "      <td>NaN</td>\n",
       "    </tr>\n",
       "    <tr>\n",
       "      <th>2013-01-02</th>\n",
       "      <td>-0.471017</td>\n",
       "      <td>0.209447</td>\n",
       "      <td>0.286066</td>\n",
       "      <td>5</td>\n",
       "      <td>1.0</td>\n",
       "    </tr>\n",
       "    <tr>\n",
       "      <th>2013-01-03</th>\n",
       "      <td>-1.238197</td>\n",
       "      <td>2.257030</td>\n",
       "      <td>-0.803479</td>\n",
       "      <td>5</td>\n",
       "      <td>2.0</td>\n",
       "    </tr>\n",
       "    <tr>\n",
       "      <th>2013-01-04</th>\n",
       "      <td>0.017584</td>\n",
       "      <td>-0.110726</td>\n",
       "      <td>0.052797</td>\n",
       "      <td>5</td>\n",
       "      <td>3.0</td>\n",
       "    </tr>\n",
       "    <tr>\n",
       "      <th>2013-01-05</th>\n",
       "      <td>-1.186271</td>\n",
       "      <td>0.182065</td>\n",
       "      <td>0.555394</td>\n",
       "      <td>5</td>\n",
       "      <td>4.0</td>\n",
       "    </tr>\n",
       "    <tr>\n",
       "      <th>2013-01-06</th>\n",
       "      <td>0.059354</td>\n",
       "      <td>-0.599238</td>\n",
       "      <td>0.195400</td>\n",
       "      <td>5</td>\n",
       "      <td>5.0</td>\n",
       "    </tr>\n",
       "  </tbody>\n",
       "</table>\n",
       "</div>"
      ],
      "text/plain": [
       "                   A         B         C  D    F\n",
       "2013-01-01  0.000000  0.000000  0.301505  5  NaN\n",
       "2013-01-02 -0.471017  0.209447  0.286066  5  1.0\n",
       "2013-01-03 -1.238197  2.257030 -0.803479  5  2.0\n",
       "2013-01-04  0.017584 -0.110726  0.052797  5  3.0\n",
       "2013-01-05 -1.186271  0.182065  0.555394  5  4.0\n",
       "2013-01-06  0.059354 -0.599238  0.195400  5  5.0"
      ]
     },
     "execution_count": 64,
     "metadata": {},
     "output_type": "execute_result"
    }
   ],
   "source": [
    "df"
   ]
  },
  {
   "cell_type": "code",
   "execution_count": 65,
   "metadata": {},
   "outputs": [
    {
     "data": {
      "text/html": [
       "<div>\n",
       "<style>\n",
       "    .dataframe thead tr:only-child th {\n",
       "        text-align: right;\n",
       "    }\n",
       "\n",
       "    .dataframe thead th {\n",
       "        text-align: left;\n",
       "    }\n",
       "\n",
       "    .dataframe tbody tr th {\n",
       "        vertical-align: top;\n",
       "    }\n",
       "</style>\n",
       "<table border=\"1\" class=\"dataframe\">\n",
       "  <thead>\n",
       "    <tr style=\"text-align: right;\">\n",
       "      <th></th>\n",
       "      <th>A</th>\n",
       "      <th>B</th>\n",
       "      <th>C</th>\n",
       "      <th>D</th>\n",
       "      <th>F</th>\n",
       "    </tr>\n",
       "  </thead>\n",
       "  <tbody>\n",
       "    <tr>\n",
       "      <th>2013-01-01</th>\n",
       "      <td>0.000000</td>\n",
       "      <td>0.000000</td>\n",
       "      <td>0.301505</td>\n",
       "      <td>5</td>\n",
       "      <td>NaN</td>\n",
       "    </tr>\n",
       "    <tr>\n",
       "      <th>2013-01-02</th>\n",
       "      <td>-0.471017</td>\n",
       "      <td>0.209447</td>\n",
       "      <td>0.587572</td>\n",
       "      <td>10</td>\n",
       "      <td>1.0</td>\n",
       "    </tr>\n",
       "    <tr>\n",
       "      <th>2013-01-03</th>\n",
       "      <td>-1.709213</td>\n",
       "      <td>2.466477</td>\n",
       "      <td>-0.215907</td>\n",
       "      <td>15</td>\n",
       "      <td>3.0</td>\n",
       "    </tr>\n",
       "    <tr>\n",
       "      <th>2013-01-04</th>\n",
       "      <td>-1.691629</td>\n",
       "      <td>2.355751</td>\n",
       "      <td>-0.163110</td>\n",
       "      <td>20</td>\n",
       "      <td>6.0</td>\n",
       "    </tr>\n",
       "    <tr>\n",
       "      <th>2013-01-05</th>\n",
       "      <td>-2.877900</td>\n",
       "      <td>2.537815</td>\n",
       "      <td>0.392284</td>\n",
       "      <td>25</td>\n",
       "      <td>10.0</td>\n",
       "    </tr>\n",
       "    <tr>\n",
       "      <th>2013-01-06</th>\n",
       "      <td>-2.818546</td>\n",
       "      <td>1.938577</td>\n",
       "      <td>0.587685</td>\n",
       "      <td>30</td>\n",
       "      <td>15.0</td>\n",
       "    </tr>\n",
       "  </tbody>\n",
       "</table>\n",
       "</div>"
      ],
      "text/plain": [
       "                   A         B         C   D     F\n",
       "2013-01-01  0.000000  0.000000  0.301505   5   NaN\n",
       "2013-01-02 -0.471017  0.209447  0.587572  10   1.0\n",
       "2013-01-03 -1.709213  2.466477 -0.215907  15   3.0\n",
       "2013-01-04 -1.691629  2.355751 -0.163110  20   6.0\n",
       "2013-01-05 -2.877900  2.537815  0.392284  25  10.0\n",
       "2013-01-06 -2.818546  1.938577  0.587685  30  15.0"
      ]
     },
     "execution_count": 65,
     "metadata": {},
     "output_type": "execute_result"
    }
   ],
   "source": [
    "df.apply(np.cumsum)"
   ]
  },
  {
   "cell_type": "code",
   "execution_count": 66,
   "metadata": {},
   "outputs": [
    {
     "data": {
      "text/plain": [
       "A    1.297550\n",
       "B    2.856268\n",
       "C    1.358873\n",
       "D    0.000000\n",
       "F    4.000000\n",
       "dtype: float64"
      ]
     },
     "execution_count": 66,
     "metadata": {},
     "output_type": "execute_result"
    }
   ],
   "source": [
    "df.apply(lambda x: x.max() - x.min())"
   ]
  },
  {
   "cell_type": "markdown",
   "metadata": {},
   "source": [
    "# 直方圖"
   ]
  },
  {
   "cell_type": "code",
   "execution_count": 67,
   "metadata": {
    "collapsed": true
   },
   "outputs": [],
   "source": [
    "s = pd.Series(np.random.randint(0, 7, size=10))"
   ]
  },
  {
   "cell_type": "code",
   "execution_count": 68,
   "metadata": {},
   "outputs": [
    {
     "data": {
      "text/plain": [
       "0    0\n",
       "1    6\n",
       "2    2\n",
       "3    4\n",
       "4    0\n",
       "5    2\n",
       "6    1\n",
       "7    5\n",
       "8    1\n",
       "9    2\n",
       "dtype: int32"
      ]
     },
     "execution_count": 68,
     "metadata": {},
     "output_type": "execute_result"
    }
   ],
   "source": [
    "s"
   ]
  },
  {
   "cell_type": "code",
   "execution_count": 69,
   "metadata": {},
   "outputs": [
    {
     "data": {
      "text/plain": [
       "2    3\n",
       "1    2\n",
       "0    2\n",
       "6    1\n",
       "5    1\n",
       "4    1\n",
       "dtype: int64"
      ]
     },
     "execution_count": 69,
     "metadata": {},
     "output_type": "execute_result"
    }
   ],
   "source": [
    "s.value_counts()"
   ]
  },
  {
   "cell_type": "markdown",
   "metadata": {},
   "source": [
    "# 字符串方法"
   ]
  },
  {
   "cell_type": "markdown",
   "metadata": {},
   "source": [
    "### Series對象在其Str屬性中配備了一組字符串處理方法，可以很容易的應用到數組中的每個元素"
   ]
  },
  {
   "cell_type": "code",
   "execution_count": 70,
   "metadata": {
    "collapsed": true
   },
   "outputs": [],
   "source": [
    "s = pd.Series([\"A\", \"B\", \"C\", \"Aaba\", \"Baca\", np.nan, \"CABA\", \"dog\", \"cat\"])"
   ]
  },
  {
   "cell_type": "code",
   "execution_count": 71,
   "metadata": {},
   "outputs": [
    {
     "data": {
      "text/plain": [
       "0       a\n",
       "1       b\n",
       "2       c\n",
       "3    aaba\n",
       "4    baca\n",
       "5     NaN\n",
       "6    caba\n",
       "7     dog\n",
       "8     cat\n",
       "dtype: object"
      ]
     },
     "execution_count": 71,
     "metadata": {},
     "output_type": "execute_result"
    }
   ],
   "source": [
    "s.str.lower()"
   ]
  },
  {
   "cell_type": "markdown",
   "metadata": {},
   "source": [
    "# 合併 "
   ]
  },
  {
   "cell_type": "markdown",
   "metadata": {},
   "source": [
    "### Concat"
   ]
  },
  {
   "cell_type": "code",
   "execution_count": 72,
   "metadata": {
    "collapsed": true
   },
   "outputs": [],
   "source": [
    "df = pd.DataFrame(np.random.randn(10, 4))"
   ]
  },
  {
   "cell_type": "code",
   "execution_count": 73,
   "metadata": {},
   "outputs": [
    {
     "data": {
      "text/html": [
       "<div>\n",
       "<style>\n",
       "    .dataframe thead tr:only-child th {\n",
       "        text-align: right;\n",
       "    }\n",
       "\n",
       "    .dataframe thead th {\n",
       "        text-align: left;\n",
       "    }\n",
       "\n",
       "    .dataframe tbody tr th {\n",
       "        vertical-align: top;\n",
       "    }\n",
       "</style>\n",
       "<table border=\"1\" class=\"dataframe\">\n",
       "  <thead>\n",
       "    <tr style=\"text-align: right;\">\n",
       "      <th></th>\n",
       "      <th>0</th>\n",
       "      <th>1</th>\n",
       "      <th>2</th>\n",
       "      <th>3</th>\n",
       "    </tr>\n",
       "  </thead>\n",
       "  <tbody>\n",
       "    <tr>\n",
       "      <th>0</th>\n",
       "      <td>-0.922758</td>\n",
       "      <td>-0.134775</td>\n",
       "      <td>0.747566</td>\n",
       "      <td>0.166571</td>\n",
       "    </tr>\n",
       "    <tr>\n",
       "      <th>1</th>\n",
       "      <td>-0.027709</td>\n",
       "      <td>-1.367832</td>\n",
       "      <td>0.907807</td>\n",
       "      <td>0.302559</td>\n",
       "    </tr>\n",
       "    <tr>\n",
       "      <th>2</th>\n",
       "      <td>0.535717</td>\n",
       "      <td>-1.850836</td>\n",
       "      <td>-1.553406</td>\n",
       "      <td>1.268859</td>\n",
       "    </tr>\n",
       "    <tr>\n",
       "      <th>3</th>\n",
       "      <td>-0.798879</td>\n",
       "      <td>-1.010495</td>\n",
       "      <td>-0.074994</td>\n",
       "      <td>1.639843</td>\n",
       "    </tr>\n",
       "    <tr>\n",
       "      <th>4</th>\n",
       "      <td>-1.252253</td>\n",
       "      <td>-0.367532</td>\n",
       "      <td>1.431160</td>\n",
       "      <td>-0.656243</td>\n",
       "    </tr>\n",
       "    <tr>\n",
       "      <th>5</th>\n",
       "      <td>0.350060</td>\n",
       "      <td>1.672421</td>\n",
       "      <td>0.555852</td>\n",
       "      <td>-0.045601</td>\n",
       "    </tr>\n",
       "    <tr>\n",
       "      <th>6</th>\n",
       "      <td>1.374491</td>\n",
       "      <td>0.345797</td>\n",
       "      <td>0.652809</td>\n",
       "      <td>-0.284184</td>\n",
       "    </tr>\n",
       "    <tr>\n",
       "      <th>7</th>\n",
       "      <td>-0.639173</td>\n",
       "      <td>-1.015329</td>\n",
       "      <td>-1.341506</td>\n",
       "      <td>0.198740</td>\n",
       "    </tr>\n",
       "    <tr>\n",
       "      <th>8</th>\n",
       "      <td>1.351706</td>\n",
       "      <td>-0.072640</td>\n",
       "      <td>-0.786775</td>\n",
       "      <td>0.285602</td>\n",
       "    </tr>\n",
       "    <tr>\n",
       "      <th>9</th>\n",
       "      <td>-0.523241</td>\n",
       "      <td>-0.103389</td>\n",
       "      <td>0.120960</td>\n",
       "      <td>-1.606048</td>\n",
       "    </tr>\n",
       "  </tbody>\n",
       "</table>\n",
       "</div>"
      ],
      "text/plain": [
       "          0         1         2         3\n",
       "0 -0.922758 -0.134775  0.747566  0.166571\n",
       "1 -0.027709 -1.367832  0.907807  0.302559\n",
       "2  0.535717 -1.850836 -1.553406  1.268859\n",
       "3 -0.798879 -1.010495 -0.074994  1.639843\n",
       "4 -1.252253 -0.367532  1.431160 -0.656243\n",
       "5  0.350060  1.672421  0.555852 -0.045601\n",
       "6  1.374491  0.345797  0.652809 -0.284184\n",
       "7 -0.639173 -1.015329 -1.341506  0.198740\n",
       "8  1.351706 -0.072640 -0.786775  0.285602\n",
       "9 -0.523241 -0.103389  0.120960 -1.606048"
      ]
     },
     "execution_count": 73,
     "metadata": {},
     "output_type": "execute_result"
    }
   ],
   "source": [
    "df"
   ]
  },
  {
   "cell_type": "code",
   "execution_count": 74,
   "metadata": {
    "collapsed": true
   },
   "outputs": [],
   "source": [
    "pieces = [df[:3], df[3:7], df[7:]]"
   ]
  },
  {
   "cell_type": "code",
   "execution_count": 75,
   "metadata": {},
   "outputs": [
    {
     "data": {
      "text/plain": [
       "[          0         1         2         3\n",
       " 0 -0.922758 -0.134775  0.747566  0.166571\n",
       " 1 -0.027709 -1.367832  0.907807  0.302559\n",
       " 2  0.535717 -1.850836 -1.553406  1.268859,\n",
       "           0         1         2         3\n",
       " 3 -0.798879 -1.010495 -0.074994  1.639843\n",
       " 4 -1.252253 -0.367532  1.431160 -0.656243\n",
       " 5  0.350060  1.672421  0.555852 -0.045601\n",
       " 6  1.374491  0.345797  0.652809 -0.284184,\n",
       "           0         1         2         3\n",
       " 7 -0.639173 -1.015329 -1.341506  0.198740\n",
       " 8  1.351706 -0.072640 -0.786775  0.285602\n",
       " 9 -0.523241 -0.103389  0.120960 -1.606048]"
      ]
     },
     "execution_count": 75,
     "metadata": {},
     "output_type": "execute_result"
    }
   ],
   "source": [
    "pieces"
   ]
  },
  {
   "cell_type": "code",
   "execution_count": 76,
   "metadata": {},
   "outputs": [
    {
     "data": {
      "text/html": [
       "<div>\n",
       "<style>\n",
       "    .dataframe thead tr:only-child th {\n",
       "        text-align: right;\n",
       "    }\n",
       "\n",
       "    .dataframe thead th {\n",
       "        text-align: left;\n",
       "    }\n",
       "\n",
       "    .dataframe tbody tr th {\n",
       "        vertical-align: top;\n",
       "    }\n",
       "</style>\n",
       "<table border=\"1\" class=\"dataframe\">\n",
       "  <thead>\n",
       "    <tr style=\"text-align: right;\">\n",
       "      <th></th>\n",
       "      <th>0</th>\n",
       "      <th>1</th>\n",
       "      <th>2</th>\n",
       "      <th>3</th>\n",
       "    </tr>\n",
       "  </thead>\n",
       "  <tbody>\n",
       "    <tr>\n",
       "      <th>0</th>\n",
       "      <td>-0.922758</td>\n",
       "      <td>-0.134775</td>\n",
       "      <td>0.747566</td>\n",
       "      <td>0.166571</td>\n",
       "    </tr>\n",
       "    <tr>\n",
       "      <th>1</th>\n",
       "      <td>-0.027709</td>\n",
       "      <td>-1.367832</td>\n",
       "      <td>0.907807</td>\n",
       "      <td>0.302559</td>\n",
       "    </tr>\n",
       "    <tr>\n",
       "      <th>2</th>\n",
       "      <td>0.535717</td>\n",
       "      <td>-1.850836</td>\n",
       "      <td>-1.553406</td>\n",
       "      <td>1.268859</td>\n",
       "    </tr>\n",
       "    <tr>\n",
       "      <th>3</th>\n",
       "      <td>-0.798879</td>\n",
       "      <td>-1.010495</td>\n",
       "      <td>-0.074994</td>\n",
       "      <td>1.639843</td>\n",
       "    </tr>\n",
       "    <tr>\n",
       "      <th>4</th>\n",
       "      <td>-1.252253</td>\n",
       "      <td>-0.367532</td>\n",
       "      <td>1.431160</td>\n",
       "      <td>-0.656243</td>\n",
       "    </tr>\n",
       "    <tr>\n",
       "      <th>5</th>\n",
       "      <td>0.350060</td>\n",
       "      <td>1.672421</td>\n",
       "      <td>0.555852</td>\n",
       "      <td>-0.045601</td>\n",
       "    </tr>\n",
       "    <tr>\n",
       "      <th>6</th>\n",
       "      <td>1.374491</td>\n",
       "      <td>0.345797</td>\n",
       "      <td>0.652809</td>\n",
       "      <td>-0.284184</td>\n",
       "    </tr>\n",
       "    <tr>\n",
       "      <th>7</th>\n",
       "      <td>-0.639173</td>\n",
       "      <td>-1.015329</td>\n",
       "      <td>-1.341506</td>\n",
       "      <td>0.198740</td>\n",
       "    </tr>\n",
       "    <tr>\n",
       "      <th>8</th>\n",
       "      <td>1.351706</td>\n",
       "      <td>-0.072640</td>\n",
       "      <td>-0.786775</td>\n",
       "      <td>0.285602</td>\n",
       "    </tr>\n",
       "    <tr>\n",
       "      <th>9</th>\n",
       "      <td>-0.523241</td>\n",
       "      <td>-0.103389</td>\n",
       "      <td>0.120960</td>\n",
       "      <td>-1.606048</td>\n",
       "    </tr>\n",
       "  </tbody>\n",
       "</table>\n",
       "</div>"
      ],
      "text/plain": [
       "          0         1         2         3\n",
       "0 -0.922758 -0.134775  0.747566  0.166571\n",
       "1 -0.027709 -1.367832  0.907807  0.302559\n",
       "2  0.535717 -1.850836 -1.553406  1.268859\n",
       "3 -0.798879 -1.010495 -0.074994  1.639843\n",
       "4 -1.252253 -0.367532  1.431160 -0.656243\n",
       "5  0.350060  1.672421  0.555852 -0.045601\n",
       "6  1.374491  0.345797  0.652809 -0.284184\n",
       "7 -0.639173 -1.015329 -1.341506  0.198740\n",
       "8  1.351706 -0.072640 -0.786775  0.285602\n",
       "9 -0.523241 -0.103389  0.120960 -1.606048"
      ]
     },
     "execution_count": 76,
     "metadata": {},
     "output_type": "execute_result"
    }
   ],
   "source": [
    "pd.concat(pieces)"
   ]
  },
  {
   "cell_type": "markdown",
   "metadata": {
    "collapsed": true
   },
   "source": [
    "### JOIN"
   ]
  },
  {
   "cell_type": "code",
   "execution_count": 77,
   "metadata": {
    "collapsed": true
   },
   "outputs": [],
   "source": [
    "left = pd.DataFrame({\"key\": [\"foo\", \"foo\"], \"lval\": [1, 2]})"
   ]
  },
  {
   "cell_type": "code",
   "execution_count": 78,
   "metadata": {
    "collapsed": true
   },
   "outputs": [],
   "source": [
    "right = pd.DataFrame({\"key\": [\"foo\", \"foo\"], \"lval\": [4, 5]})"
   ]
  },
  {
   "cell_type": "code",
   "execution_count": 79,
   "metadata": {},
   "outputs": [
    {
     "data": {
      "text/html": [
       "<div>\n",
       "<style>\n",
       "    .dataframe thead tr:only-child th {\n",
       "        text-align: right;\n",
       "    }\n",
       "\n",
       "    .dataframe thead th {\n",
       "        text-align: left;\n",
       "    }\n",
       "\n",
       "    .dataframe tbody tr th {\n",
       "        vertical-align: top;\n",
       "    }\n",
       "</style>\n",
       "<table border=\"1\" class=\"dataframe\">\n",
       "  <thead>\n",
       "    <tr style=\"text-align: right;\">\n",
       "      <th></th>\n",
       "      <th>key</th>\n",
       "      <th>lval</th>\n",
       "    </tr>\n",
       "  </thead>\n",
       "  <tbody>\n",
       "    <tr>\n",
       "      <th>0</th>\n",
       "      <td>foo</td>\n",
       "      <td>1</td>\n",
       "    </tr>\n",
       "    <tr>\n",
       "      <th>1</th>\n",
       "      <td>foo</td>\n",
       "      <td>2</td>\n",
       "    </tr>\n",
       "  </tbody>\n",
       "</table>\n",
       "</div>"
      ],
      "text/plain": [
       "   key  lval\n",
       "0  foo     1\n",
       "1  foo     2"
      ]
     },
     "execution_count": 79,
     "metadata": {},
     "output_type": "execute_result"
    }
   ],
   "source": [
    "left"
   ]
  },
  {
   "cell_type": "code",
   "execution_count": 80,
   "metadata": {},
   "outputs": [
    {
     "data": {
      "text/html": [
       "<div>\n",
       "<style>\n",
       "    .dataframe thead tr:only-child th {\n",
       "        text-align: right;\n",
       "    }\n",
       "\n",
       "    .dataframe thead th {\n",
       "        text-align: left;\n",
       "    }\n",
       "\n",
       "    .dataframe tbody tr th {\n",
       "        vertical-align: top;\n",
       "    }\n",
       "</style>\n",
       "<table border=\"1\" class=\"dataframe\">\n",
       "  <thead>\n",
       "    <tr style=\"text-align: right;\">\n",
       "      <th></th>\n",
       "      <th>key</th>\n",
       "      <th>lval</th>\n",
       "    </tr>\n",
       "  </thead>\n",
       "  <tbody>\n",
       "    <tr>\n",
       "      <th>0</th>\n",
       "      <td>foo</td>\n",
       "      <td>4</td>\n",
       "    </tr>\n",
       "    <tr>\n",
       "      <th>1</th>\n",
       "      <td>foo</td>\n",
       "      <td>5</td>\n",
       "    </tr>\n",
       "  </tbody>\n",
       "</table>\n",
       "</div>"
      ],
      "text/plain": [
       "   key  lval\n",
       "0  foo     4\n",
       "1  foo     5"
      ]
     },
     "execution_count": 80,
     "metadata": {},
     "output_type": "execute_result"
    }
   ],
   "source": [
    "right"
   ]
  },
  {
   "cell_type": "code",
   "execution_count": 81,
   "metadata": {},
   "outputs": [
    {
     "data": {
      "text/html": [
       "<div>\n",
       "<style>\n",
       "    .dataframe thead tr:only-child th {\n",
       "        text-align: right;\n",
       "    }\n",
       "\n",
       "    .dataframe thead th {\n",
       "        text-align: left;\n",
       "    }\n",
       "\n",
       "    .dataframe tbody tr th {\n",
       "        vertical-align: top;\n",
       "    }\n",
       "</style>\n",
       "<table border=\"1\" class=\"dataframe\">\n",
       "  <thead>\n",
       "    <tr style=\"text-align: right;\">\n",
       "      <th></th>\n",
       "      <th>key</th>\n",
       "      <th>lval_x</th>\n",
       "      <th>lval_y</th>\n",
       "    </tr>\n",
       "  </thead>\n",
       "  <tbody>\n",
       "    <tr>\n",
       "      <th>0</th>\n",
       "      <td>foo</td>\n",
       "      <td>1</td>\n",
       "      <td>4</td>\n",
       "    </tr>\n",
       "    <tr>\n",
       "      <th>1</th>\n",
       "      <td>foo</td>\n",
       "      <td>1</td>\n",
       "      <td>5</td>\n",
       "    </tr>\n",
       "    <tr>\n",
       "      <th>2</th>\n",
       "      <td>foo</td>\n",
       "      <td>2</td>\n",
       "      <td>4</td>\n",
       "    </tr>\n",
       "    <tr>\n",
       "      <th>3</th>\n",
       "      <td>foo</td>\n",
       "      <td>2</td>\n",
       "      <td>5</td>\n",
       "    </tr>\n",
       "  </tbody>\n",
       "</table>\n",
       "</div>"
      ],
      "text/plain": [
       "   key  lval_x  lval_y\n",
       "0  foo       1       4\n",
       "1  foo       1       5\n",
       "2  foo       2       4\n",
       "3  foo       2       5"
      ]
     },
     "execution_count": 81,
     "metadata": {},
     "output_type": "execute_result"
    }
   ],
   "source": [
    "pd.merge(left, right, on = \"key\")"
   ]
  },
  {
   "cell_type": "code",
   "execution_count": 82,
   "metadata": {
    "collapsed": true
   },
   "outputs": [],
   "source": [
    "left = pd.DataFrame({\"key\": [\"foo\", \"bar\"], \"lval\": [1, 2]})"
   ]
  },
  {
   "cell_type": "code",
   "execution_count": 83,
   "metadata": {
    "collapsed": true
   },
   "outputs": [],
   "source": [
    "right = pd.DataFrame({\"key\": [\"foo\", \"bar\"], \"lval\": [4, 5]})"
   ]
  },
  {
   "cell_type": "code",
   "execution_count": 84,
   "metadata": {},
   "outputs": [
    {
     "data": {
      "text/html": [
       "<div>\n",
       "<style>\n",
       "    .dataframe thead tr:only-child th {\n",
       "        text-align: right;\n",
       "    }\n",
       "\n",
       "    .dataframe thead th {\n",
       "        text-align: left;\n",
       "    }\n",
       "\n",
       "    .dataframe tbody tr th {\n",
       "        vertical-align: top;\n",
       "    }\n",
       "</style>\n",
       "<table border=\"1\" class=\"dataframe\">\n",
       "  <thead>\n",
       "    <tr style=\"text-align: right;\">\n",
       "      <th></th>\n",
       "      <th>key</th>\n",
       "      <th>lval</th>\n",
       "    </tr>\n",
       "  </thead>\n",
       "  <tbody>\n",
       "    <tr>\n",
       "      <th>0</th>\n",
       "      <td>foo</td>\n",
       "      <td>1</td>\n",
       "    </tr>\n",
       "    <tr>\n",
       "      <th>1</th>\n",
       "      <td>bar</td>\n",
       "      <td>2</td>\n",
       "    </tr>\n",
       "  </tbody>\n",
       "</table>\n",
       "</div>"
      ],
      "text/plain": [
       "   key  lval\n",
       "0  foo     1\n",
       "1  bar     2"
      ]
     },
     "execution_count": 84,
     "metadata": {},
     "output_type": "execute_result"
    }
   ],
   "source": [
    "left"
   ]
  },
  {
   "cell_type": "code",
   "execution_count": 85,
   "metadata": {},
   "outputs": [
    {
     "data": {
      "text/html": [
       "<div>\n",
       "<style>\n",
       "    .dataframe thead tr:only-child th {\n",
       "        text-align: right;\n",
       "    }\n",
       "\n",
       "    .dataframe thead th {\n",
       "        text-align: left;\n",
       "    }\n",
       "\n",
       "    .dataframe tbody tr th {\n",
       "        vertical-align: top;\n",
       "    }\n",
       "</style>\n",
       "<table border=\"1\" class=\"dataframe\">\n",
       "  <thead>\n",
       "    <tr style=\"text-align: right;\">\n",
       "      <th></th>\n",
       "      <th>key</th>\n",
       "      <th>lval</th>\n",
       "    </tr>\n",
       "  </thead>\n",
       "  <tbody>\n",
       "    <tr>\n",
       "      <th>0</th>\n",
       "      <td>foo</td>\n",
       "      <td>4</td>\n",
       "    </tr>\n",
       "    <tr>\n",
       "      <th>1</th>\n",
       "      <td>bar</td>\n",
       "      <td>5</td>\n",
       "    </tr>\n",
       "  </tbody>\n",
       "</table>\n",
       "</div>"
      ],
      "text/plain": [
       "   key  lval\n",
       "0  foo     4\n",
       "1  bar     5"
      ]
     },
     "execution_count": 85,
     "metadata": {},
     "output_type": "execute_result"
    }
   ],
   "source": [
    "right"
   ]
  },
  {
   "cell_type": "code",
   "execution_count": 86,
   "metadata": {},
   "outputs": [
    {
     "data": {
      "text/html": [
       "<div>\n",
       "<style>\n",
       "    .dataframe thead tr:only-child th {\n",
       "        text-align: right;\n",
       "    }\n",
       "\n",
       "    .dataframe thead th {\n",
       "        text-align: left;\n",
       "    }\n",
       "\n",
       "    .dataframe tbody tr th {\n",
       "        vertical-align: top;\n",
       "    }\n",
       "</style>\n",
       "<table border=\"1\" class=\"dataframe\">\n",
       "  <thead>\n",
       "    <tr style=\"text-align: right;\">\n",
       "      <th></th>\n",
       "      <th>key</th>\n",
       "      <th>lval_x</th>\n",
       "      <th>lval_y</th>\n",
       "    </tr>\n",
       "  </thead>\n",
       "  <tbody>\n",
       "    <tr>\n",
       "      <th>0</th>\n",
       "      <td>foo</td>\n",
       "      <td>1</td>\n",
       "      <td>4</td>\n",
       "    </tr>\n",
       "    <tr>\n",
       "      <th>1</th>\n",
       "      <td>bar</td>\n",
       "      <td>2</td>\n",
       "      <td>5</td>\n",
       "    </tr>\n",
       "  </tbody>\n",
       "</table>\n",
       "</div>"
      ],
      "text/plain": [
       "   key  lval_x  lval_y\n",
       "0  foo       1       4\n",
       "1  bar       2       5"
      ]
     },
     "execution_count": 86,
     "metadata": {},
     "output_type": "execute_result"
    }
   ],
   "source": [
    "pd.merge(left, right, on=\"key\")"
   ]
  },
  {
   "cell_type": "markdown",
   "metadata": {},
   "source": [
    "### Append"
   ]
  },
  {
   "cell_type": "code",
   "execution_count": 87,
   "metadata": {
    "collapsed": true
   },
   "outputs": [],
   "source": [
    "df = pd.DataFrame(np.random.randn(8, 4), columns=[\"A\", \"B\", \"C\", \"D\"])"
   ]
  },
  {
   "cell_type": "code",
   "execution_count": 88,
   "metadata": {},
   "outputs": [
    {
     "data": {
      "text/html": [
       "<div>\n",
       "<style>\n",
       "    .dataframe thead tr:only-child th {\n",
       "        text-align: right;\n",
       "    }\n",
       "\n",
       "    .dataframe thead th {\n",
       "        text-align: left;\n",
       "    }\n",
       "\n",
       "    .dataframe tbody tr th {\n",
       "        vertical-align: top;\n",
       "    }\n",
       "</style>\n",
       "<table border=\"1\" class=\"dataframe\">\n",
       "  <thead>\n",
       "    <tr style=\"text-align: right;\">\n",
       "      <th></th>\n",
       "      <th>A</th>\n",
       "      <th>B</th>\n",
       "      <th>C</th>\n",
       "      <th>D</th>\n",
       "    </tr>\n",
       "  </thead>\n",
       "  <tbody>\n",
       "    <tr>\n",
       "      <th>0</th>\n",
       "      <td>0.606888</td>\n",
       "      <td>0.528388</td>\n",
       "      <td>0.217625</td>\n",
       "      <td>1.037977</td>\n",
       "    </tr>\n",
       "    <tr>\n",
       "      <th>1</th>\n",
       "      <td>1.808960</td>\n",
       "      <td>1.246799</td>\n",
       "      <td>1.110956</td>\n",
       "      <td>-0.025436</td>\n",
       "    </tr>\n",
       "    <tr>\n",
       "      <th>2</th>\n",
       "      <td>1.658707</td>\n",
       "      <td>1.606102</td>\n",
       "      <td>1.610225</td>\n",
       "      <td>1.530041</td>\n",
       "    </tr>\n",
       "    <tr>\n",
       "      <th>3</th>\n",
       "      <td>0.537965</td>\n",
       "      <td>0.308948</td>\n",
       "      <td>0.203816</td>\n",
       "      <td>0.456479</td>\n",
       "    </tr>\n",
       "    <tr>\n",
       "      <th>4</th>\n",
       "      <td>1.299058</td>\n",
       "      <td>-0.134345</td>\n",
       "      <td>-0.934736</td>\n",
       "      <td>-0.500542</td>\n",
       "    </tr>\n",
       "    <tr>\n",
       "      <th>5</th>\n",
       "      <td>1.027610</td>\n",
       "      <td>0.064025</td>\n",
       "      <td>-0.211435</td>\n",
       "      <td>1.035666</td>\n",
       "    </tr>\n",
       "    <tr>\n",
       "      <th>6</th>\n",
       "      <td>0.314304</td>\n",
       "      <td>-0.675006</td>\n",
       "      <td>0.969067</td>\n",
       "      <td>-0.016680</td>\n",
       "    </tr>\n",
       "    <tr>\n",
       "      <th>7</th>\n",
       "      <td>-1.046369</td>\n",
       "      <td>-1.419556</td>\n",
       "      <td>0.600338</td>\n",
       "      <td>0.192136</td>\n",
       "    </tr>\n",
       "  </tbody>\n",
       "</table>\n",
       "</div>"
      ],
      "text/plain": [
       "          A         B         C         D\n",
       "0  0.606888  0.528388  0.217625  1.037977\n",
       "1  1.808960  1.246799  1.110956 -0.025436\n",
       "2  1.658707  1.606102  1.610225  1.530041\n",
       "3  0.537965  0.308948  0.203816  0.456479\n",
       "4  1.299058 -0.134345 -0.934736 -0.500542\n",
       "5  1.027610  0.064025 -0.211435  1.035666\n",
       "6  0.314304 -0.675006  0.969067 -0.016680\n",
       "7 -1.046369 -1.419556  0.600338  0.192136"
      ]
     },
     "execution_count": 88,
     "metadata": {},
     "output_type": "execute_result"
    }
   ],
   "source": [
    "df"
   ]
  },
  {
   "cell_type": "code",
   "execution_count": 89,
   "metadata": {
    "collapsed": true
   },
   "outputs": [],
   "source": [
    "s = df.iloc[3]"
   ]
  },
  {
   "cell_type": "code",
   "execution_count": 90,
   "metadata": {},
   "outputs": [
    {
     "data": {
      "text/html": [
       "<div>\n",
       "<style>\n",
       "    .dataframe thead tr:only-child th {\n",
       "        text-align: right;\n",
       "    }\n",
       "\n",
       "    .dataframe thead th {\n",
       "        text-align: left;\n",
       "    }\n",
       "\n",
       "    .dataframe tbody tr th {\n",
       "        vertical-align: top;\n",
       "    }\n",
       "</style>\n",
       "<table border=\"1\" class=\"dataframe\">\n",
       "  <thead>\n",
       "    <tr style=\"text-align: right;\">\n",
       "      <th></th>\n",
       "      <th>A</th>\n",
       "      <th>B</th>\n",
       "      <th>C</th>\n",
       "      <th>D</th>\n",
       "    </tr>\n",
       "  </thead>\n",
       "  <tbody>\n",
       "    <tr>\n",
       "      <th>0</th>\n",
       "      <td>0.606888</td>\n",
       "      <td>0.528388</td>\n",
       "      <td>0.217625</td>\n",
       "      <td>1.037977</td>\n",
       "    </tr>\n",
       "    <tr>\n",
       "      <th>1</th>\n",
       "      <td>1.808960</td>\n",
       "      <td>1.246799</td>\n",
       "      <td>1.110956</td>\n",
       "      <td>-0.025436</td>\n",
       "    </tr>\n",
       "    <tr>\n",
       "      <th>2</th>\n",
       "      <td>1.658707</td>\n",
       "      <td>1.606102</td>\n",
       "      <td>1.610225</td>\n",
       "      <td>1.530041</td>\n",
       "    </tr>\n",
       "    <tr>\n",
       "      <th>3</th>\n",
       "      <td>0.537965</td>\n",
       "      <td>0.308948</td>\n",
       "      <td>0.203816</td>\n",
       "      <td>0.456479</td>\n",
       "    </tr>\n",
       "    <tr>\n",
       "      <th>4</th>\n",
       "      <td>1.299058</td>\n",
       "      <td>-0.134345</td>\n",
       "      <td>-0.934736</td>\n",
       "      <td>-0.500542</td>\n",
       "    </tr>\n",
       "    <tr>\n",
       "      <th>5</th>\n",
       "      <td>1.027610</td>\n",
       "      <td>0.064025</td>\n",
       "      <td>-0.211435</td>\n",
       "      <td>1.035666</td>\n",
       "    </tr>\n",
       "    <tr>\n",
       "      <th>6</th>\n",
       "      <td>0.314304</td>\n",
       "      <td>-0.675006</td>\n",
       "      <td>0.969067</td>\n",
       "      <td>-0.016680</td>\n",
       "    </tr>\n",
       "    <tr>\n",
       "      <th>7</th>\n",
       "      <td>-1.046369</td>\n",
       "      <td>-1.419556</td>\n",
       "      <td>0.600338</td>\n",
       "      <td>0.192136</td>\n",
       "    </tr>\n",
       "    <tr>\n",
       "      <th>8</th>\n",
       "      <td>0.537965</td>\n",
       "      <td>0.308948</td>\n",
       "      <td>0.203816</td>\n",
       "      <td>0.456479</td>\n",
       "    </tr>\n",
       "  </tbody>\n",
       "</table>\n",
       "</div>"
      ],
      "text/plain": [
       "          A         B         C         D\n",
       "0  0.606888  0.528388  0.217625  1.037977\n",
       "1  1.808960  1.246799  1.110956 -0.025436\n",
       "2  1.658707  1.606102  1.610225  1.530041\n",
       "3  0.537965  0.308948  0.203816  0.456479\n",
       "4  1.299058 -0.134345 -0.934736 -0.500542\n",
       "5  1.027610  0.064025 -0.211435  1.035666\n",
       "6  0.314304 -0.675006  0.969067 -0.016680\n",
       "7 -1.046369 -1.419556  0.600338  0.192136\n",
       "8  0.537965  0.308948  0.203816  0.456479"
      ]
     },
     "execution_count": 90,
     "metadata": {},
     "output_type": "execute_result"
    }
   ],
   "source": [
    "df.append(s, ignore_index=True)"
   ]
  },
  {
   "cell_type": "markdown",
   "metadata": {},
   "source": [
    "# 分組"
   ]
  },
  {
   "cell_type": "markdown",
   "metadata": {},
   "source": [
    "### 對於\"group by\"操作，我們通常是指以下一個或多個操作步驟:"
   ]
  },
  {
   "cell_type": "markdown",
   "metadata": {},
   "source": [
    "### (Splitting) 按照一些規則將數據分為不同的組\n",
    "### (Applying)對於每組數據分別執行一個函數\n",
    "### (Combining) 將結果組合到一個數據結構中"
   ]
  },
  {
   "cell_type": "code",
   "execution_count": 91,
   "metadata": {
    "collapsed": true
   },
   "outputs": [],
   "source": [
    "df = pd.DataFrame({\"A\" : [\"foo\", \"bar\", \"foo\", \"bar\", \n",
    "                          \"foo\", \"bar\", \"foo\", \"foo\"],\n",
    "                   \"B\" : [\"one\", \"one\", \"two\", \"three\",\n",
    "                          \"two\", \"two\", \"one\", \"three\"],\n",
    "                   \"C\" : np.random.randn(8),\n",
    "                   \"D\" : np.random.randn(8)})"
   ]
  },
  {
   "cell_type": "code",
   "execution_count": 92,
   "metadata": {},
   "outputs": [
    {
     "data": {
      "text/html": [
       "<div>\n",
       "<style>\n",
       "    .dataframe thead tr:only-child th {\n",
       "        text-align: right;\n",
       "    }\n",
       "\n",
       "    .dataframe thead th {\n",
       "        text-align: left;\n",
       "    }\n",
       "\n",
       "    .dataframe tbody tr th {\n",
       "        vertical-align: top;\n",
       "    }\n",
       "</style>\n",
       "<table border=\"1\" class=\"dataframe\">\n",
       "  <thead>\n",
       "    <tr style=\"text-align: right;\">\n",
       "      <th></th>\n",
       "      <th>A</th>\n",
       "      <th>B</th>\n",
       "      <th>C</th>\n",
       "      <th>D</th>\n",
       "    </tr>\n",
       "  </thead>\n",
       "  <tbody>\n",
       "    <tr>\n",
       "      <th>0</th>\n",
       "      <td>foo</td>\n",
       "      <td>one</td>\n",
       "      <td>0.346472</td>\n",
       "      <td>-0.842938</td>\n",
       "    </tr>\n",
       "    <tr>\n",
       "      <th>1</th>\n",
       "      <td>bar</td>\n",
       "      <td>one</td>\n",
       "      <td>0.399684</td>\n",
       "      <td>-0.182281</td>\n",
       "    </tr>\n",
       "    <tr>\n",
       "      <th>2</th>\n",
       "      <td>foo</td>\n",
       "      <td>two</td>\n",
       "      <td>1.082806</td>\n",
       "      <td>-1.749659</td>\n",
       "    </tr>\n",
       "    <tr>\n",
       "      <th>3</th>\n",
       "      <td>bar</td>\n",
       "      <td>three</td>\n",
       "      <td>0.829574</td>\n",
       "      <td>-0.744915</td>\n",
       "    </tr>\n",
       "    <tr>\n",
       "      <th>4</th>\n",
       "      <td>foo</td>\n",
       "      <td>two</td>\n",
       "      <td>-0.037734</td>\n",
       "      <td>-1.375091</td>\n",
       "    </tr>\n",
       "    <tr>\n",
       "      <th>5</th>\n",
       "      <td>bar</td>\n",
       "      <td>two</td>\n",
       "      <td>-0.351824</td>\n",
       "      <td>0.177553</td>\n",
       "    </tr>\n",
       "    <tr>\n",
       "      <th>6</th>\n",
       "      <td>foo</td>\n",
       "      <td>one</td>\n",
       "      <td>0.463260</td>\n",
       "      <td>0.540792</td>\n",
       "    </tr>\n",
       "    <tr>\n",
       "      <th>7</th>\n",
       "      <td>foo</td>\n",
       "      <td>three</td>\n",
       "      <td>-1.499035</td>\n",
       "      <td>-1.341852</td>\n",
       "    </tr>\n",
       "  </tbody>\n",
       "</table>\n",
       "</div>"
      ],
      "text/plain": [
       "     A      B         C         D\n",
       "0  foo    one  0.346472 -0.842938\n",
       "1  bar    one  0.399684 -0.182281\n",
       "2  foo    two  1.082806 -1.749659\n",
       "3  bar  three  0.829574 -0.744915\n",
       "4  foo    two -0.037734 -1.375091\n",
       "5  bar    two -0.351824  0.177553\n",
       "6  foo    one  0.463260  0.540792\n",
       "7  foo  three -1.499035 -1.341852"
      ]
     },
     "execution_count": 92,
     "metadata": {},
     "output_type": "execute_result"
    }
   ],
   "source": [
    "df"
   ]
  },
  {
   "cell_type": "markdown",
   "metadata": {},
   "source": [
    "### 分組並對每個分組執行sum函數"
   ]
  },
  {
   "cell_type": "code",
   "execution_count": 93,
   "metadata": {},
   "outputs": [
    {
     "data": {
      "text/html": [
       "<div>\n",
       "<style>\n",
       "    .dataframe thead tr:only-child th {\n",
       "        text-align: right;\n",
       "    }\n",
       "\n",
       "    .dataframe thead th {\n",
       "        text-align: left;\n",
       "    }\n",
       "\n",
       "    .dataframe tbody tr th {\n",
       "        vertical-align: top;\n",
       "    }\n",
       "</style>\n",
       "<table border=\"1\" class=\"dataframe\">\n",
       "  <thead>\n",
       "    <tr style=\"text-align: right;\">\n",
       "      <th></th>\n",
       "      <th>C</th>\n",
       "      <th>D</th>\n",
       "    </tr>\n",
       "    <tr>\n",
       "      <th>A</th>\n",
       "      <th></th>\n",
       "      <th></th>\n",
       "    </tr>\n",
       "  </thead>\n",
       "  <tbody>\n",
       "    <tr>\n",
       "      <th>bar</th>\n",
       "      <td>0.877434</td>\n",
       "      <td>-0.749643</td>\n",
       "    </tr>\n",
       "    <tr>\n",
       "      <th>foo</th>\n",
       "      <td>0.355770</td>\n",
       "      <td>-4.768748</td>\n",
       "    </tr>\n",
       "  </tbody>\n",
       "</table>\n",
       "</div>"
      ],
      "text/plain": [
       "            C         D\n",
       "A                      \n",
       "bar  0.877434 -0.749643\n",
       "foo  0.355770 -4.768748"
      ]
     },
     "execution_count": 93,
     "metadata": {},
     "output_type": "execute_result"
    }
   ],
   "source": [
    "df.groupby(\"A\").sum()"
   ]
  },
  {
   "cell_type": "markdown",
   "metadata": {},
   "source": [
    "# 改變形狀 "
   ]
  },
  {
   "cell_type": "markdown",
   "metadata": {},
   "source": [
    "### Stack "
   ]
  },
  {
   "cell_type": "code",
   "execution_count": 94,
   "metadata": {
    "collapsed": true
   },
   "outputs": [],
   "source": [
    "tuples = list(zip(*[['bar', 'bar', 'baz', 'baz',\n",
    "                     'foo', 'foo', 'qux', 'qux'],\n",
    "                    ['one', 'two', 'one', 'two',\n",
    "                     'one', 'two', 'one', 'two']]))"
   ]
  },
  {
   "cell_type": "code",
   "execution_count": 95,
   "metadata": {},
   "outputs": [
    {
     "data": {
      "text/plain": [
       "[('bar', 'one'),\n",
       " ('bar', 'two'),\n",
       " ('baz', 'one'),\n",
       " ('baz', 'two'),\n",
       " ('foo', 'one'),\n",
       " ('foo', 'two'),\n",
       " ('qux', 'one'),\n",
       " ('qux', 'two')]"
      ]
     },
     "execution_count": 95,
     "metadata": {},
     "output_type": "execute_result"
    }
   ],
   "source": [
    "tuples"
   ]
  },
  {
   "cell_type": "code",
   "execution_count": 96,
   "metadata": {
    "collapsed": true
   },
   "outputs": [],
   "source": [
    "index = pd.MultiIndex.from_tuples(tuples, names = [\"first\", \"second\"])"
   ]
  },
  {
   "cell_type": "code",
   "execution_count": 97,
   "metadata": {
    "collapsed": true
   },
   "outputs": [],
   "source": [
    "df = pd.DataFrame(np.random.randn(8, 2), index = index, columns=[\"A\", \"B\"])"
   ]
  },
  {
   "cell_type": "code",
   "execution_count": 98,
   "metadata": {
    "collapsed": true
   },
   "outputs": [],
   "source": [
    "df2 = df[:4]"
   ]
  },
  {
   "cell_type": "code",
   "execution_count": 99,
   "metadata": {},
   "outputs": [
    {
     "data": {
      "text/html": [
       "<div>\n",
       "<style>\n",
       "    .dataframe thead tr:only-child th {\n",
       "        text-align: right;\n",
       "    }\n",
       "\n",
       "    .dataframe thead th {\n",
       "        text-align: left;\n",
       "    }\n",
       "\n",
       "    .dataframe tbody tr th {\n",
       "        vertical-align: top;\n",
       "    }\n",
       "</style>\n",
       "<table border=\"1\" class=\"dataframe\">\n",
       "  <thead>\n",
       "    <tr style=\"text-align: right;\">\n",
       "      <th></th>\n",
       "      <th></th>\n",
       "      <th>A</th>\n",
       "      <th>B</th>\n",
       "    </tr>\n",
       "    <tr>\n",
       "      <th>first</th>\n",
       "      <th>second</th>\n",
       "      <th></th>\n",
       "      <th></th>\n",
       "    </tr>\n",
       "  </thead>\n",
       "  <tbody>\n",
       "    <tr>\n",
       "      <th rowspan=\"2\" valign=\"top\">bar</th>\n",
       "      <th>one</th>\n",
       "      <td>-0.840810</td>\n",
       "      <td>-0.551974</td>\n",
       "    </tr>\n",
       "    <tr>\n",
       "      <th>two</th>\n",
       "      <td>-0.203024</td>\n",
       "      <td>0.585251</td>\n",
       "    </tr>\n",
       "    <tr>\n",
       "      <th rowspan=\"2\" valign=\"top\">baz</th>\n",
       "      <th>one</th>\n",
       "      <td>-1.884286</td>\n",
       "      <td>-0.215138</td>\n",
       "    </tr>\n",
       "    <tr>\n",
       "      <th>two</th>\n",
       "      <td>-0.105231</td>\n",
       "      <td>-0.447731</td>\n",
       "    </tr>\n",
       "  </tbody>\n",
       "</table>\n",
       "</div>"
      ],
      "text/plain": [
       "                     A         B\n",
       "first second                    \n",
       "bar   one    -0.840810 -0.551974\n",
       "      two    -0.203024  0.585251\n",
       "baz   one    -1.884286 -0.215138\n",
       "      two    -0.105231 -0.447731"
      ]
     },
     "execution_count": 99,
     "metadata": {},
     "output_type": "execute_result"
    }
   ],
   "source": [
    "df2"
   ]
  },
  {
   "cell_type": "code",
   "execution_count": 100,
   "metadata": {
    "collapsed": true
   },
   "outputs": [],
   "source": [
    "stacked = df2.stack()"
   ]
  },
  {
   "cell_type": "code",
   "execution_count": 101,
   "metadata": {},
   "outputs": [
    {
     "data": {
      "text/plain": [
       "first  second   \n",
       "bar    one     A   -0.840810\n",
       "               B   -0.551974\n",
       "       two     A   -0.203024\n",
       "               B    0.585251\n",
       "baz    one     A   -1.884286\n",
       "               B   -0.215138\n",
       "       two     A   -0.105231\n",
       "               B   -0.447731\n",
       "dtype: float64"
      ]
     },
     "execution_count": 101,
     "metadata": {},
     "output_type": "execute_result"
    }
   ],
   "source": [
    "stacked"
   ]
  },
  {
   "cell_type": "code",
   "execution_count": 102,
   "metadata": {},
   "outputs": [
    {
     "data": {
      "text/html": [
       "<div>\n",
       "<style>\n",
       "    .dataframe thead tr:only-child th {\n",
       "        text-align: right;\n",
       "    }\n",
       "\n",
       "    .dataframe thead th {\n",
       "        text-align: left;\n",
       "    }\n",
       "\n",
       "    .dataframe tbody tr th {\n",
       "        vertical-align: top;\n",
       "    }\n",
       "</style>\n",
       "<table border=\"1\" class=\"dataframe\">\n",
       "  <thead>\n",
       "    <tr style=\"text-align: right;\">\n",
       "      <th></th>\n",
       "      <th></th>\n",
       "      <th>A</th>\n",
       "      <th>B</th>\n",
       "    </tr>\n",
       "    <tr>\n",
       "      <th>first</th>\n",
       "      <th>second</th>\n",
       "      <th></th>\n",
       "      <th></th>\n",
       "    </tr>\n",
       "  </thead>\n",
       "  <tbody>\n",
       "    <tr>\n",
       "      <th rowspan=\"2\" valign=\"top\">bar</th>\n",
       "      <th>one</th>\n",
       "      <td>-0.840810</td>\n",
       "      <td>-0.551974</td>\n",
       "    </tr>\n",
       "    <tr>\n",
       "      <th>two</th>\n",
       "      <td>-0.203024</td>\n",
       "      <td>0.585251</td>\n",
       "    </tr>\n",
       "    <tr>\n",
       "      <th rowspan=\"2\" valign=\"top\">baz</th>\n",
       "      <th>one</th>\n",
       "      <td>-1.884286</td>\n",
       "      <td>-0.215138</td>\n",
       "    </tr>\n",
       "    <tr>\n",
       "      <th>two</th>\n",
       "      <td>-0.105231</td>\n",
       "      <td>-0.447731</td>\n",
       "    </tr>\n",
       "  </tbody>\n",
       "</table>\n",
       "</div>"
      ],
      "text/plain": [
       "                     A         B\n",
       "first second                    \n",
       "bar   one    -0.840810 -0.551974\n",
       "      two    -0.203024  0.585251\n",
       "baz   one    -1.884286 -0.215138\n",
       "      two    -0.105231 -0.447731"
      ]
     },
     "execution_count": 102,
     "metadata": {},
     "output_type": "execute_result"
    }
   ],
   "source": [
    "stacked.unstack()"
   ]
  },
  {
   "cell_type": "code",
   "execution_count": 103,
   "metadata": {},
   "outputs": [
    {
     "data": {
      "text/html": [
       "<div>\n",
       "<style>\n",
       "    .dataframe thead tr:only-child th {\n",
       "        text-align: right;\n",
       "    }\n",
       "\n",
       "    .dataframe thead th {\n",
       "        text-align: left;\n",
       "    }\n",
       "\n",
       "    .dataframe tbody tr th {\n",
       "        vertical-align: top;\n",
       "    }\n",
       "</style>\n",
       "<table border=\"1\" class=\"dataframe\">\n",
       "  <thead>\n",
       "    <tr style=\"text-align: right;\">\n",
       "      <th></th>\n",
       "      <th>second</th>\n",
       "      <th>one</th>\n",
       "      <th>two</th>\n",
       "    </tr>\n",
       "    <tr>\n",
       "      <th>first</th>\n",
       "      <th></th>\n",
       "      <th></th>\n",
       "      <th></th>\n",
       "    </tr>\n",
       "  </thead>\n",
       "  <tbody>\n",
       "    <tr>\n",
       "      <th rowspan=\"2\" valign=\"top\">bar</th>\n",
       "      <th>A</th>\n",
       "      <td>-0.840810</td>\n",
       "      <td>-0.203024</td>\n",
       "    </tr>\n",
       "    <tr>\n",
       "      <th>B</th>\n",
       "      <td>-0.551974</td>\n",
       "      <td>0.585251</td>\n",
       "    </tr>\n",
       "    <tr>\n",
       "      <th rowspan=\"2\" valign=\"top\">baz</th>\n",
       "      <th>A</th>\n",
       "      <td>-1.884286</td>\n",
       "      <td>-0.105231</td>\n",
       "    </tr>\n",
       "    <tr>\n",
       "      <th>B</th>\n",
       "      <td>-0.215138</td>\n",
       "      <td>-0.447731</td>\n",
       "    </tr>\n",
       "  </tbody>\n",
       "</table>\n",
       "</div>"
      ],
      "text/plain": [
       "second        one       two\n",
       "first                      \n",
       "bar   A -0.840810 -0.203024\n",
       "      B -0.551974  0.585251\n",
       "baz   A -1.884286 -0.105231\n",
       "      B -0.215138 -0.447731"
      ]
     },
     "execution_count": 103,
     "metadata": {},
     "output_type": "execute_result"
    }
   ],
   "source": [
    "stacked.unstack(1)"
   ]
  },
  {
   "cell_type": "code",
   "execution_count": 104,
   "metadata": {},
   "outputs": [
    {
     "data": {
      "text/html": [
       "<div>\n",
       "<style>\n",
       "    .dataframe thead tr:only-child th {\n",
       "        text-align: right;\n",
       "    }\n",
       "\n",
       "    .dataframe thead th {\n",
       "        text-align: left;\n",
       "    }\n",
       "\n",
       "    .dataframe tbody tr th {\n",
       "        vertical-align: top;\n",
       "    }\n",
       "</style>\n",
       "<table border=\"1\" class=\"dataframe\">\n",
       "  <thead>\n",
       "    <tr style=\"text-align: right;\">\n",
       "      <th></th>\n",
       "      <th>first</th>\n",
       "      <th>bar</th>\n",
       "      <th>baz</th>\n",
       "    </tr>\n",
       "    <tr>\n",
       "      <th>second</th>\n",
       "      <th></th>\n",
       "      <th></th>\n",
       "      <th></th>\n",
       "    </tr>\n",
       "  </thead>\n",
       "  <tbody>\n",
       "    <tr>\n",
       "      <th rowspan=\"2\" valign=\"top\">one</th>\n",
       "      <th>A</th>\n",
       "      <td>-0.840810</td>\n",
       "      <td>-1.884286</td>\n",
       "    </tr>\n",
       "    <tr>\n",
       "      <th>B</th>\n",
       "      <td>-0.551974</td>\n",
       "      <td>-0.215138</td>\n",
       "    </tr>\n",
       "    <tr>\n",
       "      <th rowspan=\"2\" valign=\"top\">two</th>\n",
       "      <th>A</th>\n",
       "      <td>-0.203024</td>\n",
       "      <td>-0.105231</td>\n",
       "    </tr>\n",
       "    <tr>\n",
       "      <th>B</th>\n",
       "      <td>0.585251</td>\n",
       "      <td>-0.447731</td>\n",
       "    </tr>\n",
       "  </tbody>\n",
       "</table>\n",
       "</div>"
      ],
      "text/plain": [
       "first          bar       baz\n",
       "second                      \n",
       "one    A -0.840810 -1.884286\n",
       "       B -0.551974 -0.215138\n",
       "two    A -0.203024 -0.105231\n",
       "       B  0.585251 -0.447731"
      ]
     },
     "execution_count": 104,
     "metadata": {},
     "output_type": "execute_result"
    }
   ],
   "source": [
    "stacked.unstack(0)"
   ]
  },
  {
   "cell_type": "markdown",
   "metadata": {},
   "source": [
    "# 數據透視表 "
   ]
  },
  {
   "cell_type": "code",
   "execution_count": 105,
   "metadata": {
    "collapsed": true
   },
   "outputs": [],
   "source": [
    "df = pd.DataFrame({\"A\" : [\"one\", \"one\", \"two\", \"three\"] * 3,\n",
    "                   \"B\" : [\"A\", \"B\", \"C\"] * 4,\n",
    "                   \"C\" : [\"foo\", \"foo\", \"foo\", \"bar\", \"bar\", \"bar\"] *2,\n",
    "                   \"D\" : np.random.randn(12),\n",
    "                   \"E\" : np.random.randn(12)})"
   ]
  },
  {
   "cell_type": "code",
   "execution_count": 106,
   "metadata": {},
   "outputs": [
    {
     "data": {
      "text/html": [
       "<div>\n",
       "<style>\n",
       "    .dataframe thead tr:only-child th {\n",
       "        text-align: right;\n",
       "    }\n",
       "\n",
       "    .dataframe thead th {\n",
       "        text-align: left;\n",
       "    }\n",
       "\n",
       "    .dataframe tbody tr th {\n",
       "        vertical-align: top;\n",
       "    }\n",
       "</style>\n",
       "<table border=\"1\" class=\"dataframe\">\n",
       "  <thead>\n",
       "    <tr style=\"text-align: right;\">\n",
       "      <th></th>\n",
       "      <th>A</th>\n",
       "      <th>B</th>\n",
       "      <th>C</th>\n",
       "      <th>D</th>\n",
       "      <th>E</th>\n",
       "    </tr>\n",
       "  </thead>\n",
       "  <tbody>\n",
       "    <tr>\n",
       "      <th>0</th>\n",
       "      <td>one</td>\n",
       "      <td>A</td>\n",
       "      <td>foo</td>\n",
       "      <td>0.028846</td>\n",
       "      <td>0.760449</td>\n",
       "    </tr>\n",
       "    <tr>\n",
       "      <th>1</th>\n",
       "      <td>one</td>\n",
       "      <td>B</td>\n",
       "      <td>foo</td>\n",
       "      <td>0.052856</td>\n",
       "      <td>0.139677</td>\n",
       "    </tr>\n",
       "    <tr>\n",
       "      <th>2</th>\n",
       "      <td>two</td>\n",
       "      <td>C</td>\n",
       "      <td>foo</td>\n",
       "      <td>0.776703</td>\n",
       "      <td>-0.517766</td>\n",
       "    </tr>\n",
       "    <tr>\n",
       "      <th>3</th>\n",
       "      <td>three</td>\n",
       "      <td>A</td>\n",
       "      <td>bar</td>\n",
       "      <td>-0.282382</td>\n",
       "      <td>-0.931611</td>\n",
       "    </tr>\n",
       "    <tr>\n",
       "      <th>4</th>\n",
       "      <td>one</td>\n",
       "      <td>B</td>\n",
       "      <td>bar</td>\n",
       "      <td>-0.173299</td>\n",
       "      <td>-1.333426</td>\n",
       "    </tr>\n",
       "    <tr>\n",
       "      <th>5</th>\n",
       "      <td>one</td>\n",
       "      <td>C</td>\n",
       "      <td>bar</td>\n",
       "      <td>-0.410833</td>\n",
       "      <td>0.558428</td>\n",
       "    </tr>\n",
       "    <tr>\n",
       "      <th>6</th>\n",
       "      <td>two</td>\n",
       "      <td>A</td>\n",
       "      <td>foo</td>\n",
       "      <td>-0.287888</td>\n",
       "      <td>-0.313721</td>\n",
       "    </tr>\n",
       "    <tr>\n",
       "      <th>7</th>\n",
       "      <td>three</td>\n",
       "      <td>B</td>\n",
       "      <td>foo</td>\n",
       "      <td>-1.255865</td>\n",
       "      <td>0.008705</td>\n",
       "    </tr>\n",
       "    <tr>\n",
       "      <th>8</th>\n",
       "      <td>one</td>\n",
       "      <td>C</td>\n",
       "      <td>foo</td>\n",
       "      <td>-0.858555</td>\n",
       "      <td>-0.077740</td>\n",
       "    </tr>\n",
       "    <tr>\n",
       "      <th>9</th>\n",
       "      <td>one</td>\n",
       "      <td>A</td>\n",
       "      <td>bar</td>\n",
       "      <td>-0.172081</td>\n",
       "      <td>1.675147</td>\n",
       "    </tr>\n",
       "    <tr>\n",
       "      <th>10</th>\n",
       "      <td>two</td>\n",
       "      <td>B</td>\n",
       "      <td>bar</td>\n",
       "      <td>-0.888681</td>\n",
       "      <td>-0.272977</td>\n",
       "    </tr>\n",
       "    <tr>\n",
       "      <th>11</th>\n",
       "      <td>three</td>\n",
       "      <td>C</td>\n",
       "      <td>bar</td>\n",
       "      <td>0.006865</td>\n",
       "      <td>1.232863</td>\n",
       "    </tr>\n",
       "  </tbody>\n",
       "</table>\n",
       "</div>"
      ],
      "text/plain": [
       "        A  B    C         D         E\n",
       "0     one  A  foo  0.028846  0.760449\n",
       "1     one  B  foo  0.052856  0.139677\n",
       "2     two  C  foo  0.776703 -0.517766\n",
       "3   three  A  bar -0.282382 -0.931611\n",
       "4     one  B  bar -0.173299 -1.333426\n",
       "5     one  C  bar -0.410833  0.558428\n",
       "6     two  A  foo -0.287888 -0.313721\n",
       "7   three  B  foo -1.255865  0.008705\n",
       "8     one  C  foo -0.858555 -0.077740\n",
       "9     one  A  bar -0.172081  1.675147\n",
       "10    two  B  bar -0.888681 -0.272977\n",
       "11  three  C  bar  0.006865  1.232863"
      ]
     },
     "execution_count": 106,
     "metadata": {},
     "output_type": "execute_result"
    }
   ],
   "source": [
    "df"
   ]
  },
  {
   "cell_type": "code",
   "execution_count": 107,
   "metadata": {},
   "outputs": [
    {
     "data": {
      "text/html": [
       "<div>\n",
       "<style>\n",
       "    .dataframe thead tr:only-child th {\n",
       "        text-align: right;\n",
       "    }\n",
       "\n",
       "    .dataframe thead th {\n",
       "        text-align: left;\n",
       "    }\n",
       "\n",
       "    .dataframe tbody tr th {\n",
       "        vertical-align: top;\n",
       "    }\n",
       "</style>\n",
       "<table border=\"1\" class=\"dataframe\">\n",
       "  <thead>\n",
       "    <tr style=\"text-align: right;\">\n",
       "      <th></th>\n",
       "      <th>C</th>\n",
       "      <th>bar</th>\n",
       "      <th>foo</th>\n",
       "    </tr>\n",
       "    <tr>\n",
       "      <th>A</th>\n",
       "      <th>B</th>\n",
       "      <th></th>\n",
       "      <th></th>\n",
       "    </tr>\n",
       "  </thead>\n",
       "  <tbody>\n",
       "    <tr>\n",
       "      <th rowspan=\"3\" valign=\"top\">one</th>\n",
       "      <th>A</th>\n",
       "      <td>-0.172081</td>\n",
       "      <td>0.028846</td>\n",
       "    </tr>\n",
       "    <tr>\n",
       "      <th>B</th>\n",
       "      <td>-0.173299</td>\n",
       "      <td>0.052856</td>\n",
       "    </tr>\n",
       "    <tr>\n",
       "      <th>C</th>\n",
       "      <td>-0.410833</td>\n",
       "      <td>-0.858555</td>\n",
       "    </tr>\n",
       "    <tr>\n",
       "      <th rowspan=\"3\" valign=\"top\">three</th>\n",
       "      <th>A</th>\n",
       "      <td>-0.282382</td>\n",
       "      <td>NaN</td>\n",
       "    </tr>\n",
       "    <tr>\n",
       "      <th>B</th>\n",
       "      <td>NaN</td>\n",
       "      <td>-1.255865</td>\n",
       "    </tr>\n",
       "    <tr>\n",
       "      <th>C</th>\n",
       "      <td>0.006865</td>\n",
       "      <td>NaN</td>\n",
       "    </tr>\n",
       "    <tr>\n",
       "      <th rowspan=\"3\" valign=\"top\">two</th>\n",
       "      <th>A</th>\n",
       "      <td>NaN</td>\n",
       "      <td>-0.287888</td>\n",
       "    </tr>\n",
       "    <tr>\n",
       "      <th>B</th>\n",
       "      <td>-0.888681</td>\n",
       "      <td>NaN</td>\n",
       "    </tr>\n",
       "    <tr>\n",
       "      <th>C</th>\n",
       "      <td>NaN</td>\n",
       "      <td>0.776703</td>\n",
       "    </tr>\n",
       "  </tbody>\n",
       "</table>\n",
       "</div>"
      ],
      "text/plain": [
       "C             bar       foo\n",
       "A     B                    \n",
       "one   A -0.172081  0.028846\n",
       "      B -0.173299  0.052856\n",
       "      C -0.410833 -0.858555\n",
       "three A -0.282382       NaN\n",
       "      B       NaN -1.255865\n",
       "      C  0.006865       NaN\n",
       "two   A       NaN -0.287888\n",
       "      B -0.888681       NaN\n",
       "      C       NaN  0.776703"
      ]
     },
     "execution_count": 107,
     "metadata": {},
     "output_type": "execute_result"
    }
   ],
   "source": [
    "pd.pivot_table(df, values=\"D\", index=[\"A\", \"B\"], columns=[\"C\"])"
   ]
  },
  {
   "cell_type": "markdown",
   "metadata": {
    "collapsed": true
   },
   "source": [
    "# 時間序列"
   ]
  },
  {
   "cell_type": "code",
   "execution_count": 108,
   "metadata": {
    "collapsed": true
   },
   "outputs": [],
   "source": [
    "rng = pd.date_range(\"1/1/2012\", periods=100, freq=\"S\")"
   ]
  },
  {
   "cell_type": "code",
   "execution_count": 109,
   "metadata": {
    "collapsed": true
   },
   "outputs": [],
   "source": [
    "ts = pd.Series(np.random.randint(0, 500, len(rng)), index=rng)"
   ]
  },
  {
   "cell_type": "code",
   "execution_count": 110,
   "metadata": {},
   "outputs": [
    {
     "data": {
      "text/plain": [
       "2012-01-01    23079\n",
       "Freq: 5T, dtype: int32"
      ]
     },
     "execution_count": 110,
     "metadata": {},
     "output_type": "execute_result"
    }
   ],
   "source": [
    "ts.resample(\"5Min\").sum()"
   ]
  },
  {
   "cell_type": "markdown",
   "metadata": {},
   "source": [
    "### 時區表示"
   ]
  },
  {
   "cell_type": "code",
   "execution_count": 111,
   "metadata": {
    "collapsed": true
   },
   "outputs": [],
   "source": [
    "rng = pd.date_range(\"3/6/2012 00:00\", periods=5, freq=\"D\")"
   ]
  },
  {
   "cell_type": "code",
   "execution_count": 112,
   "metadata": {
    "collapsed": true
   },
   "outputs": [],
   "source": [
    "ts = pd.Series(np.random.randn(len(rng)), rng)"
   ]
  },
  {
   "cell_type": "code",
   "execution_count": 113,
   "metadata": {},
   "outputs": [
    {
     "data": {
      "text/plain": [
       "2012-03-06    1.267433\n",
       "2012-03-07    1.135543\n",
       "2012-03-08   -1.377832\n",
       "2012-03-09    0.188322\n",
       "2012-03-10   -0.015890\n",
       "Freq: D, dtype: float64"
      ]
     },
     "execution_count": 113,
     "metadata": {},
     "output_type": "execute_result"
    }
   ],
   "source": [
    "ts"
   ]
  },
  {
   "cell_type": "code",
   "execution_count": 114,
   "metadata": {
    "collapsed": true
   },
   "outputs": [],
   "source": [
    "ts_utc = ts.tz_localize(\"UTC\")"
   ]
  },
  {
   "cell_type": "code",
   "execution_count": 115,
   "metadata": {},
   "outputs": [
    {
     "data": {
      "text/plain": [
       "2012-03-06 00:00:00+00:00    1.267433\n",
       "2012-03-07 00:00:00+00:00    1.135543\n",
       "2012-03-08 00:00:00+00:00   -1.377832\n",
       "2012-03-09 00:00:00+00:00    0.188322\n",
       "2012-03-10 00:00:00+00:00   -0.015890\n",
       "Freq: D, dtype: float64"
      ]
     },
     "execution_count": 115,
     "metadata": {},
     "output_type": "execute_result"
    }
   ],
   "source": [
    "ts_utc"
   ]
  },
  {
   "cell_type": "markdown",
   "metadata": {},
   "source": [
    "### 時區轉換 "
   ]
  },
  {
   "cell_type": "code",
   "execution_count": 116,
   "metadata": {},
   "outputs": [
    {
     "data": {
      "text/plain": [
       "2012-03-05 19:00:00-05:00    1.267433\n",
       "2012-03-06 19:00:00-05:00    1.135543\n",
       "2012-03-07 19:00:00-05:00   -1.377832\n",
       "2012-03-08 19:00:00-05:00    0.188322\n",
       "2012-03-09 19:00:00-05:00   -0.015890\n",
       "Freq: D, dtype: float64"
      ]
     },
     "execution_count": 116,
     "metadata": {},
     "output_type": "execute_result"
    }
   ],
   "source": [
    "ts_utc.tz_convert(\"US/Eastern\")"
   ]
  },
  {
   "cell_type": "markdown",
   "metadata": {},
   "source": [
    "### 時間跨度轉換"
   ]
  },
  {
   "cell_type": "code",
   "execution_count": 117,
   "metadata": {
    "collapsed": true
   },
   "outputs": [],
   "source": [
    "rng = pd.date_range(\"1/1/2012\", periods=5, freq=\"M\")"
   ]
  },
  {
   "cell_type": "code",
   "execution_count": 118,
   "metadata": {
    "collapsed": true
   },
   "outputs": [],
   "source": [
    "ts = pd.Series(np.random.randn(len(rng)), index=rng)"
   ]
  },
  {
   "cell_type": "code",
   "execution_count": 119,
   "metadata": {},
   "outputs": [
    {
     "data": {
      "text/plain": [
       "2012-01-31   -1.478716\n",
       "2012-02-29    1.630620\n",
       "2012-03-31   -1.004465\n",
       "2012-04-30    1.136620\n",
       "2012-05-31   -0.292795\n",
       "Freq: M, dtype: float64"
      ]
     },
     "execution_count": 119,
     "metadata": {},
     "output_type": "execute_result"
    }
   ],
   "source": [
    "ts"
   ]
  },
  {
   "cell_type": "code",
   "execution_count": 120,
   "metadata": {
    "collapsed": true
   },
   "outputs": [],
   "source": [
    "ps = ts.to_period()"
   ]
  },
  {
   "cell_type": "code",
   "execution_count": 121,
   "metadata": {},
   "outputs": [
    {
     "data": {
      "text/plain": [
       "2012-01   -1.478716\n",
       "2012-02    1.630620\n",
       "2012-03   -1.004465\n",
       "2012-04    1.136620\n",
       "2012-05   -0.292795\n",
       "Freq: M, dtype: float64"
      ]
     },
     "execution_count": 121,
     "metadata": {},
     "output_type": "execute_result"
    }
   ],
   "source": [
    "ps"
   ]
  },
  {
   "cell_type": "code",
   "execution_count": 122,
   "metadata": {},
   "outputs": [
    {
     "data": {
      "text/plain": [
       "2012-01-01   -1.478716\n",
       "2012-02-01    1.630620\n",
       "2012-03-01   -1.004465\n",
       "2012-04-01    1.136620\n",
       "2012-05-01   -0.292795\n",
       "Freq: MS, dtype: float64"
      ]
     },
     "execution_count": 122,
     "metadata": {},
     "output_type": "execute_result"
    }
   ],
   "source": [
    "ps.to_timestamp()"
   ]
  },
  {
   "cell_type": "markdown",
   "metadata": {},
   "source": [
    "### 時間和時間戳之間的轉換使得可以使用一些方便的算術函數"
   ]
  },
  {
   "cell_type": "code",
   "execution_count": 123,
   "metadata": {
    "collapsed": true
   },
   "outputs": [],
   "source": [
    "prng = pd.period_range(\"1990Q1\", \"2000Q4\", freq=\"Q-NOV\")"
   ]
  },
  {
   "cell_type": "code",
   "execution_count": 124,
   "metadata": {
    "collapsed": true
   },
   "outputs": [],
   "source": [
    "ts = pd.Series(np.random.randn(len(prng)), prng)"
   ]
  },
  {
   "cell_type": "code",
   "execution_count": 125,
   "metadata": {
    "collapsed": true
   },
   "outputs": [],
   "source": [
    "ts.index = (prng.asfreq(\"M\", \"e\") + 1).asfreq(\"H\", \"s\") + 9"
   ]
  },
  {
   "cell_type": "code",
   "execution_count": 126,
   "metadata": {},
   "outputs": [
    {
     "data": {
      "text/plain": [
       "1990-03-01 09:00   -1.694441\n",
       "1990-06-01 09:00   -1.586837\n",
       "1990-09-01 09:00   -0.453637\n",
       "1990-12-01 09:00    0.842728\n",
       "1991-03-01 09:00   -1.357759\n",
       "Freq: H, dtype: float64"
      ]
     },
     "execution_count": 126,
     "metadata": {},
     "output_type": "execute_result"
    }
   ],
   "source": [
    "ts.head()"
   ]
  },
  {
   "cell_type": "markdown",
   "metadata": {},
   "source": [
    "# Categorical"
   ]
  },
  {
   "cell_type": "code",
   "execution_count": 127,
   "metadata": {
    "collapsed": true
   },
   "outputs": [],
   "source": [
    "df = pd.DataFrame({\"id\":[1, 2, 3, 4, 5, 6], \"raw_grade\":[\"a\", \"b\", \"b\", \"a\", \"a\", \"e\"]})"
   ]
  },
  {
   "cell_type": "markdown",
   "metadata": {},
   "source": [
    "### 將原始的grade 轉換為Categorical數據類型"
   ]
  },
  {
   "cell_type": "code",
   "execution_count": 128,
   "metadata": {
    "collapsed": true
   },
   "outputs": [],
   "source": [
    "df[\"grade\"] = df[\"raw_grade\"].astype(\"category\")"
   ]
  },
  {
   "cell_type": "code",
   "execution_count": 129,
   "metadata": {},
   "outputs": [
    {
     "data": {
      "text/plain": [
       "0    a\n",
       "1    b\n",
       "2    b\n",
       "3    a\n",
       "4    a\n",
       "5    e\n",
       "Name: grade, dtype: category\n",
       "Categories (3, object): [a, b, e]"
      ]
     },
     "execution_count": 129,
     "metadata": {},
     "output_type": "execute_result"
    }
   ],
   "source": [
    "df[\"grade\"]"
   ]
  },
  {
   "cell_type": "markdown",
   "metadata": {},
   "source": [
    "### 將Categorical類型數據重命名"
   ]
  },
  {
   "cell_type": "code",
   "execution_count": 130,
   "metadata": {
    "collapsed": true
   },
   "outputs": [],
   "source": [
    "df[\"grade\"].cat.categories = [\"very good\", \"good\", \"very bad\"]"
   ]
  },
  {
   "cell_type": "markdown",
   "metadata": {},
   "source": [
    "### 對類別進行重新排序,增加缺失的類別"
   ]
  },
  {
   "cell_type": "code",
   "execution_count": 131,
   "metadata": {
    "collapsed": true
   },
   "outputs": [],
   "source": [
    "df[\"grade\"] = df[\"grade\"].cat.set_categories([\"very bad\", \"bad\", \"medium\", \"good\", \"very good\"])"
   ]
  },
  {
   "cell_type": "code",
   "execution_count": 132,
   "metadata": {},
   "outputs": [
    {
     "data": {
      "text/plain": [
       "0    very good\n",
       "1         good\n",
       "2         good\n",
       "3    very good\n",
       "4    very good\n",
       "5     very bad\n",
       "Name: grade, dtype: category\n",
       "Categories (5, object): [very bad, bad, medium, good, very good]"
      ]
     },
     "execution_count": 132,
     "metadata": {},
     "output_type": "execute_result"
    }
   ],
   "source": [
    "df[\"grade\"]"
   ]
  },
  {
   "cell_type": "markdown",
   "metadata": {},
   "source": [
    "### 排序是按照Categorical的順序進行的而不是按照字典順序"
   ]
  },
  {
   "cell_type": "code",
   "execution_count": 133,
   "metadata": {},
   "outputs": [
    {
     "data": {
      "text/html": [
       "<div>\n",
       "<style>\n",
       "    .dataframe thead tr:only-child th {\n",
       "        text-align: right;\n",
       "    }\n",
       "\n",
       "    .dataframe thead th {\n",
       "        text-align: left;\n",
       "    }\n",
       "\n",
       "    .dataframe tbody tr th {\n",
       "        vertical-align: top;\n",
       "    }\n",
       "</style>\n",
       "<table border=\"1\" class=\"dataframe\">\n",
       "  <thead>\n",
       "    <tr style=\"text-align: right;\">\n",
       "      <th></th>\n",
       "      <th>id</th>\n",
       "      <th>raw_grade</th>\n",
       "      <th>grade</th>\n",
       "    </tr>\n",
       "  </thead>\n",
       "  <tbody>\n",
       "    <tr>\n",
       "      <th>5</th>\n",
       "      <td>6</td>\n",
       "      <td>e</td>\n",
       "      <td>very bad</td>\n",
       "    </tr>\n",
       "    <tr>\n",
       "      <th>1</th>\n",
       "      <td>2</td>\n",
       "      <td>b</td>\n",
       "      <td>good</td>\n",
       "    </tr>\n",
       "    <tr>\n",
       "      <th>2</th>\n",
       "      <td>3</td>\n",
       "      <td>b</td>\n",
       "      <td>good</td>\n",
       "    </tr>\n",
       "    <tr>\n",
       "      <th>0</th>\n",
       "      <td>1</td>\n",
       "      <td>a</td>\n",
       "      <td>very good</td>\n",
       "    </tr>\n",
       "    <tr>\n",
       "      <th>3</th>\n",
       "      <td>4</td>\n",
       "      <td>a</td>\n",
       "      <td>very good</td>\n",
       "    </tr>\n",
       "    <tr>\n",
       "      <th>4</th>\n",
       "      <td>5</td>\n",
       "      <td>a</td>\n",
       "      <td>very good</td>\n",
       "    </tr>\n",
       "  </tbody>\n",
       "</table>\n",
       "</div>"
      ],
      "text/plain": [
       "   id raw_grade      grade\n",
       "5   6         e   very bad\n",
       "1   2         b       good\n",
       "2   3         b       good\n",
       "0   1         a  very good\n",
       "3   4         a  very good\n",
       "4   5         a  very good"
      ]
     },
     "execution_count": 133,
     "metadata": {},
     "output_type": "execute_result"
    }
   ],
   "source": [
    "df.sort_values(by=\"grade\")"
   ]
  },
  {
   "cell_type": "markdown",
   "metadata": {},
   "source": [
    "### 對Categorical列進行排序時存在空的類別"
   ]
  },
  {
   "cell_type": "code",
   "execution_count": 134,
   "metadata": {},
   "outputs": [
    {
     "data": {
      "text/plain": [
       "grade\n",
       "very bad     1\n",
       "bad          0\n",
       "medium       0\n",
       "good         2\n",
       "very good    3\n",
       "dtype: int64"
      ]
     },
     "execution_count": 134,
     "metadata": {},
     "output_type": "execute_result"
    }
   ],
   "source": [
    "df.groupby(\"grade\").size()"
   ]
  },
  {
   "cell_type": "markdown",
   "metadata": {},
   "source": [
    "# 畫圖"
   ]
  },
  {
   "cell_type": "code",
   "execution_count": 135,
   "metadata": {
    "collapsed": true
   },
   "outputs": [],
   "source": [
    "## 秀圖在下面\n",
    "%matplotlib inline"
   ]
  },
  {
   "cell_type": "code",
   "execution_count": 136,
   "metadata": {
    "collapsed": true
   },
   "outputs": [],
   "source": [
    "ts = pd.Series(np.random.randn(1000), index=pd.date_range(\"1/1/2000\", periods=1000))"
   ]
  },
  {
   "cell_type": "code",
   "execution_count": 137,
   "metadata": {
    "collapsed": true
   },
   "outputs": [],
   "source": [
    "ts = ts.cumsum()"
   ]
  },
  {
   "cell_type": "code",
   "execution_count": 138,
   "metadata": {},
   "outputs": [
    {
     "data": {
      "text/plain": [
       "<matplotlib.axes._subplots.AxesSubplot at 0x98862b0>"
      ]
     },
     "execution_count": 138,
     "metadata": {},
     "output_type": "execute_result"
    },
    {
     "data": {
      "image/png": "[encoded data removed]",
      "text/plain": [
       "<matplotlib.figure.Figure at 0x97323c8>"
      ]
     },
     "metadata": {},
     "output_type": "display_data"
    }
   ],
   "source": [
    "ts.plot()"
   ]
  },
  {
   "cell_type": "code",
   "execution_count": 139,
   "metadata": {
    "collapsed": true
   },
   "outputs": [],
   "source": [
    "df = pd.DataFrame(np.random.randn(1000, 4), index=ts.index, columns=[\"A\", \"B\", \"C\", \"D\"])"
   ]
  },
  {
   "cell_type": "code",
   "execution_count": 140,
   "metadata": {
    "collapsed": true
   },
   "outputs": [],
   "source": [
    "df = df.cumsum()"
   ]
  },
  {
   "cell_type": "code",
   "execution_count": 141,
   "metadata": {},
   "outputs": [
    {
     "data": {
      "text/plain": [
       "<matplotlib.figure.Figure at 0x9f89710>"
      ]
     },
     "metadata": {},
     "output_type": "display_data"
    },
    {
     "data": {
      "image/png": "[encoded data removed]",
      "text/plain": [
       "<matplotlib.figure.Figure at 0x9ff3c18>"
      ]
     },
     "metadata": {},
     "output_type": "display_data"
    }
   ],
   "source": [
    "plt.figure();df.plot();plt.legend(loc = \"best\");"
   ]
  },
  {
   "cell_type": "markdown",
   "metadata": {},
   "source": [
    "# 導入和保存數據"
   ]
  },
  {
   "cell_type": "markdown",
   "metadata": {},
   "source": [
    "# CSV"
   ]
  },
  {
   "cell_type": "markdown",
   "metadata": {},
   "source": [
    "### 寫入CSV文件"
   ]
  },
  {
   "cell_type": "code",
   "execution_count": 142,
   "metadata": {
    "collapsed": true
   },
   "outputs": [],
   "source": [
    "df.to_csv(\"foo.csv\")"
   ]
  },
  {
   "cell_type": "markdown",
   "metadata": {},
   "source": [
    "### 從CSV文件中讀取"
   ]
  },
  {
   "cell_type": "code",
   "execution_count": 143,
   "metadata": {
    "scrolled": true
   },
   "outputs": [
    {
     "data": {
      "text/html": [
       "<div>\n",
       "<style>\n",
       "    .dataframe thead tr:only-child th {\n",
       "        text-align: right;\n",
       "    }\n",
       "\n",
       "    .dataframe thead th {\n",
       "        text-align: left;\n",
       "    }\n",
       "\n",
       "    .dataframe tbody tr th {\n",
       "        vertical-align: top;\n",
       "    }\n",
       "</style>\n",
       "<table border=\"1\" class=\"dataframe\">\n",
       "  <thead>\n",
       "    <tr style=\"text-align: right;\">\n",
       "      <th></th>\n",
       "      <th>Unnamed: 0</th>\n",
       "      <th>A</th>\n",
       "      <th>B</th>\n",
       "      <th>C</th>\n",
       "      <th>D</th>\n",
       "    </tr>\n",
       "  </thead>\n",
       "  <tbody>\n",
       "    <tr>\n",
       "      <th>0</th>\n",
       "      <td>2000-01-01</td>\n",
       "      <td>0.656828</td>\n",
       "      <td>-0.748839</td>\n",
       "      <td>-0.358669</td>\n",
       "      <td>-1.359325</td>\n",
       "    </tr>\n",
       "    <tr>\n",
       "      <th>1</th>\n",
       "      <td>2000-01-02</td>\n",
       "      <td>0.130826</td>\n",
       "      <td>-1.243114</td>\n",
       "      <td>0.961855</td>\n",
       "      <td>-2.471316</td>\n",
       "    </tr>\n",
       "    <tr>\n",
       "      <th>2</th>\n",
       "      <td>2000-01-03</td>\n",
       "      <td>-0.906829</td>\n",
       "      <td>-1.557170</td>\n",
       "      <td>1.755905</td>\n",
       "      <td>-1.720163</td>\n",
       "    </tr>\n",
       "    <tr>\n",
       "      <th>3</th>\n",
       "      <td>2000-01-04</td>\n",
       "      <td>-1.228664</td>\n",
       "      <td>-2.892958</td>\n",
       "      <td>1.632086</td>\n",
       "      <td>-0.927038</td>\n",
       "    </tr>\n",
       "    <tr>\n",
       "      <th>4</th>\n",
       "      <td>2000-01-05</td>\n",
       "      <td>-0.628378</td>\n",
       "      <td>-2.555413</td>\n",
       "      <td>2.443538</td>\n",
       "      <td>-1.050259</td>\n",
       "    </tr>\n",
       "    <tr>\n",
       "      <th>5</th>\n",
       "      <td>2000-01-06</td>\n",
       "      <td>0.072920</td>\n",
       "      <td>-0.910089</td>\n",
       "      <td>2.506777</td>\n",
       "      <td>-0.512432</td>\n",
       "    </tr>\n",
       "    <tr>\n",
       "      <th>6</th>\n",
       "      <td>2000-01-07</td>\n",
       "      <td>-0.548039</td>\n",
       "      <td>-2.581959</td>\n",
       "      <td>4.179516</td>\n",
       "      <td>-0.445878</td>\n",
       "    </tr>\n",
       "    <tr>\n",
       "      <th>7</th>\n",
       "      <td>2000-01-08</td>\n",
       "      <td>0.823278</td>\n",
       "      <td>-3.907422</td>\n",
       "      <td>5.394283</td>\n",
       "      <td>-1.929205</td>\n",
       "    </tr>\n",
       "    <tr>\n",
       "      <th>8</th>\n",
       "      <td>2000-01-09</td>\n",
       "      <td>1.940475</td>\n",
       "      <td>-4.750066</td>\n",
       "      <td>6.387826</td>\n",
       "      <td>-1.597064</td>\n",
       "    </tr>\n",
       "    <tr>\n",
       "      <th>9</th>\n",
       "      <td>2000-01-10</td>\n",
       "      <td>1.360515</td>\n",
       "      <td>-2.726731</td>\n",
       "      <td>7.080480</td>\n",
       "      <td>-1.450546</td>\n",
       "    </tr>\n",
       "    <tr>\n",
       "      <th>10</th>\n",
       "      <td>2000-01-11</td>\n",
       "      <td>2.578602</td>\n",
       "      <td>-2.215197</td>\n",
       "      <td>6.639686</td>\n",
       "      <td>-2.380209</td>\n",
       "    </tr>\n",
       "    <tr>\n",
       "      <th>11</th>\n",
       "      <td>2000-01-12</td>\n",
       "      <td>2.457700</td>\n",
       "      <td>-3.194005</td>\n",
       "      <td>5.487602</td>\n",
       "      <td>-1.201682</td>\n",
       "    </tr>\n",
       "    <tr>\n",
       "      <th>12</th>\n",
       "      <td>2000-01-13</td>\n",
       "      <td>2.716642</td>\n",
       "      <td>-3.627870</td>\n",
       "      <td>4.543371</td>\n",
       "      <td>-2.162137</td>\n",
       "    </tr>\n",
       "    <tr>\n",
       "      <th>13</th>\n",
       "      <td>2000-01-14</td>\n",
       "      <td>3.193665</td>\n",
       "      <td>-3.356617</td>\n",
       "      <td>3.026671</td>\n",
       "      <td>-0.274989</td>\n",
       "    </tr>\n",
       "    <tr>\n",
       "      <th>14</th>\n",
       "      <td>2000-01-15</td>\n",
       "      <td>4.293989</td>\n",
       "      <td>-4.615889</td>\n",
       "      <td>4.066824</td>\n",
       "      <td>-0.484021</td>\n",
       "    </tr>\n",
       "    <tr>\n",
       "      <th>15</th>\n",
       "      <td>2000-01-16</td>\n",
       "      <td>5.040009</td>\n",
       "      <td>-3.871018</td>\n",
       "      <td>4.248859</td>\n",
       "      <td>-2.075022</td>\n",
       "    </tr>\n",
       "    <tr>\n",
       "      <th>16</th>\n",
       "      <td>2000-01-17</td>\n",
       "      <td>5.017140</td>\n",
       "      <td>-5.702391</td>\n",
       "      <td>3.413938</td>\n",
       "      <td>-1.048047</td>\n",
       "    </tr>\n",
       "    <tr>\n",
       "      <th>17</th>\n",
       "      <td>2000-01-18</td>\n",
       "      <td>4.913276</td>\n",
       "      <td>-6.994797</td>\n",
       "      <td>6.309266</td>\n",
       "      <td>-1.219053</td>\n",
       "    </tr>\n",
       "    <tr>\n",
       "      <th>18</th>\n",
       "      <td>2000-01-19</td>\n",
       "      <td>5.928849</td>\n",
       "      <td>-6.832941</td>\n",
       "      <td>7.035322</td>\n",
       "      <td>-0.394726</td>\n",
       "    </tr>\n",
       "    <tr>\n",
       "      <th>19</th>\n",
       "      <td>2000-01-20</td>\n",
       "      <td>6.034590</td>\n",
       "      <td>-6.593596</td>\n",
       "      <td>6.661526</td>\n",
       "      <td>-0.894897</td>\n",
       "    </tr>\n",
       "    <tr>\n",
       "      <th>20</th>\n",
       "      <td>2000-01-21</td>\n",
       "      <td>5.960137</td>\n",
       "      <td>-6.279137</td>\n",
       "      <td>5.981595</td>\n",
       "      <td>-0.781283</td>\n",
       "    </tr>\n",
       "    <tr>\n",
       "      <th>21</th>\n",
       "      <td>2000-01-22</td>\n",
       "      <td>6.495357</td>\n",
       "      <td>-6.443961</td>\n",
       "      <td>5.528972</td>\n",
       "      <td>-1.480006</td>\n",
       "    </tr>\n",
       "    <tr>\n",
       "      <th>22</th>\n",
       "      <td>2000-01-23</td>\n",
       "      <td>6.333148</td>\n",
       "      <td>-4.830883</td>\n",
       "      <td>4.014973</td>\n",
       "      <td>-1.945785</td>\n",
       "    </tr>\n",
       "    <tr>\n",
       "      <th>23</th>\n",
       "      <td>2000-01-24</td>\n",
       "      <td>6.014683</td>\n",
       "      <td>-5.820035</td>\n",
       "      <td>4.694871</td>\n",
       "      <td>-3.536976</td>\n",
       "    </tr>\n",
       "    <tr>\n",
       "      <th>24</th>\n",
       "      <td>2000-01-25</td>\n",
       "      <td>7.251901</td>\n",
       "      <td>-4.094672</td>\n",
       "      <td>5.859526</td>\n",
       "      <td>-4.197635</td>\n",
       "    </tr>\n",
       "    <tr>\n",
       "      <th>25</th>\n",
       "      <td>2000-01-26</td>\n",
       "      <td>6.597469</td>\n",
       "      <td>-4.620857</td>\n",
       "      <td>6.979480</td>\n",
       "      <td>-3.985307</td>\n",
       "    </tr>\n",
       "    <tr>\n",
       "      <th>26</th>\n",
       "      <td>2000-01-27</td>\n",
       "      <td>5.828666</td>\n",
       "      <td>-4.455864</td>\n",
       "      <td>6.532293</td>\n",
       "      <td>-3.785241</td>\n",
       "    </tr>\n",
       "    <tr>\n",
       "      <th>27</th>\n",
       "      <td>2000-01-28</td>\n",
       "      <td>6.293682</td>\n",
       "      <td>-4.903964</td>\n",
       "      <td>5.413838</td>\n",
       "      <td>-2.633091</td>\n",
       "    </tr>\n",
       "    <tr>\n",
       "      <th>28</th>\n",
       "      <td>2000-01-29</td>\n",
       "      <td>5.529436</td>\n",
       "      <td>-4.141346</td>\n",
       "      <td>5.676329</td>\n",
       "      <td>-1.943057</td>\n",
       "    </tr>\n",
       "    <tr>\n",
       "      <th>29</th>\n",
       "      <td>2000-01-30</td>\n",
       "      <td>5.049957</td>\n",
       "      <td>-3.740968</td>\n",
       "      <td>5.555545</td>\n",
       "      <td>-1.651310</td>\n",
       "    </tr>\n",
       "    <tr>\n",
       "      <th>...</th>\n",
       "      <td>...</td>\n",
       "      <td>...</td>\n",
       "      <td>...</td>\n",
       "      <td>...</td>\n",
       "      <td>...</td>\n",
       "    </tr>\n",
       "    <tr>\n",
       "      <th>970</th>\n",
       "      <td>2002-08-28</td>\n",
       "      <td>3.408070</td>\n",
       "      <td>35.995457</td>\n",
       "      <td>-11.098982</td>\n",
       "      <td>22.892497</td>\n",
       "    </tr>\n",
       "    <tr>\n",
       "      <th>971</th>\n",
       "      <td>2002-08-29</td>\n",
       "      <td>3.551646</td>\n",
       "      <td>36.361742</td>\n",
       "      <td>-10.373336</td>\n",
       "      <td>22.623877</td>\n",
       "    </tr>\n",
       "    <tr>\n",
       "      <th>972</th>\n",
       "      <td>2002-08-30</td>\n",
       "      <td>4.580639</td>\n",
       "      <td>36.540890</td>\n",
       "      <td>-11.957920</td>\n",
       "      <td>24.391482</td>\n",
       "    </tr>\n",
       "    <tr>\n",
       "      <th>973</th>\n",
       "      <td>2002-08-31</td>\n",
       "      <td>4.459980</td>\n",
       "      <td>35.082871</td>\n",
       "      <td>-11.681403</td>\n",
       "      <td>24.486177</td>\n",
       "    </tr>\n",
       "    <tr>\n",
       "      <th>974</th>\n",
       "      <td>2002-09-01</td>\n",
       "      <td>4.495585</td>\n",
       "      <td>36.480957</td>\n",
       "      <td>-10.874527</td>\n",
       "      <td>22.736462</td>\n",
       "    </tr>\n",
       "    <tr>\n",
       "      <th>975</th>\n",
       "      <td>2002-09-02</td>\n",
       "      <td>4.553607</td>\n",
       "      <td>35.501730</td>\n",
       "      <td>-11.200157</td>\n",
       "      <td>23.395160</td>\n",
       "    </tr>\n",
       "    <tr>\n",
       "      <th>976</th>\n",
       "      <td>2002-09-03</td>\n",
       "      <td>3.538009</td>\n",
       "      <td>35.763315</td>\n",
       "      <td>-9.600847</td>\n",
       "      <td>23.165720</td>\n",
       "    </tr>\n",
       "    <tr>\n",
       "      <th>977</th>\n",
       "      <td>2002-09-04</td>\n",
       "      <td>3.463981</td>\n",
       "      <td>37.145480</td>\n",
       "      <td>-9.062338</td>\n",
       "      <td>21.619302</td>\n",
       "    </tr>\n",
       "    <tr>\n",
       "      <th>978</th>\n",
       "      <td>2002-09-05</td>\n",
       "      <td>3.286229</td>\n",
       "      <td>36.163566</td>\n",
       "      <td>-11.121249</td>\n",
       "      <td>21.955745</td>\n",
       "    </tr>\n",
       "    <tr>\n",
       "      <th>979</th>\n",
       "      <td>2002-09-06</td>\n",
       "      <td>3.541677</td>\n",
       "      <td>34.928968</td>\n",
       "      <td>-13.050791</td>\n",
       "      <td>21.766322</td>\n",
       "    </tr>\n",
       "    <tr>\n",
       "      <th>980</th>\n",
       "      <td>2002-09-07</td>\n",
       "      <td>4.002688</td>\n",
       "      <td>35.837428</td>\n",
       "      <td>-12.603922</td>\n",
       "      <td>22.835170</td>\n",
       "    </tr>\n",
       "    <tr>\n",
       "      <th>981</th>\n",
       "      <td>2002-09-08</td>\n",
       "      <td>5.284073</td>\n",
       "      <td>35.515229</td>\n",
       "      <td>-13.990725</td>\n",
       "      <td>24.245238</td>\n",
       "    </tr>\n",
       "    <tr>\n",
       "      <th>982</th>\n",
       "      <td>2002-09-09</td>\n",
       "      <td>5.067844</td>\n",
       "      <td>35.900216</td>\n",
       "      <td>-14.067238</td>\n",
       "      <td>24.004452</td>\n",
       "    </tr>\n",
       "    <tr>\n",
       "      <th>983</th>\n",
       "      <td>2002-09-10</td>\n",
       "      <td>4.366543</td>\n",
       "      <td>37.421790</td>\n",
       "      <td>-12.248521</td>\n",
       "      <td>23.391460</td>\n",
       "    </tr>\n",
       "    <tr>\n",
       "      <th>984</th>\n",
       "      <td>2002-09-11</td>\n",
       "      <td>3.556180</td>\n",
       "      <td>36.497170</td>\n",
       "      <td>-13.212535</td>\n",
       "      <td>23.093140</td>\n",
       "    </tr>\n",
       "    <tr>\n",
       "      <th>985</th>\n",
       "      <td>2002-09-12</td>\n",
       "      <td>3.048193</td>\n",
       "      <td>37.198854</td>\n",
       "      <td>-12.117167</td>\n",
       "      <td>22.302204</td>\n",
       "    </tr>\n",
       "    <tr>\n",
       "      <th>986</th>\n",
       "      <td>2002-09-13</td>\n",
       "      <td>3.934323</td>\n",
       "      <td>36.991042</td>\n",
       "      <td>-9.054170</td>\n",
       "      <td>20.705433</td>\n",
       "    </tr>\n",
       "    <tr>\n",
       "      <th>987</th>\n",
       "      <td>2002-09-14</td>\n",
       "      <td>3.931849</td>\n",
       "      <td>37.623469</td>\n",
       "      <td>-7.175517</td>\n",
       "      <td>20.900927</td>\n",
       "    </tr>\n",
       "    <tr>\n",
       "      <th>988</th>\n",
       "      <td>2002-09-15</td>\n",
       "      <td>4.878180</td>\n",
       "      <td>36.781338</td>\n",
       "      <td>-5.877751</td>\n",
       "      <td>20.118403</td>\n",
       "    </tr>\n",
       "    <tr>\n",
       "      <th>989</th>\n",
       "      <td>2002-09-16</td>\n",
       "      <td>5.119876</td>\n",
       "      <td>36.581098</td>\n",
       "      <td>-5.668767</td>\n",
       "      <td>20.483994</td>\n",
       "    </tr>\n",
       "    <tr>\n",
       "      <th>990</th>\n",
       "      <td>2002-09-17</td>\n",
       "      <td>5.338936</td>\n",
       "      <td>36.264488</td>\n",
       "      <td>-5.844174</td>\n",
       "      <td>19.603477</td>\n",
       "    </tr>\n",
       "    <tr>\n",
       "      <th>991</th>\n",
       "      <td>2002-09-18</td>\n",
       "      <td>4.045130</td>\n",
       "      <td>36.729694</td>\n",
       "      <td>-5.589498</td>\n",
       "      <td>21.192035</td>\n",
       "    </tr>\n",
       "    <tr>\n",
       "      <th>992</th>\n",
       "      <td>2002-09-19</td>\n",
       "      <td>1.801763</td>\n",
       "      <td>36.613563</td>\n",
       "      <td>-6.724154</td>\n",
       "      <td>20.934114</td>\n",
       "    </tr>\n",
       "    <tr>\n",
       "      <th>993</th>\n",
       "      <td>2002-09-20</td>\n",
       "      <td>1.369769</td>\n",
       "      <td>37.255706</td>\n",
       "      <td>-3.871374</td>\n",
       "      <td>22.076723</td>\n",
       "    </tr>\n",
       "    <tr>\n",
       "      <th>994</th>\n",
       "      <td>2002-09-21</td>\n",
       "      <td>1.207942</td>\n",
       "      <td>36.387342</td>\n",
       "      <td>-3.374108</td>\n",
       "      <td>21.637836</td>\n",
       "    </tr>\n",
       "    <tr>\n",
       "      <th>995</th>\n",
       "      <td>2002-09-22</td>\n",
       "      <td>0.494692</td>\n",
       "      <td>36.471668</td>\n",
       "      <td>-2.856827</td>\n",
       "      <td>21.366044</td>\n",
       "    </tr>\n",
       "    <tr>\n",
       "      <th>996</th>\n",
       "      <td>2002-09-23</td>\n",
       "      <td>0.685023</td>\n",
       "      <td>36.369648</td>\n",
       "      <td>-4.958431</td>\n",
       "      <td>20.134521</td>\n",
       "    </tr>\n",
       "    <tr>\n",
       "      <th>997</th>\n",
       "      <td>2002-09-24</td>\n",
       "      <td>0.931315</td>\n",
       "      <td>37.068775</td>\n",
       "      <td>-6.689889</td>\n",
       "      <td>20.004612</td>\n",
       "    </tr>\n",
       "    <tr>\n",
       "      <th>998</th>\n",
       "      <td>2002-09-25</td>\n",
       "      <td>0.233072</td>\n",
       "      <td>37.835015</td>\n",
       "      <td>-6.697703</td>\n",
       "      <td>18.902493</td>\n",
       "    </tr>\n",
       "    <tr>\n",
       "      <th>999</th>\n",
       "      <td>2002-09-26</td>\n",
       "      <td>0.893559</td>\n",
       "      <td>38.068350</td>\n",
       "      <td>-5.252536</td>\n",
       "      <td>18.758378</td>\n",
       "    </tr>\n",
       "  </tbody>\n",
       "</table>\n",
       "<p>1000 rows × 5 columns</p>\n",
       "</div>"
      ],
      "text/plain": [
       "     Unnamed: 0         A          B          C          D\n",
       "0    2000-01-01  0.656828  -0.748839  -0.358669  -1.359325\n",
       "1    2000-01-02  0.130826  -1.243114   0.961855  -2.471316\n",
       "2    2000-01-03 -0.906829  -1.557170   1.755905  -1.720163\n",
       "3    2000-01-04 -1.228664  -2.892958   1.632086  -0.927038\n",
       "4    2000-01-05 -0.628378  -2.555413   2.443538  -1.050259\n",
       "5    2000-01-06  0.072920  -0.910089   2.506777  -0.512432\n",
       "6    2000-01-07 -0.548039  -2.581959   4.179516  -0.445878\n",
       "7    2000-01-08  0.823278  -3.907422   5.394283  -1.929205\n",
       "8    2000-01-09  1.940475  -4.750066   6.387826  -1.597064\n",
       "9    2000-01-10  1.360515  -2.726731   7.080480  -1.450546\n",
       "10   2000-01-11  2.578602  -2.215197   6.639686  -2.380209\n",
       "11   2000-01-12  2.457700  -3.194005   5.487602  -1.201682\n",
       "12   2000-01-13  2.716642  -3.627870   4.543371  -2.162137\n",
       "13   2000-01-14  3.193665  -3.356617   3.026671  -0.274989\n",
       "14   2000-01-15  4.293989  -4.615889   4.066824  -0.484021\n",
       "15   2000-01-16  5.040009  -3.871018   4.248859  -2.075022\n",
       "16   2000-01-17  5.017140  -5.702391   3.413938  -1.048047\n",
       "17   2000-01-18  4.913276  -6.994797   6.309266  -1.219053\n",
       "18   2000-01-19  5.928849  -6.832941   7.035322  -0.394726\n",
       "19   2000-01-20  6.034590  -6.593596   6.661526  -0.894897\n",
       "20   2000-01-21  5.960137  -6.279137   5.981595  -0.781283\n",
       "21   2000-01-22  6.495357  -6.443961   5.528972  -1.480006\n",
       "22   2000-01-23  6.333148  -4.830883   4.014973  -1.945785\n",
       "23   2000-01-24  6.014683  -5.820035   4.694871  -3.536976\n",
       "24   2000-01-25  7.251901  -4.094672   5.859526  -4.197635\n",
       "25   2000-01-26  6.597469  -4.620857   6.979480  -3.985307\n",
       "26   2000-01-27  5.828666  -4.455864   6.532293  -3.785241\n",
       "27   2000-01-28  6.293682  -4.903964   5.413838  -2.633091\n",
       "28   2000-01-29  5.529436  -4.141346   5.676329  -1.943057\n",
       "29   2000-01-30  5.049957  -3.740968   5.555545  -1.651310\n",
       "..          ...       ...        ...        ...        ...\n",
       "970  2002-08-28  3.408070  35.995457 -11.098982  22.892497\n",
       "971  2002-08-29  3.551646  36.361742 -10.373336  22.623877\n",
       "972  2002-08-30  4.580639  36.540890 -11.957920  24.391482\n",
       "973  2002-08-31  4.459980  35.082871 -11.681403  24.486177\n",
       "974  2002-09-01  4.495585  36.480957 -10.874527  22.736462\n",
       "975  2002-09-02  4.553607  35.501730 -11.200157  23.395160\n",
       "976  2002-09-03  3.538009  35.763315  -9.600847  23.165720\n",
       "977  2002-09-04  3.463981  37.145480  -9.062338  21.619302\n",
       "978  2002-09-05  3.286229  36.163566 -11.121249  21.955745\n",
       "979  2002-09-06  3.541677  34.928968 -13.050791  21.766322\n",
       "980  2002-09-07  4.002688  35.837428 -12.603922  22.835170\n",
       "981  2002-09-08  5.284073  35.515229 -13.990725  24.245238\n",
       "982  2002-09-09  5.067844  35.900216 -14.067238  24.004452\n",
       "983  2002-09-10  4.366543  37.421790 -12.248521  23.391460\n",
       "984  2002-09-11  3.556180  36.497170 -13.212535  23.093140\n",
       "985  2002-09-12  3.048193  37.198854 -12.117167  22.302204\n",
       "986  2002-09-13  3.934323  36.991042  -9.054170  20.705433\n",
       "987  2002-09-14  3.931849  37.623469  -7.175517  20.900927\n",
       "988  2002-09-15  4.878180  36.781338  -5.877751  20.118403\n",
       "989  2002-09-16  5.119876  36.581098  -5.668767  20.483994\n",
       "990  2002-09-17  5.338936  36.264488  -5.844174  19.603477\n",
       "991  2002-09-18  4.045130  36.729694  -5.589498  21.192035\n",
       "992  2002-09-19  1.801763  36.613563  -6.724154  20.934114\n",
       "993  2002-09-20  1.369769  37.255706  -3.871374  22.076723\n",
       "994  2002-09-21  1.207942  36.387342  -3.374108  21.637836\n",
       "995  2002-09-22  0.494692  36.471668  -2.856827  21.366044\n",
       "996  2002-09-23  0.685023  36.369648  -4.958431  20.134521\n",
       "997  2002-09-24  0.931315  37.068775  -6.689889  20.004612\n",
       "998  2002-09-25  0.233072  37.835015  -6.697703  18.902493\n",
       "999  2002-09-26  0.893559  38.068350  -5.252536  18.758378\n",
       "\n",
       "[1000 rows x 5 columns]"
      ]
     },
     "execution_count": 143,
     "metadata": {},
     "output_type": "execute_result"
    }
   ],
   "source": [
    "pd.read_csv(\"foo.csv\")"
   ]
  },
  {
   "cell_type": "markdown",
   "metadata": {},
   "source": [
    "# HDF5 "
   ]
  },
  {
   "cell_type": "markdown",
   "metadata": {},
   "source": [
    "### 寫入HDF5儲存"
   ]
  },
  {
   "cell_type": "code",
   "execution_count": 144,
   "metadata": {
    "collapsed": true
   },
   "outputs": [],
   "source": [
    "df.to_hdf(\"foo.h5\", \"df\")"
   ]
  },
  {
   "cell_type": "markdown",
   "metadata": {},
   "source": [
    "### 從HDF5儲存中讀取"
   ]
  },
  {
   "cell_type": "code",
   "execution_count": 145,
   "metadata": {
    "scrolled": true
   },
   "outputs": [
    {
     "data": {
      "text/html": [
       "<div>\n",
       "<style>\n",
       "    .dataframe thead tr:only-child th {\n",
       "        text-align: right;\n",
       "    }\n",
       "\n",
       "    .dataframe thead th {\n",
       "        text-align: left;\n",
       "    }\n",
       "\n",
       "    .dataframe tbody tr th {\n",
       "        vertical-align: top;\n",
       "    }\n",
       "</style>\n",
       "<table border=\"1\" class=\"dataframe\">\n",
       "  <thead>\n",
       "    <tr style=\"text-align: right;\">\n",
       "      <th></th>\n",
       "      <th>A</th>\n",
       "      <th>B</th>\n",
       "      <th>C</th>\n",
       "      <th>D</th>\n",
       "    </tr>\n",
       "  </thead>\n",
       "  <tbody>\n",
       "    <tr>\n",
       "      <th>2000-01-01</th>\n",
       "      <td>0.656828</td>\n",
       "      <td>-0.748839</td>\n",
       "      <td>-0.358669</td>\n",
       "      <td>-1.359325</td>\n",
       "    </tr>\n",
       "    <tr>\n",
       "      <th>2000-01-02</th>\n",
       "      <td>0.130826</td>\n",
       "      <td>-1.243114</td>\n",
       "      <td>0.961855</td>\n",
       "      <td>-2.471316</td>\n",
       "    </tr>\n",
       "    <tr>\n",
       "      <th>2000-01-03</th>\n",
       "      <td>-0.906829</td>\n",
       "      <td>-1.557170</td>\n",
       "      <td>1.755905</td>\n",
       "      <td>-1.720163</td>\n",
       "    </tr>\n",
       "    <tr>\n",
       "      <th>2000-01-04</th>\n",
       "      <td>-1.228664</td>\n",
       "      <td>-2.892958</td>\n",
       "      <td>1.632086</td>\n",
       "      <td>-0.927038</td>\n",
       "    </tr>\n",
       "    <tr>\n",
       "      <th>2000-01-05</th>\n",
       "      <td>-0.628378</td>\n",
       "      <td>-2.555413</td>\n",
       "      <td>2.443538</td>\n",
       "      <td>-1.050259</td>\n",
       "    </tr>\n",
       "    <tr>\n",
       "      <th>2000-01-06</th>\n",
       "      <td>0.072920</td>\n",
       "      <td>-0.910089</td>\n",
       "      <td>2.506777</td>\n",
       "      <td>-0.512432</td>\n",
       "    </tr>\n",
       "    <tr>\n",
       "      <th>2000-01-07</th>\n",
       "      <td>-0.548039</td>\n",
       "      <td>-2.581959</td>\n",
       "      <td>4.179516</td>\n",
       "      <td>-0.445878</td>\n",
       "    </tr>\n",
       "    <tr>\n",
       "      <th>2000-01-08</th>\n",
       "      <td>0.823278</td>\n",
       "      <td>-3.907422</td>\n",
       "      <td>5.394283</td>\n",
       "      <td>-1.929205</td>\n",
       "    </tr>\n",
       "    <tr>\n",
       "      <th>2000-01-09</th>\n",
       "      <td>1.940475</td>\n",
       "      <td>-4.750066</td>\n",
       "      <td>6.387826</td>\n",
       "      <td>-1.597064</td>\n",
       "    </tr>\n",
       "    <tr>\n",
       "      <th>2000-01-10</th>\n",
       "      <td>1.360515</td>\n",
       "      <td>-2.726731</td>\n",
       "      <td>7.080480</td>\n",
       "      <td>-1.450546</td>\n",
       "    </tr>\n",
       "    <tr>\n",
       "      <th>2000-01-11</th>\n",
       "      <td>2.578602</td>\n",
       "      <td>-2.215197</td>\n",
       "      <td>6.639686</td>\n",
       "      <td>-2.380209</td>\n",
       "    </tr>\n",
       "    <tr>\n",
       "      <th>2000-01-12</th>\n",
       "      <td>2.457700</td>\n",
       "      <td>-3.194005</td>\n",
       "      <td>5.487602</td>\n",
       "      <td>-1.201682</td>\n",
       "    </tr>\n",
       "    <tr>\n",
       "      <th>2000-01-13</th>\n",
       "      <td>2.716642</td>\n",
       "      <td>-3.627870</td>\n",
       "      <td>4.543371</td>\n",
       "      <td>-2.162137</td>\n",
       "    </tr>\n",
       "    <tr>\n",
       "      <th>2000-01-14</th>\n",
       "      <td>3.193665</td>\n",
       "      <td>-3.356617</td>\n",
       "      <td>3.026671</td>\n",
       "      <td>-0.274989</td>\n",
       "    </tr>\n",
       "    <tr>\n",
       "      <th>2000-01-15</th>\n",
       "      <td>4.293989</td>\n",
       "      <td>-4.615889</td>\n",
       "      <td>4.066824</td>\n",
       "      <td>-0.484021</td>\n",
       "    </tr>\n",
       "    <tr>\n",
       "      <th>2000-01-16</th>\n",
       "      <td>5.040009</td>\n",
       "      <td>-3.871018</td>\n",
       "      <td>4.248859</td>\n",
       "      <td>-2.075022</td>\n",
       "    </tr>\n",
       "    <tr>\n",
       "      <th>2000-01-17</th>\n",
       "      <td>5.017140</td>\n",
       "      <td>-5.702391</td>\n",
       "      <td>3.413938</td>\n",
       "      <td>-1.048047</td>\n",
       "    </tr>\n",
       "    <tr>\n",
       "      <th>2000-01-18</th>\n",
       "      <td>4.913276</td>\n",
       "      <td>-6.994797</td>\n",
       "      <td>6.309266</td>\n",
       "      <td>-1.219053</td>\n",
       "    </tr>\n",
       "    <tr>\n",
       "      <th>2000-01-19</th>\n",
       "      <td>5.928849</td>\n",
       "      <td>-6.832941</td>\n",
       "      <td>7.035322</td>\n",
       "      <td>-0.394726</td>\n",
       "    </tr>\n",
       "    <tr>\n",
       "      <th>2000-01-20</th>\n",
       "      <td>6.034590</td>\n",
       "      <td>-6.593596</td>\n",
       "      <td>6.661526</td>\n",
       "      <td>-0.894897</td>\n",
       "    </tr>\n",
       "    <tr>\n",
       "      <th>2000-01-21</th>\n",
       "      <td>5.960137</td>\n",
       "      <td>-6.279137</td>\n",
       "      <td>5.981595</td>\n",
       "      <td>-0.781283</td>\n",
       "    </tr>\n",
       "    <tr>\n",
       "      <th>2000-01-22</th>\n",
       "      <td>6.495357</td>\n",
       "      <td>-6.443961</td>\n",
       "      <td>5.528972</td>\n",
       "      <td>-1.480006</td>\n",
       "    </tr>\n",
       "    <tr>\n",
       "      <th>2000-01-23</th>\n",
       "      <td>6.333148</td>\n",
       "      <td>-4.830883</td>\n",
       "      <td>4.014973</td>\n",
       "      <td>-1.945785</td>\n",
       "    </tr>\n",
       "    <tr>\n",
       "      <th>2000-01-24</th>\n",
       "      <td>6.014683</td>\n",
       "      <td>-5.820035</td>\n",
       "      <td>4.694871</td>\n",
       "      <td>-3.536976</td>\n",
       "    </tr>\n",
       "    <tr>\n",
       "      <th>2000-01-25</th>\n",
       "      <td>7.251901</td>\n",
       "      <td>-4.094672</td>\n",
       "      <td>5.859526</td>\n",
       "      <td>-4.197635</td>\n",
       "    </tr>\n",
       "    <tr>\n",
       "      <th>2000-01-26</th>\n",
       "      <td>6.597469</td>\n",
       "      <td>-4.620857</td>\n",
       "      <td>6.979480</td>\n",
       "      <td>-3.985307</td>\n",
       "    </tr>\n",
       "    <tr>\n",
       "      <th>2000-01-27</th>\n",
       "      <td>5.828666</td>\n",
       "      <td>-4.455864</td>\n",
       "      <td>6.532293</td>\n",
       "      <td>-3.785241</td>\n",
       "    </tr>\n",
       "    <tr>\n",
       "      <th>2000-01-28</th>\n",
       "      <td>6.293682</td>\n",
       "      <td>-4.903964</td>\n",
       "      <td>5.413838</td>\n",
       "      <td>-2.633091</td>\n",
       "    </tr>\n",
       "    <tr>\n",
       "      <th>2000-01-29</th>\n",
       "      <td>5.529436</td>\n",
       "      <td>-4.141346</td>\n",
       "      <td>5.676329</td>\n",
       "      <td>-1.943057</td>\n",
       "    </tr>\n",
       "    <tr>\n",
       "      <th>2000-01-30</th>\n",
       "      <td>5.049957</td>\n",
       "      <td>-3.740968</td>\n",
       "      <td>5.555545</td>\n",
       "      <td>-1.651310</td>\n",
       "    </tr>\n",
       "    <tr>\n",
       "      <th>...</th>\n",
       "      <td>...</td>\n",
       "      <td>...</td>\n",
       "      <td>...</td>\n",
       "      <td>...</td>\n",
       "    </tr>\n",
       "    <tr>\n",
       "      <th>2002-08-28</th>\n",
       "      <td>3.408070</td>\n",
       "      <td>35.995457</td>\n",
       "      <td>-11.098982</td>\n",
       "      <td>22.892497</td>\n",
       "    </tr>\n",
       "    <tr>\n",
       "      <th>2002-08-29</th>\n",
       "      <td>3.551646</td>\n",
       "      <td>36.361742</td>\n",
       "      <td>-10.373336</td>\n",
       "      <td>22.623877</td>\n",
       "    </tr>\n",
       "    <tr>\n",
       "      <th>2002-08-30</th>\n",
       "      <td>4.580639</td>\n",
       "      <td>36.540890</td>\n",
       "      <td>-11.957920</td>\n",
       "      <td>24.391482</td>\n",
       "    </tr>\n",
       "    <tr>\n",
       "      <th>2002-08-31</th>\n",
       "      <td>4.459980</td>\n",
       "      <td>35.082871</td>\n",
       "      <td>-11.681403</td>\n",
       "      <td>24.486177</td>\n",
       "    </tr>\n",
       "    <tr>\n",
       "      <th>2002-09-01</th>\n",
       "      <td>4.495585</td>\n",
       "      <td>36.480957</td>\n",
       "      <td>-10.874527</td>\n",
       "      <td>22.736462</td>\n",
       "    </tr>\n",
       "    <tr>\n",
       "      <th>2002-09-02</th>\n",
       "      <td>4.553607</td>\n",
       "      <td>35.501730</td>\n",
       "      <td>-11.200157</td>\n",
       "      <td>23.395160</td>\n",
       "    </tr>\n",
       "    <tr>\n",
       "      <th>2002-09-03</th>\n",
       "      <td>3.538009</td>\n",
       "      <td>35.763315</td>\n",
       "      <td>-9.600847</td>\n",
       "      <td>23.165720</td>\n",
       "    </tr>\n",
       "    <tr>\n",
       "      <th>2002-09-04</th>\n",
       "      <td>3.463981</td>\n",
       "      <td>37.145480</td>\n",
       "      <td>-9.062338</td>\n",
       "      <td>21.619302</td>\n",
       "    </tr>\n",
       "    <tr>\n",
       "      <th>2002-09-05</th>\n",
       "      <td>3.286229</td>\n",
       "      <td>36.163566</td>\n",
       "      <td>-11.121249</td>\n",
       "      <td>21.955745</td>\n",
       "    </tr>\n",
       "    <tr>\n",
       "      <th>2002-09-06</th>\n",
       "      <td>3.541677</td>\n",
       "      <td>34.928968</td>\n",
       "      <td>-13.050791</td>\n",
       "      <td>21.766322</td>\n",
       "    </tr>\n",
       "    <tr>\n",
       "      <th>2002-09-07</th>\n",
       "      <td>4.002688</td>\n",
       "      <td>35.837428</td>\n",
       "      <td>-12.603922</td>\n",
       "      <td>22.835170</td>\n",
       "    </tr>\n",
       "    <tr>\n",
       "      <th>2002-09-08</th>\n",
       "      <td>5.284073</td>\n",
       "      <td>35.515229</td>\n",
       "      <td>-13.990725</td>\n",
       "      <td>24.245238</td>\n",
       "    </tr>\n",
       "    <tr>\n",
       "      <th>2002-09-09</th>\n",
       "      <td>5.067844</td>\n",
       "      <td>35.900216</td>\n",
       "      <td>-14.067238</td>\n",
       "      <td>24.004452</td>\n",
       "    </tr>\n",
       "    <tr>\n",
       "      <th>2002-09-10</th>\n",
       "      <td>4.366543</td>\n",
       "      <td>37.421790</td>\n",
       "      <td>-12.248521</td>\n",
       "      <td>23.391460</td>\n",
       "    </tr>\n",
       "    <tr>\n",
       "      <th>2002-09-11</th>\n",
       "      <td>3.556180</td>\n",
       "      <td>36.497170</td>\n",
       "      <td>-13.212535</td>\n",
       "      <td>23.093140</td>\n",
       "    </tr>\n",
       "    <tr>\n",
       "      <th>2002-09-12</th>\n",
       "      <td>3.048193</td>\n",
       "      <td>37.198854</td>\n",
       "      <td>-12.117167</td>\n",
       "      <td>22.302204</td>\n",
       "    </tr>\n",
       "    <tr>\n",
       "      <th>2002-09-13</th>\n",
       "      <td>3.934323</td>\n",
       "      <td>36.991042</td>\n",
       "      <td>-9.054170</td>\n",
       "      <td>20.705433</td>\n",
       "    </tr>\n",
       "    <tr>\n",
       "      <th>2002-09-14</th>\n",
       "      <td>3.931849</td>\n",
       "      <td>37.623469</td>\n",
       "      <td>-7.175517</td>\n",
       "      <td>20.900927</td>\n",
       "    </tr>\n",
       "    <tr>\n",
       "      <th>2002-09-15</th>\n",
       "      <td>4.878180</td>\n",
       "      <td>36.781338</td>\n",
       "      <td>-5.877751</td>\n",
       "      <td>20.118403</td>\n",
       "    </tr>\n",
       "    <tr>\n",
       "      <th>2002-09-16</th>\n",
       "      <td>5.119876</td>\n",
       "      <td>36.581098</td>\n",
       "      <td>-5.668767</td>\n",
       "      <td>20.483994</td>\n",
       "    </tr>\n",
       "    <tr>\n",
       "      <th>2002-09-17</th>\n",
       "      <td>5.338936</td>\n",
       "      <td>36.264488</td>\n",
       "      <td>-5.844174</td>\n",
       "      <td>19.603477</td>\n",
       "    </tr>\n",
       "    <tr>\n",
       "      <th>2002-09-18</th>\n",
       "      <td>4.045130</td>\n",
       "      <td>36.729694</td>\n",
       "      <td>-5.589498</td>\n",
       "      <td>21.192035</td>\n",
       "    </tr>\n",
       "    <tr>\n",
       "      <th>2002-09-19</th>\n",
       "      <td>1.801763</td>\n",
       "      <td>36.613563</td>\n",
       "      <td>-6.724154</td>\n",
       "      <td>20.934114</td>\n",
       "    </tr>\n",
       "    <tr>\n",
       "      <th>2002-09-20</th>\n",
       "      <td>1.369769</td>\n",
       "      <td>37.255706</td>\n",
       "      <td>-3.871374</td>\n",
       "      <td>22.076723</td>\n",
       "    </tr>\n",
       "    <tr>\n",
       "      <th>2002-09-21</th>\n",
       "      <td>1.207942</td>\n",
       "      <td>36.387342</td>\n",
       "      <td>-3.374108</td>\n",
       "      <td>21.637836</td>\n",
       "    </tr>\n",
       "    <tr>\n",
       "      <th>2002-09-22</th>\n",
       "      <td>0.494692</td>\n",
       "      <td>36.471668</td>\n",
       "      <td>-2.856827</td>\n",
       "      <td>21.366044</td>\n",
       "    </tr>\n",
       "    <tr>\n",
       "      <th>2002-09-23</th>\n",
       "      <td>0.685023</td>\n",
       "      <td>36.369648</td>\n",
       "      <td>-4.958431</td>\n",
       "      <td>20.134521</td>\n",
       "    </tr>\n",
       "    <tr>\n",
       "      <th>2002-09-24</th>\n",
       "      <td>0.931315</td>\n",
       "      <td>37.068775</td>\n",
       "      <td>-6.689889</td>\n",
       "      <td>20.004612</td>\n",
       "    </tr>\n",
       "    <tr>\n",
       "      <th>2002-09-25</th>\n",
       "      <td>0.233072</td>\n",
       "      <td>37.835015</td>\n",
       "      <td>-6.697703</td>\n",
       "      <td>18.902493</td>\n",
       "    </tr>\n",
       "    <tr>\n",
       "      <th>2002-09-26</th>\n",
       "      <td>0.893559</td>\n",
       "      <td>38.068350</td>\n",
       "      <td>-5.252536</td>\n",
       "      <td>18.758378</td>\n",
       "    </tr>\n",
       "  </tbody>\n",
       "</table>\n",
       "<p>1000 rows × 4 columns</p>\n",
       "</div>"
      ],
      "text/plain": [
       "                   A          B          C          D\n",
       "2000-01-01  0.656828  -0.748839  -0.358669  -1.359325\n",
       "2000-01-02  0.130826  -1.243114   0.961855  -2.471316\n",
       "2000-01-03 -0.906829  -1.557170   1.755905  -1.720163\n",
       "2000-01-04 -1.228664  -2.892958   1.632086  -0.927038\n",
       "2000-01-05 -0.628378  -2.555413   2.443538  -1.050259\n",
       "2000-01-06  0.072920  -0.910089   2.506777  -0.512432\n",
       "2000-01-07 -0.548039  -2.581959   4.179516  -0.445878\n",
       "2000-01-08  0.823278  -3.907422   5.394283  -1.929205\n",
       "2000-01-09  1.940475  -4.750066   6.387826  -1.597064\n",
       "2000-01-10  1.360515  -2.726731   7.080480  -1.450546\n",
       "2000-01-11  2.578602  -2.215197   6.639686  -2.380209\n",
       "2000-01-12  2.457700  -3.194005   5.487602  -1.201682\n",
       "2000-01-13  2.716642  -3.627870   4.543371  -2.162137\n",
       "2000-01-14  3.193665  -3.356617   3.026671  -0.274989\n",
       "2000-01-15  4.293989  -4.615889   4.066824  -0.484021\n",
       "2000-01-16  5.040009  -3.871018   4.248859  -2.075022\n",
       "2000-01-17  5.017140  -5.702391   3.413938  -1.048047\n",
       "2000-01-18  4.913276  -6.994797   6.309266  -1.219053\n",
       "2000-01-19  5.928849  -6.832941   7.035322  -0.394726\n",
       "2000-01-20  6.034590  -6.593596   6.661526  -0.894897\n",
       "2000-01-21  5.960137  -6.279137   5.981595  -0.781283\n",
       "2000-01-22  6.495357  -6.443961   5.528972  -1.480006\n",
       "2000-01-23  6.333148  -4.830883   4.014973  -1.945785\n",
       "2000-01-24  6.014683  -5.820035   4.694871  -3.536976\n",
       "2000-01-25  7.251901  -4.094672   5.859526  -4.197635\n",
       "2000-01-26  6.597469  -4.620857   6.979480  -3.985307\n",
       "2000-01-27  5.828666  -4.455864   6.532293  -3.785241\n",
       "2000-01-28  6.293682  -4.903964   5.413838  -2.633091\n",
       "2000-01-29  5.529436  -4.141346   5.676329  -1.943057\n",
       "2000-01-30  5.049957  -3.740968   5.555545  -1.651310\n",
       "...              ...        ...        ...        ...\n",
       "2002-08-28  3.408070  35.995457 -11.098982  22.892497\n",
       "2002-08-29  3.551646  36.361742 -10.373336  22.623877\n",
       "2002-08-30  4.580639  36.540890 -11.957920  24.391482\n",
       "2002-08-31  4.459980  35.082871 -11.681403  24.486177\n",
       "2002-09-01  4.495585  36.480957 -10.874527  22.736462\n",
       "2002-09-02  4.553607  35.501730 -11.200157  23.395160\n",
       "2002-09-03  3.538009  35.763315  -9.600847  23.165720\n",
       "2002-09-04  3.463981  37.145480  -9.062338  21.619302\n",
       "2002-09-05  3.286229  36.163566 -11.121249  21.955745\n",
       "2002-09-06  3.541677  34.928968 -13.050791  21.766322\n",
       "2002-09-07  4.002688  35.837428 -12.603922  22.835170\n",
       "2002-09-08  5.284073  35.515229 -13.990725  24.245238\n",
       "2002-09-09  5.067844  35.900216 -14.067238  24.004452\n",
       "2002-09-10  4.366543  37.421790 -12.248521  23.391460\n",
       "2002-09-11  3.556180  36.497170 -13.212535  23.093140\n",
       "2002-09-12  3.048193  37.198854 -12.117167  22.302204\n",
       "2002-09-13  3.934323  36.991042  -9.054170  20.705433\n",
       "2002-09-14  3.931849  37.623469  -7.175517  20.900927\n",
       "2002-09-15  4.878180  36.781338  -5.877751  20.118403\n",
       "2002-09-16  5.119876  36.581098  -5.668767  20.483994\n",
       "2002-09-17  5.338936  36.264488  -5.844174  19.603477\n",
       "2002-09-18  4.045130  36.729694  -5.589498  21.192035\n",
       "2002-09-19  1.801763  36.613563  -6.724154  20.934114\n",
       "2002-09-20  1.369769  37.255706  -3.871374  22.076723\n",
       "2002-09-21  1.207942  36.387342  -3.374108  21.637836\n",
       "2002-09-22  0.494692  36.471668  -2.856827  21.366044\n",
       "2002-09-23  0.685023  36.369648  -4.958431  20.134521\n",
       "2002-09-24  0.931315  37.068775  -6.689889  20.004612\n",
       "2002-09-25  0.233072  37.835015  -6.697703  18.902493\n",
       "2002-09-26  0.893559  38.068350  -5.252536  18.758378\n",
       "\n",
       "[1000 rows x 4 columns]"
      ]
     },
     "execution_count": 145,
     "metadata": {},
     "output_type": "execute_result"
    }
   ],
   "source": [
    "pd.read_hdf(\"foo.h5\", \"df\")\n"
   ]
  },
  {
   "cell_type": "markdown",
   "metadata": {},
   "source": [
    "# Excel"
   ]
  },
  {
   "cell_type": "markdown",
   "metadata": {},
   "source": [
    "### 寫入excel文件"
   ]
  },
  {
   "cell_type": "code",
   "execution_count": 146,
   "metadata": {
    "collapsed": true
   },
   "outputs": [],
   "source": [
    "df.to_excel(\"foo.xlsx\", sheet_name=\"Sheet1\")"
   ]
  },
  {
   "cell_type": "markdown",
   "metadata": {},
   "source": [
    "### 從excel文件中讀取"
   ]
  },
  {
   "cell_type": "code",
   "execution_count": 147,
   "metadata": {
    "scrolled": true
   },
   "outputs": [
    {
     "data": {
      "text/html": [
       "<div>\n",
       "<style>\n",
       "    .dataframe thead tr:only-child th {\n",
       "        text-align: right;\n",
       "    }\n",
       "\n",
       "    .dataframe thead th {\n",
       "        text-align: left;\n",
       "    }\n",
       "\n",
       "    .dataframe tbody tr th {\n",
       "        vertical-align: top;\n",
       "    }\n",
       "</style>\n",
       "<table border=\"1\" class=\"dataframe\">\n",
       "  <thead>\n",
       "    <tr style=\"text-align: right;\">\n",
       "      <th></th>\n",
       "      <th>A</th>\n",
       "      <th>B</th>\n",
       "      <th>C</th>\n",
       "      <th>D</th>\n",
       "    </tr>\n",
       "  </thead>\n",
       "  <tbody>\n",
       "    <tr>\n",
       "      <th>2000-01-01</th>\n",
       "      <td>0.656828</td>\n",
       "      <td>-0.748839</td>\n",
       "      <td>-0.358669</td>\n",
       "      <td>-1.359325</td>\n",
       "    </tr>\n",
       "    <tr>\n",
       "      <th>2000-01-02</th>\n",
       "      <td>0.130826</td>\n",
       "      <td>-1.243114</td>\n",
       "      <td>0.961855</td>\n",
       "      <td>-2.471316</td>\n",
       "    </tr>\n",
       "    <tr>\n",
       "      <th>2000-01-03</th>\n",
       "      <td>-0.906829</td>\n",
       "      <td>-1.557170</td>\n",
       "      <td>1.755905</td>\n",
       "      <td>-1.720163</td>\n",
       "    </tr>\n",
       "    <tr>\n",
       "      <th>2000-01-04</th>\n",
       "      <td>-1.228664</td>\n",
       "      <td>-2.892958</td>\n",
       "      <td>1.632086</td>\n",
       "      <td>-0.927038</td>\n",
       "    </tr>\n",
       "    <tr>\n",
       "      <th>2000-01-05</th>\n",
       "      <td>-0.628378</td>\n",
       "      <td>-2.555413</td>\n",
       "      <td>2.443538</td>\n",
       "      <td>-1.050259</td>\n",
       "    </tr>\n",
       "    <tr>\n",
       "      <th>2000-01-06</th>\n",
       "      <td>0.072920</td>\n",
       "      <td>-0.910089</td>\n",
       "      <td>2.506777</td>\n",
       "      <td>-0.512432</td>\n",
       "    </tr>\n",
       "    <tr>\n",
       "      <th>2000-01-07</th>\n",
       "      <td>-0.548039</td>\n",
       "      <td>-2.581959</td>\n",
       "      <td>4.179516</td>\n",
       "      <td>-0.445878</td>\n",
       "    </tr>\n",
       "    <tr>\n",
       "      <th>2000-01-08</th>\n",
       "      <td>0.823278</td>\n",
       "      <td>-3.907422</td>\n",
       "      <td>5.394283</td>\n",
       "      <td>-1.929205</td>\n",
       "    </tr>\n",
       "    <tr>\n",
       "      <th>2000-01-09</th>\n",
       "      <td>1.940475</td>\n",
       "      <td>-4.750066</td>\n",
       "      <td>6.387826</td>\n",
       "      <td>-1.597064</td>\n",
       "    </tr>\n",
       "    <tr>\n",
       "      <th>2000-01-10</th>\n",
       "      <td>1.360515</td>\n",
       "      <td>-2.726731</td>\n",
       "      <td>7.080480</td>\n",
       "      <td>-1.450546</td>\n",
       "    </tr>\n",
       "    <tr>\n",
       "      <th>2000-01-11</th>\n",
       "      <td>2.578602</td>\n",
       "      <td>-2.215197</td>\n",
       "      <td>6.639686</td>\n",
       "      <td>-2.380209</td>\n",
       "    </tr>\n",
       "    <tr>\n",
       "      <th>2000-01-12</th>\n",
       "      <td>2.457700</td>\n",
       "      <td>-3.194005</td>\n",
       "      <td>5.487602</td>\n",
       "      <td>-1.201682</td>\n",
       "    </tr>\n",
       "    <tr>\n",
       "      <th>2000-01-13</th>\n",
       "      <td>2.716642</td>\n",
       "      <td>-3.627870</td>\n",
       "      <td>4.543371</td>\n",
       "      <td>-2.162137</td>\n",
       "    </tr>\n",
       "    <tr>\n",
       "      <th>2000-01-14</th>\n",
       "      <td>3.193665</td>\n",
       "      <td>-3.356617</td>\n",
       "      <td>3.026671</td>\n",
       "      <td>-0.274989</td>\n",
       "    </tr>\n",
       "    <tr>\n",
       "      <th>2000-01-15</th>\n",
       "      <td>4.293989</td>\n",
       "      <td>-4.615889</td>\n",
       "      <td>4.066824</td>\n",
       "      <td>-0.484021</td>\n",
       "    </tr>\n",
       "    <tr>\n",
       "      <th>2000-01-16</th>\n",
       "      <td>5.040009</td>\n",
       "      <td>-3.871018</td>\n",
       "      <td>4.248859</td>\n",
       "      <td>-2.075022</td>\n",
       "    </tr>\n",
       "    <tr>\n",
       "      <th>2000-01-17</th>\n",
       "      <td>5.017140</td>\n",
       "      <td>-5.702391</td>\n",
       "      <td>3.413938</td>\n",
       "      <td>-1.048047</td>\n",
       "    </tr>\n",
       "    <tr>\n",
       "      <th>2000-01-18</th>\n",
       "      <td>4.913276</td>\n",
       "      <td>-6.994797</td>\n",
       "      <td>6.309266</td>\n",
       "      <td>-1.219053</td>\n",
       "    </tr>\n",
       "    <tr>\n",
       "      <th>2000-01-19</th>\n",
       "      <td>5.928849</td>\n",
       "      <td>-6.832941</td>\n",
       "      <td>7.035322</td>\n",
       "      <td>-0.394726</td>\n",
       "    </tr>\n",
       "    <tr>\n",
       "      <th>2000-01-20</th>\n",
       "      <td>6.034590</td>\n",
       "      <td>-6.593596</td>\n",
       "      <td>6.661526</td>\n",
       "      <td>-0.894897</td>\n",
       "    </tr>\n",
       "    <tr>\n",
       "      <th>2000-01-21</th>\n",
       "      <td>5.960137</td>\n",
       "      <td>-6.279137</td>\n",
       "      <td>5.981595</td>\n",
       "      <td>-0.781283</td>\n",
       "    </tr>\n",
       "    <tr>\n",
       "      <th>2000-01-22</th>\n",
       "      <td>6.495357</td>\n",
       "      <td>-6.443961</td>\n",
       "      <td>5.528972</td>\n",
       "      <td>-1.480006</td>\n",
       "    </tr>\n",
       "    <tr>\n",
       "      <th>2000-01-23</th>\n",
       "      <td>6.333148</td>\n",
       "      <td>-4.830883</td>\n",
       "      <td>4.014973</td>\n",
       "      <td>-1.945785</td>\n",
       "    </tr>\n",
       "    <tr>\n",
       "      <th>2000-01-24</th>\n",
       "      <td>6.014683</td>\n",
       "      <td>-5.820035</td>\n",
       "      <td>4.694871</td>\n",
       "      <td>-3.536976</td>\n",
       "    </tr>\n",
       "    <tr>\n",
       "      <th>2000-01-25</th>\n",
       "      <td>7.251901</td>\n",
       "      <td>-4.094672</td>\n",
       "      <td>5.859526</td>\n",
       "      <td>-4.197635</td>\n",
       "    </tr>\n",
       "    <tr>\n",
       "      <th>2000-01-26</th>\n",
       "      <td>6.597469</td>\n",
       "      <td>-4.620857</td>\n",
       "      <td>6.979480</td>\n",
       "      <td>-3.985307</td>\n",
       "    </tr>\n",
       "    <tr>\n",
       "      <th>2000-01-27</th>\n",
       "      <td>5.828666</td>\n",
       "      <td>-4.455864</td>\n",
       "      <td>6.532293</td>\n",
       "      <td>-3.785241</td>\n",
       "    </tr>\n",
       "    <tr>\n",
       "      <th>2000-01-28</th>\n",
       "      <td>6.293682</td>\n",
       "      <td>-4.903964</td>\n",
       "      <td>5.413838</td>\n",
       "      <td>-2.633091</td>\n",
       "    </tr>\n",
       "    <tr>\n",
       "      <th>2000-01-29</th>\n",
       "      <td>5.529436</td>\n",
       "      <td>-4.141346</td>\n",
       "      <td>5.676329</td>\n",
       "      <td>-1.943057</td>\n",
       "    </tr>\n",
       "    <tr>\n",
       "      <th>2000-01-30</th>\n",
       "      <td>5.049957</td>\n",
       "      <td>-3.740968</td>\n",
       "      <td>5.555545</td>\n",
       "      <td>-1.651310</td>\n",
       "    </tr>\n",
       "    <tr>\n",
       "      <th>...</th>\n",
       "      <td>...</td>\n",
       "      <td>...</td>\n",
       "      <td>...</td>\n",
       "      <td>...</td>\n",
       "    </tr>\n",
       "    <tr>\n",
       "      <th>2002-08-28</th>\n",
       "      <td>3.408070</td>\n",
       "      <td>35.995457</td>\n",
       "      <td>-11.098982</td>\n",
       "      <td>22.892497</td>\n",
       "    </tr>\n",
       "    <tr>\n",
       "      <th>2002-08-29</th>\n",
       "      <td>3.551646</td>\n",
       "      <td>36.361742</td>\n",
       "      <td>-10.373336</td>\n",
       "      <td>22.623877</td>\n",
       "    </tr>\n",
       "    <tr>\n",
       "      <th>2002-08-30</th>\n",
       "      <td>4.580639</td>\n",
       "      <td>36.540890</td>\n",
       "      <td>-11.957920</td>\n",
       "      <td>24.391482</td>\n",
       "    </tr>\n",
       "    <tr>\n",
       "      <th>2002-08-31</th>\n",
       "      <td>4.459980</td>\n",
       "      <td>35.082871</td>\n",
       "      <td>-11.681403</td>\n",
       "      <td>24.486177</td>\n",
       "    </tr>\n",
       "    <tr>\n",
       "      <th>2002-09-01</th>\n",
       "      <td>4.495585</td>\n",
       "      <td>36.480957</td>\n",
       "      <td>-10.874527</td>\n",
       "      <td>22.736462</td>\n",
       "    </tr>\n",
       "    <tr>\n",
       "      <th>2002-09-02</th>\n",
       "      <td>4.553607</td>\n",
       "      <td>35.501730</td>\n",
       "      <td>-11.200157</td>\n",
       "      <td>23.395160</td>\n",
       "    </tr>\n",
       "    <tr>\n",
       "      <th>2002-09-03</th>\n",
       "      <td>3.538009</td>\n",
       "      <td>35.763315</td>\n",
       "      <td>-9.600847</td>\n",
       "      <td>23.165720</td>\n",
       "    </tr>\n",
       "    <tr>\n",
       "      <th>2002-09-04</th>\n",
       "      <td>3.463981</td>\n",
       "      <td>37.145480</td>\n",
       "      <td>-9.062338</td>\n",
       "      <td>21.619302</td>\n",
       "    </tr>\n",
       "    <tr>\n",
       "      <th>2002-09-05</th>\n",
       "      <td>3.286229</td>\n",
       "      <td>36.163566</td>\n",
       "      <td>-11.121249</td>\n",
       "      <td>21.955745</td>\n",
       "    </tr>\n",
       "    <tr>\n",
       "      <th>2002-09-06</th>\n",
       "      <td>3.541677</td>\n",
       "      <td>34.928968</td>\n",
       "      <td>-13.050791</td>\n",
       "      <td>21.766322</td>\n",
       "    </tr>\n",
       "    <tr>\n",
       "      <th>2002-09-07</th>\n",
       "      <td>4.002688</td>\n",
       "      <td>35.837428</td>\n",
       "      <td>-12.603922</td>\n",
       "      <td>22.835170</td>\n",
       "    </tr>\n",
       "    <tr>\n",
       "      <th>2002-09-08</th>\n",
       "      <td>5.284073</td>\n",
       "      <td>35.515229</td>\n",
       "      <td>-13.990725</td>\n",
       "      <td>24.245238</td>\n",
       "    </tr>\n",
       "    <tr>\n",
       "      <th>2002-09-09</th>\n",
       "      <td>5.067844</td>\n",
       "      <td>35.900216</td>\n",
       "      <td>-14.067238</td>\n",
       "      <td>24.004452</td>\n",
       "    </tr>\n",
       "    <tr>\n",
       "      <th>2002-09-10</th>\n",
       "      <td>4.366543</td>\n",
       "      <td>37.421790</td>\n",
       "      <td>-12.248521</td>\n",
       "      <td>23.391460</td>\n",
       "    </tr>\n",
       "    <tr>\n",
       "      <th>2002-09-11</th>\n",
       "      <td>3.556180</td>\n",
       "      <td>36.497170</td>\n",
       "      <td>-13.212535</td>\n",
       "      <td>23.093140</td>\n",
       "    </tr>\n",
       "    <tr>\n",
       "      <th>2002-09-12</th>\n",
       "      <td>3.048193</td>\n",
       "      <td>37.198854</td>\n",
       "      <td>-12.117167</td>\n",
       "      <td>22.302204</td>\n",
       "    </tr>\n",
       "    <tr>\n",
       "      <th>2002-09-13</th>\n",
       "      <td>3.934323</td>\n",
       "      <td>36.991042</td>\n",
       "      <td>-9.054170</td>\n",
       "      <td>20.705433</td>\n",
       "    </tr>\n",
       "    <tr>\n",
       "      <th>2002-09-14</th>\n",
       "      <td>3.931849</td>\n",
       "      <td>37.623469</td>\n",
       "      <td>-7.175517</td>\n",
       "      <td>20.900927</td>\n",
       "    </tr>\n",
       "    <tr>\n",
       "      <th>2002-09-15</th>\n",
       "      <td>4.878180</td>\n",
       "      <td>36.781338</td>\n",
       "      <td>-5.877751</td>\n",
       "      <td>20.118403</td>\n",
       "    </tr>\n",
       "    <tr>\n",
       "      <th>2002-09-16</th>\n",
       "      <td>5.119876</td>\n",
       "      <td>36.581098</td>\n",
       "      <td>-5.668767</td>\n",
       "      <td>20.483994</td>\n",
       "    </tr>\n",
       "    <tr>\n",
       "      <th>2002-09-17</th>\n",
       "      <td>5.338936</td>\n",
       "      <td>36.264488</td>\n",
       "      <td>-5.844174</td>\n",
       "      <td>19.603477</td>\n",
       "    </tr>\n",
       "    <tr>\n",
       "      <th>2002-09-18</th>\n",
       "      <td>4.045130</td>\n",
       "      <td>36.729694</td>\n",
       "      <td>-5.589498</td>\n",
       "      <td>21.192035</td>\n",
       "    </tr>\n",
       "    <tr>\n",
       "      <th>2002-09-19</th>\n",
       "      <td>1.801763</td>\n",
       "      <td>36.613563</td>\n",
       "      <td>-6.724154</td>\n",
       "      <td>20.934114</td>\n",
       "    </tr>\n",
       "    <tr>\n",
       "      <th>2002-09-20</th>\n",
       "      <td>1.369769</td>\n",
       "      <td>37.255706</td>\n",
       "      <td>-3.871374</td>\n",
       "      <td>22.076723</td>\n",
       "    </tr>\n",
       "    <tr>\n",
       "      <th>2002-09-21</th>\n",
       "      <td>1.207942</td>\n",
       "      <td>36.387342</td>\n",
       "      <td>-3.374108</td>\n",
       "      <td>21.637836</td>\n",
       "    </tr>\n",
       "    <tr>\n",
       "      <th>2002-09-22</th>\n",
       "      <td>0.494692</td>\n",
       "      <td>36.471668</td>\n",
       "      <td>-2.856827</td>\n",
       "      <td>21.366044</td>\n",
       "    </tr>\n",
       "    <tr>\n",
       "      <th>2002-09-23</th>\n",
       "      <td>0.685023</td>\n",
       "      <td>36.369648</td>\n",
       "      <td>-4.958431</td>\n",
       "      <td>20.134521</td>\n",
       "    </tr>\n",
       "    <tr>\n",
       "      <th>2002-09-24</th>\n",
       "      <td>0.931315</td>\n",
       "      <td>37.068775</td>\n",
       "      <td>-6.689889</td>\n",
       "      <td>20.004612</td>\n",
       "    </tr>\n",
       "    <tr>\n",
       "      <th>2002-09-25</th>\n",
       "      <td>0.233072</td>\n",
       "      <td>37.835015</td>\n",
       "      <td>-6.697703</td>\n",
       "      <td>18.902493</td>\n",
       "    </tr>\n",
       "    <tr>\n",
       "      <th>2002-09-26</th>\n",
       "      <td>0.893559</td>\n",
       "      <td>38.068350</td>\n",
       "      <td>-5.252536</td>\n",
       "      <td>18.758378</td>\n",
       "    </tr>\n",
       "  </tbody>\n",
       "</table>\n",
       "<p>1000 rows × 4 columns</p>\n",
       "</div>"
      ],
      "text/plain": [
       "                   A          B          C          D\n",
       "2000-01-01  0.656828  -0.748839  -0.358669  -1.359325\n",
       "2000-01-02  0.130826  -1.243114   0.961855  -2.471316\n",
       "2000-01-03 -0.906829  -1.557170   1.755905  -1.720163\n",
       "2000-01-04 -1.228664  -2.892958   1.632086  -0.927038\n",
       "2000-01-05 -0.628378  -2.555413   2.443538  -1.050259\n",
       "2000-01-06  0.072920  -0.910089   2.506777  -0.512432\n",
       "2000-01-07 -0.548039  -2.581959   4.179516  -0.445878\n",
       "2000-01-08  0.823278  -3.907422   5.394283  -1.929205\n",
       "2000-01-09  1.940475  -4.750066   6.387826  -1.597064\n",
       "2000-01-10  1.360515  -2.726731   7.080480  -1.450546\n",
       "2000-01-11  2.578602  -2.215197   6.639686  -2.380209\n",
       "2000-01-12  2.457700  -3.194005   5.487602  -1.201682\n",
       "2000-01-13  2.716642  -3.627870   4.543371  -2.162137\n",
       "2000-01-14  3.193665  -3.356617   3.026671  -0.274989\n",
       "2000-01-15  4.293989  -4.615889   4.066824  -0.484021\n",
       "2000-01-16  5.040009  -3.871018   4.248859  -2.075022\n",
       "2000-01-17  5.017140  -5.702391   3.413938  -1.048047\n",
       "2000-01-18  4.913276  -6.994797   6.309266  -1.219053\n",
       "2000-01-19  5.928849  -6.832941   7.035322  -0.394726\n",
       "2000-01-20  6.034590  -6.593596   6.661526  -0.894897\n",
       "2000-01-21  5.960137  -6.279137   5.981595  -0.781283\n",
       "2000-01-22  6.495357  -6.443961   5.528972  -1.480006\n",
       "2000-01-23  6.333148  -4.830883   4.014973  -1.945785\n",
       "2000-01-24  6.014683  -5.820035   4.694871  -3.536976\n",
       "2000-01-25  7.251901  -4.094672   5.859526  -4.197635\n",
       "2000-01-26  6.597469  -4.620857   6.979480  -3.985307\n",
       "2000-01-27  5.828666  -4.455864   6.532293  -3.785241\n",
       "2000-01-28  6.293682  -4.903964   5.413838  -2.633091\n",
       "2000-01-29  5.529436  -4.141346   5.676329  -1.943057\n",
       "2000-01-30  5.049957  -3.740968   5.555545  -1.651310\n",
       "...              ...        ...        ...        ...\n",
       "2002-08-28  3.408070  35.995457 -11.098982  22.892497\n",
       "2002-08-29  3.551646  36.361742 -10.373336  22.623877\n",
       "2002-08-30  4.580639  36.540890 -11.957920  24.391482\n",
       "2002-08-31  4.459980  35.082871 -11.681403  24.486177\n",
       "2002-09-01  4.495585  36.480957 -10.874527  22.736462\n",
       "2002-09-02  4.553607  35.501730 -11.200157  23.395160\n",
       "2002-09-03  3.538009  35.763315  -9.600847  23.165720\n",
       "2002-09-04  3.463981  37.145480  -9.062338  21.619302\n",
       "2002-09-05  3.286229  36.163566 -11.121249  21.955745\n",
       "2002-09-06  3.541677  34.928968 -13.050791  21.766322\n",
       "2002-09-07  4.002688  35.837428 -12.603922  22.835170\n",
       "2002-09-08  5.284073  35.515229 -13.990725  24.245238\n",
       "2002-09-09  5.067844  35.900216 -14.067238  24.004452\n",
       "2002-09-10  4.366543  37.421790 -12.248521  23.391460\n",
       "2002-09-11  3.556180  36.497170 -13.212535  23.093140\n",
       "2002-09-12  3.048193  37.198854 -12.117167  22.302204\n",
       "2002-09-13  3.934323  36.991042  -9.054170  20.705433\n",
       "2002-09-14  3.931849  37.623469  -7.175517  20.900927\n",
       "2002-09-15  4.878180  36.781338  -5.877751  20.118403\n",
       "2002-09-16  5.119876  36.581098  -5.668767  20.483994\n",
       "2002-09-17  5.338936  36.264488  -5.844174  19.603477\n",
       "2002-09-18  4.045130  36.729694  -5.589498  21.192035\n",
       "2002-09-19  1.801763  36.613563  -6.724154  20.934114\n",
       "2002-09-20  1.369769  37.255706  -3.871374  22.076723\n",
       "2002-09-21  1.207942  36.387342  -3.374108  21.637836\n",
       "2002-09-22  0.494692  36.471668  -2.856827  21.366044\n",
       "2002-09-23  0.685023  36.369648  -4.958431  20.134521\n",
       "2002-09-24  0.931315  37.068775  -6.689889  20.004612\n",
       "2002-09-25  0.233072  37.835015  -6.697703  18.902493\n",
       "2002-09-26  0.893559  38.068350  -5.252536  18.758378\n",
       "\n",
       "[1000 rows x 4 columns]"
      ]
     },
     "execution_count": 147,
     "metadata": {},
     "output_type": "execute_result"
    }
   ],
   "source": [
    "pd.read_excel('foo.xlsx', 'Sheet1', index_col=None,na_values=['NA'])"
   ]
  },
  {
   "cell_type": "code",
   "execution_count": null,
   "metadata": {
    "collapsed": true
   },
   "outputs": [],
   "source": []
  },
  {
   "cell_type": "code",
   "execution_count": null,
   "metadata": {
    "collapsed": true
   },
   "outputs": [],
   "source": []
  },
  {
   "cell_type": "code",
   "execution_count": null,
   "metadata": {
    "collapsed": true
   },
   "outputs": [],
   "source": []
  },
  {
   "cell_type": "code",
   "execution_count": null,
   "metadata": {
    "collapsed": true
   },
   "outputs": [],
   "source": []
  },
  {
   "cell_type": "code",
   "execution_count": null,
   "metadata": {
    "collapsed": true
   },
   "outputs": [],
   "source": []
  }
 ],
 "metadata": {
  "kernelspec": {
   "display_name": "Python 3",
   "language": "python",
   "name": "python3"
  },
  "language_info": {
   "codemirror_mode": {
    "name": "ipython",
    "version": 3
   },
   "file_extension": ".py",
   "mimetype": "text/x-python",
   "name": "python",
   "nbconvert_exporter": "python",
   "pygments_lexer": "ipython3",
   "version": "3.6.2"
  }
 },
 "nbformat": 4,
 "nbformat_minor": 2
}
